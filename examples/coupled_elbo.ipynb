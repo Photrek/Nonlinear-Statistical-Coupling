{
 "cells": [
  {
   "cell_type": "markdown",
   "id": "95a9f7c2",
   "metadata": {},
   "source": [
    "**Create Data**"
   ]
  },
  {
   "cell_type": "code",
   "execution_count": 31,
   "id": "f1710cbb",
   "metadata": {},
   "outputs": [],
   "source": [
    "import numpy as np\n",
    "import pandas as pd\n",
    "import matplotlib.pyplot as plt\n",
    "import seaborn as sns\n",
    "sns.set()\n",
    "import scipy\n",
    "import ipdb\n",
    "\n",
    "# From nsc lib\n",
    "import nsc\n",
    "from nsc import distributions as nsd\n",
    "# from nsc.math import function as nsc_func\n",
    "nsd = nsc.distributions"
   ]
  },
  {
   "cell_type": "markdown",
   "id": "b3817b0e",
   "metadata": {},
   "source": [
    "**Input data**"
   ]
  },
  {
   "cell_type": "code",
   "execution_count": 64,
   "id": "53da15ce",
   "metadata": {},
   "outputs": [],
   "source": [
    "n_sample = 10000\n",
    "scale = 1"
   ]
  },
  {
   "cell_type": "code",
   "execution_count": 65,
   "id": "bcce8cb9",
   "metadata": {},
   "outputs": [
    {
     "data": {
      "text/plain": [
       "array([1.00000000e-06, 5.01049905e-04, 1.00109981e-03, ...,\n",
       "       4.99899990e+00, 4.99949995e+00, 5.00000000e+00])"
      ]
     },
     "execution_count": 65,
     "metadata": {},
     "output_type": "execute_result"
    }
   ],
   "source": [
    "# n_sample of linearly spaced numbers, starting from CLOSE to 0\n",
    "X = np.linspace(1e-6, 5, n_sample)\n",
    "X"
   ]
  },
  {
   "cell_type": "code",
   "execution_count": 66,
   "id": "7ca3906b",
   "metadata": {},
   "outputs": [
    {
     "data": {
      "text/plain": [
       "array([-12.        , -11.99759976, -11.99519952, ...,  11.99519952,\n",
       "        11.99759976,  12.        ])"
      ]
     },
     "execution_count": 66,
     "metadata": {},
     "output_type": "execute_result"
    }
   ],
   "source": [
    "X2 = np.linspace(-12*scale, 12*scale, n_sample)\n",
    "X2"
   ]
  },
  {
   "cell_type": "code",
   "execution_count": 67,
   "id": "318327a0",
   "metadata": {},
   "outputs": [
    {
     "data": {
      "text/plain": [
       "array([[ 1.00000000e-06, -1.20000000e+01],\n",
       "       [ 5.01049905e-04, -1.19975998e+01],\n",
       "       [ 1.00109981e-03, -1.19951995e+01],\n",
       "       ...,\n",
       "       [ 4.99899990e+00,  1.19951995e+01],\n",
       "       [ 4.99949995e+00,  1.19975998e+01],\n",
       "       [ 5.00000000e+00,  1.20000000e+01]])"
      ]
     },
     "execution_count": 67,
     "metadata": {},
     "output_type": "execute_result"
    }
   ],
   "source": [
    "X_2D = np.column_stack((X, X2))\n",
    "X_2D"
   ]
  },
  {
   "cell_type": "markdown",
   "id": "3b72ea3d",
   "metadata": {},
   "source": [
    "**ELBO formula:**\n",
    "    $$\\Large ELBO = L(\\theta, \\phi, x^{(i)}) =\\\\\\\\\\Large-D_{KL}(q_\\phi(z| x^{(i)}) || p_\\theta(z)) + E_{q_\\phi(z|x^{(i)})}[log_\\kappa p_\\theta(x^{(i)} | z)]$$"
   ]
  },
  {
   "cell_type": "markdown",
   "id": "f4ad6220",
   "metadata": {},
   "source": [
    "- Both encoding_dist and prior are **tfp.distributions.MultivariateNormalDiag**, although likely with different batch_shapes.\n",
    "- Output of tfd.kl_divergence is a 1D tensor.\n",
    "- Input of x is a nD tensor.\n",
    "- Output of sampled_decoding_dist.log_prob(x) is a 1D tensor of same dim as tfd.kl_divergence."
   ]
  },
  {
   "cell_type": "code",
   "execution_count": null,
   "id": "3c9cf9b6",
   "metadata": {},
   "outputs": [],
   "source": [
    "# Define the prior, p(z) - a standard bivariate Gaussian\n",
    "# prior = tfd.MultivariateNormalDiag(loc=tf.zeros(latent_size))"
   ]
  },
  {
   "cell_type": "code",
   "execution_count": null,
   "id": "49f000e7",
   "metadata": {},
   "outputs": [],
   "source": [
    "#elbo = -tfd.kl_divergence(encoding_dist, prior) + sampled_decoding_dist.log_prob(x)"
   ]
  },
  {
   "cell_type": "markdown",
   "id": "73a35206",
   "metadata": {},
   "source": [
    "**Coupled ELBO formula:**\n",
    "    $$\\Large Coupled ELBO = L(\\theta, \\phi, \\kappa, \\alpha, d, x^{(i)}) = -D_{KL}(q_\\phi^{\\frac{\\alpha}{1+d\\kappa}}(z| x^{(i)}) || p_\\theta^{\\frac{\\alpha}{1+d\\kappa}}(z)) + E_{q_\\phi^{(a, d, \\kappa)}(z|x^{(i)})}[log_\\kappa p_\\theta^{\\frac{\\alpha}{1+d\\kappa}}(x^{(i)} | z)]$$"
   ]
  },
  {
   "cell_type": "code",
   "execution_count": 57,
   "id": "160b08ad",
   "metadata": {},
   "outputs": [],
   "source": [
    "kappa = 0.1\n",
    "alpha = 2\n",
    "dim = 2\n",
    "z_dim = 2\n",
    "sample_n = 10000"
   ]
  },
  {
   "cell_type": "code",
   "execution_count": 80,
   "id": "0726df90",
   "metadata": {},
   "outputs": [],
   "source": [
    "# Using dummy prior, enncoding_dist, and sampled_decoding_dist\n",
    "\n",
    "# Coupled Prior: p(z)\n",
    "coupled_prior = nsd.MultivariateCoupledNormal(loc=np.zeros(z_dim),\n",
    "                                              scale=np.ones(z_dim),\n",
    "                                              kappa=kappa, alpha=alpha\n",
    "                                              )\n",
    "\n",
    "# Coupled Encoding Distribution: q(z|x)\n",
    "coupled_encoding_dist = nsd.MultivariateCoupledNormal(loc=np.zeros(z_dim),\n",
    "                                                      scale=np.ones(z_dim),\n",
    "                                                      kappa=0.1\n",
    "                                                      )\n",
    "\n",
    "# Coupled Sampled Decoding Distribution: p(x|z)\n",
    "coupled_sampled_decoding_dist = nsd.MultivariateCoupledNormal(loc=np.zeros(z_dim),\n",
    "                                                              scale=np.ones(z_dim),\n",
    "                                                              kappa=0.1\n",
    "                                                              )"
   ]
  },
  {
   "cell_type": "code",
   "execution_count": 81,
   "id": "dc63862a",
   "metadata": {},
   "outputs": [
    {
     "data": {
      "text/plain": [
       "0.0"
      ]
     },
     "execution_count": 81,
     "metadata": {},
     "output_type": "execute_result"
    }
   ],
   "source": [
    "# Coupled KL-Divergence\n",
    "coupled_encoding_dist.kl_divergence(coupled_prior, root=False)"
   ]
  },
  {
   "cell_type": "code",
   "execution_count": 82,
   "id": "c609a145",
   "metadata": {},
   "outputs": [
    {
     "data": {
      "text/plain": [
       "array([1.19315209e-08, 1.19583321e-08, 1.19852079e-08, ...,\n",
       "       4.85875496e-09, 4.84856698e-09, 4.83840196e-09])"
      ]
     },
     "execution_count": 82,
     "metadata": {},
     "output_type": "execute_result"
    }
   ],
   "source": [
    "# Coupled Cross-entropy\n",
    "coupled_sampled_decoding_dist.prob(X_2D)"
   ]
  },
  {
   "cell_type": "code",
   "execution_count": 83,
   "id": "46dc3e84",
   "metadata": {},
   "outputs": [],
   "source": [
    "# Coupled ELBO\n",
    "coupled_elbo = -coupled_encoding_dist.kl_divergence(coupled_prior) + \\\n",
    "                coupled_sampled_decoding_dist.prob(X_2D)"
   ]
  },
  {
   "cell_type": "code",
   "execution_count": 77,
   "id": "b05ccef7",
   "metadata": {},
   "outputs": [
    {
     "data": {
      "text/plain": [
       "array([1.19315209e-08, 1.19583321e-08, 1.19852079e-08, ...,\n",
       "       4.85875496e-09, 4.84856698e-09, 4.83840196e-09])"
      ]
     },
     "execution_count": 77,
     "metadata": {},
     "output_type": "execute_result"
    }
   ],
   "source": [
    "coupled_elbo"
   ]
  },
  {
   "cell_type": "code",
   "execution_count": 85,
   "id": "7e280942",
   "metadata": {},
   "outputs": [
    {
     "data": {
      "text/plain": [
       "<tf.Tensor: shape=(), dtype=float64, numpy=12.006604843648898>"
      ]
     },
     "execution_count": 85,
     "metadata": {},
     "output_type": "execute_result"
    }
   ],
   "source": [
    "tf.reduce_sum(coupled_elbo)"
   ]
  },
  {
   "cell_type": "code",
   "execution_count": 86,
   "id": "2bc49811",
   "metadata": {},
   "outputs": [
    {
     "data": {
      "text/plain": [
       "<tf.Tensor: shape=(), dtype=float64, numpy=-12.006604843648898>"
      ]
     },
     "execution_count": 86,
     "metadata": {},
     "output_type": "execute_result"
    }
   ],
   "source": [
    "# Loss function\n",
    "-tf.reduce_sum(coupled_elbo)"
   ]
  },
  {
   "cell_type": "code",
   "execution_count": null,
   "id": "bec30656",
   "metadata": {},
   "outputs": [],
   "source": []
  }
 ],
 "metadata": {
  "kernelspec": {
   "display_name": "nsc",
   "language": "python",
   "name": "nsc"
  },
  "language_info": {
   "codemirror_mode": {
    "name": "ipython",
    "version": 3
   },
   "file_extension": ".py",
   "mimetype": "text/x-python",
   "name": "python",
   "nbconvert_exporter": "python",
   "pygments_lexer": "ipython3",
   "version": "3.7.10"
  }
 },
 "nbformat": 4,
 "nbformat_minor": 5
}
