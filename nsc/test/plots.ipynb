{
 "cells": [
  {
   "cell_type": "markdown",
   "metadata": {},
   "source": [
    "Plotting the coupled functions."
   ]
  },
  {
   "cell_type": "code",
   "execution_count": 2,
   "metadata": {},
   "outputs": [
    {
     "name": "stdout",
     "output_type": "stream",
     "text": [
      "\u001b[31mERROR: dnntime 0.4.1 has requirement pandas==0.25.3, but you'll have pandas 1.0.5 which is incompatible.\u001b[0m\n",
      "Note: you may need to restart the kernel to use updated packages.\n"
     ]
    }
   ],
   "source": [
    "# pip install -U tensorflow tensorflow_probability -q"
   ]
  },
  {
   "cell_type": "code",
   "execution_count": 1,
   "metadata": {
    "scrolled": true
   },
   "outputs": [],
   "source": [
    "import numpy as np\n",
    "import pandas as pd\n",
    "import matplotlib.pyplot as plt\n",
    "import seaborn as sns\n",
    "import scipy.stats as stats\n",
    "sns.set()\n",
    "from collections import defaultdict\n",
    "from function import coupled_logarithm as CoupledLogarithm, coupled_exponential as CoupledExponential, coupled_probability as CoupledProbability, coupled_entropy as CoupledEntropy\n",
    "# from distribution import CoupledNormal\n",
    "# from temp import CoupledNormal, CoupledExpotentialDistribution\n",
    "\n",
    "import ipdb"
   ]
  },
  {
   "cell_type": "markdown",
   "metadata": {},
   "source": [
    "#### CoupledLogarithm"
   ]
  },
  {
   "cell_type": "code",
   "execution_count": 2,
   "metadata": {},
   "outputs": [],
   "source": [
    "# 100 linearly spaced numbers, starting from CLOSE to 0\n",
    "X = np.linspace(1e-6, 5, 1000)"
   ]
  },
  {
   "cell_type": "code",
   "execution_count": 3,
   "metadata": {},
   "outputs": [
    {
     "data": {
      "text/plain": [
       "array([1.00000000e-06, 5.00600400e-03, 1.00110080e-02, 1.50160120e-02,\n",
       "       2.00210160e-02, 2.50260200e-02, 3.00310240e-02, 3.50360280e-02,\n",
       "       4.00410320e-02, 4.50460360e-02, 5.00510400e-02, 5.50560440e-02,\n",
       "       6.00610480e-02, 6.50660521e-02, 7.00710561e-02, 7.50760601e-02,\n",
       "       8.00810641e-02, 8.50860681e-02, 9.00910721e-02, 9.50960761e-02,\n",
       "       1.00101080e-01, 1.05106084e-01, 1.10111088e-01, 1.15116092e-01,\n",
       "       1.20121096e-01, 1.25126100e-01, 1.30131104e-01, 1.35136108e-01,\n",
       "       1.40141112e-01, 1.45146116e-01, 1.50151120e-01, 1.55156124e-01,\n",
       "       1.60161128e-01, 1.65166132e-01, 1.70171136e-01, 1.75176140e-01,\n",
       "       1.80181144e-01, 1.85186148e-01, 1.90191152e-01, 1.95196156e-01,\n",
       "       2.00201160e-01, 2.05206164e-01, 2.10211168e-01, 2.15216172e-01,\n",
       "       2.20221176e-01, 2.25226180e-01, 2.30231184e-01, 2.35236188e-01,\n",
       "       2.40241192e-01, 2.45246196e-01, 2.50251200e-01, 2.55256204e-01,\n",
       "       2.60261208e-01, 2.65266212e-01, 2.70271216e-01, 2.75276220e-01,\n",
       "       2.80281224e-01, 2.85286228e-01, 2.90291232e-01, 2.95296236e-01,\n",
       "       3.00301240e-01, 3.05306244e-01, 3.10311248e-01, 3.15316252e-01,\n",
       "       3.20321256e-01, 3.25326260e-01, 3.30331264e-01, 3.35336268e-01,\n",
       "       3.40341272e-01, 3.45346276e-01, 3.50351280e-01, 3.55356284e-01,\n",
       "       3.60361288e-01, 3.65366292e-01, 3.70371296e-01, 3.75376300e-01,\n",
       "       3.80381304e-01, 3.85386308e-01, 3.90391312e-01, 3.95396316e-01,\n",
       "       4.00401320e-01, 4.05406324e-01, 4.10411328e-01, 4.15416332e-01,\n",
       "       4.20421336e-01, 4.25426340e-01, 4.30431344e-01, 4.35436348e-01,\n",
       "       4.40441352e-01, 4.45446356e-01, 4.50451360e-01, 4.55456364e-01,\n",
       "       4.60461368e-01, 4.65466372e-01, 4.70471376e-01, 4.75476380e-01,\n",
       "       4.80481384e-01, 4.85486388e-01, 4.90491392e-01, 4.95496396e-01,\n",
       "       5.00501400e-01, 5.05506404e-01, 5.10511408e-01, 5.15516412e-01,\n",
       "       5.20521416e-01, 5.25526420e-01, 5.30531424e-01, 5.35536428e-01,\n",
       "       5.40541432e-01, 5.45546436e-01, 5.50551440e-01, 5.55556444e-01,\n",
       "       5.60561448e-01, 5.65566452e-01, 5.70571456e-01, 5.75576460e-01,\n",
       "       5.80581464e-01, 5.85586468e-01, 5.90591472e-01, 5.95596476e-01,\n",
       "       6.00601480e-01, 6.05606484e-01, 6.10611488e-01, 6.15616492e-01,\n",
       "       6.20621496e-01, 6.25626501e-01, 6.30631505e-01, 6.35636509e-01,\n",
       "       6.40641513e-01, 6.45646517e-01, 6.50651521e-01, 6.55656525e-01,\n",
       "       6.60661529e-01, 6.65666533e-01, 6.70671537e-01, 6.75676541e-01,\n",
       "       6.80681545e-01, 6.85686549e-01, 6.90691553e-01, 6.95696557e-01,\n",
       "       7.00701561e-01, 7.05706565e-01, 7.10711569e-01, 7.15716573e-01,\n",
       "       7.20721577e-01, 7.25726581e-01, 7.30731585e-01, 7.35736589e-01,\n",
       "       7.40741593e-01, 7.45746597e-01, 7.50751601e-01, 7.55756605e-01,\n",
       "       7.60761609e-01, 7.65766613e-01, 7.70771617e-01, 7.75776621e-01,\n",
       "       7.80781625e-01, 7.85786629e-01, 7.90791633e-01, 7.95796637e-01,\n",
       "       8.00801641e-01, 8.05806645e-01, 8.10811649e-01, 8.15816653e-01,\n",
       "       8.20821657e-01, 8.25826661e-01, 8.30831665e-01, 8.35836669e-01,\n",
       "       8.40841673e-01, 8.45846677e-01, 8.50851681e-01, 8.55856685e-01,\n",
       "       8.60861689e-01, 8.65866693e-01, 8.70871697e-01, 8.75876701e-01,\n",
       "       8.80881705e-01, 8.85886709e-01, 8.90891713e-01, 8.95896717e-01,\n",
       "       9.00901721e-01, 9.05906725e-01, 9.10911729e-01, 9.15916733e-01,\n",
       "       9.20921737e-01, 9.25926741e-01, 9.30931745e-01, 9.35936749e-01,\n",
       "       9.40941753e-01, 9.45946757e-01, 9.50951761e-01, 9.55956765e-01,\n",
       "       9.60961769e-01, 9.65966773e-01, 9.70971777e-01, 9.75976781e-01,\n",
       "       9.80981785e-01, 9.85986789e-01, 9.90991793e-01, 9.95996797e-01,\n",
       "       1.00100180e+00, 1.00600680e+00, 1.01101181e+00, 1.01601681e+00,\n",
       "       1.02102182e+00, 1.02602682e+00, 1.03103182e+00, 1.03603683e+00,\n",
       "       1.04104183e+00, 1.04604684e+00, 1.05105184e+00, 1.05605684e+00,\n",
       "       1.06106185e+00, 1.06606685e+00, 1.07107186e+00, 1.07607686e+00,\n",
       "       1.08108186e+00, 1.08608687e+00, 1.09109187e+00, 1.09609688e+00,\n",
       "       1.10110188e+00, 1.10610688e+00, 1.11111189e+00, 1.11611689e+00,\n",
       "       1.12112190e+00, 1.12612690e+00, 1.13113190e+00, 1.13613691e+00,\n",
       "       1.14114191e+00, 1.14614692e+00, 1.15115192e+00, 1.15615692e+00,\n",
       "       1.16116193e+00, 1.16616693e+00, 1.17117194e+00, 1.17617694e+00,\n",
       "       1.18118194e+00, 1.18618695e+00, 1.19119195e+00, 1.19619696e+00,\n",
       "       1.20120196e+00, 1.20620696e+00, 1.21121197e+00, 1.21621697e+00,\n",
       "       1.22122198e+00, 1.22622698e+00, 1.23123198e+00, 1.23623699e+00,\n",
       "       1.24124199e+00, 1.24624700e+00, 1.25125200e+00, 1.25625701e+00,\n",
       "       1.26126201e+00, 1.26626701e+00, 1.27127202e+00, 1.27627702e+00,\n",
       "       1.28128203e+00, 1.28628703e+00, 1.29129203e+00, 1.29629704e+00,\n",
       "       1.30130204e+00, 1.30630705e+00, 1.31131205e+00, 1.31631705e+00,\n",
       "       1.32132206e+00, 1.32632706e+00, 1.33133207e+00, 1.33633707e+00,\n",
       "       1.34134207e+00, 1.34634708e+00, 1.35135208e+00, 1.35635709e+00,\n",
       "       1.36136209e+00, 1.36636709e+00, 1.37137210e+00, 1.37637710e+00,\n",
       "       1.38138211e+00, 1.38638711e+00, 1.39139211e+00, 1.39639712e+00,\n",
       "       1.40140212e+00, 1.40640713e+00, 1.41141213e+00, 1.41641713e+00,\n",
       "       1.42142214e+00, 1.42642714e+00, 1.43143215e+00, 1.43643715e+00,\n",
       "       1.44144215e+00, 1.44644716e+00, 1.45145216e+00, 1.45645717e+00,\n",
       "       1.46146217e+00, 1.46646717e+00, 1.47147218e+00, 1.47647718e+00,\n",
       "       1.48148219e+00, 1.48648719e+00, 1.49149219e+00, 1.49649720e+00,\n",
       "       1.50150220e+00, 1.50650721e+00, 1.51151221e+00, 1.51651721e+00,\n",
       "       1.52152222e+00, 1.52652722e+00, 1.53153223e+00, 1.53653723e+00,\n",
       "       1.54154223e+00, 1.54654724e+00, 1.55155224e+00, 1.55655725e+00,\n",
       "       1.56156225e+00, 1.56656725e+00, 1.57157226e+00, 1.57657726e+00,\n",
       "       1.58158227e+00, 1.58658727e+00, 1.59159227e+00, 1.59659728e+00,\n",
       "       1.60160228e+00, 1.60660729e+00, 1.61161229e+00, 1.61661729e+00,\n",
       "       1.62162230e+00, 1.62662730e+00, 1.63163231e+00, 1.63663731e+00,\n",
       "       1.64164231e+00, 1.64664732e+00, 1.65165232e+00, 1.65665733e+00,\n",
       "       1.66166233e+00, 1.66666733e+00, 1.67167234e+00, 1.67667734e+00,\n",
       "       1.68168235e+00, 1.68668735e+00, 1.69169235e+00, 1.69669736e+00,\n",
       "       1.70170236e+00, 1.70670737e+00, 1.71171237e+00, 1.71671737e+00,\n",
       "       1.72172238e+00, 1.72672738e+00, 1.73173239e+00, 1.73673739e+00,\n",
       "       1.74174239e+00, 1.74674740e+00, 1.75175240e+00, 1.75675741e+00,\n",
       "       1.76176241e+00, 1.76676741e+00, 1.77177242e+00, 1.77677742e+00,\n",
       "       1.78178243e+00, 1.78678743e+00, 1.79179243e+00, 1.79679744e+00,\n",
       "       1.80180244e+00, 1.80680745e+00, 1.81181245e+00, 1.81681745e+00,\n",
       "       1.82182246e+00, 1.82682746e+00, 1.83183247e+00, 1.83683747e+00,\n",
       "       1.84184247e+00, 1.84684748e+00, 1.85185248e+00, 1.85685749e+00,\n",
       "       1.86186249e+00, 1.86686749e+00, 1.87187250e+00, 1.87687750e+00,\n",
       "       1.88188251e+00, 1.88688751e+00, 1.89189251e+00, 1.89689752e+00,\n",
       "       1.90190252e+00, 1.90690753e+00, 1.91191253e+00, 1.91691753e+00,\n",
       "       1.92192254e+00, 1.92692754e+00, 1.93193255e+00, 1.93693755e+00,\n",
       "       1.94194255e+00, 1.94694756e+00, 1.95195256e+00, 1.95695757e+00,\n",
       "       1.96196257e+00, 1.96696757e+00, 1.97197258e+00, 1.97697758e+00,\n",
       "       1.98198259e+00, 1.98698759e+00, 1.99199259e+00, 1.99699760e+00,\n",
       "       2.00200260e+00, 2.00700761e+00, 2.01201261e+00, 2.01701761e+00,\n",
       "       2.02202262e+00, 2.02702762e+00, 2.03203263e+00, 2.03703763e+00,\n",
       "       2.04204263e+00, 2.04704764e+00, 2.05205264e+00, 2.05705765e+00,\n",
       "       2.06206265e+00, 2.06706765e+00, 2.07207266e+00, 2.07707766e+00,\n",
       "       2.08208267e+00, 2.08708767e+00, 2.09209267e+00, 2.09709768e+00,\n",
       "       2.10210268e+00, 2.10710769e+00, 2.11211269e+00, 2.11711769e+00,\n",
       "       2.12212270e+00, 2.12712770e+00, 2.13213271e+00, 2.13713771e+00,\n",
       "       2.14214271e+00, 2.14714772e+00, 2.15215272e+00, 2.15715773e+00,\n",
       "       2.16216273e+00, 2.16716773e+00, 2.17217274e+00, 2.17717774e+00,\n",
       "       2.18218275e+00, 2.18718775e+00, 2.19219275e+00, 2.19719776e+00,\n",
       "       2.20220276e+00, 2.20720777e+00, 2.21221277e+00, 2.21721777e+00,\n",
       "       2.22222278e+00, 2.22722778e+00, 2.23223279e+00, 2.23723779e+00,\n",
       "       2.24224279e+00, 2.24724780e+00, 2.25225280e+00, 2.25725781e+00,\n",
       "       2.26226281e+00, 2.26726781e+00, 2.27227282e+00, 2.27727782e+00,\n",
       "       2.28228283e+00, 2.28728783e+00, 2.29229283e+00, 2.29729784e+00,\n",
       "       2.30230284e+00, 2.30730785e+00, 2.31231285e+00, 2.31731785e+00,\n",
       "       2.32232286e+00, 2.32732786e+00, 2.33233287e+00, 2.33733787e+00,\n",
       "       2.34234287e+00, 2.34734788e+00, 2.35235288e+00, 2.35735789e+00,\n",
       "       2.36236289e+00, 2.36736789e+00, 2.37237290e+00, 2.37737790e+00,\n",
       "       2.38238291e+00, 2.38738791e+00, 2.39239291e+00, 2.39739792e+00,\n",
       "       2.40240292e+00, 2.40740793e+00, 2.41241293e+00, 2.41741793e+00,\n",
       "       2.42242294e+00, 2.42742794e+00, 2.43243295e+00, 2.43743795e+00,\n",
       "       2.44244295e+00, 2.44744796e+00, 2.45245296e+00, 2.45745797e+00,\n",
       "       2.46246297e+00, 2.46746797e+00, 2.47247298e+00, 2.47747798e+00,\n",
       "       2.48248299e+00, 2.48748799e+00, 2.49249299e+00, 2.49749800e+00,\n",
       "       2.50250300e+00, 2.50750801e+00, 2.51251301e+00, 2.51751801e+00,\n",
       "       2.52252302e+00, 2.52752802e+00, 2.53253303e+00, 2.53753803e+00,\n",
       "       2.54254303e+00, 2.54754804e+00, 2.55255304e+00, 2.55755805e+00,\n",
       "       2.56256305e+00, 2.56756805e+00, 2.57257306e+00, 2.57757806e+00,\n",
       "       2.58258307e+00, 2.58758807e+00, 2.59259307e+00, 2.59759808e+00,\n",
       "       2.60260308e+00, 2.60760809e+00, 2.61261309e+00, 2.61761809e+00,\n",
       "       2.62262310e+00, 2.62762810e+00, 2.63263311e+00, 2.63763811e+00,\n",
       "       2.64264311e+00, 2.64764812e+00, 2.65265312e+00, 2.65765813e+00,\n",
       "       2.66266313e+00, 2.66766813e+00, 2.67267314e+00, 2.67767814e+00,\n",
       "       2.68268315e+00, 2.68768815e+00, 2.69269315e+00, 2.69769816e+00,\n",
       "       2.70270316e+00, 2.70770817e+00, 2.71271317e+00, 2.71771817e+00,\n",
       "       2.72272318e+00, 2.72772818e+00, 2.73273319e+00, 2.73773819e+00,\n",
       "       2.74274319e+00, 2.74774820e+00, 2.75275320e+00, 2.75775821e+00,\n",
       "       2.76276321e+00, 2.76776821e+00, 2.77277322e+00, 2.77777822e+00,\n",
       "       2.78278323e+00, 2.78778823e+00, 2.79279323e+00, 2.79779824e+00,\n",
       "       2.80280324e+00, 2.80780825e+00, 2.81281325e+00, 2.81781825e+00,\n",
       "       2.82282326e+00, 2.82782826e+00, 2.83283327e+00, 2.83783827e+00,\n",
       "       2.84284327e+00, 2.84784828e+00, 2.85285328e+00, 2.85785829e+00,\n",
       "       2.86286329e+00, 2.86786829e+00, 2.87287330e+00, 2.87787830e+00,\n",
       "       2.88288331e+00, 2.88788831e+00, 2.89289331e+00, 2.89789832e+00,\n",
       "       2.90290332e+00, 2.90790833e+00, 2.91291333e+00, 2.91791833e+00,\n",
       "       2.92292334e+00, 2.92792834e+00, 2.93293335e+00, 2.93793835e+00,\n",
       "       2.94294335e+00, 2.94794836e+00, 2.95295336e+00, 2.95795837e+00,\n",
       "       2.96296337e+00, 2.96796837e+00, 2.97297338e+00, 2.97797838e+00,\n",
       "       2.98298339e+00, 2.98798839e+00, 2.99299339e+00, 2.99799840e+00,\n",
       "       3.00300340e+00, 3.00800841e+00, 3.01301341e+00, 3.01801841e+00,\n",
       "       3.02302342e+00, 3.02802842e+00, 3.03303343e+00, 3.03803843e+00,\n",
       "       3.04304343e+00, 3.04804844e+00, 3.05305344e+00, 3.05805845e+00,\n",
       "       3.06306345e+00, 3.06806845e+00, 3.07307346e+00, 3.07807846e+00,\n",
       "       3.08308347e+00, 3.08808847e+00, 3.09309347e+00, 3.09809848e+00,\n",
       "       3.10310348e+00, 3.10810849e+00, 3.11311349e+00, 3.11811849e+00,\n",
       "       3.12312350e+00, 3.12812850e+00, 3.13313351e+00, 3.13813851e+00,\n",
       "       3.14314351e+00, 3.14814852e+00, 3.15315352e+00, 3.15815853e+00,\n",
       "       3.16316353e+00, 3.16816853e+00, 3.17317354e+00, 3.17817854e+00,\n",
       "       3.18318355e+00, 3.18818855e+00, 3.19319355e+00, 3.19819856e+00,\n",
       "       3.20320356e+00, 3.20820857e+00, 3.21321357e+00, 3.21821857e+00,\n",
       "       3.22322358e+00, 3.22822858e+00, 3.23323359e+00, 3.23823859e+00,\n",
       "       3.24324359e+00, 3.24824860e+00, 3.25325360e+00, 3.25825861e+00,\n",
       "       3.26326361e+00, 3.26826861e+00, 3.27327362e+00, 3.27827862e+00,\n",
       "       3.28328363e+00, 3.28828863e+00, 3.29329363e+00, 3.29829864e+00,\n",
       "       3.30330364e+00, 3.30830865e+00, 3.31331365e+00, 3.31831865e+00,\n",
       "       3.32332366e+00, 3.32832866e+00, 3.33333367e+00, 3.33833867e+00,\n",
       "       3.34334367e+00, 3.34834868e+00, 3.35335368e+00, 3.35835869e+00,\n",
       "       3.36336369e+00, 3.36836869e+00, 3.37337370e+00, 3.37837870e+00,\n",
       "       3.38338371e+00, 3.38838871e+00, 3.39339371e+00, 3.39839872e+00,\n",
       "       3.40340372e+00, 3.40840873e+00, 3.41341373e+00, 3.41841873e+00,\n",
       "       3.42342374e+00, 3.42842874e+00, 3.43343375e+00, 3.43843875e+00,\n",
       "       3.44344375e+00, 3.44844876e+00, 3.45345376e+00, 3.45845877e+00,\n",
       "       3.46346377e+00, 3.46846877e+00, 3.47347378e+00, 3.47847878e+00,\n",
       "       3.48348379e+00, 3.48848879e+00, 3.49349379e+00, 3.49849880e+00,\n",
       "       3.50350380e+00, 3.50850881e+00, 3.51351381e+00, 3.51851881e+00,\n",
       "       3.52352382e+00, 3.52852882e+00, 3.53353383e+00, 3.53853883e+00,\n",
       "       3.54354383e+00, 3.54854884e+00, 3.55355384e+00, 3.55855885e+00,\n",
       "       3.56356385e+00, 3.56856885e+00, 3.57357386e+00, 3.57857886e+00,\n",
       "       3.58358387e+00, 3.58858887e+00, 3.59359387e+00, 3.59859888e+00,\n",
       "       3.60360388e+00, 3.60860889e+00, 3.61361389e+00, 3.61861889e+00,\n",
       "       3.62362390e+00, 3.62862890e+00, 3.63363391e+00, 3.63863891e+00,\n",
       "       3.64364391e+00, 3.64864892e+00, 3.65365392e+00, 3.65865893e+00,\n",
       "       3.66366393e+00, 3.66866893e+00, 3.67367394e+00, 3.67867894e+00,\n",
       "       3.68368395e+00, 3.68868895e+00, 3.69369395e+00, 3.69869896e+00,\n",
       "       3.70370396e+00, 3.70870897e+00, 3.71371397e+00, 3.71871897e+00,\n",
       "       3.72372398e+00, 3.72872898e+00, 3.73373399e+00, 3.73873899e+00,\n",
       "       3.74374399e+00, 3.74874900e+00, 3.75375400e+00, 3.75875901e+00,\n",
       "       3.76376401e+00, 3.76876902e+00, 3.77377402e+00, 3.77877902e+00,\n",
       "       3.78378403e+00, 3.78878903e+00, 3.79379404e+00, 3.79879904e+00,\n",
       "       3.80380404e+00, 3.80880905e+00, 3.81381405e+00, 3.81881906e+00,\n",
       "       3.82382406e+00, 3.82882906e+00, 3.83383407e+00, 3.83883907e+00,\n",
       "       3.84384408e+00, 3.84884908e+00, 3.85385408e+00, 3.85885909e+00,\n",
       "       3.86386409e+00, 3.86886910e+00, 3.87387410e+00, 3.87887910e+00,\n",
       "       3.88388411e+00, 3.88888911e+00, 3.89389412e+00, 3.89889912e+00,\n",
       "       3.90390412e+00, 3.90890913e+00, 3.91391413e+00, 3.91891914e+00,\n",
       "       3.92392414e+00, 3.92892914e+00, 3.93393415e+00, 3.93893915e+00,\n",
       "       3.94394416e+00, 3.94894916e+00, 3.95395416e+00, 3.95895917e+00,\n",
       "       3.96396417e+00, 3.96896918e+00, 3.97397418e+00, 3.97897918e+00,\n",
       "       3.98398419e+00, 3.98898919e+00, 3.99399420e+00, 3.99899920e+00,\n",
       "       4.00400420e+00, 4.00900921e+00, 4.01401421e+00, 4.01901922e+00,\n",
       "       4.02402422e+00, 4.02902922e+00, 4.03403423e+00, 4.03903923e+00,\n",
       "       4.04404424e+00, 4.04904924e+00, 4.05405424e+00, 4.05905925e+00,\n",
       "       4.06406425e+00, 4.06906926e+00, 4.07407426e+00, 4.07907926e+00,\n",
       "       4.08408427e+00, 4.08908927e+00, 4.09409428e+00, 4.09909928e+00,\n",
       "       4.10410428e+00, 4.10910929e+00, 4.11411429e+00, 4.11911930e+00,\n",
       "       4.12412430e+00, 4.12912930e+00, 4.13413431e+00, 4.13913931e+00,\n",
       "       4.14414432e+00, 4.14914932e+00, 4.15415432e+00, 4.15915933e+00,\n",
       "       4.16416433e+00, 4.16916934e+00, 4.17417434e+00, 4.17917934e+00,\n",
       "       4.18418435e+00, 4.18918935e+00, 4.19419436e+00, 4.19919936e+00,\n",
       "       4.20420436e+00, 4.20920937e+00, 4.21421437e+00, 4.21921938e+00,\n",
       "       4.22422438e+00, 4.22922938e+00, 4.23423439e+00, 4.23923939e+00,\n",
       "       4.24424440e+00, 4.24924940e+00, 4.25425440e+00, 4.25925941e+00,\n",
       "       4.26426441e+00, 4.26926942e+00, 4.27427442e+00, 4.27927942e+00,\n",
       "       4.28428443e+00, 4.28928943e+00, 4.29429444e+00, 4.29929944e+00,\n",
       "       4.30430444e+00, 4.30930945e+00, 4.31431445e+00, 4.31931946e+00,\n",
       "       4.32432446e+00, 4.32932946e+00, 4.33433447e+00, 4.33933947e+00,\n",
       "       4.34434448e+00, 4.34934948e+00, 4.35435448e+00, 4.35935949e+00,\n",
       "       4.36436449e+00, 4.36936950e+00, 4.37437450e+00, 4.37937950e+00,\n",
       "       4.38438451e+00, 4.38938951e+00, 4.39439452e+00, 4.39939952e+00,\n",
       "       4.40440452e+00, 4.40940953e+00, 4.41441453e+00, 4.41941954e+00,\n",
       "       4.42442454e+00, 4.42942954e+00, 4.43443455e+00, 4.43943955e+00,\n",
       "       4.44444456e+00, 4.44944956e+00, 4.45445456e+00, 4.45945957e+00,\n",
       "       4.46446457e+00, 4.46946958e+00, 4.47447458e+00, 4.47947958e+00,\n",
       "       4.48448459e+00, 4.48948959e+00, 4.49449460e+00, 4.49949960e+00,\n",
       "       4.50450460e+00, 4.50950961e+00, 4.51451461e+00, 4.51951962e+00,\n",
       "       4.52452462e+00, 4.52952962e+00, 4.53453463e+00, 4.53953963e+00,\n",
       "       4.54454464e+00, 4.54954964e+00, 4.55455464e+00, 4.55955965e+00,\n",
       "       4.56456465e+00, 4.56956966e+00, 4.57457466e+00, 4.57957966e+00,\n",
       "       4.58458467e+00, 4.58958967e+00, 4.59459468e+00, 4.59959968e+00,\n",
       "       4.60460468e+00, 4.60960969e+00, 4.61461469e+00, 4.61961970e+00,\n",
       "       4.62462470e+00, 4.62962970e+00, 4.63463471e+00, 4.63963971e+00,\n",
       "       4.64464472e+00, 4.64964972e+00, 4.65465472e+00, 4.65965973e+00,\n",
       "       4.66466473e+00, 4.66966974e+00, 4.67467474e+00, 4.67967974e+00,\n",
       "       4.68468475e+00, 4.68968975e+00, 4.69469476e+00, 4.69969976e+00,\n",
       "       4.70470476e+00, 4.70970977e+00, 4.71471477e+00, 4.71971978e+00,\n",
       "       4.72472478e+00, 4.72972978e+00, 4.73473479e+00, 4.73973979e+00,\n",
       "       4.74474480e+00, 4.74974980e+00, 4.75475480e+00, 4.75975981e+00,\n",
       "       4.76476481e+00, 4.76976982e+00, 4.77477482e+00, 4.77977982e+00,\n",
       "       4.78478483e+00, 4.78978983e+00, 4.79479484e+00, 4.79979984e+00,\n",
       "       4.80480484e+00, 4.80980985e+00, 4.81481485e+00, 4.81981986e+00,\n",
       "       4.82482486e+00, 4.82982986e+00, 4.83483487e+00, 4.83983987e+00,\n",
       "       4.84484488e+00, 4.84984988e+00, 4.85485488e+00, 4.85985989e+00,\n",
       "       4.86486489e+00, 4.86986990e+00, 4.87487490e+00, 4.87987990e+00,\n",
       "       4.88488491e+00, 4.88988991e+00, 4.89489492e+00, 4.89989992e+00,\n",
       "       4.90490492e+00, 4.90990993e+00, 4.91491493e+00, 4.91991994e+00,\n",
       "       4.92492494e+00, 4.92992994e+00, 4.93493495e+00, 4.93993995e+00,\n",
       "       4.94494496e+00, 4.94994996e+00, 4.95495496e+00, 4.95995997e+00,\n",
       "       4.96496497e+00, 4.96996998e+00, 4.97497498e+00, 4.97997998e+00,\n",
       "       4.98498499e+00, 4.98998999e+00, 4.99499500e+00, 5.00000000e+00])"
      ]
     },
     "execution_count": 3,
     "metadata": {},
     "output_type": "execute_result"
    }
   ],
   "source": [
    "X"
   ]
  },
  {
   "cell_type": "code",
   "execution_count": 4,
   "metadata": {},
   "outputs": [],
   "source": [
    "y = {}"
   ]
  },
  {
   "cell_type": "code",
   "execution_count": 5,
   "metadata": {
    "scrolled": true
   },
   "outputs": [
    {
     "ename": "NameError",
     "evalue": "name 'CoupledLogarithm' is not defined",
     "output_type": "error",
     "traceback": [
      "\u001b[0;31m---------------------------------------------------------------------------\u001b[0m",
      "\u001b[0;31mNameError\u001b[0m                                 Traceback (most recent call last)",
      "\u001b[0;32m<ipython-input-5-26d0a4fda2da>\u001b[0m in \u001b[0;36m<module>\u001b[0;34m\u001b[0m\n\u001b[1;32m     13\u001b[0m \u001b[0;34m\u001b[0m\u001b[0m\n\u001b[1;32m     14\u001b[0m \u001b[0;32mfor\u001b[0m \u001b[0mkappa\u001b[0m \u001b[0;32min\u001b[0m \u001b[0mkappa_values\u001b[0m\u001b[0;34m:\u001b[0m\u001b[0;34m\u001b[0m\u001b[0;34m\u001b[0m\u001b[0m\n\u001b[0;32m---> 15\u001b[0;31m     \u001b[0my\u001b[0m\u001b[0;34m[\u001b[0m\u001b[0mkappa\u001b[0m\u001b[0;34m]\u001b[0m \u001b[0;34m=\u001b[0m \u001b[0mCoupledLogarithm\u001b[0m\u001b[0;34m(\u001b[0m\u001b[0mX\u001b[0m\u001b[0;34m,\u001b[0m \u001b[0mkappa\u001b[0m\u001b[0;34m)\u001b[0m\u001b[0;34m\u001b[0m\u001b[0;34m\u001b[0m\u001b[0m\n\u001b[0m\u001b[1;32m     16\u001b[0m \u001b[0;31m#     for x in X:\u001b[0m\u001b[0;34m\u001b[0m\u001b[0;34m\u001b[0m\u001b[0;34m\u001b[0m\u001b[0m\n\u001b[1;32m     17\u001b[0m \u001b[0;31m#         y[kappa].append(CoupledLogarithm(x, kappa))\u001b[0m\u001b[0;34m\u001b[0m\u001b[0;34m\u001b[0m\u001b[0;34m\u001b[0m\u001b[0m\n",
      "\u001b[0;31mNameError\u001b[0m: name 'CoupledLogarithm' is not defined"
     ]
    },
    {
     "data": {
      "image/png": "[encoded data removed]",
      "text/plain": [
       "<Figure size 1008x864 with 1 Axes>"
      ]
     },
     "metadata": {},
     "output_type": "display_data"
    }
   ],
   "source": [
    "# plt.figure(figsize=(12, 8))\n",
    "fig, ax = plt.subplots(figsize=(14, 12))\n",
    "ax.axvline(c='black', lw=1)\n",
    "ax.axhline(c='black', lw=1)\n",
    "\n",
    "cm = plt.get_cmap('PiYG')\n",
    "kappa_values = [round(value, 1) for value in np.arange(-0.8, 0.9, 0.1)]\n",
    "n = len(kappa_values)\n",
    "ax.set_prop_cycle(color=['gold' if kappa==0 else cm(1.*i/n) for i, kappa in enumerate(kappa_values)])\n",
    "\n",
    "plt.xlim(-5, 5)\n",
    "plt.ylim(-5, 5)\n",
    "\n",
    "for kappa in kappa_values:\n",
    "    y[kappa] = CoupledLogarithm(X, kappa)\n",
    "#     for x in X:\n",
    "#         y[kappa].append(CoupledLogarithm(x, kappa))\n",
    "    plt.plot(X, y[kappa], label=kappa)\n",
    "\n",
    "plt.legend()\n",
    "plt.show();"
   ]
  },
  {
   "cell_type": "markdown",
   "metadata": {},
   "source": [
    "#### CoupledExponential"
   ]
  },
  {
   "cell_type": "code",
   "execution_count": null,
   "metadata": {},
   "outputs": [],
   "source": [
    "# 100 linearly spaced numbers, starting from CLOSE to 0\n",
    "X = np.linspace(-5, 5, 1000)"
   ]
  },
  {
   "cell_type": "code",
   "execution_count": null,
   "metadata": {},
   "outputs": [],
   "source": [
    "y = defaultdict(list)"
   ]
  },
  {
   "cell_type": "code",
   "execution_count": null,
   "metadata": {},
   "outputs": [],
   "source": [
    "# plt.figure(figsize=(12, 8))\n",
    "fig, ax = plt.subplots(figsize=(14, 12))\n",
    "ax.axvline(c='black', lw=1)\n",
    "ax.axhline(c='black', lw=1)\n",
    "\n",
    "cm = plt.get_cmap('PiYG')\n",
    "kappa_values = [round(value, 1) for value in np.arange(-1, 1.2, 0.1)]\n",
    "n = len(kappa_values)\n",
    "ax.set_prop_cycle(color=['gold' if kappa==0 else cm(1.*i/n) for i, kappa in enumerate(kappa_values)])\n",
    "\n",
    "plt.xlim(-5, 5)\n",
    "plt.ylim(-5, 5)\n",
    "\n",
    "for kappa in kappa_values:\n",
    "#     y[kappa] = CoupledExponential(X, kappa)\n",
    "    for x in X:\n",
    "        y[kappa].append(CoupledExponential(x, kappa))\n",
    "    plt.plot(X, y[kappa], label=kappa)\n",
    "\n",
    "plt.legend()\n",
    "plt.show();"
   ]
  },
  {
   "cell_type": "markdown",
   "metadata": {},
   "source": [
    "**CoupledNormalDistribution**"
   ]
  },
  {
   "cell_type": "code",
   "execution_count": null,
   "metadata": {},
   "outputs": [],
   "source": [
    "batch_size = 5000  # batch size of the MNIST dataset\n",
    "z_dim = 2  # dim for our abstract\n",
    "\n",
    "mean = 0\n",
    "sigma = 1\n",
    "\n",
    "kappa_values = [round(value, 1) for value in np.arange(-0.5, 2.0, 0.1)]\n",
    "alpha = 2  # Gaussian"
   ]
  },
  {
   "cell_type": "code",
   "execution_count": null,
   "metadata": {},
   "outputs": [],
   "source": [
    "# plt.figure(figsize=(12, 8))\n",
    "fig, ax = plt.subplots(figsize=(14, 12))\n",
    "ax.axvline(c='black', lw=1)\n",
    "ax.axhline(c='black', lw=1)\n",
    "\n",
    "cm = plt.get_cmap('PiYG')\n",
    "kappa_values = [round(value, 1) for value in np.arange(-0.5, 2.0, 0.1)]\n",
    "n = len(kappa_values)\n",
    "ax.set_prop_cycle(color=['gold' if kappa==0 else cm(1.*i/n) for i, kappa in enumerate(kappa_values)])\n",
    "\n",
    "plt.xlim(-5, 5)\n",
    "plt.ylim(0, 0.75)\n",
    "\n",
    "for kappa in kappa_values:\n",
    "    X, y = CoupledNormal(mean, sigma, kappa, alpha)\n",
    "    plt.plot(X, y, label=kappa)\n",
    "\n",
    "plt.legend()\n",
    "plt.show();"
   ]
  },
  {
   "cell_type": "markdown",
   "metadata": {},
   "source": [
    "**CoupledExponentialDistribution**"
   ]
  },
  {
   "cell_type": "code",
   "execution_count": null,
   "metadata": {},
   "outputs": [],
   "source": [
    "batch_size = 5000  # batch size of the MNIST dataset\n",
    "z_dim = 2  # dim for our abstract\n",
    "\n",
    "mean = 0\n",
    "sigma = 1\n",
    "\n",
    "kappa_values = [round(value, 1) for value in np.arange(-0.5, 2.0, 0.1)]\n",
    "alpha = 2  # Gaussian"
   ]
  },
  {
   "cell_type": "code",
   "execution_count": null,
   "metadata": {},
   "outputs": [],
   "source": [
    "# plt.figure(figsize=(12, 8))\n",
    "fig, ax = plt.subplots(figsize=(14, 12))\n",
    "ax.axvline(c='black', lw=1)\n",
    "ax.axhline(c='black', lw=1)\n",
    "\n",
    "cm = plt.get_cmap('PiYG')\n",
    "kappa_values = [round(value, 1) for value in np.arange(-0.5, 2.0, 0.1)]\n",
    "n = len(kappa_values)\n",
    "ax.set_prop_cycle(color=['gold' if kappa==0 else cm(1.*i/n) for i, kappa in enumerate(kappa_values)])\n",
    "\n",
    "plt.xlim(0, 10)\n",
    "plt.ylim(0, 1.5)\n",
    "\n",
    "for kappa in kappa_values:\n",
    "    X, y = CoupledExpotentialDistribution(kappa, mean, sigma)\n",
    "    plt.plot(X, y, label=kappa)\n",
    "\n",
    "plt.legend()\n",
    "plt.show();"
   ]
  },
  {
   "cell_type": "markdown",
   "metadata": {},
   "source": [
    "**CoupledProbability**"
   ]
  },
  {
   "cell_type": "code",
   "execution_count": 2,
   "metadata": {},
   "outputs": [
    {
     "data": {
      "image/png": "[encoded data removed]",
      "text/plain": [
       "<Figure size 432x288 with 1 Axes>"
      ]
     },
     "metadata": {
      "needs_background": "light"
     },
     "output_type": "display_data"
    }
   ],
   "source": [
    "mu, sigma = 0, 1 # mean and standard deviation\n",
    "x = np.linspace(mu - 3*sigma, mu + 3*sigma, 100)\n",
    "y = stats.norm.pdf(x, mu, sigma)\n",
    "test = CoupledProbability(y, 0.5, 0.5, 1)\n",
    "\n",
    "plt.plot(x, test)\n",
    "plt.show()"
   ]
  },
  {
   "cell_type": "markdown",
   "metadata": {},
   "source": [
    "**CoupledEntropy**"
   ]
  },
  {
   "cell_type": "code",
   "execution_count": 5,
   "metadata": {},
   "outputs": [
    {
     "name": "stdout",
     "output_type": "stream",
     "text": [
      "0.7002963695835438\n"
     ]
    }
   ],
   "source": [
    "mu, sigma = 0, 1 # mean and standard deviation\n",
    "x = np.linspace(mu - 3*sigma, mu + 3*sigma, 100)\n",
    "y = stats.norm.pdf(x, mu, sigma)\n",
    "\n",
    "test = CoupledEntropy(y, 0.5, 0.5, 1)\n",
    "print(test)"
   ]
  },
  {
   "cell_type": "code",
   "execution_count": null,
   "metadata": {},
   "outputs": [],
   "source": []
  }
 ],
 "metadata": {
  "kernelspec": {
   "display_name": "Python 3",
   "language": "python",
   "name": "python3"
  },
  "language_info": {
   "codemirror_mode": {
    "name": "ipython",
    "version": 3
   },
   "file_extension": ".py",
   "mimetype": "text/x-python",
   "name": "python",
   "nbconvert_exporter": "python",
   "pygments_lexer": "ipython3",
   "version": "3.7.3"
  }
 },
 "nbformat": 4,
 "nbformat_minor": 4
}
