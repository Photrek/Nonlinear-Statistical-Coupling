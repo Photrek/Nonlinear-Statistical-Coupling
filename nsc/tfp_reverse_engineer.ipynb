{
 "cells": [
  {
   "cell_type": "code",
   "execution_count": 4,
   "metadata": {},
   "outputs": [],
   "source": [
    "import math\n",
    "import numpy as np\n",
    "import pandas as pd\n",
    "import tensorflow as tf\n",
    "import tensorflow_probability as tfp\n",
    "tfd = tfp.distributions"
   ]
  },
  {
   "cell_type": "markdown",
   "metadata": {},
   "source": [
    "**Gaussian function**"
   ]
  },
  {
   "cell_type": "markdown",
   "metadata": {},
   "source": [
    "The Gaussian function is the form of:\n",
    "\n",
    "$f(x) = a * exp(-\\frac{(x - b)^2}{2c^2})$\n",
    "\n",
    "For given real constants *a*, *b*, and non-zero *c*"
   ]
  },
  {
   "cell_type": "markdown",
   "metadata": {},
   "source": [
    "**1D Gaussian Distribution**"
   ]
  },
  {
   "cell_type": "markdown",
   "metadata": {},
   "source": [
    "The formula of a 1D Gaussian distribution is the following:\n",
    "\n",
    "\n",
    "$g(x ; \\mu, \\sigma) = \\frac{1}{\\sigma\\sqrt{2\\pi}}exp(-\\frac{1}{2}\\frac{(x - \\mu)^2}{\\sigma^2})$\n",
    "\n",
    "Where\n",
    "- *g* = probability density dunction of a normally distributed random variable *x*.\n",
    "- *a* = $\\frac{1}{\\sigma\\sqrt{2\\pi}}$\n",
    "- *b* = $\\mu$\n",
    "- *c* = $\\sigma$\n",
    "\n",
    "Sources: [Wikipedia](https://en.wikipedia.org/wiki/Gaussian_function), [Youtube](https://www.youtube.com/watch?v=eho8xH3E6mE&ab_channel=AlexanderIhler)"
   ]
  },
  {
   "cell_type": "markdown",
   "metadata": {},
   "source": [
    "**1D Log-normal Distribution**"
   ]
  },
  {
   "cell_type": "markdown",
   "metadata": {},
   "source": [
    "The 1D Log-normal PDF formula is the following:"
   ]
  },
  {
   "cell_type": "markdown",
   "metadata": {},
   "source": [
    "$g(x ; \\mu, \\sigma) = \\frac{1}{\\sigma\\sqrt{2\\pi}}exp(-\\frac{1}{2}\\frac{(lnx - \\mu)^2}{\\sigma^2})$"
   ]
  },
  {
   "cell_type": "code",
   "execution_count": null,
   "metadata": {},
   "outputs": [],
   "source": []
  },
  {
   "cell_type": "markdown",
   "metadata": {},
   "source": [
    "Let's first rewrite *a* (or $\\frac{1}{\\sigma\\sqrt{2\\pi}}$) in Python:"
   ]
  },
  {
   "cell_type": "code",
   "execution_count": null,
   "metadata": {},
   "outputs": [],
   "source": []
  },
  {
   "cell_type": "markdown",
   "metadata": {},
   "source": []
  },
  {
   "cell_type": "code",
   "execution_count": null,
   "metadata": {},
   "outputs": [],
   "source": []
  },
  {
   "cell_type": "markdown",
   "metadata": {},
   "source": [
    "The tfp.distribution Normal function is written as the following:\n",
    "\n",
    "```none\n",
    "pdf(x; mu, sigma) = exp(-0.5 (x - mu)**2 / sigma**2) / Z\n",
    "Z = (2 pi sigma**2)**0.5\n",
    "```\n"
   ]
  },
  {
   "cell_type": "markdown",
   "metadata": {},
   "source": [
    "Therefore:\n",
    "\n",
    "\n",
    "```none\n",
    "log_pdf(x; mu, sigma)\n",
    "\n",
    "= log(exp(-0.5 (x - mu)**2 / sigma**2) / Z) \n",
    "\n",
    "= log(exp(-0.5 (x - mu)**2 / sigma**2)) - log(Z) \n",
    "\n",
    "= -0.5 (x - mu)**2 / sigma**2 - log(Z)\n",
    "\n",
    "= -0.5 (x - mu)**2 / sigma**2 - log((2*pi*sigma**2)**0.5)\n",
    "\n",
    "= -0.5 (x - mu)**2 / sigma**2 - log((2*pi*sigma**2)**0.5)\n",
    "\n",
    "= -0.5 (x - mu)**2 / sigma**2 - 0.5*log(2*pi*sigma**2)\n",
    "\n",
    "= -0.5 (x - mu)**2 / sigma**2 - 0.5*log(2*pi*sigma**2)\n",
    "\n",
    "= -0.5 (x - mu)**2 / sigma**2 - 0.5*log(2*pi) + 0.5*log(sigma**2)\n",
    "\n",
    "= -0.5 (x - mu)**2 / sigma**2 - 0.5*log(2*pi) + 0.5*2*log(sigma)\n",
    "\n",
    "= -0.5 (x - mu)**2 / sigma**2 - 0.5*log(2*pi) + log(sigma)\n",
    "\n",
    "```\n",
    "\n",
    "Given:\n",
    "\n",
    "```\n",
    "log_unnormalized = -0.5 (x - mu)**2 / sigma**2\n",
    "log_normalization = 0.5*log(2*pi) + log(sigma)\n",
    "```\n",
    "\n",
    "Then:\n",
    "\n",
    "log_pdf(x; mu, sigma) = log_unnormalized - log_normalization"
   ]
  },
  {
   "cell_type": "code",
   "execution_count": 5,
   "metadata": {},
   "outputs": [],
   "source": [
    "def _log_prob(self, x, loc, scale):\n",
    "    scale = tf.convert_to_tensor(scale)\n",
    "    log_unnormalized = -0.5 * tf.math.squared_difference(\n",
    "        x / scale, loc / scale)\n",
    "    log_normalization = tf.constant(\n",
    "        0.5 * np.log(2. * np.pi), dtype=self.dtype) + tf.math.log(scale)\n",
    "    return log_unnormalized - log_normalization"
   ]
  },
  {
   "cell_type": "markdown",
   "metadata": {},
   "source": [
    " **log_unnormalized** is equivalent to:\n",
    " \n",
    "$log(exp(-\\frac{1}{2}\\frac{(x - \\mu)^2}{\\sigma^2})) = -\\frac{1}{2}\\frac{(x - \\mu)^2}{\\sigma^2} = -\\frac{(x - \\mu)^2}{2}$\n",
    "\n",
    "where log = ln"
   ]
  },
  {
   "cell_type": "markdown",
   "metadata": {},
   "source": [
    "Should the log_unnormalized be that following instead? Need to include \\sigma^2 in the denominator?"
   ]
  },
  {
   "cell_type": "code",
   "execution_count": 8,
   "metadata": {},
   "outputs": [
    {
     "data": {
      "text/plain": [
       "'\\nlog_unnormalized = -0.5 * tf.math.squared_difference(\\n    x / scale, loc / scale)\\n'"
      ]
     },
     "execution_count": 8,
     "metadata": {},
     "output_type": "execute_result"
    }
   ],
   "source": [
    "'''\n",
    "\n",
    "log_unnormalized = -0.5 * tf.math.squared_difference(\n",
    "    x / scale, loc / scale) / sigma**2\n",
    "    \n",
    "'''"
   ]
  },
  {
   "cell_type": "markdown",
   "metadata": {},
   "source": [
    "**log_normalization** is equivalent to:\n",
    "\n",
    "$log(\\frac{1}{\\sigma\\sqrt{2\\pi}}) -\\frac{log(2\\pi) + log(\\sigma)}{2}$"
   ]
  },
  {
   "cell_type": "code",
   "execution_count": null,
   "metadata": {},
   "outputs": [],
   "source": []
  },
  {
   "cell_type": "markdown",
   "metadata": {},
   "source": [
    "**1D Student-t Distribution**"
   ]
  },
  {
   "cell_type": "code",
   "execution_count": null,
   "metadata": {},
   "outputs": [],
   "source": []
  },
  {
   "cell_type": "code",
   "execution_count": null,
   "metadata": {},
   "outputs": [],
   "source": []
  },
  {
   "cell_type": "code",
   "execution_count": null,
   "metadata": {},
   "outputs": [],
   "source": []
  },
  {
   "cell_type": "code",
   "execution_count": null,
   "metadata": {},
   "outputs": [],
   "source": []
  },
  {
   "cell_type": "markdown",
   "metadata": {},
   "source": [
    "The tfp.distribution StudentT function is written as the following:"
   ]
  },
  {
   "cell_type": "code",
   "execution_count": null,
   "metadata": {},
   "outputs": [],
   "source": []
  },
  {
   "cell_type": "code",
   "execution_count": null,
   "metadata": {},
   "outputs": [],
   "source": []
  },
  {
   "cell_type": "markdown",
   "metadata": {},
   "source": [
    "**Multivariate Gaussian Distribution**|"
   ]
  },
  {
   "cell_type": "code",
   "execution_count": null,
   "metadata": {},
   "outputs": [],
   "source": []
  }
 ],
 "metadata": {
  "kernelspec": {
   "display_name": "Python 3.7",
   "language": "python",
   "name": "py3.7"
  },
  "language_info": {
   "codemirror_mode": {
    "name": "ipython",
    "version": 3
   },
   "file_extension": ".py",
   "mimetype": "text/x-python",
   "name": "python",
   "nbconvert_exporter": "python",
   "pygments_lexer": "ipython3",
   "version": "3.7.6"
  }
 },
 "nbformat": 4,
 "nbformat_minor": 4
}
