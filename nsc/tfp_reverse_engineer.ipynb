{
 "cells": [
  {
   "cell_type": "code",
   "execution_count": 1,
   "metadata": {},
   "outputs": [],
   "source": [
    "import math\n",
    "import numpy as np\n",
    "import pandas as pd\n",
    "import tensorflow as tf\n",
    "import tensorflow_probability.python as tfp\n",
    "from tensorflow_probability.python import math as tfp_math\n",
    "tfd = tfp.distributions\n",
    "\n",
    "# From nsc source code\n",
    "from function import coupled_logarithm as coupled_log, coupled_exponential as coupled_exp"
   ]
  },
  {
   "cell_type": "markdown",
   "metadata": {},
   "source": [
    "### **Gaussian function**"
   ]
  },
  {
   "cell_type": "markdown",
   "metadata": {},
   "source": [
    "The Gaussian function is the form of:\n",
    "\n",
    "$f(x) = a * exp(-\\frac{(x - b)^2}{2c^2})$\n",
    "\n",
    "For given real constants *a*, *b*, and non-zero *c*"
   ]
  },
  {
   "cell_type": "markdown",
   "metadata": {},
   "source": [
    "### **1D Gaussian Distribution**"
   ]
  },
  {
   "cell_type": "markdown",
   "metadata": {},
   "source": [
    "The formula of a 1D Gaussian distribution is the following:\n",
    "\n",
    "\n",
    "$p(x ; \\mu, \\sigma) = \\frac{1}{\\sigma\\sqrt{2\\pi}}exp(-\\frac{1}{2}\\frac{(x - \\mu)^2}{\\sigma^2})$\n",
    "\n",
    "Where\n",
    "- *p* = probability density dunction of a normally distributed random variable *x*.\n",
    "- *a* = $\\frac{1}{\\sigma\\sqrt{2\\pi}}$\n",
    "- *b* = $\\mu$\n",
    "- *c* = $\\sigma$\n",
    "\n",
    "Sources: [Wikipedia](https://en.wikipedia.org/wiki/Gaussian_function), [Youtube](https://www.youtube.com/watch?v=eho8xH3E6mE&ab_channel=AlexanderIhler)"
   ]
  },
  {
   "cell_type": "markdown",
   "metadata": {},
   "source": [
    "The tfp.distribution Normal function is written as the following:\n",
    "\n",
    "```none\n",
    "pdf(x; mu, sigma) = exp(-0.5 (x - mu)**2 / sigma**2) / Z\n",
    "Z = (2 pi sigma**2)**0.5\n",
    "```"
   ]
  },
  {
   "cell_type": "markdown",
   "metadata": {},
   "source": [
    "Therefore:\n",
    "\n",
    "\n",
    "```none\n",
    "log_pdf(x; mu, sigma)\n",
    "\n",
    "= log(exp(-0.5 (x - mu)**2 / sigma**2) / Z) \n",
    "\n",
    "= log(exp(-0.5 (x - mu)**2 / sigma**2)) - log(Z) \n",
    "\n",
    "= -0.5 (x - mu)**2 / sigma**2 - log(Z)\n",
    "\n",
    "= -0.5 (x - mu)**2 / sigma**2 - log((2*pi*sigma**2)**0.5)\n",
    "\n",
    "= -0.5 (x - mu)**2 / sigma**2 - log((2*pi*sigma**2)**0.5)\n",
    "\n",
    "= -0.5 (x - mu)**2 / sigma**2 - 0.5*log(2*pi*sigma**2)\n",
    "\n",
    "= -0.5 (x - mu)**2 / sigma**2 - 0.5*log(2*pi*sigma**2)\n",
    "\n",
    "= -0.5 (x - mu)**2 / sigma**2 - 0.5*log(2*pi) + 0.5*log(sigma**2)\n",
    "\n",
    "= -0.5 (x - mu)**2 / sigma**2 - 0.5*log(2*pi) + 0.5*2*log(sigma)\n",
    "\n",
    "= -0.5 (x - mu)**2 / sigma**2 - 0.5*log(2*pi) + log(sigma)\n",
    "\n",
    "```\n",
    "\n",
    "Given:\n",
    "\n",
    "```\n",
    "log_unnormalized = -0.5 (x - mu)**2 / sigma**2\n",
    "log_normalization = 0.5*log(2*pi) + log(sigma)\n",
    "```\n",
    "\n",
    "Then:\n",
    "\n",
    "log_pdf(x; mu, sigma) = log_unnormalized - log_normalization"
   ]
  },
  {
   "cell_type": "code",
   "execution_count": 2,
   "metadata": {},
   "outputs": [],
   "source": [
    "def _log_prob(self, x, loc, scale):\n",
    "    scale = tf.convert_to_tensor(scale)\n",
    "    log_unnormalized = -0.5 * tf.math.squared_difference(\n",
    "        x / scale, loc / scale)\n",
    "    log_normalization = tf.constant(\n",
    "        0.5 * np.log(2. * np.pi), dtype=self.dtype) + tf.math.log(scale)\n",
    "    return log_unnormalized - log_normalization"
   ]
  },
  {
   "cell_type": "markdown",
   "metadata": {},
   "source": [
    "### **Multivariate Gaussian Distribution**"
   ]
  },
  {
   "cell_type": "markdown",
   "metadata": {},
   "source": [
    "The formula of a multivariate Gaussian distribution is the following:\n",
    "\n",
    "\n",
    "$p(x ; \\mu, \\Sigma) = \\frac{1}{(2\\pi)^{d/2}|\\Sigma|^{1/2}}exp(-\\frac{1}{2}(x - \\mu)^T\\Sigma^{-1}(x - \\mu)^2)$\n",
    "\n",
    "Where\n",
    "- *p* = PDF is a multidimensional random variable *x*.\n",
    "- *d* = # dimension\n",
    "- $\\Sigma$ = covariance matrix\n",
    "- *T* = transpose\n",
    "\n",
    "Sources: [Wikipedia](https://en.wikipedia.org/wiki/Gaussian_function), [Youtube](https://www.youtube.com/watch?v=eho8xH3E6mE&ab_channel=AlexanderIhler)"
   ]
  },
  {
   "cell_type": "markdown",
   "metadata": {},
   "source": [
    "The tfp.distribution MultivariateNormalLinearOperator and TransformedDistribution function is written as the following:\n",
    "\n",
    "```none\n",
    "TO-DO\n",
    "```\n",
    "\n",
    "Where: TO-DO\n"
   ]
  },
  {
   "cell_type": "markdown",
   "metadata": {},
   "source": [
    "### **1D Student-t Distribution**"
   ]
  },
  {
   "cell_type": "markdown",
   "metadata": {},
   "source": [
    "The formula of a 1D Student-t distribution is the following:\n",
    "\n",
    "$f(t) = \\frac{\\Gamma[(v + 1)/2]}{\\sqrt{v\\pi}\\Gamma[v/2]}(1 + t^2/v)^{-(v+1)/2}$\n",
    "\n",
    "Where:\n",
    "\n",
    "$t = \\frac{x - \\mu}{\\sigma}$\n",
    "\n",
    "$v = DoF $\n",
    "\n",
    "$\\Gamma = Gamma function $\n",
    "\n",
    "$d = 1D $\n",
    "\n",
    "$ \\sum = 1$\n",
    "\n",
    "Sources: [Wikipedia](https://en.wikipedia.org/wiki/Multivariate_t-distribution)"
   ]
  },
  {
   "cell_type": "markdown",
   "metadata": {},
   "source": [
    "The tfp.distribution Student-t function is written as the following:\n",
    "\n",
    "The probability density function (pdf) is,\n",
    "```none\n",
    "pdf(x; df, mu, sigma) = (1 + y**2 / df)**(-0.5 (df + 1)) / Z\n",
    "where,\n",
    "y = (x - mu) / sigma\n",
    "Z = abs(sigma) sqrt(df pi) Gamma(0.5 df) / Gamma(0.5 (df + 1))\n",
    "\n",
    "or\n",
    "\n",
    "pdf(x; df, mu, sigma) = (1 + y)**(-0.5 (df + 1)) / Z\n",
    "where,\n",
    "y = [(x - mu) / sigma]**2 / df\n",
    "Z = abs(sigma) sqrt(df pi) Gamma(0.5 df) / Gamma(0.5 (df + 1))\n",
    "```\n",
    " \n",
    "Therefore:\n",
    "\n",
    "```\n",
    "log(pdf) = log((1 + y)**(-0.5 (df + 1)) / Z)\n",
    "         = (-0.5*(df+1))*log(1+y) - log(Z)\n",
    "         = (-0.5*(df+1))*log(1 + ((x-mu)/sigma)**2/df) - log(Z)\n",
    "         = (-0.5*(df+1)) * log(((x-mu)/sigma)**2/df) - log(Z)\n",
    "log(Z) = log(abs(sigma)*sqrt(df*pi)*Gamma(0.5*df) / Gamma(0.5*(df+1)))\n",
    "log(Z) = log(abs(sigma)) + pi*log(df) + log(Gamma(0.5*df) - log(Gamma(0.5*(df+1))\n",
    "\n",
    "```\n",
    "\n",
    "Given:\n",
    "\n",
    "```\n",
    "log_unnormalized_prob = (-0.5*(df+1)) * log(((x-mu)/sigma)**2/df)\n",
    "log_normalization = log(abs(sigma)) + pi*log(df) + log(Gamma(0.5*df) - log(Gamma(0.5*(df+1))\n",
    "```\n",
    "\n",
    "Then:\n",
    "\n",
    "log_pdf(x; mu, sigma) = log_unnormalized_prob - log_normalization"
   ]
  },
  {
   "cell_type": "code",
   "execution_count": 3,
   "metadata": {},
   "outputs": [],
   "source": [
    "def log_prob(x, df, loc, scale):\n",
    "  # Writing `y` this way reduces XLA mem copies.\n",
    "  y = (x - loc) * (tf.math.rsqrt(df) / scale)\n",
    "  # y = (x - loc) / (tf.math.rsqrt(df) * scale) right instead ???\n",
    "  log_unnormalized_prob = -0.5 * (df + 1.) * log1psquare(y)\n",
    "  log_normalization = (\n",
    "      tf.math.log(tf.abs(scale)) + 0.5 * tf.math.log(df) +\n",
    "      0.5 * np.log(np.pi) + tfp_math.log_gamma_difference(0.5, 0.5 * df))\n",
    "      # should this be pi * tf.math.log(df) instead?\n",
    "  return log_unnormalized_prob - log_normalization"
   ]
  },
  {
   "cell_type": "markdown",
   "metadata": {},
   "source": [
    "### **Multivariate Student-t Distribution**"
   ]
  },
  {
   "cell_type": "markdown",
   "metadata": {},
   "source": [
    "The formula of a 1D Student-t distribution is the following:\n",
    "\n",
    "$f(x; \\mu,\\Sigma) = \\frac{\\Gamma[(v + d)/2]}{\\Gamma[v/2]v^{d/2}\\pi^{d/2}|\\Sigma|^{1/2}}(1 + \\frac{1}{v}(x - \\mu)^T\\Sigma^{-1}(x - \\mu))^{-(v+d)/2}$\n",
    "\n",
    "Where:\n",
    "\n",
    "$v = DoF$\n",
    "\n",
    "$\\Gamma = Gamma function$\n",
    "\n",
    "$d = n Dimensions$\n",
    "\n",
    "$\\sum = covariance$\n",
    "\n",
    "Sources: [Wikipedia](https://en.wikipedia.org/wiki/Multivariate_t-distribution)"
   ]
  },
  {
   "cell_type": "markdown",
   "metadata": {},
   "source": [
    "The tfp.distribution MultivariateStudentTLinearOperator function is written as the following.\n",
    "\n",
    "The probability density function (pdf) is:\n",
    "```none\n",
    "  pdf(x; df, loc, Sigma) = (1 + ||y||**2 / df)**(-0.5 (df + k)) / Z\n",
    "  where:\n",
    "  y = inv(Sigma) (x - loc)\n",
    "  Z = abs(det(Sigma)) sqrt(df pi)**k Gamma(0.5 df) / Gamma(0.5 (df + k))\n",
    "```\n",
    "\n",
    "In formula form:\n",
    "\n",
    "$df = DoF$\n",
    "\n",
    "$k = nDimensions$\n",
    "\n",
    "$y = Σ^{−1}(𝑥−𝜇)$\n",
    "\n",
    "$z = \\frac{|\\Sigma|^{1/2}(df\\pi)^{k/2}\\Gamma[df/2]}{\\Gamma[(df + k)/2]}$"
   ]
  },
  {
   "cell_type": "markdown",
   "metadata": {},
   "source": [
    "Therefore:\n",
    "\n",
    "```\n",
    "log(pdf) = log((1 + ||y||**2 / df)**(-0.5 (df + k)) / Z)\n",
    "         = (-0.5*(df+k))*log(1 + ||y||**2 / df) - log(Z)\n",
    "         = (-0.5*(df+k))*log(1 + ((x-mu)/sigma)**2/df) - log(Z)\n",
    "         = (-0.5*(df+k)) * log(((x-mu)/sigma)**2/df) - log(Z)\n",
    "log(Z) = log(abs(sigma)*sqrt(df*pi)**k*Gamma(0.5*df) / Gamma(0.5*(df+k)))\n",
    "log(Z) = log(abs(sigma)) + k*log_sqrt(df*pi) + log(Gamma(0.5*df)) - log(Gamma(0.5*(df+k))\n",
    "log(Z) = log(abs(sigma)) + (k/2)*log(df*pi) + log(Gamma(0.5*df)) - log(Gamma(0.5*(df+k))\n",
    "log(Z) = log(abs(sigma)) + (k/2)*(log(df)+log(pi)) + log(Gamma(0.5*df)) - log(Gamma(0.5*(df+k))\n",
    "\n",
    "```\n",
    "\n",
    "Given:\n",
    "\n",
    "```\n",
    "num_dims = k\n",
    "mahalanobis = value = (x - mu)/sigma\n",
    "_log_unnormalized_prob = (-(num_dims+df)/2) * log^2(mahalanobis/sqrt(df))\n",
    "_log_normalization = log(Gamma(0.5*df)?? - log(Gamma(0.5*(df+num_dims))?? + (num_dims/2)*(log(df)+log(pi)) + log(abs(sigma))\n",
    "```\n",
    "\n",
    "Then:\n",
    "\n",
    "log_pdf(x; mu, sigma) = log_unnormalized_prob - log_normalization"
   ]
  },
  {
   "cell_type": "code",
   "execution_count": 4,
   "metadata": {},
   "outputs": [],
   "source": [
    "# What class MultivariateStudentTLinearOperator actually contains:\n",
    "\n",
    "def _log_unnormalized_prob(self, value):\n",
    "    df = tf.convert_to_tensor(self.df)\n",
    "    value = value - self._loc\n",
    "    value = self.scale.solve(value[..., tf.newaxis])\n",
    "\n",
    "    num_dims = tf.cast(self.event_shape_tensor()[0], self.dtype)\n",
    "    mahalanobis = tf.norm(value, axis=[-1, -2])\n",
    "    return -(num_dims + df) / 2. * tfp_math.log1psquare(\n",
    "        mahalanobis / tf.sqrt(df))\n",
    "\n",
    "def _log_normalization(self):\n",
    "    df = tf.convert_to_tensor(self.df)\n",
    "    num_dims = tf.cast(self.event_shape_tensor()[0], self.dtype)\n",
    "    return (tfp_math.log_gamma_difference(num_dims / 2., df / 2.) +\n",
    "            num_dims / 2. * (tf.math.log(df) + np.log(np.pi)) +\n",
    "            self.scale.log_abs_determinant())\n",
    "\n",
    "def _log_prob(self, value):\n",
    "    return self._log_unnormalized_prob(value) - self._log_normalization()"
   ]
  },
  {
   "cell_type": "markdown",
   "metadata": {},
   "source": [
    "### **Multivariate Coupled Normal Distribution**"
   ]
  },
  {
   "cell_type": "markdown",
   "metadata": {},
   "source": [
    "**PDF**"
   ]
  },
  {
   "cell_type": "markdown",
   "metadata": {},
   "source": [
    "Let Z = NormMultiCoupled, d = n Dimensions, k = coupling value (kappa), dimMean = len($\\mu$)\n",
    "\n",
    "Z$(x ; \\mu, \\Sigma, \\kappa, \\alpha, len(\\mu)) = \\frac{|\\Sigma|^{1/2}}{1 + (-1 + d)\\kappa}$ if $\\alpha$ = 1\n",
    "\n",
    "Z$(x ; \\mu, \\Sigma, \\kappa, \\alpha, len(\\mu)) = \\frac{\\sqrt{\\pi}|\\Sigma|^{1/2}\\Gamma[\\frac{1+(-1+d)\\kappa}{2\\kappa}]}{\\sqrt{\\kappa}\\Gamma[\\frac{1+d\\kappa}{2\\kappa}]}$ if $\\alpha$ = 2"
   ]
  },
  {
   "cell_type": "markdown",
   "metadata": {},
   "source": [
    "Compared to the Z from Multivariate Student-t:\n",
    "\n",
    "Z = $\\frac{|\\Sigma|^{1/2}(df\\pi)^{k/2}\\Gamma[df/2]}{\\Gamma[(df + k)/2]}$"
   ]
  },
  {
   "cell_type": "markdown",
   "metadata": {},
   "source": [
    "Therefore, the Multivariate Coupled Normal PDF is the following:\n",
    "\n",
    "$p(x ; \\mu, \\Sigma, \\kappa, \\alpha) = \\frac{CoupledExpotential([(x−\\mu)^𝑇|Σ|^{−1}(𝑥−\\mu))]^{\\alpha/2}, \\kappa, len(\\mu))^{-1/\\alpha}}{Z(x ; \\mu, \\Sigma, \\kappa, \\alpha, len(\\mu))}$"
   ]
  },
  {
   "cell_type": "markdown",
   "metadata": {},
   "source": [
    "The probability density function (pdf) is:\n",
    "```none\n",
    "\n",
    "pdf(x; loc, Sigma, k, a, d) = coupled_exp(y^(a/2), k, len(loc))^(-1/a) / Z(x; loc, Simga, k, a, d)\n",
    "\n",
    "where:\n",
    "y = inv(Sigma)*(x - loc)\n",
    "Z(x; loc, Simga, k, a, d) = [sqrt(pi) * abs(det(Sigma)) * Gamma((1+(-1+d)*k)/(2*k))] /                                                     [sqrt(k) * Gamma((1+dk)/(2k)]\n",
    " \n",
    "_unnormalized_prob = coupled_exp(y^(a/2))^(-1/a)\n",
    "_unnormalized_prob = coupled_exp((inv(scale)*(x - loc))^(a/2))^(-1/a)\n",
    "\n",
    "_normalization = Z\n",
    "_normalization = [sqrt(pi) * abs(det(scale)) * Gamma((1+(-1+d)*k)/(2*k))] /                                                    [sqrt(k) * Gamma((1+dk)/(2k)]\n",
    "```\n",
    "\n",
    "Therefore:\n",
    "\n",
    "_prob(x; mu, sigma) = _unnormalized_prob / log_normalization"
   ]
  },
  {
   "cell_type": "markdown",
   "metadata": {},
   "source": [
    "Given the existence of the following in the MultivariateCoupledNormal distribution class:\n",
    "\n",
    "- self.loc (self._loc)\n",
    "- self.scale\n",
    "- self.kappa\n",
    "- self.num_dim (equal to len(self.loc))"
   ]
  },
  {
   "cell_type": "code",
   "execution_count": 5,
   "metadata": {},
   "outputs": [],
   "source": [
    "# HAVE NOT TESTED YET\n",
    "\n",
    "def _unnormalized_prob(self, value):\n",
    "    kappa = tf.convert_to_tensor(self.kappa)\n",
    "    value = value - self._loc\n",
    "    value = self.scale.solve(value[..., tf.newaxis])\n",
    "    \n",
    "    num_dims = tf.cast(self.event_shape_tensor()[0], self.dtype)\n",
    "    # mahalanobis is equivalent to y\n",
    "    mahalanobis = tf.norm(value, axis=[-1, -2])\n",
    "    return coupled_exp(mahalanobis^(a/2), kappa, num_dim)^(-1/a)  \n",
    "\n",
    "def _normalization(self):\n",
    "    kappa = tf.convert_to_tensor(self.kappa)\n",
    "    num_dims = tf.cast(self.event_shape_tensor()[0], self.dtype)\n",
    "    # no gamma_difference so have to use Gamma Distribution function\n",
    "    # not sure that this is correct\n",
    "    # also abs_determinant() does not exist so I am only using log_abs_determinant\n",
    "    return (tf.math.sqrt(np.pi)*self.scale.log_abs_determinant()*tfd.gamma((1+(-1+d)*k)/(2*k))) / \\\n",
    "           (tf.math.sqrt(kappa)*tfd.gamma((1+num_dims)/(2*kappa)))\n",
    "\n",
    "def _prob(self, value):\n",
    "    return self._unnormalized_prob(value) - self._normalization()"
   ]
  },
  {
   "cell_type": "markdown",
   "metadata": {},
   "source": [
    "**Log PDF**"
   ]
  },
  {
   "cell_type": "markdown",
   "metadata": {},
   "source": [
    "```\n",
    "log(pdf) = coupled_log(coupled_exp(y^(a/2))^(-1/a) / Z)\n",
    "log(pdf) = coupled_log(coupled_exp(y^(a/2))^(-1/a) - coupled_log(Z)\n",
    "log(pdf) = y^(a/2)^(-1/a) - coupled_log(Z)\n",
    "log(pdf) = y^((a/2)*(-1/a)) - coupled_log(Z)\n",
    "log(pdf) = y^((a/2)*(-1/a)) - coupled_log(Z)\n",
    "log(pdf) = y^(-2) - coupled_log(Z)\n",
    "\n",
    "_log_unnormalized_prob = y^(-2)\n",
    "_log_unnormalized_prob = (inv(Sigma)*(x - loc))^(-2)\n",
    "\n",
    "_log_normalization = coupled_log(Z)\n",
    "_log_normalization = coupled_log([sqrt(pi) * abs(det(Sigma)) * Gamma((1+(-1+d)*k)/(2*k))] /                                                    [sqrt(k) * Gamma((1+dk)/(2k)]\n",
    "                                )\n",
    "_log_normalization = coupled_log(sqrt(pi)) + coupled_log(abs(det(Sigma))) + \n",
    "                     coupled_log(Gamma((1+(-1+d)*k)/(2*k))) - coupled_log(sqrt(ki)) -\n",
    "                     coupled_log(Gamma((1+dk)/(2k)))\n",
    "```\n",
    "\n",
    "Therefore:\n",
    "\n",
    "_log_prob(x; mu, sigma) = _log_unnormalized_prob - _log_normalization"
   ]
  },
  {
   "cell_type": "code",
   "execution_count": 6,
   "metadata": {},
   "outputs": [],
   "source": [
    "# HAVE NOT TESTED YET\n",
    "\n",
    "def _log_unnormalized_prob(self, value):\n",
    "    kappa = tf.convert_to_tensor(self.kappa)\n",
    "    value = value - self._loc\n",
    "    value = self.scale.solve(value[..., tf.newaxis])\n",
    "    # mahalanobis is equivalent to y\n",
    "    mahalanobis = tf.norm(value, axis=[-1, -2])\n",
    "    # Use coupled_log instead of log? If so, does it cancel out coupled_exp?\n",
    "    return mahalanobis^(-2)\n",
    "    \n",
    "def _log_normalization(self):\n",
    "    kappa = tf.convert_to_tensor(self.kappa)\n",
    "    num_dims = tf.cast(self.event_shape_tensor()[0], self.dtype)\n",
    "    # may need to write a coupled function for log_abs_determinant() and log_gamma_difference()\n",
    "    return coupled_log(tf.math.rsqrt(np.pi), kappa, num_dims) + \\\n",
    "           coupled_log(self.scale, kappa, num_dims) + \\\n",
    "           coupled_log(tfd.gamma((1+(-1+num_dims)*kappa)/(2*kappa)), kappa, num_dims) + \\\n",
    "           coupled_log(tf.math.rsqrt(kappa), kappa, num_dims) + \\\n",
    "           coupled_log(tfd.gamma((1+num_dims)/(2*kappa)), kappa, num_dims)\n",
    "\n",
    "    return (tfp_math.log_gamma_difference(num_dims / 2., df / 2.) +\n",
    "            num_dims / 2. * (tf.math.log(df) + np.log(np.pi)) +\n",
    "            self.scale.log_abs_determinant())\n",
    "\n",
    "def _log_prob(self, value):\n",
    "    return self._log_unnormalized_prob(value) - self._log_normalization()"
   ]
  }
 ],
 "metadata": {
  "kernelspec": {
   "display_name": "Python 3.7",
   "language": "python",
   "name": "py3.7"
  },
  "language_info": {
   "codemirror_mode": {
    "name": "ipython",
    "version": 3
   },
   "file_extension": ".py",
   "mimetype": "text/x-python",
   "name": "python",
   "nbconvert_exporter": "python",
   "pygments_lexer": "ipython3",
   "version": "3.7.6"
  }
 },
 "nbformat": 4,
 "nbformat_minor": 4
}
