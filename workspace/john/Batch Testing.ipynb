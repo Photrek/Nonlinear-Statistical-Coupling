{
 "cells": [
  {
   "cell_type": "code",
   "execution_count": 1,
   "metadata": {},
   "outputs": [],
   "source": [
    "#!pip install -i https://test.pypi.org/simple/ nsc-test"
   ]
  },
  {
   "cell_type": "markdown",
   "metadata": {},
   "source": [
    "# Setting up"
   ]
  },
  {
   "cell_type": "code",
   "execution_count": 2,
   "metadata": {},
   "outputs": [
    {
     "name": "stdout",
     "output_type": "stream",
     "text": [
      "Importing NSC lib v0.0.0.12.\n"
     ]
    }
   ],
   "source": [
    "import nsc_test\n",
    "import numpy as np\n",
    "from nsc_test.distributions import MultivariateCoupledNormal\n",
    "from nsc_test.math.entropy import importance_sampling_integrator\n",
    "from nsc_test.math.entropy_norm import coupled_normal_entropy, biased_coupled_probability_norm, coupled_probability_norm, coupled_cross_entropy_norm, coupled_entropy_norm, coupled_kl_divergence_norm\n",
    "import ipdb"
   ]
  },
  {
   "cell_type": "code",
   "execution_count": 3,
   "metadata": {},
   "outputs": [],
   "source": [
    "# Set the locs.\n",
    "loc = np.array([[0, 0,],\n",
    "                [100, -100],\n",
    "                [-10, 5]])\n",
    "# Set the scales.\n",
    "scale = np.array([[1, 1],\n",
    "                  [10, 10],\n",
    "                  [1, 1]])\n",
    "\n",
    "# Find the number of batches.\n",
    "n_batches = loc.shape[0]\n",
    "\n",
    "# Set the kappa.\n",
    "kappa = 0.0\n",
    "\n",
    "# Initialize a MultivariateCoupledNormal object.\n",
    "mvn = MultivariateCoupledNormal(loc=loc, scale=scale, kappa=kappa)"
   ]
  },
  {
   "cell_type": "code",
   "execution_count": 4,
   "metadata": {},
   "outputs": [
    {
     "data": {
      "text/plain": [
       "array([  6.28318531, 628.31853072,   6.28318531])"
      ]
     },
     "execution_count": 4,
     "metadata": {},
     "output_type": "execute_result"
    }
   ],
   "source": [
    "mvn._norm_term"
   ]
  },
  {
   "cell_type": "code",
   "execution_count": 5,
   "metadata": {},
   "outputs": [
    {
     "data": {
      "text/plain": [
       "2"
      ]
     },
     "execution_count": 5,
     "metadata": {},
     "output_type": "execute_result"
    }
   ],
   "source": [
    "mvn._alpha"
   ]
  },
  {
   "cell_type": "code",
   "execution_count": 6,
   "metadata": {},
   "outputs": [
    {
     "data": {
      "text/plain": [
       "array([[[  1.,   0.],\n",
       "        [  0.,   1.]],\n",
       "\n",
       "       [[100.,   0.],\n",
       "        [  0., 100.]],\n",
       "\n",
       "       [[  1.,   0.],\n",
       "        [  0.,   1.]]])"
      ]
     },
     "execution_count": 6,
     "metadata": {},
     "output_type": "execute_result"
    }
   ],
   "source": [
    "mvn._sigma"
   ]
  },
  {
   "cell_type": "markdown",
   "metadata": {},
   "source": [
    "# Testing `sample_n`"
   ]
  },
  {
   "cell_type": "code",
   "execution_count": 7,
   "metadata": {},
   "outputs": [
    {
     "name": "stdout",
     "output_type": "stream",
     "text": [
      "Expected dimensions of samples: (3, 10000, 2)\n",
      "Actual dimensions of samples: (3, 10000, 2)\n"
     ]
    }
   ],
   "source": [
    "# Set the number of samples per batched distribution.\n",
    "n = 10000\n",
    "# Sample n observations from each batched distribution.\n",
    "samples = mvn.sample_n(n)\n",
    "\n",
    "print(f\"Expected dimensions of samples: {loc.shape[0], n, loc.shape[1]}\")\n",
    "print(f\"Actual dimensions of samples: {samples.shape}\")"
   ]
  },
  {
   "cell_type": "code",
   "execution_count": 8,
   "metadata": {},
   "outputs": [
    {
     "name": "stdout",
     "output_type": "stream",
     "text": [
      "Mean of distribution 1: (0, 0)\n",
      "Mean of samples from distribution 1: (0.011142822943237221, 0.0028365527187925576)\n",
      "Std. Dev. of distribution 1: (1, 1)\n",
      "Std. Dev. of samples from distribution 1: (1.002981886357961, 0.9938558556578055)\n",
      "\n",
      "\n",
      "Mean of distribution 1: (100, -100)\n",
      "Mean of samples from distribution 1: (100.11641411855712, -99.85123102862796)\n",
      "Std. Dev. of distribution 1: (10, 10)\n",
      "Std. Dev. of samples from distribution 1: (10.04510115902579, 9.955055637569425)\n",
      "\n",
      "\n",
      "Mean of distribution 1: (-10, 5)\n",
      "Mean of samples from distribution 1: (-9.994998623242015, 4.997088335312829)\n",
      "Std. Dev. of distribution 1: (1, 1)\n",
      "Std. Dev. of samples from distribution 1: (1.0023085976262964, 0.9838608193023022)\n",
      "\n",
      "\n"
     ]
    }
   ],
   "source": [
    "for i in range(n_batches):\n",
    "    print(f\"Mean of distribution 1: {tuple(loc[i])}\")\n",
    "    print(f\"Mean of samples from distribution 1: {tuple(samples[i].mean(axis=0))}\")\n",
    "    print(f\"Std. Dev. of distribution 1: {tuple(scale[i])}\")\n",
    "    print(f\"Std. Dev. of samples from distribution 1: {tuple(samples[i].std(axis=0))}\")\n",
    "    print(\"\\n\")"
   ]
  },
  {
   "cell_type": "markdown",
   "metadata": {},
   "source": [
    "# Testing `prob` with no batches (single distribution)"
   ]
  },
  {
   "cell_type": "code",
   "execution_count": 9,
   "metadata": {},
   "outputs": [
    {
     "name": "stdout",
     "output_type": "stream",
     "text": [
      "Shape of samples: (1, 100, 1, 1)\n",
      "The densities from the Coupled MVN and SciPy MVN are close: True\n"
     ]
    }
   ],
   "source": [
    "from scipy.stats import multivariate_normal\n",
    "\n",
    "# Set the locs.\n",
    "loc_1a = np.array([loc[0]])\n",
    "# Set the scales.\n",
    "scale_1a =  np.array([scale[0]])\n",
    "\n",
    "# Initialize a MultivariateCoupledNormal object.\n",
    "mvn_1a = MultivariateCoupledNormal(loc=loc_1a, scale=scale_1a, kappa=kappa)\n",
    "# Initialize a scipy multivariate_normal object.\n",
    "mvn_scipy_1a = multivariate_normal(loc_1a[0], scale_1a[0]**2)\n",
    "\n",
    "# Set the number of samples.\n",
    "n = 100\n",
    "# Sample n observations from the distribution.\n",
    "samples_1a = mvn_1a.sample_n(n)\n",
    "\n",
    "# Get the probability densities from MVN object.\n",
    "mvn_probs_1a = mvn_1a.prob(samples_1a)\n",
    "print(f\"Shape of samples: {mvn_probs_1a.shape}\")\n",
    "# Reshape them to match the scipy's distribution output.\n",
    "mvn_probs_1a = mvn_1a.prob(samples_1a).reshape(-1,)\n",
    "\n",
    "# Get the probability densities from scipy object.\n",
    "scipy_probs_1a = mvn_scipy_1a.pdf(samples_1a)\n",
    "\n",
    "print(f\"The densities from the Coupled MVN and SciPy MVN are close: {np.allclose(mvn_probs_1a, scipy_probs_1a)}\")"
   ]
  },
  {
   "cell_type": "code",
   "execution_count": 10,
   "metadata": {},
   "outputs": [
    {
     "name": "stdout",
     "output_type": "stream",
     "text": [
      "Shape of samples: (1, 100, 1, 1)\n",
      "The densities from the Coupled MVN and SciPy MVN are close: True\n"
     ]
    }
   ],
   "source": [
    "# Set the locs.\n",
    "loc_1b = np.array([loc[1]])\n",
    "# Set the scales.\n",
    "scale_1b = np.array([scale[1]])\n",
    "\n",
    "# Initialize a MultivariateCoupledNormal object.\n",
    "mvn_1b = MultivariateCoupledNormal(loc=loc_1b, scale=scale_1b, kappa=kappa)\n",
    "# Initialize a scipy multivariate_normal object.\n",
    "mvn_scipy_1b = multivariate_normal(loc_1b[0], scale_1b[0]**2)\n",
    "\n",
    "# Set the number of samples.\n",
    "n = 100\n",
    "# Sample n observations from the distribution.\n",
    "samples_1b = mvn_1b.sample_n(n)\n",
    "\n",
    "# Get the probability densities from MVN object.\n",
    "mvn_probs_1b = mvn_1b.prob(samples_1b)\n",
    "print(f\"Shape of samples: {mvn_probs_1b.shape}\")\n",
    "# Reshape them to match the scipy's distribution output.\n",
    "mvn_probs_1b = mvn_1b.prob(samples_1b).reshape(-1,)\n",
    "\n",
    "# Get the probability densities from scipy object.\n",
    "scipy_probs_1b = mvn_scipy_1b.pdf(samples_1b)\n",
    "\n",
    "print(f\"The densities from the Coupled MVN and SciPy MVN are close: {np.allclose(mvn_probs_1b, scipy_probs_1b)}\")"
   ]
  },
  {
   "cell_type": "code",
   "execution_count": 11,
   "metadata": {},
   "outputs": [
    {
     "name": "stderr",
     "output_type": "stream",
     "text": [
      "C:\\Users\\jkcle\\anaconda3\\lib\\site-packages\\nsc_test\\math\\function.py:69: RuntimeWarning: overflow encountered in exp\n",
      "  coupled_exp_value = np.exp(value)\n"
     ]
    },
    {
     "data": {
      "text/plain": [
       "(array([0.00087815, 0.00066902, 0.00015542, 0.00120818, 0.00105897]),\n",
       " array([0.00087815, 0.00066902, 0.00015542, 0.00120818, 0.00105897]))"
      ]
     },
     "execution_count": 11,
     "metadata": {},
     "output_type": "execute_result"
    }
   ],
   "source": [
    "mvn.prob(samples_1b)[1].reshape(-1,)[0:5], mvn_scipy_1b.pdf(samples_1b)[0:5]"
   ]
  },
  {
   "cell_type": "code",
   "execution_count": 12,
   "metadata": {},
   "outputs": [
    {
     "data": {
      "text/plain": [
       "(array([0.07147551, 0.02019801, 0.0190083 , 0.12879616, 0.00334562]),\n",
       " array([0.07147551, 0.02019801, 0.0190083 , 0.12879616, 0.00334562]))"
      ]
     },
     "execution_count": 12,
     "metadata": {},
     "output_type": "execute_result"
    }
   ],
   "source": [
    "mvn_probs_1a[0:5], scipy_probs_1a[0:5]"
   ]
  },
  {
   "cell_type": "code",
   "execution_count": 13,
   "metadata": {},
   "outputs": [
    {
     "data": {
      "text/plain": [
       "(array([0.00087815, 0.00066902, 0.00015542, 0.00120818, 0.00105897]),\n",
       " array([0.00087815, 0.00066902, 0.00015542, 0.00120818, 0.00105897]))"
      ]
     },
     "execution_count": 13,
     "metadata": {},
     "output_type": "execute_result"
    }
   ],
   "source": [
    "mvn_probs_1b[0:5], scipy_probs_1b[0:5]"
   ]
  },
  {
   "cell_type": "code",
   "execution_count": 14,
   "metadata": {},
   "outputs": [
    {
     "name": "stderr",
     "output_type": "stream",
     "text": [
      "C:\\Users\\jkcle\\anaconda3\\lib\\site-packages\\nsc_test\\math\\function.py:69: RuntimeWarning: overflow encountered in exp\n",
      "  coupled_exp_value = np.exp(value)\n"
     ]
    }
   ],
   "source": [
    "import matplotlib.pyplot as plt\n",
    "from mpl_toolkits.mplot3d import Axes3D\n",
    "\n",
    "plotting_samples = mvn.sample_n(n=100)[1]\n",
    "\n",
    "x, y = plotting_samples[:,0], plotting_samples[:,1]\n",
    "z_mvn = mvn.prob(plotting_samples)[1]\n",
    "z_mvn = z_mvn.reshape(-1,)\n",
    "z_scipy = mvn_scipy_1b.pdf(plotting_samples).reshape(z_mvn.shape[0],1)"
   ]
  },
  {
   "cell_type": "code",
   "execution_count": 15,
   "metadata": {},
   "outputs": [],
   "source": [
    "def surface_plot(X,Y,Z,**kwargs):\n",
    "    \"\"\" WRITE DOCUMENTATION\n",
    "    \"\"\"\n",
    "    xlabel, ylabel, zlabel, title = kwargs.get('x',\"\"), kwargs.get('y',\"\"), kwargs.get('Density',\"\"), kwargs.get('title',\"\")\n",
    "    fig = plt.figure()\n",
    "    fig.patch.set_facecolor('white')\n",
    "    ax = fig.add_subplot(111, projection='3d')\n",
    "    ax.plot_surface(X,Y,Z)\n",
    "    ax.set_xlabel(xlabel)\n",
    "    ax.set_ylabel(ylabel)\n",
    "    ax.set_zlabel(zlabel)\n",
    "    ax.set_title(title)\n",
    "    plt.show()\n",
    "    plt.close()"
   ]
  },
  {
   "cell_type": "code",
   "execution_count": 16,
   "metadata": {},
   "outputs": [],
   "source": [
    "#surface_plot(x, y, z_mvn)"
   ]
  },
  {
   "cell_type": "code",
   "execution_count": 17,
   "metadata": {},
   "outputs": [],
   "source": [
    "#surface_plot(x, y, z_scipy)"
   ]
  },
  {
   "cell_type": "code",
   "execution_count": 18,
   "metadata": {},
   "outputs": [
    {
     "data": {
      "image/png": "[encoded data removed]",
      "text/plain": [
       "<Figure size 432x288 with 1 Axes>"
      ]
     },
     "metadata": {
      "needs_background": "light"
     },
     "output_type": "display_data"
    }
   ],
   "source": [
    "plt.scatter(x, y,\n",
    "           color=\"blue\", alpha=0.1)\n",
    "plt.show()"
   ]
  },
  {
   "cell_type": "markdown",
   "metadata": {},
   "source": [
    "# Testing `prob` with batches (multiple distributions)"
   ]
  },
  {
   "cell_type": "code",
   "execution_count": 19,
   "metadata": {},
   "outputs": [
    {
     "name": "stdout",
     "output_type": "stream",
     "text": [
      "The densities from the Coupled MVN and SciPy MVN are close: True\n",
      "\n",
      "\n",
      "The densities from the Coupled MVN and SciPy MVN are close: True\n",
      "\n",
      "\n",
      "The densities from the Coupled MVN and SciPy MVN are close: True\n",
      "\n",
      "\n"
     ]
    }
   ],
   "source": [
    "mvn_probs = mvn.prob(samples)\n",
    "\n",
    "# Loop through the \n",
    "for i in range(n_batches):\n",
    "    # Get the i-th distributions sample densities and reshape them to be 1-D.\n",
    "    dist_1_probs = mvn_probs[i].reshape(-1,)\n",
    "    # Initialize a scipy multivariate_normal object.\n",
    "    mvn_scipy_1 = multivariate_normal(loc[i], scale[i]**2)\n",
    "    # Get the probability densities from scipy object.\n",
    "    scipy_probs_1 = mvn_scipy_1.pdf(samples[i])\n",
    "    \n",
    "    print(f\"The densities from the Coupled MVN and SciPy MVN are close: {np.allclose(dist_1_probs, scipy_probs_1)}\")\n",
    "    print(\"\\n\")"
   ]
  },
  {
   "cell_type": "markdown",
   "metadata": {},
   "source": [
    "# `importance_sampling_integrator`"
   ]
  },
  {
   "cell_type": "code",
   "execution_count": 20,
   "metadata": {},
   "outputs": [
    {
     "data": {
      "text/plain": [
       "array([[[1.]],\n",
       "\n",
       "       [[1.]],\n",
       "\n",
       "       [[1.]]])"
      ]
     },
     "execution_count": 20,
     "metadata": {},
     "output_type": "execute_result"
    }
   ],
   "source": [
    "importance_sampling_integrator(mvn.prob, mvn.prob, mvn.sample_n, n=10000, seed=1)"
   ]
  },
  {
   "cell_type": "code",
   "execution_count": 21,
   "metadata": {},
   "outputs": [
    {
     "data": {
      "text/plain": [
       "array([[[1.]]])"
      ]
     },
     "execution_count": 21,
     "metadata": {},
     "output_type": "execute_result"
    }
   ],
   "source": [
    "importance_sampling_integrator(mvn_1b.prob, mvn_1b.prob, mvn_1b.sample_n, n=10000, seed=1)"
   ]
  },
  {
   "cell_type": "code",
   "execution_count": 22,
   "metadata": {},
   "outputs": [
    {
     "data": {
      "text/plain": [
       "array([[[9.95415464e-44]],\n",
       "\n",
       "       [[1.00000000e+00]],\n",
       "\n",
       "       [[1.54742614e-50]]])"
      ]
     },
     "execution_count": 22,
     "metadata": {},
     "output_type": "execute_result"
    }
   ],
   "source": [
    "importance_sampling_integrator(mvn_1b.prob, mvn.prob, mvn.sample_n, n=10000, seed=1)"
   ]
  },
  {
   "cell_type": "code",
   "execution_count": 23,
   "metadata": {},
   "outputs": [
    {
     "name": "stderr",
     "output_type": "stream",
     "text": [
      "C:\\Users\\jkcle\\anaconda3\\lib\\site-packages\\nsc_test\\math\\entropy.py:37: RuntimeWarning: divide by zero encountered in true_divide\n",
      "  sampled_values = function(samples) / pdf(samples)\n"
     ]
    },
    {
     "data": {
      "text/plain": [
       "array([[[1.00000000e+00]],\n",
       "\n",
       "       [[           inf]],\n",
       "\n",
       "       [[6.58155208e+44]]])"
      ]
     },
     "execution_count": 23,
     "metadata": {},
     "output_type": "execute_result"
    }
   ],
   "source": [
    "importance_sampling_integrator(mvn.prob, mvn_1a.prob, mvn.sample_n, n=10000, seed=1)"
   ]
  },
  {
   "cell_type": "markdown",
   "metadata": {},
   "source": [
    "# `coupled_normal_entropy`"
   ]
  },
  {
   "cell_type": "code",
   "execution_count": 24,
   "metadata": {},
   "outputs": [],
   "source": [
    "#coupled_normal_entropy(mvn._sigma, kappa=0.0)"
   ]
  },
  {
   "cell_type": "code",
   "execution_count": 25,
   "metadata": {},
   "outputs": [],
   "source": [
    "#coupled_normal_entropy(mvn._sigma, kappa=0.003)"
   ]
  },
  {
   "cell_type": "code",
   "execution_count": 26,
   "metadata": {},
   "outputs": [],
   "source": [
    "#mvn._sigma"
   ]
  },
  {
   "cell_type": "code",
   "execution_count": 27,
   "metadata": {},
   "outputs": [],
   "source": [
    "#0.5 * np.log((2*np.pi*np.exp(1)) ** mvn.loc[0].shape[0] * np.linalg.det(mvn._sigma[0]))"
   ]
  },
  {
   "cell_type": "markdown",
   "metadata": {},
   "source": [
    "# `biased_coupled_probability_norm`"
   ]
  },
  {
   "cell_type": "code",
   "execution_count": 28,
   "metadata": {},
   "outputs": [
    {
     "name": "stdout",
     "output_type": "stream",
     "text": [
      "[[   0    0]\n",
      " [ 100 -100]\n",
      " [ -10    5]]\n",
      "[[[ 0.85714286  0.        ]\n",
      "  [ 0.          0.85714286]]\n",
      "\n",
      " [[85.71428571  0.        ]\n",
      "  [ 0.         85.71428571]]\n",
      "\n",
      " [[ 0.85714286  0.        ]\n",
      "  [ 0.          0.85714286]]]\n",
      "0.0\n"
     ]
    }
   ],
   "source": [
    "new_mvn = biased_coupled_probability_norm(mvn, kappa=0.1, alpha=2)\n",
    "\n",
    "print(new_mvn.loc)\n",
    "print(new_mvn._sigma)\n",
    "print(new_mvn.kappa)"
   ]
  },
  {
   "cell_type": "code",
   "execution_count": 29,
   "metadata": {},
   "outputs": [],
   "source": [
    "new_mvn_samples = new_mvn.sample_n(100)"
   ]
  },
  {
   "cell_type": "markdown",
   "metadata": {},
   "source": [
    "# `coupled_probability_norm`"
   ]
  },
  {
   "cell_type": "code",
   "execution_count": 30,
   "metadata": {},
   "outputs": [
    {
     "data": {
      "text/plain": [
       "True"
      ]
     },
     "execution_count": 30,
     "metadata": {},
     "output_type": "execute_result"
    }
   ],
   "source": [
    "new_mvn_pdf = coupled_probability_norm(mvn, kappa=0.1, alpha=2.0)\n",
    "\n",
    "np.all(new_mvn_pdf(new_mvn_samples) == new_mvn.prob(new_mvn_samples))"
   ]
  },
  {
   "cell_type": "markdown",
   "metadata": {},
   "source": [
    "# `coupled_cross_entropy_norm`"
   ]
  },
  {
   "cell_type": "code",
   "execution_count": 31,
   "metadata": {},
   "outputs": [
    {
     "data": {
      "text/plain": [
       "array([[[2.85047335]],\n",
       "\n",
       "       [[7.45423506]],\n",
       "\n",
       "       [[2.86138521]]])"
      ]
     },
     "execution_count": 31,
     "metadata": {},
     "output_type": "execute_result"
    }
   ],
   "source": [
    "coupled_cross_entropy_norm(\n",
    "    mvn,\n",
    "    new_mvn,\n",
    "    kappa=0.0, \n",
    "    alpha=2.0, \n",
    "    root=False,\n",
    "    n=10000,\n",
    "    seed=1\n",
    ")"
   ]
  },
  {
   "cell_type": "markdown",
   "metadata": {},
   "source": [
    "# `coupled_entropy_norm`"
   ]
  },
  {
   "cell_type": "code",
   "execution_count": 32,
   "metadata": {},
   "outputs": [
    {
     "data": {
      "text/plain": [
       "array([[[2.83794589]],\n",
       "\n",
       "       [[7.44190881]],\n",
       "\n",
       "       [[2.84729892]]])"
      ]
     },
     "execution_count": 32,
     "metadata": {},
     "output_type": "execute_result"
    }
   ],
   "source": [
    "coupled_entropy_norm(\n",
    "    mvn,\n",
    "    kappa=0.0, \n",
    "    alpha=2.0, \n",
    "    root=False,\n",
    "    n=10000,\n",
    "    seed=1\n",
    ")"
   ]
  },
  {
   "cell_type": "code",
   "execution_count": 33,
   "metadata": {},
   "outputs": [
    {
     "data": {
      "text/plain": [
       "array([[[2.83787707]],\n",
       "\n",
       "       [[7.44304725]],\n",
       "\n",
       "       [[2.83787707]]])"
      ]
     },
     "execution_count": 33,
     "metadata": {},
     "output_type": "execute_result"
    }
   ],
   "source": [
    "true_entropies = [\n",
    "    0.5 * np.log((2*np.pi*np.exp(1)) ** mvn.loc[i].shape[0] * np.linalg.det(mvn._sigma[i])) for i in range(mvn._batch_shape[0])\n",
    "]\n",
    "true_entropies = np.array(true_entropies)\n",
    "true_entropies.reshape(mvn._batch_shape[0], 1, 1)"
   ]
  },
  {
   "cell_type": "markdown",
   "metadata": {},
   "source": [
    "# `coupled_kl_divergence_norm`"
   ]
  },
  {
   "cell_type": "code",
   "execution_count": 34,
   "metadata": {},
   "outputs": [
    {
     "data": {
      "text/plain": [
       "array([[[0.01252746]],\n",
       "\n",
       "       [[0.01232625]],\n",
       "\n",
       "       [[0.0140863 ]]])"
      ]
     },
     "execution_count": 34,
     "metadata": {},
     "output_type": "execute_result"
    }
   ],
   "source": [
    "coupled_kl_divergence_norm(\n",
    "    mvn, \n",
    "    new_mvn, \n",
    "    kappa=0.0, \n",
    "    alpha=2.0, \n",
    "    root=False,\n",
    "    n=10000,\n",
    "    seed=1\n",
    ")"
   ]
  },
  {
   "cell_type": "code",
   "execution_count": 35,
   "metadata": {},
   "outputs": [
    {
     "data": {
      "text/plain": [
       "array([[[0.]],\n",
       "\n",
       "       [[0.]],\n",
       "\n",
       "       [[0.]]])"
      ]
     },
     "execution_count": 35,
     "metadata": {},
     "output_type": "execute_result"
    }
   ],
   "source": [
    "coupled_kl_divergence_norm(\n",
    "    mvn, \n",
    "    mvn, \n",
    "    kappa=0.0, \n",
    "    alpha=2.0, \n",
    "    root=False,\n",
    "    n=10000,\n",
    "    seed=1\n",
    ")"
   ]
  },
  {
   "cell_type": "code",
   "execution_count": 36,
   "metadata": {},
   "outputs": [
    {
     "data": {
      "text/plain": [
       "array([[[0.]],\n",
       "\n",
       "       [[0.]],\n",
       "\n",
       "       [[0.]]])"
      ]
     },
     "execution_count": 36,
     "metadata": {},
     "output_type": "execute_result"
    }
   ],
   "source": [
    "coupled_kl_divergence_norm(\n",
    "    new_mvn, \n",
    "    new_mvn, \n",
    "    kappa=0.0, \n",
    "    alpha=2.0, \n",
    "    root=False,\n",
    "    n=10000,\n",
    "    seed=1\n",
    ")"
   ]
  }
 ],
 "metadata": {
  "kernelspec": {
   "display_name": "Python 3",
   "language": "python",
   "name": "python3"
  },
  "language_info": {
   "codemirror_mode": {
    "name": "ipython",
    "version": 3
   },
   "file_extension": ".py",
   "mimetype": "text/x-python",
   "name": "python",
   "nbconvert_exporter": "python",
   "pygments_lexer": "ipython3",
   "version": "3.8.5"
  }
 },
 "nbformat": 4,
 "nbformat_minor": 4
}
