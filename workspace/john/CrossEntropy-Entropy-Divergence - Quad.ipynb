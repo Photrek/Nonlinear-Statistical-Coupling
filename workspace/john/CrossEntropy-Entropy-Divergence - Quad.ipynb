{
 "cells": [
  {
   "cell_type": "markdown",
   "metadata": {},
   "source": [
    "# Testing the *CoupledNormal* class"
   ]
  },
  {
   "cell_type": "code",
   "execution_count": 1,
   "metadata": {},
   "outputs": [],
   "source": [
    "import sys\n",
    "# insert at 1, 0 is the script path (or '' in REPL)\n",
    "path = r'C:\\Users\\jkcle\\Documents\\GitHub\\Nonlinear-Statistical-Coupling\\nsc\\util'\n",
    "sys.path.insert(1, path)\n",
    "import function as f\n",
    "\n",
    "import function_john as fj\n",
    "\n",
    "import coupled_probability_quad_int as cpqi\n",
    "import function as func\n",
    "import numpy as np\n",
    "from datetime import datetime\n",
    "import matplotlib.pyplot as plt\n",
    "\n",
    "# Define the loc, scale, alpha, and kappas that will be used for all distributions.\n",
    "loc, scale = 0, 1\n",
    "alpha = 2\n",
    "\n",
    "coupled_normal = fj.CoupledNormal(loc=loc,\n",
    "                                  scale=scale,\n",
    "                                  kappa=0,\n",
    "                                  alpha=alpha)\n",
    "\n",
    "other_coupled_normal = fj.CoupledNormal(loc=loc,\n",
    "                                        scale=scale,\n",
    "                                        kappa=0.1,\n",
    "                                        alpha=alpha)\n",
    "\n",
    "dim = 1\n",
    "support = (-np.inf, np.inf)"
   ]
  },
  {
   "cell_type": "markdown",
   "metadata": {},
   "source": [
    "# Testing the *coupled_cross_entropy* function"
   ]
  },
  {
   "cell_type": "code",
   "execution_count": 2,
   "metadata": {},
   "outputs": [
    {
     "name": "stderr",
     "output_type": "stream",
     "text": [
      "C:\\Users\\jkcle\\Documents\\GitHub\\Nonlinear-Statistical-Coupling\\workspace\\john\\function_john.py:151: RuntimeWarning: overflow encountered in exp\n",
      "  coupled_exp_value = np.exp(values)\n"
     ]
    },
    {
     "data": {
      "text/plain": [
       "1.4301347991968971"
      ]
     },
     "execution_count": 2,
     "metadata": {},
     "output_type": "execute_result"
    }
   ],
   "source": [
    "cpqi.coupled_cross_entropy(coupled_normal.prob, \n",
    "                           other_coupled_normal.prob, \n",
    "                           kappa=0, \n",
    "                           alpha=alpha, \n",
    "                           dim=dim, \n",
    "                           support=support,\n",
    "                           root=False)"
   ]
  },
  {
   "cell_type": "code",
   "execution_count": 3,
   "metadata": {},
   "outputs": [
    {
     "data": {
      "text/plain": [
       "1.6603613132872717"
      ]
     },
     "execution_count": 3,
     "metadata": {},
     "output_type": "execute_result"
    }
   ],
   "source": [
    "cpqi.coupled_cross_entropy(coupled_normal.prob, \n",
    "                           other_coupled_normal.prob, \n",
    "                           kappa=0, \n",
    "                           alpha=alpha, \n",
    "                           dim=dim, \n",
    "                           support=support,\n",
    "                           root=True)"
   ]
  },
  {
   "cell_type": "markdown",
   "metadata": {},
   "source": [
    "# Testing the *coupled_entropy* function"
   ]
  },
  {
   "cell_type": "code",
   "execution_count": 4,
   "metadata": {},
   "outputs": [
    {
     "name": "stderr",
     "output_type": "stream",
     "text": [
      "C:\\Users\\jkcle\\Documents\\GitHub\\Nonlinear-Statistical-Coupling\\workspace\\john\\coupled_probability_quad_int.py:98: RuntimeWarning: divide by zero encountered in double_scalars\n",
      "  return density_func_q(x)**(-alpha)\n",
      "C:\\Users\\jkcle\\Documents\\GitHub\\Nonlinear-Statistical-Coupling\\workspace\\john\\coupled_probability_quad_int.py:103: RuntimeWarning: invalid value encountered in double_scalars\n",
      "  return (my_coupled_probability(x)\n",
      "C:\\Users\\jkcle\\Documents\\GitHub\\Nonlinear-Statistical-Coupling\\workspace\\john\\coupled_probability_quad_int.py:112: IntegrationWarning: The occurrence of roundoff error is detected, which prevents \n",
      "  the requested tolerance from being achieved.  The error may be \n",
      "  underestimated.\n",
      "  final_integration = -quad(no_root_coupled_cross_entropy,\n"
     ]
    },
    {
     "data": {
      "text/plain": [
       "nan"
      ]
     },
     "execution_count": 4,
     "metadata": {},
     "output_type": "execute_result"
    }
   ],
   "source": [
    "cpqi.coupled_entropy(coupled_normal.prob, \n",
    "                     kappa=0, \n",
    "                     alpha=alpha, \n",
    "                     dim=dim, \n",
    "                     support=support,\n",
    "                     root=False)"
   ]
  },
  {
   "cell_type": "code",
   "execution_count": 5,
   "metadata": {},
   "outputs": [
    {
     "name": "stderr",
     "output_type": "stream",
     "text": [
      "C:\\Users\\jkcle\\Documents\\GitHub\\Nonlinear-Statistical-Coupling\\workspace\\john\\coupled_probability_quad_int.py:125: RuntimeWarning: invalid value encountered in double_scalars\n",
      "  return (my_coupled_probability(x)\n",
      "C:\\Users\\jkcle\\Documents\\GitHub\\Nonlinear-Statistical-Coupling\\workspace\\john\\coupled_probability_quad_int.py:133: IntegrationWarning: The occurrence of roundoff error is detected, which prevents \n",
      "  the requested tolerance from being achieved.  The error may be \n",
      "  underestimated.\n",
      "  final_integration = quad(root_coupled_cross_entropy,\n"
     ]
    },
    {
     "data": {
      "text/plain": [
       "nan"
      ]
     },
     "execution_count": 5,
     "metadata": {},
     "output_type": "execute_result"
    }
   ],
   "source": [
    "cpqi.coupled_entropy(coupled_normal.prob, \n",
    "                     kappa=0, \n",
    "                     alpha=alpha, \n",
    "                     dim=dim, \n",
    "                     support=support,\n",
    "                     root=True)"
   ]
  },
  {
   "cell_type": "code",
   "execution_count": 6,
   "metadata": {},
   "outputs": [
    {
     "data": {
      "text/plain": [
       "1.5212624929756797"
      ]
     },
     "execution_count": 6,
     "metadata": {},
     "output_type": "execute_result"
    }
   ],
   "source": [
    "cpqi.coupled_entropy(other_coupled_normal.prob, \n",
    "                     kappa=0, \n",
    "                     alpha=alpha, \n",
    "                     dim=dim, \n",
    "                     support=support,\n",
    "                     root=False)"
   ]
  },
  {
   "cell_type": "code",
   "execution_count": 7,
   "metadata": {},
   "outputs": [
    {
     "data": {
      "text/plain": [
       "1.7002427202587915"
      ]
     },
     "execution_count": 7,
     "metadata": {},
     "output_type": "execute_result"
    }
   ],
   "source": [
    "cpqi.coupled_entropy(other_coupled_normal.prob, \n",
    "                     kappa=0, \n",
    "                     alpha=alpha, \n",
    "                     dim=dim, \n",
    "                     support=support,\n",
    "                     root=True)"
   ]
  },
  {
   "cell_type": "markdown",
   "metadata": {},
   "source": [
    "# Testing the *coupled_divergence* function"
   ]
  },
  {
   "cell_type": "code",
   "execution_count": 8,
   "metadata": {},
   "outputs": [
    {
     "data": {
      "text/plain": [
       "nan"
      ]
     },
     "execution_count": 8,
     "metadata": {},
     "output_type": "execute_result"
    }
   ],
   "source": [
    "cpqi.coupled_divergence(coupled_normal.prob, \n",
    "                        other_coupled_normal.prob, \n",
    "                        kappa=0, \n",
    "                        alpha=alpha, \n",
    "                        dim=dim, \n",
    "                        support=support,\n",
    "                        root=False)"
   ]
  },
  {
   "cell_type": "code",
   "execution_count": 9,
   "metadata": {},
   "outputs": [
    {
     "data": {
      "text/plain": [
       "nan"
      ]
     },
     "execution_count": 9,
     "metadata": {},
     "output_type": "execute_result"
    }
   ],
   "source": [
    "cpqi.coupled_divergence(coupled_normal.prob, \n",
    "                        other_coupled_normal.prob, \n",
    "                        kappa=0, \n",
    "                        alpha=alpha, \n",
    "                        dim=dim, \n",
    "                        support=support,\n",
    "                        root=True)"
   ]
  },
  {
   "cell_type": "code",
   "execution_count": 10,
   "metadata": {},
   "outputs": [
    {
     "data": {
      "text/plain": [
       "inf"
      ]
     },
     "execution_count": 10,
     "metadata": {},
     "output_type": "execute_result"
    }
   ],
   "source": [
    "cpqi.coupled_divergence(other_coupled_normal.prob, \n",
    "                        coupled_normal.prob, \n",
    "                        kappa=1, \n",
    "                        alpha=alpha, \n",
    "                        dim=dim, \n",
    "                        support=support,\n",
    "                        root=False)"
   ]
  },
  {
   "cell_type": "code",
   "execution_count": 11,
   "metadata": {},
   "outputs": [
    {
     "data": {
      "text/plain": [
       "inf"
      ]
     },
     "execution_count": 11,
     "metadata": {},
     "output_type": "execute_result"
    }
   ],
   "source": [
    "cpqi.coupled_divergence(other_coupled_normal.prob, \n",
    "                        coupled_normal.prob, \n",
    "                        kappa=1, \n",
    "                        alpha=alpha, \n",
    "                        dim=dim, \n",
    "                        support=support,\n",
    "                        root=True)"
   ]
  },
  {
   "cell_type": "markdown",
   "metadata": {},
   "source": [
    "# Plotting the *coupled_entropy* function"
   ]
  },
  {
   "cell_type": "code",
   "execution_count": 12,
   "metadata": {},
   "outputs": [],
   "source": [
    "from scipy.integrate import quad\n",
    "from mpmath import nsum\n",
    "\n",
    "def shannon_entropy(density_func, support=(-np.inf, np.inf), continuous=True):\n",
    "    def density_func_entropy(x):\n",
    "        return density_func(x) * np.log(density_func(x))\n",
    "    if continuous:\n",
    "        entropy = -quad(density_func_entropy, a=support[0], b=support[1])[0]\n",
    "    else:\n",
    "        entropy = np.float64(nsum(density_func_entropy, support))\n",
    "    return "
   ]
  },
  {
   "cell_type": "code",
   "execution_count": null,
   "metadata": {},
   "outputs": [
    {
     "name": "stderr",
     "output_type": "stream",
     "text": [
      "  0%|          | 0/81 [00:00<?, ?it/s]<ipython-input-12-7a57bc24a33d>:6: RuntimeWarning: divide by zero encountered in log\n",
      "  return density_func(x) * np.log(density_func(x))\n",
      "<ipython-input-12-7a57bc24a33d>:6: RuntimeWarning: invalid value encountered in double_scalars\n",
      "  return density_func(x) * np.log(density_func(x))\n",
      "<ipython-input-12-7a57bc24a33d>:8: IntegrationWarning: The occurrence of roundoff error is detected, which prevents \n",
      "  the requested tolerance from being achieved.  The error may be \n",
      "  underestimated.\n",
      "  entropy = -quad(density_func_entropy, a=support[0], b=support[1])[0]\n",
      " 94%|█████████▍| 76/81 [00:14<00:01,  3.70it/s]"
     ]
    }
   ],
   "source": [
    "from tqdm import tqdm\n",
    "# plt.figure(figsize=(12, 8))\n",
    "Y = {}\n",
    "plot_coupledEntropy = []\n",
    "plot_coupledEntropy_root = []\n",
    "plot_tsallisEntropyNormalized = []\n",
    "plot_tsallisEntropy = []\n",
    "plot_tsallisEntropyRootNormalized = []\n",
    "plot_tsallisEntropyRoot = []\n",
    "plot_shannonEntropy = []\n",
    "plot_shannonEntropy_root = []\n",
    "plot_shannonEntropyAlt = []\n",
    "\n",
    "kappa_values = [round(value, 1) for value in np.linspace(0, 4, 81)]\n",
    "n = len(kappa_values)\n",
    "\n",
    "mu, sigma = 0, 1\n",
    "alpha = 2\n",
    "for i in tqdm(range(len(kappa_values))):\n",
    "    kappa = kappa_values[i]\n",
    "    temp_normal = fj.CoupledNormal(loc=loc,\n",
    "                                   scale=scale,\n",
    "                                   kappa=kappa,\n",
    "                                   alpha=alpha)\n",
    "    y = temp_normal.prob\n",
    "    Y[kappa] = cpqi.coupled_entropy(y, kappa=kappa, alpha=alpha, dim=dim, support=support, root=False)\n",
    "    plot_coupledEntropy.append(Y[kappa])\n",
    "    Y[kappa] = cpqi.coupled_entropy(y, kappa=kappa, alpha=alpha, dim=dim, support=support, root=True)\n",
    "    plot_coupledEntropy_root.append(Y[kappa])\n",
    "    Y[kappa] = cpqi.tsallis_entropy(y, kappa=kappa, alpha=alpha, dim=dim, support=support, normalize=True, root=False)\n",
    "    plot_tsallisEntropyNormalized.append(Y[kappa])\n",
    "    Y[kappa] = cpqi.tsallis_entropy(y, kappa=kappa, alpha=alpha, dim=dim, support=support, normalize=False, root=False)\n",
    "    plot_tsallisEntropy.append(Y[kappa])\n",
    "    Y[kappa] = cpqi.tsallis_entropy(y, kappa=kappa, alpha=alpha, dim=dim, support=support, normalize=True, root=True)\n",
    "    plot_tsallisEntropyRootNormalized.append(Y[kappa])\n",
    "    Y[kappa] = cpqi.tsallis_entropy(y, kappa=kappa, alpha=alpha, dim=dim, support=support, normalize=False, root=True)\n",
    "    plot_tsallisEntropyRoot.append(Y[kappa])\n",
    "    Y[kappa] = cpqi.shannon_entropy(y, dim=dim, support=support, root=False)\n",
    "    plot_shannonEntropy.append(Y[kappa])\n",
    "    Y[kappa] = shannon_entropy(y, support=support)\n",
    "    plot_shannonEntropyAlt.append(Y[kappa])\n",
    "    Y[kappa] = cpqi.shannon_entropy(y, dim=dim, support=support, root=True)\n",
    "    plot_shannonEntropy_root.append(Y[kappa])"
   ]
  },
  {
   "cell_type": "code",
   "execution_count": null,
   "metadata": {},
   "outputs": [],
   "source": [
    "plot_coupledEntropy = np.array(plot_coupledEntropy)\n",
    "plot_coupledEntropy_root = np.array(plot_coupledEntropy_root)\n",
    "plot_tsallisEntropyNormalized = np.array(plot_tsallisEntropyNormalized)\n",
    "plot_tsallisEntropy = np.array(plot_tsallisEntropy)\n",
    "plot_tsallisEntropyRootNormalized = np.array(plot_tsallisEntropyRootNormalized)\n",
    "plot_tsallisEntropyRoot = np.array(plot_tsallisEntropyRoot)\n",
    "plot_shannonEntropy = np.array(plot_shannonEntropy)\n",
    "plot_shannonEntropyAlt = np.array(plot_shannonEntropyAlt)\n",
    "plot_shannonEntropy_root = np.array(plot_shannonEntropy_root)"
   ]
  },
  {
   "cell_type": "code",
   "execution_count": null,
   "metadata": {},
   "outputs": [],
   "source": [
    "fig, ax = plt.subplots(figsize=(16, 10))\n",
    "ax.axvline(c='black', lw=1)\n",
    "ax.axhline(c='black', lw=1)\n",
    "\n",
    "cm = plt.get_cmap('PiYG')\n",
    "plt.xlim(0, 4)\n",
    "plt.ylim(-1, 14)\n",
    "plt.plot(kappa_values, plot_coupledEntropy, label='Coupled Entropy',\n",
    "         color='blue')\n",
    "plt.plot(kappa_values, plot_tsallisEntropyNormalized, label='Normalized Tsallis Entropy',\n",
    "         color='green')\n",
    "plt.plot(kappa_values, plot_tsallisEntropy, label='Tsallis Entropy',\n",
    "         color='orange')\n",
    "plt.plot(kappa_values, plot_shannonEntropyAlt, label='Shannon Entropy Alt',\n",
    "         color='black', linewidth=5)\n",
    "plt.plot(kappa_values, plot_shannonEntropy, label='Shannon Entropy',\n",
    "         color='red')\n",
    "\n",
    "plt.grid()\n",
    "plt.title(f'Coupled Gaussian {round(mu), round(sigma)} with alpha = {alpha}', fontsize=20)\n",
    "plt.xlabel('kappa values', fontsize=15)\n",
    "plt.ylabel('Entropy/Entopy Root')\n",
    "plt.legend()\n",
    "plt.show();"
   ]
  },
  {
   "cell_type": "code",
   "execution_count": null,
   "metadata": {},
   "outputs": [],
   "source": [
    "fig, ax = plt.subplots(figsize=(16, 10))\n",
    "ax.axvline(c='black', lw=1)\n",
    "ax.axhline(c='black', lw=1)\n",
    "\n",
    "cm = plt.get_cmap('PiYG')\n",
    "plt.xlim(0, 4)\n",
    "#plt.ylim(-1, 6)\n",
    "\n",
    "plt.plot(kappa_values, plot_coupledEntropy_root, label='Coupled Entropy Root',\n",
    "         color='blue')\n",
    "plt.plot(kappa_values, plot_tsallisEntropyRootNormalized, label='Normalized Tsallis Entropy Root',\n",
    "         color='green')\n",
    "plt.plot(kappa_values, plot_tsallisEntropyRoot, label='Tsallis Entropy Root',\n",
    "         color='orange')\n",
    "plt.plot(kappa_values, plot_shannonEntropy_root, label='Shannon Entropy Root',\n",
    "         color='red')\n",
    "plt.grid()\n",
    "plt.title(f'Coupled Gaussian {round(mu), round(sigma)} with alpha = {alpha}', fontsize=20)\n",
    "plt.xlabel('kappa values', fontsize=15)\n",
    "plt.ylabel('Entropy/Entopy Root')\n",
    "plt.legend()\n",
    "plt.show();"
   ]
  },
  {
   "cell_type": "code",
   "execution_count": null,
   "metadata": {},
   "outputs": [],
   "source": [
    "coupled_normal = fj.CoupledNormal(loc=loc,\n",
    "                                  scale=scale,\n",
    "                                  kappa=0.014,\n",
    "                                  alpha=alpha)\n",
    "\n",
    "cpqi.coupled_entropy(coupled_normal.prob, \n",
    "                     kappa=0, \n",
    "                     alpha=alpha, \n",
    "                     dim=dim, \n",
    "                     support=support,\n",
    "                     root=False)"
   ]
  },
  {
   "cell_type": "code",
   "execution_count": null,
   "metadata": {},
   "outputs": [],
   "source": [
    "p = 0.6\n",
    "\n",
    "geometric_pmf = lambda k: (1-p)**(k-1) * p\n",
    "\n",
    "def density_func_entropy(x):\n",
    "    return geometric_pmf(x) * np.log(geometric_pmf(x))\n",
    "nsum(density_func_entropy, [0, np.inf])\n",
    "#shannon_entropy(geometric_pmf, support=(1, np.inf), continuous=False)\n",
    "#cpqi.shannon_entropy(geometric_pmf, support=(0, np.inf), continuous=False)"
   ]
  },
  {
   "cell_type": "code",
   "execution_count": null,
   "metadata": {},
   "outputs": [],
   "source": [
    "\n"
   ]
  }
 ],
 "metadata": {
  "kernelspec": {
   "display_name": "Python 3",
   "language": "python",
   "name": "python3"
  },
  "language_info": {
   "codemirror_mode": {
    "name": "ipython",
    "version": 3
   },
   "file_extension": ".py",
   "mimetype": "text/x-python",
   "name": "python",
   "nbconvert_exporter": "python",
   "pygments_lexer": "ipython3",
   "version": "3.8.5"
  }
 },
 "nbformat": 4,
 "nbformat_minor": 4
}
