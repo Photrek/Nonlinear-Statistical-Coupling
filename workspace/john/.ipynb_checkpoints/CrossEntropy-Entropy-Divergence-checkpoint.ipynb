{
 "cells": [
  {
   "cell_type": "markdown",
   "metadata": {},
   "source": [
    "# I. Import Functions and Libraries"
   ]
  },
  {
   "cell_type": "code",
   "execution_count": 1,
   "metadata": {},
   "outputs": [],
   "source": [
    "from function import coupled_logarithm, coupled_exponential, coupled_probability, coupled_entropy\n",
    "import numpy as np"
   ]
  },
  {
   "cell_type": "markdown",
   "metadata": {},
   "source": [
    "# II. Coupled Cross-Entropy\n",
    "\n",
    "Need to add a check for root. And what if the two distributions have different supports?"
   ]
  },
  {
   "cell_type": "code",
   "execution_count": 2,
   "metadata": {},
   "outputs": [],
   "source": [
    "def coupled_cross_entropy_v1(dist_p, dist_q, kappa, alpha, d, dx):#, support_p, support_q):\n",
    "    \"\"\"\n",
    "    This function calculates the coupled cross-entropy of 2 1-D arrays\n",
    "    representing distributions.\n",
    "    \n",
    "    Parameters\n",
    "    ----------\n",
    "    dist_p : TYPE\n",
    "        DESCRIPTION\n",
    "    dist_q : TYPE\n",
    "        DESCRIPTION\n",
    "    kappa : float\n",
    "        DESCRIPTION\n",
    "    alpha : float\n",
    "        DESCRIPTION\n",
    "    d : TYPE\n",
    "        DESCRIPTION\n",
    "    dx : float\n",
    "        Step size between realizations of the distributions.\n",
    "\n",
    "    Returns \n",
    "    -------\n",
    "    final_integration : float\n",
    "        Returns the coupled cross-entropy between dist_p and dist_q\n",
    "    \"\"\"\n",
    "    \n",
    "    # Raise the distrubtion P to the power (-alpha*kappa)/(1+d*kapaa) and normalize it. \n",
    "    dist_p_temp = coupled_probability(dist_p, kappa, alpha, d)\n",
    "    # Forget dist_p inside the fuction to save memory.\n",
    "    del dist_p\n",
    "    \n",
    "    # Calculate the coupled-logarithm of the values in the distribution Q raised to the\n",
    "    # negative alpha power.\n",
    "    coupled_logarithm_dist_q = coupled_logarithm(dist_q**(-alpha), kappa, d)\n",
    "    # Forget dist_q inside the fuction to save memory.\n",
    "    del dist_q\n",
    "    \n",
    "    # Multiply the coupled-probability values of dist_p by (1/-alpha)*coupled logarithm of\n",
    "    # dist_q.\n",
    "    pre_integration = np.multiply(dist_p_temp, (1/-alpha)*coupled_logarithm_dist_q)\n",
    "    # Integrate the values and multiply by negative one.\n",
    "    final_integration = -np.trapz(pre_integration, dx=dx)\n",
    "    \n",
    "    return final_integration"
   ]
  },
  {
   "cell_type": "markdown",
   "metadata": {},
   "source": [
    "# III. Coupled Entropy\n",
    "\n",
    "## A. V0 of the coupled_entropy function by John\n",
    "\n",
    "This version is just meant to speed up the current version in the function.py file."
   ]
  },
  {
   "cell_type": "code",
   "execution_count": 3,
   "metadata": {},
   "outputs": [],
   "source": [
    "def coupled_entropy_john_v0(dist, kappa, alpha, d, dx):#, support):\n",
    "    \"\"\"\n",
    "    This function calculates the coupled entropy of a 1-D array representing\n",
    "    a distribution.\n",
    "    \n",
    "    This version is only meant to speed up the current version of the\n",
    "    coupled_entroy function in the function.py file.\n",
    "    \n",
    "    Parameters\n",
    "    ----------\n",
    "    dist : TYPE\n",
    "        DESCRIPTION\n",
    "    kappa : float\n",
    "        DESCRIPTION\n",
    "    alpha : float\n",
    "        DESCRIPTION\n",
    "    d : TYPE\n",
    "        DESCRIPTION\n",
    "    support : tuple\n",
    "        A tuple describing the support of the distribution.\n",
    "    dx : float\n",
    "        Step size between realizations of the distribution.\n",
    "\n",
    "    Returns final_integration\n",
    "    -------\n",
    "    entropy : float\n",
    "        DESCRIPTION\n",
    "    \"\"\"\n",
    "    \n",
    "    # Raise the distrubtion to the power (-alpha*kappa)/(1+d*kapaa) and normalize it. # Should we use density instead of probability?\n",
    "    dist_temp = coupled_probability(dist, kappa, alpha, d)\n",
    "    # Calculate the coupled-logarithm of the values in the distribution.\n",
    "    coupled_logarithm_values = coupled_logarithm(dist, kappa, d)\n",
    "    # Forget dist inside the fuction to save memory.\n",
    "    del dist\n",
    "    # Multiply the coupled probability values by the coupled-logarithm of the distribution.\n",
    "    pre_integration = np.multiply(dist_temp, coupled_logarithm_values)\n",
    "    # Take the negative of the integral of the element-wise multiplication.\n",
    "    final_integration = -1*np.trapz(pre_integration, dx=dx)\n",
    "    \n",
    "    return final_integration"
   ]
  },
  {
   "cell_type": "markdown",
   "metadata": {},
   "source": [
    "## B. V1 of the coupled_entropy function by John\n",
    "\n",
    "This function used the coupled_cross_entropy_john_v1 function to calculate the coupled entropy."
   ]
  },
  {
   "cell_type": "code",
   "execution_count": 4,
   "metadata": {},
   "outputs": [],
   "source": [
    "def coupled_entropy_john_v1(dist, kappa, alpha, d, dx):#, support):\n",
    "    \"\"\"\n",
    "    This function calculates the coupled entropy of a 1-D array representing\n",
    "    a distribution.\n",
    "    \n",
    "    Parameters\n",
    "    ----------\n",
    "    dist : TYPE\n",
    "        DESCRIPTION\n",
    "    kappa : float\n",
    "        DESCRIPTION\n",
    "    alpha : float\n",
    "        DESCRIPTION\n",
    "    d : TYPE\n",
    "        DESCRIPTION\n",
    "    support : tuple\n",
    "        A tuple describing the support of the distribution.\n",
    "    dx : float\n",
    "        Step size between realizations of the distribution.\n",
    "\n",
    "    Returns\n",
    "    -------\n",
    "    float\n",
    "        Returns the coupled entropy of dist\n",
    "    \"\"\"\n",
    "    \n",
    "    return coupled_cross_entropy_v1(dist, dist, kappa, alpha, d, dx)"
   ]
  },
  {
   "cell_type": "markdown",
   "metadata": {},
   "source": [
    "# IV. Coupled Divergence"
   ]
  },
  {
   "cell_type": "code",
   "execution_count": 5,
   "metadata": {},
   "outputs": [],
   "source": [
    "def coupled_divergence_v1(dist_p, dist_q, kappa, alpha, d, dx):#, support_p, support_q):\n",
    "    \"\"\"\n",
    "    This function calculates the coupled divergence of 2 1-D arrays\n",
    "    representing distributions.\n",
    "    \n",
    "    Parameters\n",
    "    ----------\n",
    "    dist_p : TYPE\n",
    "        DESCRIPTION\n",
    "    dist_q : TYPE\n",
    "        DESCRIPTION\n",
    "    kappa : float\n",
    "        DESCRIPTION\n",
    "    alpha : float\n",
    "        DESCRIPTION\n",
    "    d : TYPE\n",
    "        DESCRIPTION\n",
    "    support_p : tuple\n",
    "        A tuple describing the support of the distribution P.\n",
    "    support_q : tuple\n",
    "        A tuple describing the support of the distribution Q.\n",
    "    dx : float\n",
    "        Step size between realizations of the distributions.\n",
    "\n",
    "    Returns \n",
    "    -------\n",
    "    float\n",
    "        Returns the coupled divergence between dist_p and dist_q\n",
    "    \"\"\"\n",
    "    \n",
    "    return coupled_cross_entropy_v1(dist_p, dist_q, kappa, alpha, d, dx) - coupled_entropy_john_v1(dist_p, kappa, alpha, d, dx)"
   ]
  },
  {
   "cell_type": "markdown",
   "metadata": {},
   "source": [
    "# IV. Testing\n",
    "\n",
    "First, create two distributions and define the $\\kappa$, $\\alpha$, and $d$ parameters."
   ]
  },
  {
   "cell_type": "code",
   "execution_count": 6,
   "metadata": {},
   "outputs": [
    {
     "data": {
      "image/png": "[encoded data removed]",
      "text/plain": [
       "<Figure size 1152x432 with 2 Axes>"
      ]
     },
     "metadata": {
      "needs_background": "light"
     },
     "output_type": "display_data"
    }
   ],
   "source": [
    "from scipy.stats import norm\n",
    "from datetime import datetime\n",
    "import matplotlib.pyplot as plt\n",
    "\n",
    "kappa, alpha, d = 0.5, 1, 1\n",
    "\n",
    "normal = norm(loc=0, scale=2)\n",
    "x = np.linspace(normal.ppf(0.0001),\n",
    "                normal.ppf(0.9999), 10000)\n",
    "normal_densities = normal.pdf(x)\n",
    "\n",
    "other_normal = norm(loc=0, scale=1)\n",
    "other_normal_densities = other_normal.pdf(x)\n",
    "\n",
    "dx = x[1] - x[0]\n",
    "\n",
    "fig, ax = plt.subplots(1, 2, figsize=(16,6), constrained_layout=True)\n",
    "\n",
    "ax[0].plot(x, normal_densities)\n",
    "ax[0].set_title(f'N({normal.mean()}, {normal.std()}) PDF')\n",
    "ax[0].set_xlabel('Values')\n",
    "ax[0].set_ylabel('Density')\n",
    "\n",
    "ax[1].plot(x, other_normal_densities)\n",
    "ax[1].set_title(f'N({other_normal.mean()}, {other_normal.std()}) PDF')\n",
    "ax[1].set_xlabel('Values')\n",
    "ax[1].set_ylabel('Density')\n",
    "\n",
    "plt.show()"
   ]
  },
  {
   "cell_type": "markdown",
   "metadata": {},
   "source": [
    "## A. Testing the Coupled Cross-Entropy function"
   ]
  },
  {
   "cell_type": "code",
   "execution_count": 7,
   "metadata": {},
   "outputs": [
    {
     "data": {
      "text/plain": [
       "0.010874070514496697"
      ]
     },
     "execution_count": 7,
     "metadata": {},
     "output_type": "execute_result"
    }
   ],
   "source": [
    "coupled_cross_entropy_v1(normal_densities, other_normal_densities, kappa, alpha, d, dx)"
   ]
  },
  {
   "cell_type": "markdown",
   "metadata": {},
   "source": [
    "## B. Testing the Coupled Entropy functions"
   ]
  },
  {
   "cell_type": "markdown",
   "metadata": {},
   "source": [
    "First we time the the coupled_entropy function and the coupled_entropy_john_v0 functions to see if using numpy speeds up the function and test that the two functions give the same output."
   ]
  },
  {
   "cell_type": "code",
   "execution_count": 8,
   "metadata": {},
   "outputs": [
    {
     "name": "stdout",
     "output_type": "stream",
     "text": [
      "Average Improvement: 69.99%\n",
      "Functions are equal: False\n"
     ]
    }
   ],
   "source": [
    "n = 100\n",
    "speed_improvements = []\n",
    "\n",
    "for i in range(n):\n",
    "    startTime = datetime.now()\n",
    "    coupled_entropy(normal_densities, kappa, alpha, d)\n",
    "    time1 = datetime.now() - startTime\n",
    "    \n",
    "    startTime = datetime.now()\n",
    "    coupled_entropy_john_v0(normal_densities, kappa, alpha, d, dx)\n",
    "    time2 = datetime.now() - startTime\n",
    "    \n",
    "    speed_improvements.append((time1 - time2)/time1)\n",
    "\n",
    "average_speed_improvement = np.mean(speed_improvements)\n",
    "print(f\"Average Improvement: {round(100*average_speed_improvement, 2)}%\")\n",
    "print(f\"Functions are equal: {(coupled_entropy(normal_densities, kappa, alpha, d) == coupled_entropy_john_v0(normal_densities, kappa, alpha, d, dx))}\")"
   ]
  },
  {
   "cell_type": "markdown",
   "metadata": {},
   "source": [
    "Daniel's and my functions don't have the same outputs."
   ]
  },
  {
   "cell_type": "code",
   "execution_count": 9,
   "metadata": {},
   "outputs": [
    {
     "name": "stdout",
     "output_type": "stream",
     "text": [
      "(0.954777852562938, 0.0014204758770399353, 0.0029037800629483548)\n"
     ]
    }
   ],
   "source": [
    "current_version = coupled_entropy(normal_densities, kappa, alpha, d)\n",
    "version_0 = coupled_entropy_john_v0(normal_densities, kappa, alpha, d, dx)\n",
    "version_1 = coupled_entropy_john_v1(normal_densities, kappa, alpha, d, dx)\n",
    "\n",
    "print((current_version, version_0, version_1))"
   ]
  },
  {
   "cell_type": "markdown",
   "metadata": {},
   "source": [
    "## C. Testing the Coupled Divergence function"
   ]
  },
  {
   "cell_type": "code",
   "execution_count": 10,
   "metadata": {},
   "outputs": [
    {
     "data": {
      "text/plain": [
       "0.007970290451548342"
      ]
     },
     "execution_count": 10,
     "metadata": {},
     "output_type": "execute_result"
    }
   ],
   "source": [
    "coupled_divergence_v1(normal_densities, other_normal_densities, kappa, alpha, d, dx)"
   ]
  }
 ],
 "metadata": {
  "kernelspec": {
   "display_name": "Python 3",
   "language": "python",
   "name": "python3"
  },
  "language_info": {
   "codemirror_mode": {
    "name": "ipython",
    "version": 3
   },
   "file_extension": ".py",
   "mimetype": "text/x-python",
   "name": "python",
   "nbconvert_exporter": "python",
   "pygments_lexer": "ipython3",
   "version": "3.8.5"
  }
 },
 "nbformat": 4,
 "nbformat_minor": 4
}
