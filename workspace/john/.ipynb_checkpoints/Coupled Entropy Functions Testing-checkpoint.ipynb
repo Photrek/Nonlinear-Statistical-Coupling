{
 "cells": [
  {
   "cell_type": "markdown",
   "metadata": {},
   "source": [
    "# Testing the *CoupledNormal* and *MultivariateCoupledNormal* Classes\n",
    "\n",
    "## I. Importing Libraries and Defining Distributions"
   ]
  },
  {
   "cell_type": "code",
   "execution_count": 1,
   "metadata": {},
   "outputs": [
    {
     "name": "stdout",
     "output_type": "stream",
     "text": [
      "Importing NSC lib v0.0.2.11.\n"
     ]
    }
   ],
   "source": [
    "import nsc\n",
    "from nsc.distributions import CoupledNormal, MultivariateCoupledNormal\n",
    "import coupled_entropy_functions as cef\n",
    "import numpy as np\n",
    "import matplotlib.pyplot as plt\n",
    "from scipy.stats import norm, cauchy, multivariate_normal\n",
    "from scipy.integrate import nquad\n",
    "\n",
    "# Create a standard normal distribution, cauchy distribution, and \n",
    "# a standard bivariate normal distribution using the nsc distribution\n",
    "# classes and scipy.\n",
    "loc, scale = 0., 1.\n",
    "alpha = 2\n",
    "nsc_normal = CoupledNormal(loc=loc, \n",
    "                           scale=scale, \n",
    "                           kappa=0., \n",
    "                           alpha=alpha)\n",
    "nsc_cauchy = CoupledNormal(loc=loc, \n",
    "                           scale=scale, \n",
    "                           kappa=1., \n",
    "                           alpha=alpha)\n",
    "nsc_mvn = MultivariateCoupledNormal(loc=[loc, loc], \n",
    "                                    scale=[scale, scale], \n",
    "                                    kappa=0.)\n",
    "\n",
    "scipy_normal = norm(loc=loc, \n",
    "                    scale=scale)\n",
    "scipy_cauchy = cauchy(loc=loc, \n",
    "                      scale=scale)\n",
    "scipy_mvn = multivariate_normal(mean=[loc, loc], \n",
    "                                cov=np.array([[scale, 0.],\n",
    "                                              [0., scale]]))\n",
    "\n",
    "# Define a support for the scipy normal and multivariate normal.\n",
    "support_normal = [[-26, 26]]\n",
    "support_scipy_mvn = [[-18, 18], [-18, 18]]\n",
    "# Define supports for the distributions from nsc and scipy's cauchy.\n",
    "support_inf = [[-np.inf, np.inf]]\n",
    "support_inf_2D = [[-np.inf, np.inf], [-np.inf, np.inf]]"
   ]
  },
  {
   "cell_type": "markdown",
   "metadata": {},
   "source": [
    "## II. Checking the PDFs integrate to 1"
   ]
  },
  {
   "cell_type": "code",
   "execution_count": 2,
   "metadata": {},
   "outputs": [
    {
     "name": "stderr",
     "output_type": "stream",
     "text": [
      "C:\\Users\\jkcle\\anaconda3\\lib\\site-packages\\nsc\\util\\function.py:61: RuntimeWarning: overflow encountered in exp\n",
      "  coupled_exp_value = np.exp(value)\n"
     ]
    },
    {
     "name": "stdout",
     "output_type": "stream",
     "text": [
      "Numerical integral over full support of the nsc normal: 0.9999999999999998 \n",
      "\n",
      "Numerical integral over full support of the nsc cauchy: 1.0000000000000002 \n",
      "\n",
      "Numerical integral over full support of the nsc bivariate normal: 2.5066282746311273\n"
     ]
    }
   ],
   "source": [
    "def nsc_normal_pdf(*args):\n",
    "    x = np.array(args)\n",
    "    return nsc_normal.prob(x)\n",
    "\n",
    "def nsc_cauchy_pdf(*args):\n",
    "    x = np.array(args)\n",
    "    return nsc_cauchy.prob(x)\n",
    "\n",
    "def nsc_mvn_pdf(*args):\n",
    "    x = np.array([args])\n",
    "    return nsc_mvn.prob(x)\n",
    "\n",
    "nsc_normal_integration = nquad(nsc_normal_pdf, \n",
    "                               support_inf)[0]\n",
    "nsc_cauchy_integration = nquad(nsc_cauchy_pdf, \n",
    "                               support_inf)[0]\n",
    "nsc_mvn_integration = nquad(nsc_mvn_pdf, \n",
    "                            support_inf_2D)[0]\n",
    "\n",
    "print(f\"Numerical integral over full support of the nsc normal: {nsc_normal_integration} \\n\")\n",
    "print(f\"Numerical integral over full support of the nsc cauchy: {nsc_cauchy_integration} \\n\")\n",
    "print(f\"Numerical integral over full support of the nsc bivariate normal: {nsc_mvn_integration}\")"
   ]
  },
  {
   "cell_type": "markdown",
   "metadata": {},
   "source": [
    "## III. Checking the K-L Divergences from SciPy Distrtibutions"
   ]
  },
  {
   "cell_type": "code",
   "execution_count": 3,
   "metadata": {},
   "outputs": [
    {
     "name": "stdout",
     "output_type": "stream",
     "text": [
      "K-L Divergence of nsc normal vs scipy normal: 0.0 \n",
      "\n",
      "K-L Divergence of nsc cauchy vs scipy cauchy: 1.3322676295501878e-15 \n",
      "\n",
      "K-L Divergence of nsc bivariate normal vs scipy bivariate normal: 0.918938533204672 \n",
      "\n"
     ]
    }
   ],
   "source": [
    "normal_kl_divergence = cef.coupled_divergence(nsc_normal.prob,\n",
    "                                              scipy_normal.pdf,\n",
    "                                              kappa=0,\n",
    "                                              alpha=2,\n",
    "                                              dim=1,\n",
    "                                              support=support_normal)\n",
    "\n",
    "cauchy_kl_divergence = cef.coupled_divergence(nsc_cauchy.prob,\n",
    "                                              scipy_cauchy.pdf,\n",
    "                                              kappa=0,\n",
    "                                              alpha=2,\n",
    "                                              dim=1,\n",
    "                                              support=support_inf)\n",
    "\n",
    "def nsc_mvn_pdf(x):\n",
    "    x = np.array([x])\n",
    "    return nsc_mvn.prob(x)\n",
    "\n",
    "mvn_kl_divergence = cef.coupled_divergence(nsc_mvn_pdf,\n",
    "                                           scipy_mvn.pdf,\n",
    "                                           kappa=0,\n",
    "                                           alpha=2,\n",
    "                                           dim=1,\n",
    "                                           support=support_scipy_mvn)\n",
    "\n",
    "print(f\"K-L Divergence of nsc normal vs scipy normal: {normal_kl_divergence} \\n\")\n",
    "print(f\"K-L Divergence of nsc cauchy vs scipy cauchy: {cauchy_kl_divergence} \\n\")\n",
    "print(f\"K-L Divergence of nsc bivariate normal vs scipy bivariate normal: {mvn_kl_divergence} \\n\")"
   ]
  },
  {
   "cell_type": "markdown",
   "metadata": {},
   "source": [
    "## IV. Testing the *coupled_cross_entropy* functions"
   ]
  },
  {
   "cell_type": "code",
   "execution_count": 4,
   "metadata": {},
   "outputs": [
    {
     "data": {
      "text/plain": [
       "1.8122405410609836"
      ]
     },
     "execution_count": 4,
     "metadata": {},
     "output_type": "execute_result"
    }
   ],
   "source": [
    "cef.coupled_cross_entropy(nsc_normal.prob, \n",
    "                          nsc_cauchy.prob, \n",
    "                          kappa=0, \n",
    "                          alpha=alpha, \n",
    "                          dim=1, \n",
    "                          support=support_inf,\n",
    "                          root=True)"
   ]
  },
  {
   "cell_type": "code",
   "execution_count": 5,
   "metadata": {},
   "outputs": [
    {
     "data": {
      "text/plain": [
       "1.6781830656935353"
      ]
     },
     "execution_count": 5,
     "metadata": {},
     "output_type": "execute_result"
    }
   ],
   "source": [
    "cef.coupled_cross_entropy(nsc_normal.prob, \n",
    "                          nsc_cauchy.prob, \n",
    "                          kappa=0, \n",
    "                          alpha=alpha, \n",
    "                          dim=1, \n",
    "                          support=support_inf,\n",
    "                          root=False)"
   ]
  },
  {
   "cell_type": "markdown",
   "metadata": {},
   "source": [
    "## V. Testing the *coupled_entropy* and *shannon_entropy* functions"
   ]
  },
  {
   "cell_type": "code",
   "execution_count": 6,
   "metadata": {},
   "outputs": [
    {
     "name": "stderr",
     "output_type": "stream",
     "text": [
      "C:\\Users\\jkcle\\Documents\\GitHub\\Nonlinear-Statistical-Coupling\\workspace\\john\\coupled_entropy_functions.py:60: RuntimeWarning: divide by zero encountered in power\n",
      "  return density_func_q(x)**(-alpha)\n",
      "C:\\Users\\jkcle\\Documents\\GitHub\\Nonlinear-Statistical-Coupling\\workspace\\john\\coupled_entropy_functions.py:66: RuntimeWarning: invalid value encountered in multiply\n",
      "  return (my_coupled_probability(x)\n",
      "C:\\Users\\jkcle\\anaconda3\\lib\\site-packages\\scipy\\integrate\\quadpack.py:880: IntegrationWarning: The occurrence of roundoff error is detected, which prevents \n",
      "  the requested tolerance from being achieved.  The error may be \n",
      "  underestimated.\n",
      "  quad_r = quad(f, low, high, args=args, full_output=self.full_output,\n"
     ]
    },
    {
     "data": {
      "text/plain": [
       "nan"
      ]
     },
     "execution_count": 6,
     "metadata": {},
     "output_type": "execute_result"
    }
   ],
   "source": [
    "cef.coupled_entropy(nsc_normal.prob, \n",
    "                    kappa=0, \n",
    "                    alpha=alpha, \n",
    "                    dim=1, \n",
    "                    support=support_inf,\n",
    "                    root=False)"
   ]
  },
  {
   "cell_type": "code",
   "execution_count": 7,
   "metadata": {},
   "outputs": [
    {
     "data": {
      "text/plain": [
       "1.4189385332046731"
      ]
     },
     "execution_count": 7,
     "metadata": {},
     "output_type": "execute_result"
    }
   ],
   "source": [
    "cef.coupled_entropy(nsc_normal.prob, \n",
    "                    kappa=0, \n",
    "                    alpha=alpha, \n",
    "                    dim=1, \n",
    "                    support=support_normal,\n",
    "                    root=False)"
   ]
  },
  {
   "cell_type": "code",
   "execution_count": 8,
   "metadata": {},
   "outputs": [
    {
     "data": {
      "text/plain": [
       "1.6474397726303"
      ]
     },
     "execution_count": 8,
     "metadata": {},
     "output_type": "execute_result"
    }
   ],
   "source": [
    "cef.coupled_entropy(nsc_normal.prob, \n",
    "                    kappa=0, \n",
    "                    alpha=alpha, \n",
    "                    dim=1, \n",
    "                    support=support_normal,\n",
    "                    root=True)"
   ]
  },
  {
   "cell_type": "code",
   "execution_count": 9,
   "metadata": {},
   "outputs": [
    {
     "data": {
      "text/plain": [
       "2.352125624049986"
      ]
     },
     "execution_count": 9,
     "metadata": {},
     "output_type": "execute_result"
    }
   ],
   "source": [
    "cef.coupled_entropy(nsc_cauchy.prob, \n",
    "                    kappa=0, \n",
    "                    alpha=alpha, \n",
    "                    dim=1, \n",
    "                    support=support_normal,\n",
    "                    root=False)"
   ]
  },
  {
   "cell_type": "code",
   "execution_count": 10,
   "metadata": {},
   "outputs": [
    {
     "data": {
      "text/plain": [
       "2.090475807118503"
      ]
     },
     "execution_count": 10,
     "metadata": {},
     "output_type": "execute_result"
    }
   ],
   "source": [
    "cef.coupled_entropy(nsc_cauchy.prob, \n",
    "                    kappa=0, \n",
    "                    alpha=alpha, \n",
    "                    dim=1, \n",
    "                    support=support_normal,\n",
    "                    root=True)"
   ]
  },
  {
   "cell_type": "code",
   "execution_count": 11,
   "metadata": {},
   "outputs": [
    {
     "name": "stdout",
     "output_type": "stream",
     "text": [
      "Numerical Approximation to Cauchy (0.0, 1.0) Entropy: 1.4189385332046731\n",
      "Exact Normal (0.0, 1.0) Entropy: 1.4189385332046727\n"
     ]
    }
   ],
   "source": [
    "numerical_approx_normal_entropy = cef.shannon_entropy(nsc_normal.prob, dim=1, support=support_normal)\n",
    "normal_entropy = 0.5 * np.log(2 * np.pi * np.exp(1) * scale**2)\n",
    "\n",
    "print(f\"Numerical Approximation to Cauchy {loc, scale} Entropy: {numerical_approx_normal_entropy}\")\n",
    "print(f\"Exact Normal {loc, scale} Entropy: {normal_entropy}\")"
   ]
  },
  {
   "cell_type": "code",
   "execution_count": 12,
   "metadata": {},
   "outputs": [
    {
     "name": "stdout",
     "output_type": "stream",
     "text": [
      "Numerical Approximation to Cauchy (0.0, 1.0) Entropy: 2.5310242469692894\n",
      "Exact Cauchy (0.0, 1.0) Entropy: 2.5310242469692907\n"
     ]
    }
   ],
   "source": [
    "numerical_approx_cauchy_entropy = cef.shannon_entropy(nsc_cauchy.prob, dim=1, support=support_inf)\n",
    "cauchy_entropy = np.log(4*np.pi*scale)\n",
    "\n",
    "print(f\"Numerical Approximation to Cauchy {loc, scale} Entropy: {numerical_approx_cauchy_entropy}\")\n",
    "print(f\"Exact Cauchy {loc, scale} Entropy: {cauchy_entropy}\")"
   ]
  },
  {
   "cell_type": "code",
   "execution_count": 13,
   "metadata": {},
   "outputs": [
    {
     "name": "stdout",
     "output_type": "stream",
     "text": [
      "Numerical Approximation to MVN Entropy: 2.837877066409345\n",
      "Exact MVN Entropy: 2.8378770664093453\n"
     ]
    }
   ],
   "source": [
    "from scipy.stats import multivariate_normal\n",
    "\n",
    "exact_mvn_entropy = 0.5 * np.log(np.linalg.det(2 * np.pi * np.exp(1) * np.array([[scale, 0],\n",
    "                                                                                 [0, scale]])))\n",
    "numerical_approx_mvn_entropy = cef.shannon_entropy(scipy_mvn.pdf, \n",
    "                                                   dim=2, \n",
    "                                                   support=support_scipy_mvn, \n",
    "                                                   root=False)\n",
    "\n",
    "print(f\"Numerical Approximation to MVN Entropy: {numerical_approx_mvn_entropy}\")\n",
    "print(f\"Exact MVN Entropy: {exact_mvn_entropy}\")"
   ]
  },
  {
   "cell_type": "markdown",
   "metadata": {},
   "source": [
    "## VI. Testing the *coupled_divergence* function"
   ]
  },
  {
   "cell_type": "code",
   "execution_count": 14,
   "metadata": {},
   "outputs": [
    {
     "data": {
      "text/plain": [
       "0.0"
      ]
     },
     "execution_count": 14,
     "metadata": {},
     "output_type": "execute_result"
    }
   ],
   "source": [
    "cef.coupled_divergence(nsc_normal.prob, \n",
    "                       nsc_normal.prob, \n",
    "                       kappa=0, \n",
    "                       alpha=alpha, \n",
    "                       dim=1, \n",
    "                       support=support_normal,\n",
    "                       root=False)"
   ]
  },
  {
   "cell_type": "code",
   "execution_count": 15,
   "metadata": {},
   "outputs": [
    {
     "data": {
      "text/plain": [
       "0.0"
      ]
     },
     "execution_count": 15,
     "metadata": {},
     "output_type": "execute_result"
    }
   ],
   "source": [
    "cef.coupled_divergence(nsc_cauchy.prob, \n",
    "                       nsc_cauchy.prob, \n",
    "                       kappa=0, \n",
    "                       alpha=alpha, \n",
    "                       dim=1, \n",
    "                       support=support_inf,\n",
    "                       root=False)"
   ]
  },
  {
   "cell_type": "code",
   "execution_count": 16,
   "metadata": {},
   "outputs": [
    {
     "data": {
      "text/plain": [
       "nan"
      ]
     },
     "execution_count": 16,
     "metadata": {},
     "output_type": "execute_result"
    }
   ],
   "source": [
    "cef.coupled_divergence(nsc_normal.prob, \n",
    "                       nsc_cauchy.prob, \n",
    "                       kappa=0, \n",
    "                       alpha=alpha, \n",
    "                       dim=1, \n",
    "                       support=support_inf,\n",
    "                       root=False)"
   ]
  },
  {
   "cell_type": "markdown",
   "metadata": {},
   "source": [
    "# Plotting the *coupled_entropy* function"
   ]
  },
  {
   "cell_type": "markdown",
   "metadata": {},
   "source": [
    "from tqdm import tqdm\n",
    "# plt.figure(figsize=(12, 8))\n",
    "Y = {}\n",
    "plot_coupledEntropy = []\n",
    "plot_coupledEntropy_root = []\n",
    "plot_tsallisEntropyNormalized = []\n",
    "plot_tsallisEntropy = []\n",
    "plot_tsallisEntropyRootNormalized = []\n",
    "plot_tsallisEntropyRoot = []\n",
    "plot_shannonEntropy = []\n",
    "plot_shannonEntropy_root = []\n",
    "\n",
    "kappa_values = [round(value, 1) for value in np.linspace(0, 4, 41)]\n",
    "n = len(kappa_values)\n",
    "\n",
    "mu, cov = [0, 0], np.array([[1, 0],\n",
    "                            [0, 1]])\n",
    "\n",
    "dim = len(mu)\n",
    "alpha = 2\n",
    "\n",
    "for i in tqdm(range(len(kappa_values))):\n",
    "    kappa = kappa_values[i]\n",
    "    temp_normal = multivariate_normal(mean=mu, cov=cov)\n",
    "    y = temp_normal.pdf\n",
    "    Y[kappa] = cpqi.coupled_entropy(y, kappa=kappa, alpha=alpha, dim=dim, support=support, root=False)\n",
    "    plot_coupledEntropy.append(Y[kappa])\n",
    "    Y[kappa] = cpqi.coupled_entropy(y, kappa=kappa, alpha=alpha, dim=dim, support=support, root=True)\n",
    "    plot_coupledEntropy_root.append(Y[kappa])\n",
    "    Y[kappa] = cpqi.tsallis_entropy(y, kappa=kappa, alpha=alpha, dim=dim, support=support, normalize=True, root=False)\n",
    "    plot_tsallisEntropyNormalized.append(Y[kappa])\n",
    "    Y[kappa] = cpqi.tsallis_entropy(y, kappa=kappa, alpha=alpha, dim=dim, support=support, normalize=False, root=False)\n",
    "    plot_tsallisEntropy.append(Y[kappa])\n",
    "    Y[kappa] = cpqi.tsallis_entropy(y, kappa=kappa, alpha=alpha, dim=dim, support=support, normalize=True, root=True)\n",
    "    plot_tsallisEntropyRootNormalized.append(Y[kappa])\n",
    "    Y[kappa] = cpqi.tsallis_entropy(y, kappa=kappa, alpha=alpha, dim=dim, support=support, normalize=False, root=True)\n",
    "    plot_tsallisEntropyRoot.append(Y[kappa])\n",
    "    Y[kappa] = cpqi.shannon_entropy(y, dim=dim, support=support, root=False)\n",
    "    plot_shannonEntropy.append(Y[kappa])\n",
    "    Y[kappa] = cpqi.shannon_entropy(y, dim=dim, support=support, root=True)\n",
    "    plot_shannonEntropy_root.append(Y[kappa])"
   ]
  },
  {
   "cell_type": "markdown",
   "metadata": {},
   "source": [
    "plot_coupledEntropy = np.array(plot_coupledEntropy)\n",
    "plot_coupledEntropy_root = np.array(plot_coupledEntropy_root)\n",
    "plot_tsallisEntropyNormalized = np.array(plot_tsallisEntropyNormalized)\n",
    "plot_tsallisEntropy = np.array(plot_tsallisEntropy)\n",
    "plot_tsallisEntropyRootNormalized = np.array(plot_tsallisEntropyRootNormalized)\n",
    "plot_tsallisEntropyRoot = np.array(plot_tsallisEntropyRoot)\n",
    "plot_shannonEntropy = np.array(plot_shannonEntropy)\n",
    "plot_shannonEntropy_root = np.array(plot_shannonEntropy_root)"
   ]
  },
  {
   "cell_type": "markdown",
   "metadata": {},
   "source": [
    "fig, ax = plt.subplots(figsize=(16, 10))\n",
    "ax.axvline(c='black', lw=1)\n",
    "ax.axhline(c='black', lw=1)\n",
    "\n",
    "cm = plt.get_cmap('PiYG')\n",
    "plt.xlim(0, 4)\n",
    "plt.ylim(-1, 14)\n",
    "plt.plot(kappa_values, plot_coupledEntropy, label='Coupled Entropy',\n",
    "         color='blue')\n",
    "plt.plot(kappa_values, plot_tsallisEntropyNormalized, label='Normalized Tsallis Entropy',\n",
    "         color='green')\n",
    "plt.plot(kappa_values, plot_tsallisEntropy, label='Tsallis Entropy',\n",
    "         color='orange')\n",
    "plt.plot(kappa_values, plot_shannonEntropy, label='Shannon Entropy',\n",
    "         color='red')\n",
    "\n",
    "plt.grid()\n",
    "plt.title(f'Multivariate Gaussian {(mu), (cov)} with alpha = {alpha}', fontsize=20)\n",
    "plt.xlabel('kappa values', fontsize=15)\n",
    "plt.ylabel('Entropy/Entopy Root')\n",
    "plt.legend()\n",
    "plt.show();"
   ]
  },
  {
   "cell_type": "markdown",
   "metadata": {},
   "source": [
    "fig, ax = plt.subplots(figsize=(16, 10))\n",
    "ax.axvline(c='black', lw=1)\n",
    "ax.axhline(c='black', lw=1)\n",
    "\n",
    "cm = plt.get_cmap('PiYG')\n",
    "plt.xlim(0, 4)\n",
    "#plt.ylim(-1, 6)\n",
    "\n",
    "plt.plot(kappa_values, plot_coupledEntropy_root, label='Coupled Entropy Root',\n",
    "         color='blue')\n",
    "plt.plot(kappa_values, plot_tsallisEntropyRootNormalized, label='Normalized Tsallis Entropy Root',\n",
    "         color='green')\n",
    "plt.plot(kappa_values, plot_tsallisEntropyRoot, label='Tsallis Entropy Root',\n",
    "         color='orange')\n",
    "plt.plot(kappa_values, plot_shannonEntropy_root, label='Shannon Entropy Root',\n",
    "         color='red')\n",
    "plt.grid()\n",
    "plt.title(f'Multivariate Gaussian {mu, cov} with alpha = {alpha}', fontsize=20)\n",
    "plt.xlabel('kappa values', fontsize=15)\n",
    "plt.ylabel('Entropy/Entopy Root')\n",
    "plt.legend()\n",
    "plt.show();"
   ]
  }
 ],
 "metadata": {
  "kernelspec": {
   "display_name": "Python 3",
   "language": "python",
   "name": "python3"
  },
  "language_info": {
   "codemirror_mode": {
    "name": "ipython",
    "version": 3
   },
   "file_extension": ".py",
   "mimetype": "text/x-python",
   "name": "python",
   "nbconvert_exporter": "python",
   "pygments_lexer": "ipython3",
   "version": "3.8.5"
  }
 },
 "nbformat": 4,
 "nbformat_minor": 4
}
