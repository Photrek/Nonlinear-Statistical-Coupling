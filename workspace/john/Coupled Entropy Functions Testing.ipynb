{
 "cells": [
  {
   "cell_type": "markdown",
   "metadata": {},
   "source": [
    "# Testing the *CoupledNormal* and *MultivariateCoupledNormal* Classes\n",
    "\n",
    "## I. Importing Libraries and Defining Distributions"
   ]
  },
  {
   "cell_type": "code",
   "execution_count": 1,
   "metadata": {},
   "outputs": [
    {
     "name": "stdout",
     "output_type": "stream",
     "text": [
      "Importing NSC lib v0.0.2.17.\n"
     ]
    }
   ],
   "source": [
    "import nsc\n",
    "from nsc.distributions import CoupledNormal, MultivariateCoupledNormal\n",
    "import coupled_entropy_functions as cef\n",
    "import numpy as np\n",
    "import matplotlib.pyplot as plt\n",
    "from scipy.stats import norm, cauchy, multivariate_normal\n",
    "from scipy.integrate import nquad\n",
    "\n",
    "# Create a standard normal distribution, cauchy distribution, and \n",
    "# a standard bivariate normal distribution using the nsc distribution\n",
    "# classes and scipy.\n",
    "loc, scale = 0., 1.\n",
    "alpha = 2\n",
    "nsc_normal = CoupledNormal(loc=loc, \n",
    "                           scale=scale, \n",
    "                           kappa=0., \n",
    "                           alpha=alpha)\n",
    "nsc_cauchy = CoupledNormal(loc=loc, \n",
    "                           scale=scale, \n",
    "                           kappa=1., \n",
    "                           alpha=alpha)\n",
    "nsc_2Dn = MultivariateCoupledNormal(loc=[loc, loc], \n",
    "                                    scale=[scale, scale], \n",
    "                                    kappa=0.)\n",
    "nsc_3Dn = MultivariateCoupledNormal(loc=[loc, loc, loc], \n",
    "                                    scale=[scale, scale, scale], \n",
    "                                    kappa=0.)\n",
    "\n",
    "\n",
    "scipy_normal = norm(loc=loc, \n",
    "                    scale=scale)\n",
    "scipy_cauchy = cauchy(loc=loc, \n",
    "                      scale=scale)\n",
    "scipy_mvn = multivariate_normal(mean=[loc, loc], \n",
    "                                cov=[scale, scale])\n",
    "\n",
    "# Define a support for the scipy normal and multivariate normal.\n",
    "support_normal = [[-26, 26]]\n",
    "support_scipy_mvn = [[-18, 18], [-18, 18]]\n",
    "# Define supports for the distributions from nsc and scipy's cauchy.\n",
    "support_inf = [[-np.inf, np.inf]]\n",
    "support_inf_2D = [[-np.inf, np.inf], [-np.inf, np.inf]]\n",
    "support_inf_3D = [[-np.inf, np.inf], [-np.inf, np.inf], [-np.inf, np.inf]]"
   ]
  },
  {
   "cell_type": "markdown",
   "metadata": {},
   "source": [
    "## II. Checking the PDFs integrate to 1"
   ]
  },
  {
   "cell_type": "code",
   "execution_count": 13,
   "metadata": {},
   "outputs": [
    {
     "name": "stdout",
     "output_type": "stream",
     "text": [
      "0:00:00.004860\n",
      "0:00:00.004313\n",
      "0:00:02.708164\n"
     ]
    },
    {
     "ename": "KeyboardInterrupt",
     "evalue": "",
     "output_type": "error",
     "traceback": [
      "\u001b[1;31m---------------------------------------------------------------------------\u001b[0m",
      "\u001b[1;31mKeyboardInterrupt\u001b[0m                         Traceback (most recent call last)",
      "\u001b[1;32m<ipython-input-13-abfa09b4573f>\u001b[0m in \u001b[0;36m<module>\u001b[1;34m\u001b[0m\n\u001b[0;32m     37\u001b[0m \u001b[1;33m\u001b[0m\u001b[0m\n\u001b[0;32m     38\u001b[0m \u001b[0mstart_time\u001b[0m \u001b[1;33m=\u001b[0m \u001b[0mdatetime\u001b[0m\u001b[1;33m.\u001b[0m\u001b[0mnow\u001b[0m\u001b[1;33m(\u001b[0m\u001b[1;33m)\u001b[0m\u001b[1;33m\u001b[0m\u001b[1;33m\u001b[0m\u001b[0m\n\u001b[1;32m---> 39\u001b[1;33m nsc_3Dn_integration = nquad(nsc_3Dn_pdf, \n\u001b[0m\u001b[0;32m     40\u001b[0m                             \u001b[0msupport_inf_3D\u001b[0m\u001b[1;33m,\u001b[0m\u001b[1;33m\u001b[0m\u001b[1;33m\u001b[0m\u001b[0m\n\u001b[0;32m     41\u001b[0m                             opts={'epsabs': epsabs})[0]\n",
      "\u001b[1;32m~\\anaconda3\\lib\\site-packages\\scipy\\integrate\\quadpack.py\u001b[0m in \u001b[0;36mnquad\u001b[1;34m(func, ranges, args, opts, full_output)\u001b[0m\n\u001b[0;32m    824\u001b[0m     \u001b[1;32melse\u001b[0m\u001b[1;33m:\u001b[0m\u001b[1;33m\u001b[0m\u001b[1;33m\u001b[0m\u001b[0m\n\u001b[0;32m    825\u001b[0m         \u001b[0mopts\u001b[0m \u001b[1;33m=\u001b[0m \u001b[1;33m[\u001b[0m\u001b[0mopt\u001b[0m \u001b[1;32mif\u001b[0m \u001b[0mcallable\u001b[0m\u001b[1;33m(\u001b[0m\u001b[0mopt\u001b[0m\u001b[1;33m)\u001b[0m \u001b[1;32melse\u001b[0m \u001b[0m_OptFunc\u001b[0m\u001b[1;33m(\u001b[0m\u001b[0mopt\u001b[0m\u001b[1;33m)\u001b[0m \u001b[1;32mfor\u001b[0m \u001b[0mopt\u001b[0m \u001b[1;32min\u001b[0m \u001b[0mopts\u001b[0m\u001b[1;33m]\u001b[0m\u001b[1;33m\u001b[0m\u001b[1;33m\u001b[0m\u001b[0m\n\u001b[1;32m--> 826\u001b[1;33m     \u001b[1;32mreturn\u001b[0m \u001b[0m_NQuad\u001b[0m\u001b[1;33m(\u001b[0m\u001b[0mfunc\u001b[0m\u001b[1;33m,\u001b[0m \u001b[0mranges\u001b[0m\u001b[1;33m,\u001b[0m \u001b[0mopts\u001b[0m\u001b[1;33m,\u001b[0m \u001b[0mfull_output\u001b[0m\u001b[1;33m)\u001b[0m\u001b[1;33m.\u001b[0m\u001b[0mintegrate\u001b[0m\u001b[1;33m(\u001b[0m\u001b[1;33m*\u001b[0m\u001b[0margs\u001b[0m\u001b[1;33m)\u001b[0m\u001b[1;33m\u001b[0m\u001b[1;33m\u001b[0m\u001b[0m\n\u001b[0m\u001b[0;32m    827\u001b[0m \u001b[1;33m\u001b[0m\u001b[0m\n\u001b[0;32m    828\u001b[0m \u001b[1;33m\u001b[0m\u001b[0m\n",
      "\u001b[1;32m~\\anaconda3\\lib\\site-packages\\scipy\\integrate\\quadpack.py\u001b[0m in \u001b[0;36mintegrate\u001b[1;34m(self, *args, **kwargs)\u001b[0m\n\u001b[0;32m    878\u001b[0m         \u001b[1;32melse\u001b[0m\u001b[1;33m:\u001b[0m\u001b[1;33m\u001b[0m\u001b[1;33m\u001b[0m\u001b[0m\n\u001b[0;32m    879\u001b[0m             \u001b[0mf\u001b[0m \u001b[1;33m=\u001b[0m \u001b[0mpartial\u001b[0m\u001b[1;33m(\u001b[0m\u001b[0mself\u001b[0m\u001b[1;33m.\u001b[0m\u001b[0mintegrate\u001b[0m\u001b[1;33m,\u001b[0m \u001b[0mdepth\u001b[0m\u001b[1;33m=\u001b[0m\u001b[0mdepth\u001b[0m\u001b[1;33m+\u001b[0m\u001b[1;36m1\u001b[0m\u001b[1;33m)\u001b[0m\u001b[1;33m\u001b[0m\u001b[1;33m\u001b[0m\u001b[0m\n\u001b[1;32m--> 880\u001b[1;33m         quad_r = quad(f, low, high, args=args, full_output=self.full_output,\n\u001b[0m\u001b[0;32m    881\u001b[0m                       **opt)\n\u001b[0;32m    882\u001b[0m         \u001b[0mvalue\u001b[0m \u001b[1;33m=\u001b[0m \u001b[0mquad_r\u001b[0m\u001b[1;33m[\u001b[0m\u001b[1;36m0\u001b[0m\u001b[1;33m]\u001b[0m\u001b[1;33m\u001b[0m\u001b[1;33m\u001b[0m\u001b[0m\n",
      "\u001b[1;32m~\\anaconda3\\lib\\site-packages\\scipy\\integrate\\quadpack.py\u001b[0m in \u001b[0;36mquad\u001b[1;34m(func, a, b, args, full_output, epsabs, epsrel, limit, points, weight, wvar, wopts, maxp1, limlst)\u001b[0m\n\u001b[0;32m    349\u001b[0m \u001b[1;33m\u001b[0m\u001b[0m\n\u001b[0;32m    350\u001b[0m     \u001b[1;32mif\u001b[0m \u001b[0mweight\u001b[0m \u001b[1;32mis\u001b[0m \u001b[1;32mNone\u001b[0m\u001b[1;33m:\u001b[0m\u001b[1;33m\u001b[0m\u001b[1;33m\u001b[0m\u001b[0m\n\u001b[1;32m--> 351\u001b[1;33m         retval = _quad(func, a, b, args, full_output, epsabs, epsrel, limit,\n\u001b[0m\u001b[0;32m    352\u001b[0m                        points)\n\u001b[0;32m    353\u001b[0m     \u001b[1;32melse\u001b[0m\u001b[1;33m:\u001b[0m\u001b[1;33m\u001b[0m\u001b[1;33m\u001b[0m\u001b[0m\n",
      "\u001b[1;32m~\\anaconda3\\lib\\site-packages\\scipy\\integrate\\quadpack.py\u001b[0m in \u001b[0;36m_quad\u001b[1;34m(func, a, b, args, full_output, epsabs, epsrel, limit, points)\u001b[0m\n\u001b[0;32m    463\u001b[0m             \u001b[1;32mreturn\u001b[0m \u001b[0m_quadpack\u001b[0m\u001b[1;33m.\u001b[0m\u001b[0m_qagse\u001b[0m\u001b[1;33m(\u001b[0m\u001b[0mfunc\u001b[0m\u001b[1;33m,\u001b[0m\u001b[0ma\u001b[0m\u001b[1;33m,\u001b[0m\u001b[0mb\u001b[0m\u001b[1;33m,\u001b[0m\u001b[0margs\u001b[0m\u001b[1;33m,\u001b[0m\u001b[0mfull_output\u001b[0m\u001b[1;33m,\u001b[0m\u001b[0mepsabs\u001b[0m\u001b[1;33m,\u001b[0m\u001b[0mepsrel\u001b[0m\u001b[1;33m,\u001b[0m\u001b[0mlimit\u001b[0m\u001b[1;33m)\u001b[0m\u001b[1;33m\u001b[0m\u001b[1;33m\u001b[0m\u001b[0m\n\u001b[0;32m    464\u001b[0m         \u001b[1;32melse\u001b[0m\u001b[1;33m:\u001b[0m\u001b[1;33m\u001b[0m\u001b[1;33m\u001b[0m\u001b[0m\n\u001b[1;32m--> 465\u001b[1;33m             \u001b[1;32mreturn\u001b[0m \u001b[0m_quadpack\u001b[0m\u001b[1;33m.\u001b[0m\u001b[0m_qagie\u001b[0m\u001b[1;33m(\u001b[0m\u001b[0mfunc\u001b[0m\u001b[1;33m,\u001b[0m\u001b[0mbound\u001b[0m\u001b[1;33m,\u001b[0m\u001b[0minfbounds\u001b[0m\u001b[1;33m,\u001b[0m\u001b[0margs\u001b[0m\u001b[1;33m,\u001b[0m\u001b[0mfull_output\u001b[0m\u001b[1;33m,\u001b[0m\u001b[0mepsabs\u001b[0m\u001b[1;33m,\u001b[0m\u001b[0mepsrel\u001b[0m\u001b[1;33m,\u001b[0m\u001b[0mlimit\u001b[0m\u001b[1;33m)\u001b[0m\u001b[1;33m\u001b[0m\u001b[1;33m\u001b[0m\u001b[0m\n\u001b[0m\u001b[0;32m    466\u001b[0m     \u001b[1;32melse\u001b[0m\u001b[1;33m:\u001b[0m\u001b[1;33m\u001b[0m\u001b[1;33m\u001b[0m\u001b[0m\n\u001b[0;32m    467\u001b[0m         \u001b[1;32mif\u001b[0m \u001b[0minfbounds\u001b[0m \u001b[1;33m!=\u001b[0m \u001b[1;36m0\u001b[0m\u001b[1;33m:\u001b[0m\u001b[1;33m\u001b[0m\u001b[1;33m\u001b[0m\u001b[0m\n",
      "\u001b[1;32m~\\anaconda3\\lib\\site-packages\\scipy\\integrate\\quadpack.py\u001b[0m in \u001b[0;36mintegrate\u001b[1;34m(self, *args, **kwargs)\u001b[0m\n\u001b[0;32m    878\u001b[0m         \u001b[1;32melse\u001b[0m\u001b[1;33m:\u001b[0m\u001b[1;33m\u001b[0m\u001b[1;33m\u001b[0m\u001b[0m\n\u001b[0;32m    879\u001b[0m             \u001b[0mf\u001b[0m \u001b[1;33m=\u001b[0m \u001b[0mpartial\u001b[0m\u001b[1;33m(\u001b[0m\u001b[0mself\u001b[0m\u001b[1;33m.\u001b[0m\u001b[0mintegrate\u001b[0m\u001b[1;33m,\u001b[0m \u001b[0mdepth\u001b[0m\u001b[1;33m=\u001b[0m\u001b[0mdepth\u001b[0m\u001b[1;33m+\u001b[0m\u001b[1;36m1\u001b[0m\u001b[1;33m)\u001b[0m\u001b[1;33m\u001b[0m\u001b[1;33m\u001b[0m\u001b[0m\n\u001b[1;32m--> 880\u001b[1;33m         quad_r = quad(f, low, high, args=args, full_output=self.full_output,\n\u001b[0m\u001b[0;32m    881\u001b[0m                       **opt)\n\u001b[0;32m    882\u001b[0m         \u001b[0mvalue\u001b[0m \u001b[1;33m=\u001b[0m \u001b[0mquad_r\u001b[0m\u001b[1;33m[\u001b[0m\u001b[1;36m0\u001b[0m\u001b[1;33m]\u001b[0m\u001b[1;33m\u001b[0m\u001b[1;33m\u001b[0m\u001b[0m\n",
      "\u001b[1;32m~\\anaconda3\\lib\\site-packages\\scipy\\integrate\\quadpack.py\u001b[0m in \u001b[0;36mquad\u001b[1;34m(func, a, b, args, full_output, epsabs, epsrel, limit, points, weight, wvar, wopts, maxp1, limlst)\u001b[0m\n\u001b[0;32m    349\u001b[0m \u001b[1;33m\u001b[0m\u001b[0m\n\u001b[0;32m    350\u001b[0m     \u001b[1;32mif\u001b[0m \u001b[0mweight\u001b[0m \u001b[1;32mis\u001b[0m \u001b[1;32mNone\u001b[0m\u001b[1;33m:\u001b[0m\u001b[1;33m\u001b[0m\u001b[1;33m\u001b[0m\u001b[0m\n\u001b[1;32m--> 351\u001b[1;33m         retval = _quad(func, a, b, args, full_output, epsabs, epsrel, limit,\n\u001b[0m\u001b[0;32m    352\u001b[0m                        points)\n\u001b[0;32m    353\u001b[0m     \u001b[1;32melse\u001b[0m\u001b[1;33m:\u001b[0m\u001b[1;33m\u001b[0m\u001b[1;33m\u001b[0m\u001b[0m\n",
      "\u001b[1;32m~\\anaconda3\\lib\\site-packages\\scipy\\integrate\\quadpack.py\u001b[0m in \u001b[0;36m_quad\u001b[1;34m(func, a, b, args, full_output, epsabs, epsrel, limit, points)\u001b[0m\n\u001b[0;32m    463\u001b[0m             \u001b[1;32mreturn\u001b[0m \u001b[0m_quadpack\u001b[0m\u001b[1;33m.\u001b[0m\u001b[0m_qagse\u001b[0m\u001b[1;33m(\u001b[0m\u001b[0mfunc\u001b[0m\u001b[1;33m,\u001b[0m\u001b[0ma\u001b[0m\u001b[1;33m,\u001b[0m\u001b[0mb\u001b[0m\u001b[1;33m,\u001b[0m\u001b[0margs\u001b[0m\u001b[1;33m,\u001b[0m\u001b[0mfull_output\u001b[0m\u001b[1;33m,\u001b[0m\u001b[0mepsabs\u001b[0m\u001b[1;33m,\u001b[0m\u001b[0mepsrel\u001b[0m\u001b[1;33m,\u001b[0m\u001b[0mlimit\u001b[0m\u001b[1;33m)\u001b[0m\u001b[1;33m\u001b[0m\u001b[1;33m\u001b[0m\u001b[0m\n\u001b[0;32m    464\u001b[0m         \u001b[1;32melse\u001b[0m\u001b[1;33m:\u001b[0m\u001b[1;33m\u001b[0m\u001b[1;33m\u001b[0m\u001b[0m\n\u001b[1;32m--> 465\u001b[1;33m             \u001b[1;32mreturn\u001b[0m \u001b[0m_quadpack\u001b[0m\u001b[1;33m.\u001b[0m\u001b[0m_qagie\u001b[0m\u001b[1;33m(\u001b[0m\u001b[0mfunc\u001b[0m\u001b[1;33m,\u001b[0m\u001b[0mbound\u001b[0m\u001b[1;33m,\u001b[0m\u001b[0minfbounds\u001b[0m\u001b[1;33m,\u001b[0m\u001b[0margs\u001b[0m\u001b[1;33m,\u001b[0m\u001b[0mfull_output\u001b[0m\u001b[1;33m,\u001b[0m\u001b[0mepsabs\u001b[0m\u001b[1;33m,\u001b[0m\u001b[0mepsrel\u001b[0m\u001b[1;33m,\u001b[0m\u001b[0mlimit\u001b[0m\u001b[1;33m)\u001b[0m\u001b[1;33m\u001b[0m\u001b[1;33m\u001b[0m\u001b[0m\n\u001b[0m\u001b[0;32m    466\u001b[0m     \u001b[1;32melse\u001b[0m\u001b[1;33m:\u001b[0m\u001b[1;33m\u001b[0m\u001b[1;33m\u001b[0m\u001b[0m\n\u001b[0;32m    467\u001b[0m         \u001b[1;32mif\u001b[0m \u001b[0minfbounds\u001b[0m \u001b[1;33m!=\u001b[0m \u001b[1;36m0\u001b[0m\u001b[1;33m:\u001b[0m\u001b[1;33m\u001b[0m\u001b[1;33m\u001b[0m\u001b[0m\n",
      "\u001b[1;32m~\\anaconda3\\lib\\site-packages\\scipy\\integrate\\quadpack.py\u001b[0m in \u001b[0;36mintegrate\u001b[1;34m(self, *args, **kwargs)\u001b[0m\n\u001b[0;32m    878\u001b[0m         \u001b[1;32melse\u001b[0m\u001b[1;33m:\u001b[0m\u001b[1;33m\u001b[0m\u001b[1;33m\u001b[0m\u001b[0m\n\u001b[0;32m    879\u001b[0m             \u001b[0mf\u001b[0m \u001b[1;33m=\u001b[0m \u001b[0mpartial\u001b[0m\u001b[1;33m(\u001b[0m\u001b[0mself\u001b[0m\u001b[1;33m.\u001b[0m\u001b[0mintegrate\u001b[0m\u001b[1;33m,\u001b[0m \u001b[0mdepth\u001b[0m\u001b[1;33m=\u001b[0m\u001b[0mdepth\u001b[0m\u001b[1;33m+\u001b[0m\u001b[1;36m1\u001b[0m\u001b[1;33m)\u001b[0m\u001b[1;33m\u001b[0m\u001b[1;33m\u001b[0m\u001b[0m\n\u001b[1;32m--> 880\u001b[1;33m         quad_r = quad(f, low, high, args=args, full_output=self.full_output,\n\u001b[0m\u001b[0;32m    881\u001b[0m                       **opt)\n\u001b[0;32m    882\u001b[0m         \u001b[0mvalue\u001b[0m \u001b[1;33m=\u001b[0m \u001b[0mquad_r\u001b[0m\u001b[1;33m[\u001b[0m\u001b[1;36m0\u001b[0m\u001b[1;33m]\u001b[0m\u001b[1;33m\u001b[0m\u001b[1;33m\u001b[0m\u001b[0m\n",
      "\u001b[1;32m~\\anaconda3\\lib\\site-packages\\scipy\\integrate\\quadpack.py\u001b[0m in \u001b[0;36mquad\u001b[1;34m(func, a, b, args, full_output, epsabs, epsrel, limit, points, weight, wvar, wopts, maxp1, limlst)\u001b[0m\n\u001b[0;32m    349\u001b[0m \u001b[1;33m\u001b[0m\u001b[0m\n\u001b[0;32m    350\u001b[0m     \u001b[1;32mif\u001b[0m \u001b[0mweight\u001b[0m \u001b[1;32mis\u001b[0m \u001b[1;32mNone\u001b[0m\u001b[1;33m:\u001b[0m\u001b[1;33m\u001b[0m\u001b[1;33m\u001b[0m\u001b[0m\n\u001b[1;32m--> 351\u001b[1;33m         retval = _quad(func, a, b, args, full_output, epsabs, epsrel, limit,\n\u001b[0m\u001b[0;32m    352\u001b[0m                        points)\n\u001b[0;32m    353\u001b[0m     \u001b[1;32melse\u001b[0m\u001b[1;33m:\u001b[0m\u001b[1;33m\u001b[0m\u001b[1;33m\u001b[0m\u001b[0m\n",
      "\u001b[1;32m~\\anaconda3\\lib\\site-packages\\scipy\\integrate\\quadpack.py\u001b[0m in \u001b[0;36m_quad\u001b[1;34m(func, a, b, args, full_output, epsabs, epsrel, limit, points)\u001b[0m\n\u001b[0;32m    463\u001b[0m             \u001b[1;32mreturn\u001b[0m \u001b[0m_quadpack\u001b[0m\u001b[1;33m.\u001b[0m\u001b[0m_qagse\u001b[0m\u001b[1;33m(\u001b[0m\u001b[0mfunc\u001b[0m\u001b[1;33m,\u001b[0m\u001b[0ma\u001b[0m\u001b[1;33m,\u001b[0m\u001b[0mb\u001b[0m\u001b[1;33m,\u001b[0m\u001b[0margs\u001b[0m\u001b[1;33m,\u001b[0m\u001b[0mfull_output\u001b[0m\u001b[1;33m,\u001b[0m\u001b[0mepsabs\u001b[0m\u001b[1;33m,\u001b[0m\u001b[0mepsrel\u001b[0m\u001b[1;33m,\u001b[0m\u001b[0mlimit\u001b[0m\u001b[1;33m)\u001b[0m\u001b[1;33m\u001b[0m\u001b[1;33m\u001b[0m\u001b[0m\n\u001b[0;32m    464\u001b[0m         \u001b[1;32melse\u001b[0m\u001b[1;33m:\u001b[0m\u001b[1;33m\u001b[0m\u001b[1;33m\u001b[0m\u001b[0m\n\u001b[1;32m--> 465\u001b[1;33m             \u001b[1;32mreturn\u001b[0m \u001b[0m_quadpack\u001b[0m\u001b[1;33m.\u001b[0m\u001b[0m_qagie\u001b[0m\u001b[1;33m(\u001b[0m\u001b[0mfunc\u001b[0m\u001b[1;33m,\u001b[0m\u001b[0mbound\u001b[0m\u001b[1;33m,\u001b[0m\u001b[0minfbounds\u001b[0m\u001b[1;33m,\u001b[0m\u001b[0margs\u001b[0m\u001b[1;33m,\u001b[0m\u001b[0mfull_output\u001b[0m\u001b[1;33m,\u001b[0m\u001b[0mepsabs\u001b[0m\u001b[1;33m,\u001b[0m\u001b[0mepsrel\u001b[0m\u001b[1;33m,\u001b[0m\u001b[0mlimit\u001b[0m\u001b[1;33m)\u001b[0m\u001b[1;33m\u001b[0m\u001b[1;33m\u001b[0m\u001b[0m\n\u001b[0m\u001b[0;32m    466\u001b[0m     \u001b[1;32melse\u001b[0m\u001b[1;33m:\u001b[0m\u001b[1;33m\u001b[0m\u001b[1;33m\u001b[0m\u001b[0m\n\u001b[0;32m    467\u001b[0m         \u001b[1;32mif\u001b[0m \u001b[0minfbounds\u001b[0m \u001b[1;33m!=\u001b[0m \u001b[1;36m0\u001b[0m\u001b[1;33m:\u001b[0m\u001b[1;33m\u001b[0m\u001b[1;33m\u001b[0m\u001b[0m\n",
      "\u001b[1;32m<ipython-input-13-abfa09b4573f>\u001b[0m in \u001b[0;36mnsc_3Dn_pdf\u001b[1;34m(*args)\u001b[0m\n\u001b[0;32m     15\u001b[0m \u001b[1;32mdef\u001b[0m \u001b[0mnsc_3Dn_pdf\u001b[0m\u001b[1;33m(\u001b[0m\u001b[1;33m*\u001b[0m\u001b[0margs\u001b[0m\u001b[1;33m)\u001b[0m\u001b[1;33m:\u001b[0m\u001b[1;33m\u001b[0m\u001b[1;33m\u001b[0m\u001b[0m\n\u001b[0;32m     16\u001b[0m     \u001b[0mx\u001b[0m \u001b[1;33m=\u001b[0m \u001b[0mnp\u001b[0m\u001b[1;33m.\u001b[0m\u001b[0marray\u001b[0m\u001b[1;33m(\u001b[0m\u001b[1;33m[\u001b[0m\u001b[0margs\u001b[0m\u001b[1;33m]\u001b[0m\u001b[1;33m)\u001b[0m\u001b[1;33m\u001b[0m\u001b[1;33m\u001b[0m\u001b[0m\n\u001b[1;32m---> 17\u001b[1;33m     \u001b[1;32mreturn\u001b[0m \u001b[0mnsc_3Dn\u001b[0m\u001b[1;33m.\u001b[0m\u001b[0mprob\u001b[0m\u001b[1;33m(\u001b[0m\u001b[0mx\u001b[0m\u001b[1;33m,\u001b[0m \u001b[0mbeta_func\u001b[0m\u001b[1;33m=\u001b[0m\u001b[1;32mTrue\u001b[0m\u001b[1;33m)\u001b[0m\u001b[1;33m\u001b[0m\u001b[1;33m\u001b[0m\u001b[0m\n\u001b[0m\u001b[0;32m     18\u001b[0m \u001b[1;33m\u001b[0m\u001b[0m\n\u001b[0;32m     19\u001b[0m \u001b[0mepsabs\u001b[0m\u001b[1;33m=\u001b[0m\u001b[1;36m1000000.\u001b[0m\u001b[1;33m\u001b[0m\u001b[1;33m\u001b[0m\u001b[0m\n",
      "\u001b[1;32m~\\anaconda3\\lib\\site-packages\\nsc\\distributions\\multivariate_coupled_normal.py\u001b[0m in \u001b[0;36mprob\u001b[1;34m(self, X, beta_func)\u001b[0m\n\u001b[0;32m     91\u001b[0m         \u001b[0msigma_inv\u001b[0m \u001b[1;33m=\u001b[0m \u001b[0mnp\u001b[0m\u001b[1;33m.\u001b[0m\u001b[0mlinalg\u001b[0m\u001b[1;33m.\u001b[0m\u001b[0minv\u001b[0m\u001b[1;33m(\u001b[0m\u001b[0msigma\u001b[0m\u001b[1;33m)\u001b[0m\u001b[1;33m\u001b[0m\u001b[1;33m\u001b[0m\u001b[0m\n\u001b[0;32m     92\u001b[0m         \u001b[0m_normalized_X\u001b[0m \u001b[1;33m=\u001b[0m \u001b[1;32mlambda\u001b[0m \u001b[0mx\u001b[0m\u001b[1;33m:\u001b[0m \u001b[0mnp\u001b[0m\u001b[1;33m.\u001b[0m\u001b[0mlinalg\u001b[0m\u001b[1;33m.\u001b[0m\u001b[0mmulti_dot\u001b[0m\u001b[1;33m(\u001b[0m\u001b[1;33m[\u001b[0m\u001b[0mx\u001b[0m\u001b[1;33m,\u001b[0m \u001b[0msigma_inv\u001b[0m\u001b[1;33m,\u001b[0m \u001b[0mx\u001b[0m\u001b[1;33m]\u001b[0m\u001b[1;33m)\u001b[0m\u001b[1;33m\u001b[0m\u001b[1;33m\u001b[0m\u001b[0m\n\u001b[1;32m---> 93\u001b[1;33m         \u001b[0mX_norm\u001b[0m \u001b[1;33m=\u001b[0m \u001b[0mnp\u001b[0m\u001b[1;33m.\u001b[0m\u001b[0mapply_along_axis\u001b[0m\u001b[1;33m(\u001b[0m\u001b[0m_normalized_X\u001b[0m\u001b[1;33m,\u001b[0m \u001b[1;36m1\u001b[0m\u001b[1;33m,\u001b[0m \u001b[0mX\u001b[0m\u001b[1;33m)\u001b[0m\u001b[1;33m\u001b[0m\u001b[1;33m\u001b[0m\u001b[0m\n\u001b[0m\u001b[0;32m     94\u001b[0m         \u001b[0mnorm_term\u001b[0m \u001b[1;33m=\u001b[0m \u001b[0mself\u001b[0m\u001b[1;33m.\u001b[0m\u001b[0m_normalized_term\u001b[0m\u001b[1;33m(\u001b[0m\u001b[0mbeta_func\u001b[0m\u001b[1;33m)\u001b[0m\u001b[1;33m\u001b[0m\u001b[1;33m\u001b[0m\u001b[0m\n\u001b[0;32m     95\u001b[0m         \u001b[0mp\u001b[0m \u001b[1;33m=\u001b[0m \u001b[1;33m(\u001b[0m\u001b[0mcoupled_exponential\u001b[0m\u001b[1;33m(\u001b[0m\u001b[0mX_norm\u001b[0m\u001b[1;33m,\u001b[0m \u001b[0mself\u001b[0m\u001b[1;33m.\u001b[0m\u001b[0m_kappa\u001b[0m\u001b[1;33m,\u001b[0m \u001b[0mself\u001b[0m\u001b[1;33m.\u001b[0m\u001b[0m_dim\u001b[0m\u001b[1;33m)\u001b[0m\u001b[1;33m)\u001b[0m\u001b[1;33m**\u001b[0m\u001b[1;33m(\u001b[0m\u001b[1;33m-\u001b[0m\u001b[1;36m1\u001b[0m\u001b[1;33m/\u001b[0m\u001b[0mself\u001b[0m\u001b[1;33m.\u001b[0m\u001b[0m_alpha\u001b[0m\u001b[1;33m)\u001b[0m \u001b[1;33m/\u001b[0m \u001b[0mnorm_term\u001b[0m\u001b[1;33m\u001b[0m\u001b[1;33m\u001b[0m\u001b[0m\n",
      "\u001b[1;32m<__array_function__ internals>\u001b[0m in \u001b[0;36mapply_along_axis\u001b[1;34m(*args, **kwargs)\u001b[0m\n",
      "\u001b[1;32m~\\anaconda3\\lib\\site-packages\\numpy\\lib\\shape_base.py\u001b[0m in \u001b[0;36mapply_along_axis\u001b[1;34m(func1d, axis, arr, *args, **kwargs)\u001b[0m\n\u001b[0;32m    377\u001b[0m             \u001b[1;34m'Cannot apply_along_axis when any iteration dimensions are 0'\u001b[0m\u001b[1;33m\u001b[0m\u001b[1;33m\u001b[0m\u001b[0m\n\u001b[0;32m    378\u001b[0m         ) from None\n\u001b[1;32m--> 379\u001b[1;33m     \u001b[0mres\u001b[0m \u001b[1;33m=\u001b[0m \u001b[0masanyarray\u001b[0m\u001b[1;33m(\u001b[0m\u001b[0mfunc1d\u001b[0m\u001b[1;33m(\u001b[0m\u001b[0minarr_view\u001b[0m\u001b[1;33m[\u001b[0m\u001b[0mind0\u001b[0m\u001b[1;33m]\u001b[0m\u001b[1;33m,\u001b[0m \u001b[1;33m*\u001b[0m\u001b[0margs\u001b[0m\u001b[1;33m,\u001b[0m \u001b[1;33m**\u001b[0m\u001b[0mkwargs\u001b[0m\u001b[1;33m)\u001b[0m\u001b[1;33m)\u001b[0m\u001b[1;33m\u001b[0m\u001b[1;33m\u001b[0m\u001b[0m\n\u001b[0m\u001b[0;32m    380\u001b[0m \u001b[1;33m\u001b[0m\u001b[0m\n\u001b[0;32m    381\u001b[0m     \u001b[1;31m# build a buffer for storing evaluations of func1d.\u001b[0m\u001b[1;33m\u001b[0m\u001b[1;33m\u001b[0m\u001b[1;33m\u001b[0m\u001b[0m\n",
      "\u001b[1;32m~\\anaconda3\\lib\\site-packages\\nsc\\distributions\\multivariate_coupled_normal.py\u001b[0m in \u001b[0;36m<lambda>\u001b[1;34m(x)\u001b[0m\n\u001b[0;32m     90\u001b[0m         \u001b[0msigma\u001b[0m \u001b[1;33m=\u001b[0m \u001b[0mnp\u001b[0m\u001b[1;33m.\u001b[0m\u001b[0mmatmul\u001b[0m\u001b[1;33m(\u001b[0m\u001b[0mself\u001b[0m\u001b[1;33m.\u001b[0m\u001b[0m_scale\u001b[0m\u001b[1;33m,\u001b[0m \u001b[0mself\u001b[0m\u001b[1;33m.\u001b[0m\u001b[0m_scale\u001b[0m\u001b[1;33m)\u001b[0m\u001b[1;33m\u001b[0m\u001b[1;33m\u001b[0m\u001b[0m\n\u001b[0;32m     91\u001b[0m         \u001b[0msigma_inv\u001b[0m \u001b[1;33m=\u001b[0m \u001b[0mnp\u001b[0m\u001b[1;33m.\u001b[0m\u001b[0mlinalg\u001b[0m\u001b[1;33m.\u001b[0m\u001b[0minv\u001b[0m\u001b[1;33m(\u001b[0m\u001b[0msigma\u001b[0m\u001b[1;33m)\u001b[0m\u001b[1;33m\u001b[0m\u001b[1;33m\u001b[0m\u001b[0m\n\u001b[1;32m---> 92\u001b[1;33m         \u001b[0m_normalized_X\u001b[0m \u001b[1;33m=\u001b[0m \u001b[1;32mlambda\u001b[0m \u001b[0mx\u001b[0m\u001b[1;33m:\u001b[0m \u001b[0mnp\u001b[0m\u001b[1;33m.\u001b[0m\u001b[0mlinalg\u001b[0m\u001b[1;33m.\u001b[0m\u001b[0mmulti_dot\u001b[0m\u001b[1;33m(\u001b[0m\u001b[1;33m[\u001b[0m\u001b[0mx\u001b[0m\u001b[1;33m,\u001b[0m \u001b[0msigma_inv\u001b[0m\u001b[1;33m,\u001b[0m \u001b[0mx\u001b[0m\u001b[1;33m]\u001b[0m\u001b[1;33m)\u001b[0m\u001b[1;33m\u001b[0m\u001b[1;33m\u001b[0m\u001b[0m\n\u001b[0m\u001b[0;32m     93\u001b[0m         \u001b[0mX_norm\u001b[0m \u001b[1;33m=\u001b[0m \u001b[0mnp\u001b[0m\u001b[1;33m.\u001b[0m\u001b[0mapply_along_axis\u001b[0m\u001b[1;33m(\u001b[0m\u001b[0m_normalized_X\u001b[0m\u001b[1;33m,\u001b[0m \u001b[1;36m1\u001b[0m\u001b[1;33m,\u001b[0m \u001b[0mX\u001b[0m\u001b[1;33m)\u001b[0m\u001b[1;33m\u001b[0m\u001b[1;33m\u001b[0m\u001b[0m\n\u001b[0;32m     94\u001b[0m         \u001b[0mnorm_term\u001b[0m \u001b[1;33m=\u001b[0m \u001b[0mself\u001b[0m\u001b[1;33m.\u001b[0m\u001b[0m_normalized_term\u001b[0m\u001b[1;33m(\u001b[0m\u001b[0mbeta_func\u001b[0m\u001b[1;33m)\u001b[0m\u001b[1;33m\u001b[0m\u001b[1;33m\u001b[0m\u001b[0m\n",
      "\u001b[1;32m<__array_function__ internals>\u001b[0m in \u001b[0;36mmulti_dot\u001b[1;34m(*args, **kwargs)\u001b[0m\n",
      "\u001b[1;32m~\\anaconda3\\lib\\site-packages\\numpy\\linalg\\linalg.py\u001b[0m in \u001b[0;36mmulti_dot\u001b[1;34m(arrays, out)\u001b[0m\n\u001b[0;32m   2726\u001b[0m     \u001b[1;31m# _multi_dot_three is much faster than _multi_dot_matrix_chain_order\u001b[0m\u001b[1;33m\u001b[0m\u001b[1;33m\u001b[0m\u001b[1;33m\u001b[0m\u001b[0m\n\u001b[0;32m   2727\u001b[0m     \u001b[1;32mif\u001b[0m \u001b[0mn\u001b[0m \u001b[1;33m==\u001b[0m \u001b[1;36m3\u001b[0m\u001b[1;33m:\u001b[0m\u001b[1;33m\u001b[0m\u001b[1;33m\u001b[0m\u001b[0m\n\u001b[1;32m-> 2728\u001b[1;33m         \u001b[0mresult\u001b[0m \u001b[1;33m=\u001b[0m \u001b[0m_multi_dot_three\u001b[0m\u001b[1;33m(\u001b[0m\u001b[0marrays\u001b[0m\u001b[1;33m[\u001b[0m\u001b[1;36m0\u001b[0m\u001b[1;33m]\u001b[0m\u001b[1;33m,\u001b[0m \u001b[0marrays\u001b[0m\u001b[1;33m[\u001b[0m\u001b[1;36m1\u001b[0m\u001b[1;33m]\u001b[0m\u001b[1;33m,\u001b[0m \u001b[0marrays\u001b[0m\u001b[1;33m[\u001b[0m\u001b[1;36m2\u001b[0m\u001b[1;33m]\u001b[0m\u001b[1;33m,\u001b[0m \u001b[0mout\u001b[0m\u001b[1;33m=\u001b[0m\u001b[0mout\u001b[0m\u001b[1;33m)\u001b[0m\u001b[1;33m\u001b[0m\u001b[1;33m\u001b[0m\u001b[0m\n\u001b[0m\u001b[0;32m   2729\u001b[0m     \u001b[1;32melse\u001b[0m\u001b[1;33m:\u001b[0m\u001b[1;33m\u001b[0m\u001b[1;33m\u001b[0m\u001b[0m\n\u001b[0;32m   2730\u001b[0m         \u001b[0morder\u001b[0m \u001b[1;33m=\u001b[0m \u001b[0m_multi_dot_matrix_chain_order\u001b[0m\u001b[1;33m(\u001b[0m\u001b[0marrays\u001b[0m\u001b[1;33m)\u001b[0m\u001b[1;33m\u001b[0m\u001b[1;33m\u001b[0m\u001b[0m\n",
      "\u001b[1;32m~\\anaconda3\\lib\\site-packages\\numpy\\linalg\\linalg.py\u001b[0m in \u001b[0;36m_multi_dot_three\u001b[1;34m(A, B, C, out)\u001b[0m\n\u001b[0;32m   2758\u001b[0m         \u001b[1;32mreturn\u001b[0m \u001b[0mdot\u001b[0m\u001b[1;33m(\u001b[0m\u001b[0mdot\u001b[0m\u001b[1;33m(\u001b[0m\u001b[0mA\u001b[0m\u001b[1;33m,\u001b[0m \u001b[0mB\u001b[0m\u001b[1;33m)\u001b[0m\u001b[1;33m,\u001b[0m \u001b[0mC\u001b[0m\u001b[1;33m,\u001b[0m \u001b[0mout\u001b[0m\u001b[1;33m=\u001b[0m\u001b[0mout\u001b[0m\u001b[1;33m)\u001b[0m\u001b[1;33m\u001b[0m\u001b[1;33m\u001b[0m\u001b[0m\n\u001b[0;32m   2759\u001b[0m     \u001b[1;32melse\u001b[0m\u001b[1;33m:\u001b[0m\u001b[1;33m\u001b[0m\u001b[1;33m\u001b[0m\u001b[0m\n\u001b[1;32m-> 2760\u001b[1;33m         \u001b[1;32mreturn\u001b[0m \u001b[0mdot\u001b[0m\u001b[1;33m(\u001b[0m\u001b[0mA\u001b[0m\u001b[1;33m,\u001b[0m \u001b[0mdot\u001b[0m\u001b[1;33m(\u001b[0m\u001b[0mB\u001b[0m\u001b[1;33m,\u001b[0m \u001b[0mC\u001b[0m\u001b[1;33m)\u001b[0m\u001b[1;33m,\u001b[0m \u001b[0mout\u001b[0m\u001b[1;33m=\u001b[0m\u001b[0mout\u001b[0m\u001b[1;33m)\u001b[0m\u001b[1;33m\u001b[0m\u001b[1;33m\u001b[0m\u001b[0m\n\u001b[0m\u001b[0;32m   2761\u001b[0m \u001b[1;33m\u001b[0m\u001b[0m\n\u001b[0;32m   2762\u001b[0m \u001b[1;33m\u001b[0m\u001b[0m\n",
      "\u001b[1;32m<__array_function__ internals>\u001b[0m in \u001b[0;36mdot\u001b[1;34m(*args, **kwargs)\u001b[0m\n",
      "\u001b[1;31mKeyboardInterrupt\u001b[0m: "
     ]
    }
   ],
   "source": [
    "from datetime import datetime\n",
    "\n",
    "def nsc_normal_pdf(*args):\n",
    "    x = np.array(args)\n",
    "    return nsc_normal.prob(x)\n",
    "\n",
    "def nsc_cauchy_pdf(*args):\n",
    "    x = np.array(args)\n",
    "    return nsc_cauchy.prob(x)\n",
    "\n",
    "def nsc_2Dn_pdf(*args):\n",
    "    x = np.array([args])\n",
    "    return nsc_2Dn.prob(x, beta_func=True)\n",
    "\n",
    "def nsc_3Dn_pdf(*args):\n",
    "    x = np.array([args])\n",
    "    return nsc_3Dn.prob(x, beta_func=True)\n",
    "\n",
    "epsabs=1e-3\n",
    "\n",
    "start_time = datetime.now()\n",
    "nsc_normal_integration = nquad(nsc_normal_pdf, \n",
    "                               support_inf,\n",
    "                               opts={'epsabs': epsabs})[0]\n",
    "print(datetime.now() - start_time)\n",
    "\n",
    "start_time = datetime.now()\n",
    "nsc_cauchy_integration = nquad(nsc_cauchy_pdf, \n",
    "                              support_inf)[0]\n",
    "print(datetime.now() - start_time)\n",
    "\n",
    "start_time = datetime.now()\n",
    "nsc_2Dn_integration = nquad(nsc_2Dn_pdf, \n",
    "                            support_inf_2D,\n",
    "                            opts={'epsabs': epsabs})[0]\n",
    "print(datetime.now() - start_time)\n",
    "\n",
    "start_time = datetime.now()\n",
    "nsc_3Dn_integration = nquad(nsc_3Dn_pdf, \n",
    "                            support_inf_3D,\n",
    "                            opts={'epsabs': epsabs})[0]\n",
    "print(datetime.now() - start_time)\n",
    "\n",
    "print(f\"Numerical integral over full support of the nsc normal: {nsc_normal_integration} \\n\")\n",
    "print(f\"Numerical integral over full support of the nsc cauchy: {nsc_cauchy_integration} \\n\")\n",
    "print(f\"Numerical integral over full support of the nsc bivariate normal: {nsc_2Dn_integration} \\n\")\n",
    "print(f\"Numerical integral over full support of the nsc trivariate normal: {nsc_3Dn_integration}\")"
   ]
  },
  {
   "cell_type": "markdown",
   "metadata": {},
   "source": [
    "## III. Checking the K-L Divergences from SciPy Distrtibutions"
   ]
  },
  {
   "cell_type": "code",
   "execution_count": 5,
   "metadata": {},
   "outputs": [
    {
     "name": "stdout",
     "output_type": "stream",
     "text": [
      "0:00:00.163639\n",
      "0:00:00.187914\n",
      "0:00:50.646506\n",
      "K-L Divergence of nsc normal vs scipy normal: 0.0 \n",
      "\n",
      "K-L Divergence of nsc cauchy vs scipy cauchy: 1.3322676295501878e-15 \n",
      "\n",
      "K-L Divergence of nsc bivariate normal vs scipy bivariate normal: 0.0 \n",
      "\n"
     ]
    }
   ],
   "source": [
    "start_time = datetime.now()\n",
    "normal_kl_divergence = cef.coupled_divergence(nsc_normal.prob,\n",
    "                                              scipy_normal.pdf,\n",
    "                                              kappa=0,\n",
    "                                              alpha=2,\n",
    "                                              dim=1,\n",
    "                                              support=support_normal)\n",
    "print(datetime.now() - start_time)\n",
    "\n",
    "start_time = datetime.now()\n",
    "cauchy_kl_divergence = cef.coupled_divergence(nsc_cauchy.prob,\n",
    "                                              scipy_cauchy.pdf,\n",
    "                                              kappa=0,\n",
    "                                              alpha=2,\n",
    "                                              dim=1,\n",
    "                                              support=support_inf)\n",
    "print(datetime.now() - start_time)\n",
    "\n",
    "def nsc_mvn_pdf(x):\n",
    "    x = np.array([x])\n",
    "    return nsc_mvn.prob(x)\n",
    "\n",
    "start_time = datetime.now()\n",
    "mvn_kl_divergence = cef.coupled_divergence(nsc_mvn_pdf,\n",
    "                                           scipy_mvn.pdf,\n",
    "                                           kappa=0,\n",
    "                                           alpha=2,\n",
    "                                           dim=2,\n",
    "                                           support=support_scipy_mvn)\n",
    "print(datetime.now() - start_time)\n",
    "\n",
    "print(f\"K-L Divergence of nsc normal vs scipy normal: {normal_kl_divergence} \\n\")\n",
    "print(f\"K-L Divergence of nsc cauchy vs scipy cauchy: {cauchy_kl_divergence} \\n\")\n",
    "print(f\"K-L Divergence of nsc bivariate normal vs scipy bivariate normal: {mvn_kl_divergence} \\n\")"
   ]
  },
  {
   "cell_type": "markdown",
   "metadata": {},
   "source": [
    "## IV. Testing the *coupled_cross_entropy* functions"
   ]
  },
  {
   "cell_type": "code",
   "execution_count": 4,
   "metadata": {},
   "outputs": [
    {
     "data": {
      "text/plain": [
       "1.8122405410609836"
      ]
     },
     "execution_count": 4,
     "metadata": {},
     "output_type": "execute_result"
    }
   ],
   "source": [
    "cef.coupled_cross_entropy(nsc_normal.prob, \n",
    "                          nsc_cauchy.prob, \n",
    "                          kappa=0, \n",
    "                          alpha=alpha, \n",
    "                          dim=1, \n",
    "                          support=support_inf,\n",
    "                          root=True)"
   ]
  },
  {
   "cell_type": "code",
   "execution_count": 5,
   "metadata": {},
   "outputs": [
    {
     "data": {
      "text/plain": [
       "1.6781830656935353"
      ]
     },
     "execution_count": 5,
     "metadata": {},
     "output_type": "execute_result"
    }
   ],
   "source": [
    "cef.coupled_cross_entropy(nsc_normal.prob, \n",
    "                          nsc_cauchy.prob, \n",
    "                          kappa=0, \n",
    "                          alpha=alpha, \n",
    "                          dim=1, \n",
    "                          support=support_inf,\n",
    "                          root=False)"
   ]
  },
  {
   "cell_type": "markdown",
   "metadata": {},
   "source": [
    "## V. Testing the *coupled_entropy* and *shannon_entropy* functions"
   ]
  },
  {
   "cell_type": "code",
   "execution_count": 6,
   "metadata": {},
   "outputs": [
    {
     "name": "stderr",
     "output_type": "stream",
     "text": [
      "C:\\Users\\jkcle\\Documents\\GitHub\\Nonlinear-Statistical-Coupling\\workspace\\john\\coupled_entropy_functions.py:60: RuntimeWarning: divide by zero encountered in power\n",
      "  return density_func_q(x)**(-alpha)\n",
      "C:\\Users\\jkcle\\Documents\\GitHub\\Nonlinear-Statistical-Coupling\\workspace\\john\\coupled_entropy_functions.py:66: RuntimeWarning: invalid value encountered in multiply\n",
      "  return (my_coupled_probability(x)\n",
      "C:\\Users\\jkcle\\anaconda3\\lib\\site-packages\\scipy\\integrate\\quadpack.py:880: IntegrationWarning: The occurrence of roundoff error is detected, which prevents \n",
      "  the requested tolerance from being achieved.  The error may be \n",
      "  underestimated.\n",
      "  quad_r = quad(f, low, high, args=args, full_output=self.full_output,\n"
     ]
    },
    {
     "data": {
      "text/plain": [
       "nan"
      ]
     },
     "execution_count": 6,
     "metadata": {},
     "output_type": "execute_result"
    }
   ],
   "source": [
    "cef.coupled_entropy(nsc_normal.prob, \n",
    "                    kappa=0, \n",
    "                    alpha=alpha, \n",
    "                    dim=1, \n",
    "                    support=support_inf,\n",
    "                    root=False)"
   ]
  },
  {
   "cell_type": "code",
   "execution_count": 7,
   "metadata": {},
   "outputs": [
    {
     "data": {
      "text/plain": [
       "1.4189385332046731"
      ]
     },
     "execution_count": 7,
     "metadata": {},
     "output_type": "execute_result"
    }
   ],
   "source": [
    "cef.coupled_entropy(nsc_normal.prob, \n",
    "                    kappa=0, \n",
    "                    alpha=alpha, \n",
    "                    dim=1, \n",
    "                    support=support_normal,\n",
    "                    root=False)"
   ]
  },
  {
   "cell_type": "code",
   "execution_count": 8,
   "metadata": {},
   "outputs": [
    {
     "data": {
      "text/plain": [
       "1.6474397726303"
      ]
     },
     "execution_count": 8,
     "metadata": {},
     "output_type": "execute_result"
    }
   ],
   "source": [
    "cef.coupled_entropy(nsc_normal.prob, \n",
    "                    kappa=0, \n",
    "                    alpha=alpha, \n",
    "                    dim=1, \n",
    "                    support=support_normal,\n",
    "                    root=True)"
   ]
  },
  {
   "cell_type": "code",
   "execution_count": 9,
   "metadata": {},
   "outputs": [
    {
     "data": {
      "text/plain": [
       "2.352125624049986"
      ]
     },
     "execution_count": 9,
     "metadata": {},
     "output_type": "execute_result"
    }
   ],
   "source": [
    "cef.coupled_entropy(nsc_cauchy.prob, \n",
    "                    kappa=0, \n",
    "                    alpha=alpha, \n",
    "                    dim=1, \n",
    "                    support=support_normal,\n",
    "                    root=False)"
   ]
  },
  {
   "cell_type": "code",
   "execution_count": 10,
   "metadata": {},
   "outputs": [
    {
     "data": {
      "text/plain": [
       "2.090475807118503"
      ]
     },
     "execution_count": 10,
     "metadata": {},
     "output_type": "execute_result"
    }
   ],
   "source": [
    "cef.coupled_entropy(nsc_cauchy.prob, \n",
    "                    kappa=0, \n",
    "                    alpha=alpha, \n",
    "                    dim=1, \n",
    "                    support=support_normal,\n",
    "                    root=True)"
   ]
  },
  {
   "cell_type": "code",
   "execution_count": 11,
   "metadata": {},
   "outputs": [
    {
     "name": "stdout",
     "output_type": "stream",
     "text": [
      "Numerical Approximation to Cauchy (0.0, 1.0) Entropy: 1.4189385332046731\n",
      "Exact Normal (0.0, 1.0) Entropy: 1.4189385332046727\n"
     ]
    }
   ],
   "source": [
    "numerical_approx_normal_entropy = cef.shannon_entropy(nsc_normal.prob, dim=1, support=support_normal)\n",
    "normal_entropy = 0.5 * np.log(2 * np.pi * np.exp(1) * scale**2)\n",
    "\n",
    "print(f\"Numerical Approximation to Cauchy {loc, scale} Entropy: {numerical_approx_normal_entropy}\")\n",
    "print(f\"Exact Normal {loc, scale} Entropy: {normal_entropy}\")"
   ]
  },
  {
   "cell_type": "code",
   "execution_count": 12,
   "metadata": {},
   "outputs": [
    {
     "name": "stdout",
     "output_type": "stream",
     "text": [
      "Numerical Approximation to Cauchy (0.0, 1.0) Entropy: 2.5310242469692894\n",
      "Exact Cauchy (0.0, 1.0) Entropy: 2.5310242469692907\n"
     ]
    }
   ],
   "source": [
    "numerical_approx_cauchy_entropy = cef.shannon_entropy(nsc_cauchy.prob, dim=1, support=support_inf)\n",
    "cauchy_entropy = np.log(4*np.pi*scale)\n",
    "\n",
    "print(f\"Numerical Approximation to Cauchy {loc, scale} Entropy: {numerical_approx_cauchy_entropy}\")\n",
    "print(f\"Exact Cauchy {loc, scale} Entropy: {cauchy_entropy}\")"
   ]
  },
  {
   "cell_type": "code",
   "execution_count": 13,
   "metadata": {},
   "outputs": [
    {
     "name": "stdout",
     "output_type": "stream",
     "text": [
      "Numerical Approximation to MVN Entropy: 2.837877066409345\n",
      "Exact MVN Entropy: 2.8378770664093453\n"
     ]
    }
   ],
   "source": [
    "from scipy.stats import multivariate_normal\n",
    "\n",
    "exact_mvn_entropy = 0.5 * np.log(np.linalg.det(2 * np.pi * np.exp(1) * np.array([[scale, 0],\n",
    "                                                                                 [0, scale]])))\n",
    "numerical_approx_mvn_entropy = cef.shannon_entropy(scipy_mvn.pdf, \n",
    "                                                   dim=2, \n",
    "                                                   support=support_scipy_mvn, \n",
    "                                                   root=False)\n",
    "\n",
    "print(f\"Numerical Approximation to MVN Entropy: {numerical_approx_mvn_entropy}\")\n",
    "print(f\"Exact MVN Entropy: {exact_mvn_entropy}\")"
   ]
  },
  {
   "cell_type": "markdown",
   "metadata": {},
   "source": [
    "## VI. Testing the *coupled_divergence* function"
   ]
  },
  {
   "cell_type": "code",
   "execution_count": 14,
   "metadata": {},
   "outputs": [
    {
     "data": {
      "text/plain": [
       "0.0"
      ]
     },
     "execution_count": 14,
     "metadata": {},
     "output_type": "execute_result"
    }
   ],
   "source": [
    "cef.coupled_divergence(nsc_normal.prob, \n",
    "                       nsc_normal.prob, \n",
    "                       kappa=0, \n",
    "                       alpha=alpha, \n",
    "                       dim=1, \n",
    "                       support=support_normal,\n",
    "                       root=False)"
   ]
  },
  {
   "cell_type": "code",
   "execution_count": 15,
   "metadata": {},
   "outputs": [
    {
     "data": {
      "text/plain": [
       "0.0"
      ]
     },
     "execution_count": 15,
     "metadata": {},
     "output_type": "execute_result"
    }
   ],
   "source": [
    "cef.coupled_divergence(nsc_cauchy.prob, \n",
    "                       nsc_cauchy.prob, \n",
    "                       kappa=0, \n",
    "                       alpha=alpha, \n",
    "                       dim=1, \n",
    "                       support=support_inf,\n",
    "                       root=False)"
   ]
  },
  {
   "cell_type": "code",
   "execution_count": 16,
   "metadata": {},
   "outputs": [
    {
     "data": {
      "text/plain": [
       "nan"
      ]
     },
     "execution_count": 16,
     "metadata": {},
     "output_type": "execute_result"
    }
   ],
   "source": [
    "cef.coupled_divergence(nsc_normal.prob, \n",
    "                       nsc_cauchy.prob, \n",
    "                       kappa=0, \n",
    "                       alpha=alpha, \n",
    "                       dim=1, \n",
    "                       support=support_inf,\n",
    "                       root=False)"
   ]
  },
  {
   "cell_type": "markdown",
   "metadata": {},
   "source": [
    "# Plotting the *coupled_entropy* function"
   ]
  },
  {
   "cell_type": "markdown",
   "metadata": {},
   "source": [
    "from tqdm import tqdm\n",
    "# plt.figure(figsize=(12, 8))\n",
    "Y = {}\n",
    "plot_coupledEntropy = []\n",
    "plot_coupledEntropy_root = []\n",
    "plot_tsallisEntropyNormalized = []\n",
    "plot_tsallisEntropy = []\n",
    "plot_tsallisEntropyRootNormalized = []\n",
    "plot_tsallisEntropyRoot = []\n",
    "plot_shannonEntropy = []\n",
    "plot_shannonEntropy_root = []\n",
    "\n",
    "kappa_values = [round(value, 1) for value in np.linspace(0, 4, 41)]\n",
    "n = len(kappa_values)\n",
    "\n",
    "mu, cov = [0, 0], np.array([[1, 0],\n",
    "                            [0, 1]])\n",
    "\n",
    "dim = len(mu)\n",
    "alpha = 2\n",
    "\n",
    "for i in tqdm(range(len(kappa_values))):\n",
    "    kappa = kappa_values[i]\n",
    "    temp_normal = multivariate_normal(mean=mu, cov=cov)\n",
    "    y = temp_normal.pdf\n",
    "    Y[kappa] = cpqi.coupled_entropy(y, kappa=kappa, alpha=alpha, dim=dim, support=support, root=False)\n",
    "    plot_coupledEntropy.append(Y[kappa])\n",
    "    Y[kappa] = cpqi.coupled_entropy(y, kappa=kappa, alpha=alpha, dim=dim, support=support, root=True)\n",
    "    plot_coupledEntropy_root.append(Y[kappa])\n",
    "    Y[kappa] = cpqi.tsallis_entropy(y, kappa=kappa, alpha=alpha, dim=dim, support=support, normalize=True, root=False)\n",
    "    plot_tsallisEntropyNormalized.append(Y[kappa])\n",
    "    Y[kappa] = cpqi.tsallis_entropy(y, kappa=kappa, alpha=alpha, dim=dim, support=support, normalize=False, root=False)\n",
    "    plot_tsallisEntropy.append(Y[kappa])\n",
    "    Y[kappa] = cpqi.tsallis_entropy(y, kappa=kappa, alpha=alpha, dim=dim, support=support, normalize=True, root=True)\n",
    "    plot_tsallisEntropyRootNormalized.append(Y[kappa])\n",
    "    Y[kappa] = cpqi.tsallis_entropy(y, kappa=kappa, alpha=alpha, dim=dim, support=support, normalize=False, root=True)\n",
    "    plot_tsallisEntropyRoot.append(Y[kappa])\n",
    "    Y[kappa] = cpqi.shannon_entropy(y, dim=dim, support=support, root=False)\n",
    "    plot_shannonEntropy.append(Y[kappa])\n",
    "    Y[kappa] = cpqi.shannon_entropy(y, dim=dim, support=support, root=True)\n",
    "    plot_shannonEntropy_root.append(Y[kappa])"
   ]
  },
  {
   "cell_type": "markdown",
   "metadata": {},
   "source": [
    "plot_coupledEntropy = np.array(plot_coupledEntropy)\n",
    "plot_coupledEntropy_root = np.array(plot_coupledEntropy_root)\n",
    "plot_tsallisEntropyNormalized = np.array(plot_tsallisEntropyNormalized)\n",
    "plot_tsallisEntropy = np.array(plot_tsallisEntropy)\n",
    "plot_tsallisEntropyRootNormalized = np.array(plot_tsallisEntropyRootNormalized)\n",
    "plot_tsallisEntropyRoot = np.array(plot_tsallisEntropyRoot)\n",
    "plot_shannonEntropy = np.array(plot_shannonEntropy)\n",
    "plot_shannonEntropy_root = np.array(plot_shannonEntropy_root)"
   ]
  },
  {
   "cell_type": "markdown",
   "metadata": {},
   "source": [
    "fig, ax = plt.subplots(figsize=(16, 10))\n",
    "ax.axvline(c='black', lw=1)\n",
    "ax.axhline(c='black', lw=1)\n",
    "\n",
    "cm = plt.get_cmap('PiYG')\n",
    "plt.xlim(0, 4)\n",
    "plt.ylim(-1, 14)\n",
    "plt.plot(kappa_values, plot_coupledEntropy, label='Coupled Entropy',\n",
    "         color='blue')\n",
    "plt.plot(kappa_values, plot_tsallisEntropyNormalized, label='Normalized Tsallis Entropy',\n",
    "         color='green')\n",
    "plt.plot(kappa_values, plot_tsallisEntropy, label='Tsallis Entropy',\n",
    "         color='orange')\n",
    "plt.plot(kappa_values, plot_shannonEntropy, label='Shannon Entropy',\n",
    "         color='red')\n",
    "\n",
    "plt.grid()\n",
    "plt.title(f'Multivariate Gaussian {(mu), (cov)} with alpha = {alpha}', fontsize=20)\n",
    "plt.xlabel('kappa values', fontsize=15)\n",
    "plt.ylabel('Entropy/Entopy Root')\n",
    "plt.legend()\n",
    "plt.show();"
   ]
  },
  {
   "cell_type": "markdown",
   "metadata": {},
   "source": [
    "fig, ax = plt.subplots(figsize=(16, 10))\n",
    "ax.axvline(c='black', lw=1)\n",
    "ax.axhline(c='black', lw=1)\n",
    "\n",
    "cm = plt.get_cmap('PiYG')\n",
    "plt.xlim(0, 4)\n",
    "#plt.ylim(-1, 6)\n",
    "\n",
    "plt.plot(kappa_values, plot_coupledEntropy_root, label='Coupled Entropy Root',\n",
    "         color='blue')\n",
    "plt.plot(kappa_values, plot_tsallisEntropyRootNormalized, label='Normalized Tsallis Entropy Root',\n",
    "         color='green')\n",
    "plt.plot(kappa_values, plot_tsallisEntropyRoot, label='Tsallis Entropy Root',\n",
    "         color='orange')\n",
    "plt.plot(kappa_values, plot_shannonEntropy_root, label='Shannon Entropy Root',\n",
    "         color='red')\n",
    "plt.grid()\n",
    "plt.title(f'Multivariate Gaussian {mu, cov} with alpha = {alpha}', fontsize=20)\n",
    "plt.xlabel('kappa values', fontsize=15)\n",
    "plt.ylabel('Entropy/Entopy Root')\n",
    "plt.legend()\n",
    "plt.show();"
   ]
  }
 ],
 "metadata": {
  "kernelspec": {
   "display_name": "Python 3",
   "language": "python",
   "name": "python3"
  },
  "language_info": {
   "codemirror_mode": {
    "name": "ipython",
    "version": 3
   },
   "file_extension": ".py",
   "mimetype": "text/x-python",
   "name": "python",
   "nbconvert_exporter": "python",
   "pygments_lexer": "ipython3",
   "version": "3.8.5"
  }
 },
 "nbformat": 4,
 "nbformat_minor": 4
}
