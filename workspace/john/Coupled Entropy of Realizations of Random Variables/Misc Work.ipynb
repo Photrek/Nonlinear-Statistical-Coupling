{
 "cells": [
  {
   "cell_type": "code",
   "execution_count": 1,
   "id": "caab9058-c8ee-4753-bae1-1b380a0bcd80",
   "metadata": {},
   "outputs": [
    {
     "name": "stdout",
     "output_type": "stream",
     "text": [
      "Importing NSC lib v0.0.4.15.\n"
     ]
    }
   ],
   "source": [
    "from nsc.distributions import MultivariateCoupledNormal as MVCN\n",
    "from nsc.math.entropy_prob import *\n",
    "from nsc.math.entropy_norm import *\n",
    "import numpy as np\n",
    "from scipy.stats import multivariate_normal\n",
    "import matplotlib.pyplot as plt\n",
    "from nsc.math.function import coupled_logarithm"
   ]
  },
  {
   "cell_type": "markdown",
   "id": "7fb727bc-9725-483b-b3a7-cdf528ba46a3",
   "metadata": {},
   "source": [
    "## I. Creating Random Distribution Parameters for Multivariate Normal Distributions"
   ]
  },
  {
   "cell_type": "code",
   "execution_count": 2,
   "id": "d228ea7e-1347-4b2e-8e36-7514e4ef2da2",
   "metadata": {},
   "outputs": [],
   "source": [
    "# Set a random seed for reproducibility.\n",
    "np.random.seed(1)\n",
    "\n",
    "# Set the dimensions of each distribution.\n",
    "d = 2\n",
    "# Set the number of distributions to compare.\n",
    "n = 1000\n",
    "\n",
    "# Generate random numbers for the means of distribution 1.\n",
    "mu_1 = np.random.normal(loc=0, scale=0.5, size=(n,d))\n",
    "# Generate random numbers for the means of distribution 2.\n",
    "mu_2 = np.random.normal(loc=0, scale=0.5, size=(n,d))\n",
    "\n",
    "# Generate random numbers for the means of distribution 1.\n",
    "sigma_diag_1 = np.random.normal(loc=1, scale=0.1, size=(n,d))\n",
    "# Generate random numbers for the means of distribution 2.\n",
    "sigma_diag_2 = np.random.normal(loc=1, scale=0.1, size=(n,d))"
   ]
  },
  {
   "cell_type": "markdown",
   "id": "f6ded058-a6fa-4313-899d-f070d1a4ad03",
   "metadata": {},
   "source": [
    "## II. Calculating the KL Divergence using the Analytical Expression"
   ]
  },
  {
   "cell_type": "code",
   "execution_count": 3,
   "id": "d3a32d1b-f772-4f8c-8cf9-b2d29fce73ba",
   "metadata": {},
   "outputs": [],
   "source": [
    "def true_kl_divergence(mu_1, mu_2, sigma_diag_1, sigma_diag_2):\n",
    "    \"\"\"This function calculates the true KL divergence between\n",
    "    two Multivariate Gaussian distributions with diagonal\n",
    "    covariance matrices.\n",
    "    \n",
    "    Inputs\n",
    "    -------\n",
    "    mu_1 : numpy.ndarray\n",
    "        The mean vector of the first distribution.\n",
    "    mu_2 : numpy.ndarray\n",
    "        The mean vector of the second distribution.\n",
    "    sigma_diag_1 : numpy.ndarray\n",
    "        The diagonal values of the covariance matrix of the first distribution.\n",
    "    sigma_diag_2 : numpy.ndarray\n",
    "        The diagonal values of the covariance matrix of the second distribution.\n",
    "    \n",
    "    Returns\n",
    "    -------\n",
    "    true_kl_div : \n",
    "        The analytical KL divergence.\n",
    "    \"\"\"\n",
    "    \n",
    "    # Calculate the true KL divergence.\n",
    "    true_kl_div = np.log(np.linalg.det(np.diag(sigma_diag_2))).reshape(-1,) \n",
    "    true_kl_div -= np.log(np.linalg.det(np.diag(sigma_diag_1))).reshape(-1,)\n",
    "    true_kl_div -= mu_1.shape[0]\n",
    "    true_kl_div += np.trace(np.matmul(np.linalg.inv(np.diag(sigma_diag_2)), np.diag(sigma_diag_1))).reshape(-1,)\n",
    "    true_kl_div += np.matmul(np.matmul((mu_2 - mu_1), np.linalg.inv(np.diag(sigma_diag_2))), (mu_2 - mu_1).T).reshape(-1,)\n",
    "    true_kl_div *= 0.5\n",
    "    \n",
    "    return true_kl_div"
   ]
  },
  {
   "cell_type": "code",
   "execution_count": 4,
   "id": "615c707e-32ca-4918-9b34-294f9c58ce98",
   "metadata": {},
   "outputs": [],
   "source": [
    "# Create an empty list to hold the KL divergences.\n",
    "true_kl_divs = []\n",
    "# Loop through each of the simulated distribution parameters.\n",
    "for i in range(n):\n",
    "    # Calculate the KL divergence and append it to the list.\n",
    "    true_kl_divs.append(true_kl_divergence(mu_1[i], mu_2[i], sigma_diag_1[i], sigma_diag_2[i])[0])\n",
    "\n",
    "# Convert the list of true KL divergences to a numpy array.\n",
    "true_kl_divs = np.array(true_kl_divs)"
   ]
  },
  {
   "cell_type": "markdown",
   "id": "933720ae-f71f-4378-b222-47029f0833f7",
   "metadata": {},
   "source": [
    "## III. Approximate the KL Divergences using `coupled_kl_divergence_norm()`"
   ]
  },
  {
   "cell_type": "code",
   "execution_count": 5,
   "id": "c2901c8f-c392-4db6-b455-bf15ee3b30f9",
   "metadata": {},
   "outputs": [],
   "source": [
    "# Set the number of approximations to use.\n",
    "n_approx = 1000\n",
    "\n",
    "# Instantiate n multivariate normals with the mu_1 means.\n",
    "mvn_1 = MVCN(loc=mu_1, scale=np.sqrt(sigma_diag_1), kappa=0)\n",
    "# Instantiate n multivariate normals with the mu_2 means.\n",
    "mvn_2 = MVCN(loc=mu_2, scale=np.sqrt(sigma_diag_2), kappa=0)\n",
    "\n",
    "# Get the approximate KL divergences.\n",
    "approx_kl_divs_1 = coupled_kl_divergence_norm(mvn_1, mvn_2, kappa=0, alpha=2, n=n_approx, seed=1)"
   ]
  },
  {
   "cell_type": "markdown",
   "id": "491c63ad-a7d1-450c-b725-5c5d983d598d",
   "metadata": {},
   "source": [
    "## III. Approximate the KL Divergences using a new Approximation Method"
   ]
  },
  {
   "cell_type": "code",
   "execution_count": 6,
   "id": "776af37f-cb00-4f75-b8eb-0d2f2c289280",
   "metadata": {},
   "outputs": [
    {
     "name": "stderr",
     "output_type": "stream",
     "text": [
      "C:\\Users\\jkcle\\anaconda3\\lib\\site-packages\\ipykernel\\ipkernel.py:287: DeprecationWarning: `should_run_async` will not call `transform_cell` automatically in the future. Please pass the result to `transformed_cell` argument and any exception that happen during thetransform in `preprocessing_exc_tuple` in IPython 7.17 and above.\n",
      "  and should_run_async(code)\n"
     ]
    }
   ],
   "source": [
    "def coupled_kl_divergence(p_x, q_x, kappa=0):\n",
    "    \"\"\"This function takes in the probability densities of \n",
    "    X for distributions p and q. The samples of X should be\n",
    "    drawn from distribution p. It then returns and estimate of \n",
    "    the coupled KL divergence based on a user specified degree of\n",
    "    coupling.\n",
    "    \n",
    "    Inputs\n",
    "    -------\n",
    "    p_x : numpy ndarray\n",
    "        Probability densities of samples of X evaluated with the PDF\n",
    "        of distribution p (p(x)), where x is a sample of X ~ P(params).\n",
    "    q_x : numpy ndarray\n",
    "        Probability densities of samples of X evaluated with the PDF\n",
    "        of distribution q (q(x)).\n",
    "    kappa : int or float\n",
    "        The degree of coupling. Default is 0.\n",
    "        \n",
    "    Returns\n",
    "    -------\n",
    "    coupled_kl_div : numpy ndarray\n",
    "        The approximate coupled KL divergence.\n",
    "    \"\"\"\n",
    "    \n",
    "    # Calculate the approximate KL divergence.\n",
    "    coupled_kl_div = np.mean(coupled_logarithm(p_x, kappa=kappa) \n",
    "                             - coupled_logarithm(q_x, kappa=kappa), axis=1)\n",
    "    \n",
    "    return coupled_kl_div\n"
   ]
  },
  {
   "cell_type": "code",
   "execution_count": 7,
   "id": "eaac81c2-223d-4bff-840e-77fc72ace063",
   "metadata": {},
   "outputs": [],
   "source": [
    "# Generate samples from the first distribution.\n",
    "samples_1 = mvn_1.sample_n(n_approx)\n",
    "\n",
    "# Get the probability densities for the samples from each distribution.\n",
    "probs_1 = mvn_1.prob(samples_1).reshape(n, n_approx)\n",
    "probs_2 = mvn_2.prob(samples_1).reshape(n, n_approx)\n",
    "\n",
    "# Calculate the approximate KL divergences in a different way.\n",
    "approx_kl_divs_2 = coupled_kl_divergence(probs_1, probs_2, kappa=0)"
   ]
  },
  {
   "cell_type": "markdown",
   "id": "5028f563-66da-408e-bab9-757ce12563be",
   "metadata": {},
   "source": [
    "## IV. Comparing the Approximations."
   ]
  },
  {
   "cell_type": "code",
   "execution_count": 8,
   "id": "f003f6ba-6da7-4451-9e78-121acb61f055",
   "metadata": {},
   "outputs": [
    {
     "name": "stderr",
     "output_type": "stream",
     "text": [
      "C:\\Users\\jkcle\\anaconda3\\lib\\site-packages\\ipykernel\\ipkernel.py:287: DeprecationWarning: `should_run_async` will not call `transform_cell` automatically in the future. Please pass the result to `transformed_cell` argument and any exception that happen during thetransform in `preprocessing_exc_tuple` in IPython 7.17 and above.\n",
      "  and should_run_async(code)\n"
     ]
    },
    {
     "data": {
      "image/png": "[encoded data removed]",
      "text/plain": [
       "<Figure size 432x288 with 1 Axes>"
      ]
     },
     "metadata": {
      "needs_background": "light"
     },
     "output_type": "display_data"
    }
   ],
   "source": [
    "# Get the minimum and maximums to use for a line.\n",
    "start_kl_div = np.min(true_kl_divs), np.max(true_kl_divs)\n",
    "end_kl_div = np.min(true_kl_divs), np.max(true_kl_divs)\n",
    "\n",
    "plt.plot(start_kl_div, end_kl_div,\n",
    "        color=\"black\")\n",
    "plt.scatter(true_kl_divs, approx_kl_divs_1,\n",
    "           color=\"blue\", alpha=0.25)\n",
    "plt.scatter(true_kl_divs, approx_kl_divs_2,\n",
    "           color=\"red\", alpha=0.25)\n",
    "plt.xlabel(\"True KL Divergence\")\n",
    "plt.ylabel(\"Approximate KL Divergence\")\n",
    "plt.title(\"True vs. Approximate KL Divergence\")\n",
    "plt.show()"
   ]
  },
  {
   "cell_type": "code",
   "execution_count": 9,
   "id": "67d8da84-3355-4155-a8cf-a3b397b5dff4",
   "metadata": {},
   "outputs": [
    {
     "name": "stdout",
     "output_type": "stream",
     "text": [
      "MSE of Approximation 1: 0.00109\n",
      "MSE of Approximation 2: 0.00114\n"
     ]
    }
   ],
   "source": [
    "# Calculate the MSE of the approximate KL divergences\n",
    "mse_approx_1 = np.mean((true_kl_divs - approx_kl_divs_1)**2)\n",
    "mse_approx_2 = np.mean((true_kl_divs - approx_kl_divs_2)**2)\n",
    "\n",
    "print(f\"MSE of Approximation 1: {np.round(mse_approx_1, 5)}\")\n",
    "print(f\"MSE of Approximation 2: {np.round(mse_approx_2, 5)}\")"
   ]
  },
  {
   "cell_type": "markdown",
   "id": "9d0bb90c-d04a-4ff5-9a7a-f45f013aafd8",
   "metadata": {},
   "source": [
    "## V. Trying Different Coupling Values"
   ]
  },
  {
   "cell_type": "code",
   "execution_count": 30,
   "id": "ba193afe-1446-48da-8ba5-69ec7f07e44d",
   "metadata": {},
   "outputs": [],
   "source": [
    "# Set the dimensions of each distribution.\n",
    "d = 2\n",
    "# Set the number of distributions to compare.\n",
    "n = 30\n",
    "# Set the number of approximations to use.\n",
    "n_approx = 1000\n",
    "\n",
    "# Generate random numbers for the means of distribution 1.\n",
    "mu_1 = np.random.normal(loc=0, scale=0.05, size=(n,d))\n",
    "# Generate random numbers for the means of distribution 2.\n",
    "mu_2 = np.random.normal(loc=0, scale=0.05, size=(n,d))\n",
    "\n",
    "# Generate random numbers for the means of distribution 1.\n",
    "sigma_diag_1 = np.random.normal(loc=1, scale=0.05, size=(n,d))\n",
    "# Generate random numbers for the means of distribution 2.\n",
    "sigma_diag_2 = np.random.normal(loc=1, scale=0.05, size=(n,d))"
   ]
  },
  {
   "cell_type": "code",
   "execution_count": 31,
   "id": "9f03d94c-a624-455b-885d-6a481bcb73c3",
   "metadata": {},
   "outputs": [],
   "source": [
    "# Set a range of kappa values to try.\n",
    "kappas = np.arange(0, 1+0.1, 0.1)\n",
    "\n",
    "# Create empty lists to hold the approximate coupled KL-divergences at different kappas.\n",
    "approx_kl_divs_1_alt = []\n",
    "approx_kl_divs_2_alt = []\n",
    "\n",
    "# Loop through the values of kappa.\n",
    "for kappa in kappas:\n",
    "    \n",
    "    # Instantiate n multivariate normals with the mu_1 means.\n",
    "    mvn_1 = MVCN(loc=mu_1, scale=np.sqrt(sigma_diag_1), kappa=kappa)\n",
    "    # Instantiate n multivariate normals with the mu_2 means.\n",
    "    mvn_2 = MVCN(loc=mu_2, scale=np.sqrt(sigma_diag_2), kappa=kappa)\n",
    "    \n",
    "    # Get the approximate KL divergences.\n",
    "    approx_kl_divs_1_alt.append(coupled_kl_divergence_norm(mvn_1, mvn_2, kappa=kappa, alpha=2, n=n_approx, seed=1))\n",
    "    \n",
    "    ###\n",
    "    # Calculate the approximate KL divergences in a different way.\n",
    "    ###\n",
    "    \n",
    "    # Generate samples from the first distribution.\n",
    "    samples_1 = mvn_1.sample_n(n_approx)\n",
    "    \n",
    "    # Get the probability densities for the samples from each distribution.\n",
    "    probs_1 = mvn_1.prob(samples_1).reshape(n, n_approx)\n",
    "    probs_2 = mvn_2.prob(samples_1).reshape(n, n_approx)\n",
    "    approx_kl_divs_2_alt.append(coupled_kl_divergence(probs_1, probs_2, kappa=kappa))"
   ]
  },
  {
   "cell_type": "code",
   "execution_count": 32,
   "id": "a8a871fc-38fe-4129-88b5-06eca5169c0c",
   "metadata": {},
   "outputs": [
    {
     "name": "stderr",
     "output_type": "stream",
     "text": [
      "C:\\Users\\jkcle\\anaconda3\\lib\\site-packages\\ipykernel\\ipkernel.py:287: DeprecationWarning: `should_run_async` will not call `transform_cell` automatically in the future. Please pass the result to `transformed_cell` argument and any exception that happen during thetransform in `preprocessing_exc_tuple` in IPython 7.17 and above.\n",
      "  and should_run_async(code)\n"
     ]
    }
   ],
   "source": [
    "# Convert them to numpy arrays.\n",
    "approx_kl_divs_1_alt, approx_kl_divs_2_alt = np.array(approx_kl_divs_1_alt), np.array(approx_kl_divs_2_alt)\n",
    "# Create arrays of kappa for plotting.\n",
    "kappas_plotting = np.repeat(kappas, n).reshape(len(kappas), n)"
   ]
  },
  {
   "cell_type": "code",
   "execution_count": 33,
   "id": "9220c6e4-0c35-46eb-9fda-4ff35d02d88c",
   "metadata": {},
   "outputs": [
    {
     "data": {
      "image/png": "[encoded data removed]",
      "text/plain": [
       "<Figure size 432x288 with 1 Axes>"
      ]
     },
     "metadata": {
      "needs_background": "light"
     },
     "output_type": "display_data"
    }
   ],
   "source": [
    "plt.scatter(kappas_plotting, approx_kl_divs_1_alt - approx_kl_divs_2_alt,\n",
    "           color=\"purple\", alpha=0.5)\n",
    "plt.xlabel(\"Distribution kappa\")\n",
    "plt.ylabel(\"Difference\")\n",
    "plt.title(\"Difference of Approx. Coupled KL Divergence vs. kappa (Method 1 - Method 2)\")\n",
    "plt.show()"
   ]
  }
 ],
 "metadata": {
  "kernelspec": {
   "display_name": "Python 3",
   "language": "python",
   "name": "python3"
  },
  "language_info": {
   "codemirror_mode": {
    "name": "ipython",
    "version": 3
   },
   "file_extension": ".py",
   "mimetype": "text/x-python",
   "name": "python",
   "nbconvert_exporter": "python",
   "pygments_lexer": "ipython3",
   "version": "3.8.5"
  }
 },
 "nbformat": 4,
 "nbformat_minor": 5
}
