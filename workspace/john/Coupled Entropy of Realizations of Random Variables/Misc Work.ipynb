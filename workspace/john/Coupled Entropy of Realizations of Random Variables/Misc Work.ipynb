{
 "cells": [
  {
   "cell_type": "code",
   "execution_count": 1,
   "id": "caab9058-c8ee-4753-bae1-1b380a0bcd80",
   "metadata": {},
   "outputs": [
    {
     "name": "stdout",
     "output_type": "stream",
     "text": [
      "Importing NSC lib v0.0.4.15.\n"
     ]
    }
   ],
   "source": [
    "from nsc.distributions import MultivariateCoupledNormal as MVCN\n",
    "from nsc.math.entropy_prob import *\n",
    "from nsc.math.entropy_norm import *\n",
    "import numpy as np\n",
    "from scipy.stats import multivariate_normal"
   ]
  },
  {
   "cell_type": "code",
   "execution_count": 8,
   "id": "3ae6ba08-1c47-4b39-9adb-f61a1b36381d",
   "metadata": {},
   "outputs": [],
   "source": [
    "mu_1 = np.array([[0, 0]])\n",
    "mu_2 = np.array([[0, 0]])\n",
    "\n",
    "sigma_diag_1 = np.array([[1, 1]])\n",
    "sigma_diag_2 = np.array([[1.5, 1.5]])\n",
    "\n",
    "mvn_1 = MVCN(mu_1, np.sqrt(sigma_diag_1))\n",
    "mvn_2 = MVCN(mu_2, np.sqrt(sigma_diag_2))"
   ]
  },
  {
   "cell_type": "code",
   "execution_count": 9,
   "id": "b7fbac86-590a-47f6-b7b8-0466aedff2f8",
   "metadata": {},
   "outputs": [
    {
     "data": {
      "text/plain": [
       "array([0.07213177])"
      ]
     },
     "execution_count": 9,
     "metadata": {},
     "output_type": "execute_result"
    }
   ],
   "source": [
    "true_kl = np.log(np.linalg.det(np.diag(sigma_diag_2[0]))).reshape(-1,) - np.log(np.linalg.det(np.diag(sigma_diag_1[0]))).reshape(-1,)\n",
    "true_kl -= mu_1.shape[1]\n",
    "true_kl += np.trace(np.matmul(np.linalg.inv(np.diag(sigma_diag_2[0])), np.diag(sigma_diag_1[0]))).reshape(-1,)\n",
    "true_kl += np.matmul(np.matmul((mu_2 - mu_1), np.linalg.inv(np.diag(sigma_diag_2[0]))), (mu_2 - mu_1).T).reshape(-1,)\n",
    "true_kl *= 0.5\n",
    "true_kl"
   ]
  },
  {
   "cell_type": "code",
   "execution_count": 15,
   "id": "c2901c8f-c392-4db6-b455-bf15ee3b30f9",
   "metadata": {},
   "outputs": [
    {
     "data": {
      "text/plain": [
       "0.07210883242226096"
      ]
     },
     "execution_count": 15,
     "metadata": {},
     "output_type": "execute_result"
    }
   ],
   "source": [
    "coupled_kl_divergence_norm(mvn_1, mvn_2, kappa=0, alpha=2, n=10000, seed=1)"
   ]
  },
  {
   "cell_type": "code",
   "execution_count": 12,
   "id": "f003f6ba-6da7-4451-9e78-121acb61f055",
   "metadata": {},
   "outputs": [
    {
     "name": "stderr",
     "output_type": "stream",
     "text": [
      "C:\\Users\\jkcle\\anaconda3\\lib\\site-packages\\ipykernel\\ipkernel.py:287: DeprecationWarning: `should_run_async` will not call `transform_cell` automatically in the future. Please pass the result to `transformed_cell` argument and any exception that happen during thetransform in `preprocessing_exc_tuple` in IPython 7.17 and above.\n",
      "  and should_run_async(code)\n"
     ]
    },
    {
     "data": {
      "text/plain": [
       "0.018737884517030987"
      ]
     },
     "execution_count": 12,
     "metadata": {},
     "output_type": "execute_result"
    }
   ],
   "source": [
    "n = 10000\n",
    "\n",
    "samples_1 = mvn_1.sample_n(n)\n",
    "\n",
    "probs_1 = mvn_1.prob(samples_1).reshape(-1,)\n",
    "probs_2 = mvn_2.prob(samples_1).reshape(-1,)\n",
    "    \n",
    "coupled_kl_divergence_prob(probs_1, probs_2) / n"
   ]
  },
  {
   "cell_type": "code",
   "execution_count": 14,
   "id": "67d8da84-3355-4155-a8cf-a3b397b5dff4",
   "metadata": {},
   "outputs": [
    {
     "data": {
      "text/plain": [
       "True"
      ]
     },
     "execution_count": 14,
     "metadata": {},
     "output_type": "execute_result"
    }
   ],
   "source": [
    "scipy_mvn_1 = multivariate_normal(mu_1[0], sigma_diag_1[0])\n",
    "scipy_mvn_2 = multivariate_normal(mu_2[0], sigma_diag_2[0])\n",
    "\n",
    "np.allclose(scipy_mvn_1.pdf(samples_1), probs_1) & np.allclose(scipy_mvn_2.pdf(samples_1), probs_2)"
   ]
  }
 ],
 "metadata": {
  "kernelspec": {
   "display_name": "Python 3",
   "language": "python",
   "name": "python3"
  },
  "language_info": {
   "codemirror_mode": {
    "name": "ipython",
    "version": 3
   },
   "file_extension": ".py",
   "mimetype": "text/x-python",
   "name": "python",
   "nbconvert_exporter": "python",
   "pygments_lexer": "ipython3",
   "version": "3.8.5"
  }
 },
 "nbformat": 4,
 "nbformat_minor": 5
}
