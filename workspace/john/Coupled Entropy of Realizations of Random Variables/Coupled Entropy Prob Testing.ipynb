{
 "cells": [
  {
   "cell_type": "code",
   "execution_count": 1,
   "id": "0b2d6b42-2624-4f35-ab48-664ccc864d79",
   "metadata": {},
   "outputs": [
    {
     "name": "stdout",
     "output_type": "stream",
     "text": [
      "Importing NSC lib v0.0.4.12.\n"
     ]
    }
   ],
   "source": [
    "import numpy as np\n",
    "from scipy.stats import entropy\n",
    "from coupled_entropy_functions_prob import *\n",
    "\n",
    "# Create PMFs for an RV with 2 values.\n",
    "a_p = np.array([0.5, 0.5])\n",
    "a_q = np.array([0.25, 0.75])\n",
    "# Create PMFs for an RV with 5 values.\n",
    "b_p = np.array([0.125, 0.25, 0.375, 0.2, 0.05])\n",
    "b_q = np.array([0.2, 0.2, 0.2, 0.2, 0.2])"
   ]
  },
  {
   "cell_type": "code",
   "execution_count": 2,
   "id": "4c7220f5-606a-460d-baeb-cdff54cf3343",
   "metadata": {},
   "outputs": [
    {
     "data": {
      "text/plain": [
       "(True, True, True)"
      ]
     },
     "execution_count": 2,
     "metadata": {},
     "output_type": "execute_result"
    }
   ],
   "source": [
    "(np.allclose(entropy(a_p), coupled_entropy_prob(a_p, kappa=0.0)),\n",
    " np.allclose(entropy(a_q), coupled_entropy_prob(a_q, kappa=0.0)),\n",
    " np.allclose(entropy(a_p, a_q), coupled_kl_divergence_prob(a_p, a_q, kappa=0.0)))"
   ]
  },
  {
   "cell_type": "code",
   "execution_count": 3,
   "id": "4f70bbe6-0f55-464f-a2fa-88cfdbdc2fbf",
   "metadata": {},
   "outputs": [
    {
     "data": {
      "text/plain": [
       "(True, True, True)"
      ]
     },
     "execution_count": 3,
     "metadata": {},
     "output_type": "execute_result"
    }
   ],
   "source": [
    "(np.allclose(entropy(b_p), coupled_entropy_prob(b_p, kappa=0.0)),\n",
    " np.allclose(entropy(b_q), coupled_entropy_prob(b_q, kappa=0.0)),\n",
    " np.allclose(entropy(b_p, b_q), coupled_kl_divergence_prob(b_p, b_q, kappa=0.0)))"
   ]
  },
  {
   "cell_type": "code",
   "execution_count": 4,
   "id": "fa5001cd-2ded-4eee-bace-87d25a426fea",
   "metadata": {},
   "outputs": [
    {
     "data": {
      "text/plain": [
       "(True, True, True)"
      ]
     },
     "execution_count": 4,
     "metadata": {},
     "output_type": "execute_result"
    }
   ],
   "source": [
    "# Set the number of values of the discrete distributions.\n",
    "size = 50\n",
    "# Generate random uniform variables and normalize them to sum to 1.\n",
    "c_p = np.random.uniform(size=size)\n",
    "c_p /= np.sum(c_p)\n",
    "# Generate random normal variables and square them, so the values are positive. Then normalize them to sum to 1.\n",
    "c_q = np.random.normal(size=size)**2\n",
    "c_q /= np.sum(c_q)\n",
    "\n",
    "(np.allclose(entropy(c_p), coupled_entropy_prob(c_p, kappa=0.0)),\n",
    " np.allclose(entropy(c_q), coupled_entropy_prob(c_q, kappa=0.0)),\n",
    " np.allclose(entropy(c_p, c_q), coupled_kl_divergence_prob(c_p, c_q, kappa=0.0)))"
   ]
  },
  {
   "cell_type": "code",
   "execution_count": 5,
   "id": "9bb3e9ee-2a0f-4f75-b1ed-d0e61d3e128e",
   "metadata": {},
   "outputs": [],
   "source": [
    "C = np.array([c_p, c_q])\n",
    "\n",
    "C_coupled_entropy = coupled_entropy_prob(C)\n",
    "C_entropy = np.array([entropy(c_p), entropy(c_q)]).reshape(len(C.shape), 1, 1)"
   ]
  },
  {
   "cell_type": "code",
   "execution_count": 6,
   "id": "e2214c52-24d4-4c4e-9424-c24bd52fcf1d",
   "metadata": {},
   "outputs": [
    {
     "data": {
      "text/plain": [
       "True"
      ]
     },
     "execution_count": 6,
     "metadata": {},
     "output_type": "execute_result"
    }
   ],
   "source": [
    "np.allclose(C_coupled_entropy, C_entropy)"
   ]
  },
  {
   "cell_type": "code",
   "execution_count": 7,
   "id": "b95013cc-ff0c-48db-a4fe-ed60e0e25b44",
   "metadata": {},
   "outputs": [
    {
     "data": {
      "text/plain": [
       "array([[[3.69073005]],\n",
       "\n",
       "       [[3.05059213]]])"
      ]
     },
     "execution_count": 7,
     "metadata": {},
     "output_type": "execute_result"
    }
   ],
   "source": [
    "C_coupled_entropy"
   ]
  },
  {
   "cell_type": "code",
   "execution_count": 8,
   "id": "dac8940c-8f55-4240-8542-7dd5841a14c6",
   "metadata": {},
   "outputs": [
    {
     "data": {
      "text/plain": [
       "array([[[3.69073005]],\n",
       "\n",
       "       [[3.05059213]]])"
      ]
     },
     "execution_count": 8,
     "metadata": {},
     "output_type": "execute_result"
    }
   ],
   "source": [
    "C_entropy"
   ]
  }
 ],
 "metadata": {
  "kernelspec": {
   "display_name": "Python 3",
   "language": "python",
   "name": "python3"
  },
  "language_info": {
   "codemirror_mode": {
    "name": "ipython",
    "version": 3
   },
   "file_extension": ".py",
   "mimetype": "text/x-python",
   "name": "python",
   "nbconvert_exporter": "python",
   "pygments_lexer": "ipython3",
   "version": "3.8.5"
  }
 },
 "nbformat": 4,
 "nbformat_minor": 5
}
