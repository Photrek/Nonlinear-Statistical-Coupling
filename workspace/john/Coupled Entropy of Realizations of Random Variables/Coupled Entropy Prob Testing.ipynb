{
 "cells": [
  {
   "cell_type": "code",
   "execution_count": 8,
   "id": "0b2d6b42-2624-4f35-ab48-664ccc864d79",
   "metadata": {},
   "outputs": [],
   "source": [
    "import numpy as np\n",
    "from scipy.stats import entropy\n",
    "from coupled_entropy_functions_prob import *\n",
    "\n",
    "a_p = np.array([0.5, 0.5])\n",
    "a_q = np.array([0.25, 0.75])\n",
    "b_p = np.array([0.125, 0.25, 0.375, 0.2, 0.05])\n",
    "b_q = np.array([0.2, 0.2, 0.2, 0.2, 0.2])"
   ]
  },
  {
   "cell_type": "code",
   "execution_count": 7,
   "id": "4c7220f5-606a-460d-baeb-cdff54cf3343",
   "metadata": {},
   "outputs": [
    {
     "data": {
      "text/plain": [
       "(True, True, True)"
      ]
     },
     "execution_count": 7,
     "metadata": {},
     "output_type": "execute_result"
    }
   ],
   "source": [
    "(np.allclose(entropy(a_p), coupled_entropy_prob(a_p, kappa=0.0)),\n",
    " np.allclose(entropy(a_q), coupled_entropy_prob(a_q, kappa=0.0)),\n",
    " np.allclose(entropy(a_p, a_q), coupled_kl_divergence_prob(a_p, a_q, kappa=0.0)))"
   ]
  },
  {
   "cell_type": "code",
   "execution_count": 9,
   "id": "4f70bbe6-0f55-464f-a2fa-88cfdbdc2fbf",
   "metadata": {},
   "outputs": [
    {
     "data": {
      "text/plain": [
       "(True, True, True)"
      ]
     },
     "execution_count": 9,
     "metadata": {},
     "output_type": "execute_result"
    }
   ],
   "source": [
    "(np.allclose(entropy(b_p), coupled_entropy_prob(b_p, kappa=0.0)),\n",
    " np.allclose(entropy(b_q), coupled_entropy_prob(b_q, kappa=0.0)),\n",
    " np.allclose(entropy(b_p, b_q), coupled_kl_divergence_prob(b_p, b_q, kappa=0.0)))"
   ]
  }
 ],
 "metadata": {
  "kernelspec": {
   "display_name": "Python 3",
   "language": "python",
   "name": "python3"
  },
  "language_info": {
   "codemirror_mode": {
    "name": "ipython",
    "version": 3
   },
   "file_extension": ".py",
   "mimetype": "text/x-python",
   "name": "python",
   "nbconvert_exporter": "python",
   "pygments_lexer": "ipython3",
   "version": "3.8.5"
  }
 },
 "nbformat": 4,
 "nbformat_minor": 5
}
