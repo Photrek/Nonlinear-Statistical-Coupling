{
 "cells": [
  {
   "cell_type": "code",
   "execution_count": 1,
   "metadata": {},
   "outputs": [],
   "source": [
    "#!pip install -i https://test.pypi.org/simple/ nsc-test"
   ]
  },
  {
   "cell_type": "markdown",
   "metadata": {},
   "source": [
    "# Setting up"
   ]
  },
  {
   "cell_type": "code",
   "execution_count": 2,
   "metadata": {},
   "outputs": [
    {
     "name": "stdout",
     "output_type": "stream",
     "text": [
      "Importing NSC lib v0.0.0.12.\n"
     ]
    }
   ],
   "source": [
    "import nsc_test\n",
    "import numpy as np\n",
    "from nsc_test.distributions import MultivariateCoupledNormal\n",
    "from nsc_test.math.entropy import importance_sampling_integrator\n",
    "from nsc_test.math.entropy_norm import coupled_normal_entropy, biased_coupled_probability_norm, coupled_probability_norm, coupled_cross_entropy_norm, coupled_entropy_norm, coupled_kl_divergence_norm\n",
    "import ipdb"
   ]
  },
  {
   "cell_type": "code",
   "execution_count": 3,
   "metadata": {},
   "outputs": [],
   "source": [
    "# Set the locs.\n",
    "loc = np.array([[0, 0,]])\n",
    "# Set the scales.\n",
    "scale = np.array([[1, 1]])\n",
    "\n",
    "# Find the number of batches.\n",
    "n_batches = loc.shape[0]\n",
    "\n",
    "# Set the kappa.\n",
    "kappa = 0.0\n",
    "\n",
    "# Initialize a MultivariateCoupledNormal object.\n",
    "mvn = MultivariateCoupledNormal(loc=loc, scale=scale, kappa=kappa)"
   ]
  },
  {
   "cell_type": "code",
   "execution_count": null,
   "metadata": {},
   "outputs": [],
   "source": [
    "[1], []"
   ]
  },
  {
   "cell_type": "code",
   "execution_count": 4,
   "metadata": {},
   "outputs": [
    {
     "data": {
      "text/plain": [
       "array([6.28318531])"
      ]
     },
     "execution_count": 4,
     "metadata": {},
     "output_type": "execute_result"
    }
   ],
   "source": [
    "mvn._norm_term"
   ]
  },
  {
   "cell_type": "code",
   "execution_count": 5,
   "metadata": {},
   "outputs": [
    {
     "data": {
      "text/plain": [
       "2"
      ]
     },
     "execution_count": 5,
     "metadata": {},
     "output_type": "execute_result"
    }
   ],
   "source": [
    "mvn._alpha"
   ]
  },
  {
   "cell_type": "code",
   "execution_count": 6,
   "metadata": {},
   "outputs": [
    {
     "data": {
      "text/plain": [
       "array([[[1., 0.],\n",
       "        [0., 1.]]])"
      ]
     },
     "execution_count": 6,
     "metadata": {},
     "output_type": "execute_result"
    }
   ],
   "source": [
    "mvn._sigma"
   ]
  },
  {
   "cell_type": "markdown",
   "metadata": {},
   "source": [
    "# Testing `sample_n`"
   ]
  },
  {
   "cell_type": "code",
   "execution_count": 7,
   "metadata": {},
   "outputs": [
    {
     "name": "stdout",
     "output_type": "stream",
     "text": [
      "Expected dimensions of samples: ((1, 2), 10000, (1, 2))\n",
      "Actual dimensions of samples: (1, 10000, 2)\n"
     ]
    }
   ],
   "source": [
    "# Set the number of samples per batched distribution.\n",
    "n = 10000\n",
    "# Sample n observations from each batched distribution.\n",
    "samples = mvn.sample_n(n)\n",
    "\n",
    "print(f\"Expected dimensions of samples: {loc.shape, n, loc.shape}\")\n",
    "print(f\"Actual dimensions of samples: {samples.shape}\")"
   ]
  },
  {
   "cell_type": "code",
   "execution_count": 8,
   "metadata": {},
   "outputs": [
    {
     "name": "stdout",
     "output_type": "stream",
     "text": [
      "Mean of distribution 1: (0, 0)\n",
      "Mean of samples from distribution 1: (-0.005332715036432478, -0.012714244096270588)\n",
      "Std. Dev. of distribution 1: (1, 1)\n",
      "Std. Dev. of samples from distribution 1: (1.0049544008307716, 1.000800784751986)\n",
      "\n",
      "\n"
     ]
    }
   ],
   "source": [
    "for i in range(n_batches):\n",
    "    print(f\"Mean of distribution 1: {tuple(loc[i])}\")\n",
    "    print(f\"Mean of samples from distribution 1: {tuple(samples[i].mean(axis=0))}\")\n",
    "    print(f\"Std. Dev. of distribution 1: {tuple(scale[i])}\")\n",
    "    print(f\"Std. Dev. of samples from distribution 1: {tuple(samples[i].std(axis=0))}\")\n",
    "    print(\"\\n\")"
   ]
  },
  {
   "cell_type": "markdown",
   "metadata": {},
   "source": [
    "# Testing `prob` with no batches (single distribution)"
   ]
  },
  {
   "cell_type": "code",
   "execution_count": 9,
   "metadata": {},
   "outputs": [
    {
     "name": "stdout",
     "output_type": "stream",
     "text": [
      "Shape of samples: (1, 100, 1, 1)\n",
      "The densities from the Coupled MVN and SciPy MVN are close: True\n"
     ]
    }
   ],
   "source": [
    "from scipy.stats import multivariate_normal\n",
    "\n",
    "# Set the locs.\n",
    "loc_1a = np.array([loc[0]])\n",
    "# Set the scales.\n",
    "scale_1a =  np.array([scale[0]])\n",
    "\n",
    "# Initialize a MultivariateCoupledNormal object.\n",
    "mvn_1a = MultivariateCoupledNormal(loc=loc_1a, scale=scale_1a, kappa=kappa)\n",
    "# Initialize a scipy multivariate_normal object.\n",
    "mvn_scipy_1a = multivariate_normal(loc_1a[0], scale_1a[0]**2)\n",
    "\n",
    "# Set the number of samples.\n",
    "n = 100\n",
    "# Sample n observations from the distribution.\n",
    "samples_1a = mvn_1a.sample_n(n)\n",
    "\n",
    "# Get the probability densities from MVN object.\n",
    "mvn_probs_1a = mvn_1a.prob(samples_1a)\n",
    "print(f\"Shape of samples: {mvn_probs_1a.shape}\")\n",
    "# Reshape them to match the scipy's distribution output.\n",
    "mvn_probs_1a = mvn_1a.prob(samples_1a).reshape(-1,)\n",
    "\n",
    "# Get the probability densities from scipy object.\n",
    "scipy_probs_1a = mvn_scipy_1a.pdf(samples_1a)\n",
    "\n",
    "print(f\"The densities from the Coupled MVN and SciPy MVN are close: {np.allclose(mvn_probs_1a, scipy_probs_1a)}\")"
   ]
  },
  {
   "cell_type": "markdown",
   "metadata": {},
   "source": [
    "# Testing `prob` with batches (multiple distributions)"
   ]
  },
  {
   "cell_type": "code",
   "execution_count": 10,
   "metadata": {},
   "outputs": [
    {
     "name": "stdout",
     "output_type": "stream",
     "text": [
      "The densities from the Coupled MVN and SciPy MVN are close: True\n",
      "\n",
      "\n"
     ]
    }
   ],
   "source": [
    "mvn_probs = mvn.prob(samples)\n",
    "\n",
    "# Loop through the \n",
    "for i in range(n_batches):\n",
    "    # Get the i-th distributions sample densities and reshape them to be 1-D.\n",
    "    dist_1_probs = mvn_probs[i].reshape(-1,)\n",
    "    # Initialize a scipy multivariate_normal object.\n",
    "    mvn_scipy_1 = multivariate_normal(loc[i], scale[i]**2)\n",
    "    # Get the probability densities from scipy object.\n",
    "    scipy_probs_1 = mvn_scipy_1.pdf(samples[i])\n",
    "    \n",
    "    print(f\"The densities from the Coupled MVN and SciPy MVN are close: {np.allclose(dist_1_probs, scipy_probs_1)}\")\n",
    "    print(\"\\n\")"
   ]
  },
  {
   "cell_type": "markdown",
   "metadata": {},
   "source": [
    "# `importance_sampling_integrator`"
   ]
  },
  {
   "cell_type": "code",
   "execution_count": 11,
   "metadata": {},
   "outputs": [
    {
     "data": {
      "text/plain": [
       "array([[[1.]]])"
      ]
     },
     "execution_count": 11,
     "metadata": {},
     "output_type": "execute_result"
    }
   ],
   "source": [
    "importance_sampling_integrator(mvn.prob, mvn.prob, mvn.sample_n, n=10000, seed=1)"
   ]
  },
  {
   "cell_type": "code",
   "execution_count": 14,
   "metadata": {},
   "outputs": [
    {
     "data": {
      "text/plain": [
       "array([[[1.]]])"
      ]
     },
     "execution_count": 14,
     "metadata": {},
     "output_type": "execute_result"
    }
   ],
   "source": [
    "importance_sampling_integrator(mvn.prob, mvn_1a.prob, mvn.sample_n, n=10000, seed=1)"
   ]
  },
  {
   "cell_type": "markdown",
   "metadata": {},
   "source": [
    "# `coupled_normal_entropy`"
   ]
  },
  {
   "cell_type": "code",
   "execution_count": null,
   "metadata": {},
   "outputs": [],
   "source": [
    "#coupled_normal_entropy(mvn._sigma, kappa=0.0)"
   ]
  },
  {
   "cell_type": "code",
   "execution_count": null,
   "metadata": {},
   "outputs": [],
   "source": [
    "#coupled_normal_entropy(mvn._sigma, kappa=0.003)"
   ]
  },
  {
   "cell_type": "code",
   "execution_count": null,
   "metadata": {},
   "outputs": [],
   "source": [
    "#mvn._sigma"
   ]
  },
  {
   "cell_type": "code",
   "execution_count": null,
   "metadata": {},
   "outputs": [],
   "source": [
    "#0.5 * np.log((2*np.pi*np.exp(1)) ** mvn.loc[0].shape[0] * np.linalg.det(mvn._sigma[0]))"
   ]
  },
  {
   "cell_type": "markdown",
   "metadata": {},
   "source": [
    "# `biased_coupled_probability_norm`"
   ]
  },
  {
   "cell_type": "code",
   "execution_count": 15,
   "metadata": {},
   "outputs": [
    {
     "name": "stdout",
     "output_type": "stream",
     "text": [
      "[[0 0]]\n",
      "[[[0.85714286 0.        ]\n",
      "  [0.         0.85714286]]]\n",
      "0.0\n"
     ]
    }
   ],
   "source": [
    "new_mvn = biased_coupled_probability_norm(mvn, kappa=0.1, alpha=2)\n",
    "\n",
    "print(new_mvn.loc)\n",
    "print(new_mvn._sigma)\n",
    "print(new_mvn.kappa)"
   ]
  },
  {
   "cell_type": "code",
   "execution_count": 16,
   "metadata": {},
   "outputs": [],
   "source": [
    "new_mvn_samples = new_mvn.sample_n(100)"
   ]
  },
  {
   "cell_type": "markdown",
   "metadata": {},
   "source": [
    "# `coupled_probability_norm`"
   ]
  },
  {
   "cell_type": "code",
   "execution_count": 17,
   "metadata": {},
   "outputs": [
    {
     "data": {
      "text/plain": [
       "True"
      ]
     },
     "execution_count": 17,
     "metadata": {},
     "output_type": "execute_result"
    }
   ],
   "source": [
    "new_mvn_pdf = coupled_probability_norm(mvn, kappa=0.1, alpha=2.0)\n",
    "\n",
    "np.all(new_mvn_pdf(new_mvn_samples) == new_mvn.prob(new_mvn_samples))"
   ]
  },
  {
   "cell_type": "markdown",
   "metadata": {},
   "source": [
    "# `coupled_cross_entropy_norm`"
   ]
  },
  {
   "cell_type": "code",
   "execution_count": 18,
   "metadata": {},
   "outputs": [
    {
     "data": {
      "text/plain": [
       "array([[[2.85047335]]])"
      ]
     },
     "execution_count": 18,
     "metadata": {},
     "output_type": "execute_result"
    }
   ],
   "source": [
    "coupled_cross_entropy_norm(\n",
    "    mvn,\n",
    "    new_mvn,\n",
    "    kappa=0.0, \n",
    "    alpha=2.0, \n",
    "    root=False,\n",
    "    n=10000,\n",
    "    seed=1\n",
    ")"
   ]
  },
  {
   "cell_type": "markdown",
   "metadata": {},
   "source": [
    "# `coupled_entropy_norm`"
   ]
  },
  {
   "cell_type": "code",
   "execution_count": 19,
   "metadata": {},
   "outputs": [
    {
     "data": {
      "text/plain": [
       "array([[[2.83794589]]])"
      ]
     },
     "execution_count": 19,
     "metadata": {},
     "output_type": "execute_result"
    }
   ],
   "source": [
    "coupled_entropy_norm(\n",
    "    mvn,\n",
    "    kappa=0.0, \n",
    "    alpha=2.0, \n",
    "    root=False,\n",
    "    n=10000,\n",
    "    seed=1\n",
    ")"
   ]
  },
  {
   "cell_type": "code",
   "execution_count": 20,
   "metadata": {},
   "outputs": [
    {
     "data": {
      "text/plain": [
       "array([[[2.83787707]]])"
      ]
     },
     "execution_count": 20,
     "metadata": {},
     "output_type": "execute_result"
    }
   ],
   "source": [
    "true_entropies = [\n",
    "    0.5 * np.log((2*np.pi*np.exp(1)) ** mvn.loc[i].shape[0] * np.linalg.det(mvn._sigma[i])) for i in range(mvn._batch_shape[0])\n",
    "]\n",
    "true_entropies = np.array(true_entropies)\n",
    "true_entropies.reshape(mvn._batch_shape[0], 1, 1)"
   ]
  },
  {
   "cell_type": "markdown",
   "metadata": {},
   "source": [
    "# `coupled_kl_divergence_norm`"
   ]
  },
  {
   "cell_type": "code",
   "execution_count": 21,
   "metadata": {},
   "outputs": [
    {
     "data": {
      "text/plain": [
       "array([[[0.01252746]]])"
      ]
     },
     "execution_count": 21,
     "metadata": {},
     "output_type": "execute_result"
    }
   ],
   "source": [
    "coupled_kl_divergence_norm(\n",
    "    mvn, \n",
    "    new_mvn, \n",
    "    kappa=0.0, \n",
    "    alpha=2.0, \n",
    "    root=False,\n",
    "    n=10000,\n",
    "    seed=1\n",
    ")"
   ]
  },
  {
   "cell_type": "code",
   "execution_count": 22,
   "metadata": {},
   "outputs": [
    {
     "data": {
      "text/plain": [
       "array([[[0.]]])"
      ]
     },
     "execution_count": 22,
     "metadata": {},
     "output_type": "execute_result"
    }
   ],
   "source": [
    "coupled_kl_divergence_norm(\n",
    "    mvn, \n",
    "    mvn, \n",
    "    kappa=0.0, \n",
    "    alpha=2.0, \n",
    "    root=False,\n",
    "    n=10000,\n",
    "    seed=1\n",
    ")"
   ]
  },
  {
   "cell_type": "code",
   "execution_count": 23,
   "metadata": {},
   "outputs": [
    {
     "data": {
      "text/plain": [
       "array([[[0.]]])"
      ]
     },
     "execution_count": 23,
     "metadata": {},
     "output_type": "execute_result"
    }
   ],
   "source": [
    "coupled_kl_divergence_norm(\n",
    "    new_mvn, \n",
    "    new_mvn, \n",
    "    kappa=0.0, \n",
    "    alpha=2.0, \n",
    "    root=False,\n",
    "    n=10000,\n",
    "    seed=1\n",
    ")"
   ]
  },
  {
   "cell_type": "code",
   "execution_count": 24,
   "metadata": {},
   "outputs": [
    {
     "data": {
      "text/plain": [
       "[1]"
      ]
     },
     "execution_count": 24,
     "metadata": {},
     "output_type": "execute_result"
    }
   ],
   "source": [
    "mvn._batch_shape"
   ]
  }
 ],
 "metadata": {
  "kernelspec": {
   "display_name": "Python 3",
   "language": "python",
   "name": "python3"
  },
  "language_info": {
   "codemirror_mode": {
    "name": "ipython",
    "version": 3
   },
   "file_extension": ".py",
   "mimetype": "text/x-python",
   "name": "python",
   "nbconvert_exporter": "python",
   "pygments_lexer": "ipython3",
   "version": "3.8.5"
  }
 },
 "nbformat": 4,
 "nbformat_minor": 4
}
