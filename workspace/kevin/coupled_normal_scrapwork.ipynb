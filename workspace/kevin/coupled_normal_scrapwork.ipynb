{
 "cells": [
  {
   "cell_type": "code",
   "execution_count": 1,
   "metadata": {},
   "outputs": [],
   "source": [
    "# !python3 -m pip uninstall tensorflow tensorflow-probability nsc -y\n",
    "# !python3 -m pip install tensorflow tensorflow-probability -q"
   ]
  },
  {
   "cell_type": "code",
   "execution_count": 2,
   "metadata": {},
   "outputs": [],
   "source": [
    "# !python3 -m pip uninstall nsc -y -q\n",
    "# !python3 -m pip install -i https://test.pypi.org/simple/ nsc -q"
   ]
  },
  {
   "cell_type": "code",
   "execution_count": 3,
   "metadata": {},
   "outputs": [
    {
     "name": "stdout",
     "output_type": "stream",
     "text": [
      "Importing NSC lib v0.0.2.1.\n"
     ]
    }
   ],
   "source": [
    "import numpy as np\n",
    "import pandas as pd\n",
    "import matplotlib.pyplot as plt\n",
    "import seaborn as sns\n",
    "import scipy.stats as stats\n",
    "sns.set()\n",
    "from collections import defaultdict\n",
    "import math\n",
    "from typing import List\n",
    "\n",
    "# From nsc lib\n",
    "import nsc\n",
    "from nsc import distributions as nsd\n",
    "from nsc.util import function as nsc_func\n",
    "from nsc.util.function import coupled_logarithm, coupled_exponential\n",
    "# nsd = nsc.distributions"
   ]
  },
  {
   "cell_type": "markdown",
   "metadata": {},
   "source": [
    "### 1) CoupledNormalDistribution function version"
   ]
  },
  {
   "cell_type": "code",
   "execution_count": 4,
   "metadata": {},
   "outputs": [],
   "source": [
    "def norm_CG(sigma, kappa):\n",
    "    if kappa == 0:\n",
    "        result = math.sqrt(2*math.pi) * sigma\n",
    "    elif kappa < 0:\n",
    "        result = math.sqrt(math.pi) * sigma * math.gamma((-1+kappa) / (2*kappa)) / float(math.sqrt(-1*kappa) * math.gamma(1 - (1 / (2*kappa))))\n",
    "    else:\n",
    "        result = math.sqrt(math.pi) * sigma * math.gamma(1 / (2*kappa)) / float(math.sqrt(kappa) * math.gamma((1+kappa)/(2*kappa)))\n",
    "  \n",
    "    return result"
   ]
  },
  {
   "cell_type": "code",
   "execution_count": 5,
   "metadata": {},
   "outputs": [],
   "source": [
    "def CoupledNormalDistribution(mean, sigma, kappa, alpha):\n",
    "    \"\"\"\n",
    "    Short description\n",
    "    \n",
    "    Inputs\n",
    "    ----------\n",
    "    x : Input variable in which the coupled logarithm is applied to.\n",
    "    mean : \n",
    "    sigma : \n",
    "    kappa : Coupling parameter which modifies the coupled logarithm function.\n",
    "    dim : The dimension of x, or rank if x is a tensor. Not needed?\n",
    "    \"\"\"\n",
    "\n",
    "    assert sigma > 0, \"std must be greater than 0.\"\n",
    "    assert alpha in [1, 2], \"alpha must be set to either 1 or 2.\"\n",
    "\n",
    "    \n",
    "    if kappa >= 0:\n",
    "        input = np.arange(mean-20, mean+20, (20+mean - -20+mean)/(2**16+1))\n",
    "    else:\n",
    "        x1 = mean - ((-1*sigma**2) / kappa)**0.5\n",
    "        x2 = mean + ((-1*sigma**2) / kappa)**0.5\n",
    "        input = np.arange(mean - ((-1*sigma**2) / kappa)**0.5, mean + ((-1*sigma**2) / kappa)**0.5, (x2-x1)/(2**16+1))\n",
    " \n",
    "    normCGvalue = 1/float(norm_CG(sigma, kappa))\n",
    "    \n",
    "    coupledNormalDistributionResult = normCGvalue * (coupled_exponential((input - mean)**2/sigma**2, kappa)) ** -0.5\n",
    "  \n",
    "    return coupledNormalDistributionResult"
   ]
  },
  {
   "cell_type": "code",
   "execution_count": 6,
   "metadata": {},
   "outputs": [],
   "source": [
    "kappa, alpha, dim = 0.5, 2, 1"
   ]
  },
  {
   "cell_type": "code",
   "execution_count": 7,
   "metadata": {},
   "outputs": [],
   "source": [
    "mu, sigma = 0, 1 # mean and standard deviation\n",
    "x = np.linspace(mu - 3*sigma, mu + 3*sigma, 100)\n",
    "y = CoupledNormalDistribution(mu, sigma, kappa, alpha)\n",
    "\n",
    "dx = np.arange(mu-20, mu+20, (20+mu - -20+mu)/(2**16+1))[1] - np.arange(mu-20, mu+20, (20+mu - -20+mu)/(2**16+1))[0]"
   ]
  },
  {
   "cell_type": "markdown",
   "metadata": {},
   "source": [
    "### 2) CoupledNormalDistribution class"
   ]
  },
  {
   "cell_type": "code",
   "execution_count": 8,
   "metadata": {},
   "outputs": [],
   "source": [
    "import numpy as np\n",
    "import math\n",
    "from typing import List\n",
    "\n",
    "\n",
    "# From nsc lib\n",
    "import nsc\n",
    "from nsc import distributions as nsd\n",
    "from nsc.util import function as nsc_func\n",
    "from nsc.util.function import coupled_logarithm, coupled_exponential\n",
    "# nsd = nsc.distributions\n",
    "\n",
    "import ipdb"
   ]
  },
  {
   "cell_type": "code",
   "execution_count": 9,
   "metadata": {},
   "outputs": [],
   "source": [
    "class CoupledNormal:\n",
    "    \"\"\"Coupled Normal Distribution.\n",
    "\n",
    "    This distribution has parameters: location `loc`, 'scale', coupling `kappa`,\n",
    "    and `alpha`.\n",
    "\n",
    "    \"\"\"\n",
    "    def __init__(self,\n",
    "                 loc: [int, float, List, np.ndarray],\n",
    "                 scale: [int, float, List, np.ndarray],\n",
    "                 kappa: [int, float] = 0.,\n",
    "                 alpha: int = 2,\n",
    "                 validate_args: bool = True\n",
    "                 ):\n",
    "        loc = np.asarray(loc) if isinstance(loc, List) else loc\n",
    "        scale = np.asarray(scale) if isinstance(scale, List) else scale\n",
    "        if validate_args:\n",
    "            assert isinstance(loc, (int, float, np.ndarray)), \"loc must be either an int/float type for scalar, or an list/ndarray type for multidimensional.\"\n",
    "            assert isinstance(scale, (int, float, np.ndarray)), \"scale must be either an int/float type for scalar, or an list/ndarray type for multidimensional.\"\n",
    "            assert type(loc) == type(scale), \"loc and scale must be the same type.\"\n",
    "            if isinstance(loc, np.ndarray):\n",
    "                # assert loc.shape == scale.shape, \"loc and scale must have the same dimensions (check respective .shape()).\"\n",
    "                assert np.all((scale >= 0)), \"All scale values must be greater or equal to 0.\"            \n",
    "            else:\n",
    "                assert scale >= 0, \"scale must be greater or equal to 0.\"            \n",
    "            assert isinstance(kappa, (int, float)), \"kappa must be an int or float type.\"\n",
    "            assert isinstance(alpha, int), \"alpha must be an int that equals to either 1 or 2.\"\n",
    "            assert alpha in [1, 2], \"alpha must be equal to either 1 or 2.\"\n",
    "        self.loc = loc\n",
    "        self.scale = scale\n",
    "        self.kappa = kappa\n",
    "        self.alpha = alpha\n",
    "        self.dim = self._n_dim()\n",
    "\n",
    "    def _n_dim(self):\n",
    "        return 1 if self._event_shape() == [] else self._event_shape()[0]\n",
    "\n",
    "    def _batch_shape(self) -> List:\n",
    "        if self._rank(self.loc) == 0:\n",
    "            # return [] signifying single batch of a single distribution\n",
    "            return []\n",
    "        else:\n",
    "            # return the batch shape in list format\n",
    "            return list(self.loc.shape)\n",
    "\n",
    "    def _event_shape(self) -> List:\n",
    "        # For univariate Coupled Normal distribution, event shape is always []\n",
    "        # [] signifies single random variable dim (regardless of batch size)\n",
    "        return []\n",
    "\n",
    "    def _rank(self, value: [int, float, np.ndarray]) -> int:\n",
    "        # specify the rank of a given value, with rank=0 for a scalar and rank=ndim for an ndarray\n",
    "        if isinstance(value, (int, float)):\n",
    "            return 0 \n",
    "        else:\n",
    "            return len(value.shape)\n",
    "\n",
    "    def prob(self, X: [List, np.ndarray]) -> np.ndarray:\n",
    "        # Check whether input X is valid\n",
    "        X = np.asarray(X) if isinstance(X, List) else X\n",
    "        assert isinstance(X, np.ndarray), \"X must be a List or np.ndarray.\"\n",
    "        # assert type(X[0]) == type(self.loc), \"X samples must be the same type as loc and scale.\"\n",
    "        if isinstance(X[0], np.ndarray):\n",
    "            assert X[0].shape == self.loc.shape, \"X samples must have the same dimensions as loc and scale (check respective .shape()).\"\n",
    "        # Calculate PDF with input X\n",
    "        X_norm = (X-self.loc)**2 / self.scale**2\n",
    "        norm_term = self._normalized_term()\n",
    "        p = (coupled_exponential(X_norm, self.kappa))**-0.5 / norm_term\n",
    "        # normCGvalue =  1/float(norm_CG(scale, kappa))\n",
    "        # coupledNormalDistributionResult = normCGvalue * (coupled_exponential(y, kappa)) ** -0.5\n",
    "        return p\n",
    "\n",
    "    # Normalization of 1-D Coupled Gaussian (NormCG)\n",
    "    def _normalized_term(self) -> [int, float, np.ndarray]:\n",
    "        if self.kappa == 0:\n",
    "            norm_term = np.sqrt(2*np.pi) * self.scale\n",
    "        elif self.kappa < 0:\n",
    "            gamma_num = math.gamma(self.kappa-1) / (2*self.kappa)\n",
    "            gamma_dem = math.gamma(1 - (1 / (2*self.kappa)))\n",
    "            norm_term = (np.sqrt(np.pi)*self.scale*gamma_num) / float(np.sqrt(-1*self.kappa)*gamma_dem)\n",
    "        else:\n",
    "            gamma_num = math.gamma(1 / (2*self.kappa))\n",
    "            gamma_dem = math.gamma((1+self.kappa)/(2*self.kappa))\n",
    "            norm_term = (np.sqrt(np.pi)*self.scale*gamma_num) / float(np.sqrt(self.kappa)*gamma_dem)\n",
    "        return norm_term\n",
    "\n",
    "    def __repr__(self) -> str:\n",
    "        return f\"<nsc.distributions.{self.__class__.__name__} batch_shape={str(self._batch_shape())} event_shape={str(self._event_shape())}>\"\n"
   ]
  },
  {
   "cell_type": "code",
   "execution_count": 41,
   "metadata": {},
   "outputs": [],
   "source": [
    "class MultivariateCoupledNormal(CoupledNormal):\n",
    "    \"\"\"Multivariate Coupled Normal Distribution.\n",
    "\n",
    "    This distribution has parameters: location `loc`, 'scale', coupling `kappa`,\n",
    "    and `alpha`.\n",
    "\n",
    "    \"\"\"\n",
    "    def __init__(self,\n",
    "                 loc: [int, float, List, np.ndarray],\n",
    "                 scale: [int, float, List, np.ndarray],\n",
    "                 kappa: [int, float] = 0.,\n",
    "                 alpha: int = 2,\n",
    "                 validate_args: bool = True\n",
    "                 ):\n",
    "        if validate_args:\n",
    "            assert isinstance(loc, (list, np.ndarray)), \"loc must be either a list or ndarray type. Otherwise use CoupledNormal.\"\n",
    "            assert isinstance(scale, (list, np.ndarray)), \"scale must be either a list or ndarray type. Otherwise use CoupledNormal.\"\n",
    "        super(MultivariateCoupledNormal, self).__init__(\n",
    "            loc=loc,\n",
    "            scale=scale,\n",
    "            kappa=kappa,\n",
    "            alpha=alpha,\n",
    "            validate_args=validate_args\n",
    "        )\n",
    "        if self._rank(self.scale) == 1:\n",
    "            self.scale = np.diag(self.scale)\n",
    "        # Ensure that scale is indeed positive definite\n",
    "        # assert self.is_positive_definite(self.scale), \"scale must be positive definite.\"\n",
    "        \n",
    "    # Credit: https://stackoverflow.com/questions/16266720/find-out-if-matrix-is-positive-definite-with-numpy\n",
    "    def is_positive_definite(self, A: np.ndarray) -> bool:\n",
    "        if np.array_equal(A, A.T):\n",
    "            try:\n",
    "                np.linalg.cholesky(A)\n",
    "                return True\n",
    "            except np.linalg.LinAlgError:\n",
    "                return False\n",
    "        else:\n",
    "            return False\n",
    "\n",
    "    def _batch_shape(self) -> List:\n",
    "        if self._rank(self.loc) == 1:\n",
    "            # return [] signifying single batch of a single distribution\n",
    "            return []\n",
    "        else:\n",
    "            # return [batch size]\n",
    "            return list(self.loc.shape[:-1])\n",
    "\n",
    "    def _event_shape(self) -> List:\n",
    "        if self._rank(self.loc) == 1:\n",
    "            # if loc is only a vector\n",
    "            return list(self.loc.shape)\n",
    "        else:\n",
    "            # return [n of random variables] when rank >= 2\n",
    "            return [self.loc.shape[-1]]\n",
    "\n",
    "    def _rank(self, value: [int, float, np.ndarray]) -> int:\n",
    "        # specify the rank of a given value, with rank=0 for a scalar and rank=ndim for an ndarray\n",
    "        if isinstance(value, (int, float)):\n",
    "            return 0 \n",
    "        else:\n",
    "            return len(value.shape)\n",
    "\n",
    "    def prob(self, X: [List, np.ndarray]) -> np.ndarray:\n",
    "        assert X.shape[-1] ==  self.loc.shape[-1], \"input X and loc must have the same dims.\"\n",
    "        sigma = np.matmul(self.scale, self.scale)\n",
    "        sigma_inv = np.linalg.inv(sigma)\n",
    "        _normalized_X = lambda x: np.linalg.multi_dot([x, sigma_inv, x])\n",
    "        X_norm = np.apply_along_axis(_normalized_X, 1, X)\n",
    "        norm_term = self._normalized_term()\n",
    "        p = (coupled_exponential(X_norm, self.kappa))**(-1/self.alpha) / norm_term\n",
    "        return p\n",
    "\n",
    "    # Normalization of the multivariate Coupled Gaussian (NormMultiCoupled)\n",
    "    def _normalized_term(self) -> [int, float, np.ndarray]:\n",
    "        sigma = np.matmul(self.scale, self.scale.T)\n",
    "        sigma_det = np.linalg.det(sigma)\n",
    "        if self.alpha == 1:\n",
    "            return sigma_det**0.5 / (1 + (-1 + self.dim)*self.kappa)\n",
    "        else:  # self.alpha == 2\n",
    "            gamma_num = math.gamma((1 + (-1 + self.dim)*self.kappa) / (2*self.kappa))\n",
    "            gamma_dem = math.gamma((1 + self.dim*self.kappa) / (2*self.kappa))\n",
    "            return (np.sqrt(np.pi) * sigma_det**0.5 * gamma_num) / (np.sqrt(self.kappa) * gamma_dem)\n"
   ]
  },
  {
   "cell_type": "markdown",
   "metadata": {},
   "source": [
    "***Test***"
   ]
  },
  {
   "cell_type": "code",
   "execution_count": null,
   "metadata": {},
   "outputs": [],
   "source": [
    "loc, scale, kappa, alpha = 0., 1., 0.5, 2\n",
    "# X_input = np.arange(mu-20., mu+20., (20.+mu - -20.+mu)/(2.**16.+1.), dtype=float)\n",
    "six_scale = 6.*scale\n",
    "# X_input = np.arange(mu-6.*sigma, mu+6.*sigma, (20.+mu - -20.+mu)/(2.**16.+1.), dtype=float)\n",
    "X_input = np.linspace(mu-six_scale, mu+six_scale, 1000)"
   ]
  },
  {
   "cell_type": "code",
   "execution_count": null,
   "metadata": {},
   "outputs": [],
   "source": [
    "X_input.shape"
   ]
  },
  {
   "cell_type": "markdown",
   "metadata": {},
   "source": [
    "Coupled Normal distribution"
   ]
  },
  {
   "cell_type": "code",
   "execution_count": null,
   "metadata": {},
   "outputs": [],
   "source": [
    "cn = CoupledNormal(loc=mu, scale=sigma)"
   ]
  },
  {
   "cell_type": "code",
   "execution_count": null,
   "metadata": {},
   "outputs": [],
   "source": [
    "cn"
   ]
  },
  {
   "cell_type": "code",
   "execution_count": null,
   "metadata": {},
   "outputs": [],
   "source": [
    "print(cn.dim)\n",
    "print(cn._normalized_term())\n",
    "print(cn.prob(X_input))"
   ]
  },
  {
   "cell_type": "markdown",
   "metadata": {},
   "source": [
    "Test for really low kappa value"
   ]
  },
  {
   "cell_type": "code",
   "execution_count": 16,
   "metadata": {},
   "outputs": [],
   "source": [
    "kappa=0.003"
   ]
  },
  {
   "cell_type": "code",
   "execution_count": 17,
   "metadata": {},
   "outputs": [],
   "source": [
    "cn = CoupledNormal(loc=mu, scale=sigma, kappa=kappa)"
   ]
  },
  {
   "cell_type": "code",
   "execution_count": 18,
   "metadata": {},
   "outputs": [
    {
     "name": "stdout",
     "output_type": "stream",
     "text": [
      "166.66666666666666\n"
     ]
    },
    {
     "data": {
      "text/plain": [
       "9.332621544394415e+155"
      ]
     },
     "execution_count": 18,
     "metadata": {},
     "output_type": "execute_result"
    }
   ],
   "source": [
    "print(1 / (2*kappa))\n",
    "math.gamma(100)"
   ]
  },
  {
   "cell_type": "code",
   "execution_count": 19,
   "metadata": {},
   "outputs": [
    {
     "name": "stdout",
     "output_type": "stream",
     "text": [
      "1\n",
      "2.508508948180413\n",
      "[1.42896327e-08 1.52522011e-08 1.62778955e-08 1.73707354e-08\n",
      " 1.85349883e-08 1.97751838e-08 2.10961296e-08 2.25029279e-08\n",
      " 2.40009925e-08 2.55960675e-08 2.72942464e-08 2.91019925e-08\n",
      " 3.10261610e-08 3.30740213e-08 3.52532813e-08 3.75721129e-08\n",
      " 4.00391789e-08 4.26636611e-08 4.54552902e-08 4.84243777e-08\n",
      " 5.15818489e-08 5.49392780e-08 5.85089250e-08 6.23037750e-08\n",
      " 6.63375792e-08 7.06248983e-08 7.51811481e-08 8.00226476e-08\n",
      " 8.51666701e-08 9.06314963e-08 9.64364708e-08 1.02602061e-07\n",
      " 1.09149921e-07 1.16102954e-07 1.23485386e-07 1.31322836e-07\n",
      " 1.39642391e-07 1.48472692e-07 1.57844013e-07 1.67788354e-07\n",
      " 1.78339533e-07 1.89533287e-07 2.01407373e-07 2.14001678e-07\n",
      " 2.27358336e-07 2.41521846e-07 2.56539199e-07 2.72460013e-07\n",
      " 2.89336668e-07 3.07224461e-07 3.26181751e-07 3.46270130e-07\n",
      " 3.67554585e-07 3.90103682e-07 4.13989749e-07 4.39289077e-07\n",
      " 4.66082123e-07 4.94453727e-07 5.24493340e-07 5.56295261e-07\n",
      " 5.89958884e-07 6.25588967e-07 6.63295895e-07 7.03195978e-07\n",
      " 7.45411745e-07 7.90072262e-07 8.37313463e-07 8.87278492e-07\n",
      " 9.40118073e-07 9.95990879e-07 1.05506394e-06 1.11751304e-06\n",
      " 1.18352319e-06 1.25328903e-06 1.32701535e-06 1.40491757e-06\n",
      " 1.48722225e-06 1.57416765e-06 1.66600430e-06 1.76299560e-06\n",
      " 1.86541839e-06 1.97356369e-06 2.08773730e-06 2.20826054e-06\n",
      " 2.33547100e-06 2.46972329e-06 2.61138986e-06 2.76086185e-06\n",
      " 2.91854994e-06 3.08488531e-06 3.26032054e-06 3.44533069e-06\n",
      " 3.64041424e-06 3.84609426e-06 4.06291950e-06 4.29146559e-06\n",
      " 4.53233623e-06 4.78616453e-06 5.05361429e-06 5.33538143e-06\n",
      " 5.63219540e-06 5.94482072e-06 6.27405855e-06 6.62074827e-06\n",
      " 6.98576925e-06 7.37004258e-06 7.77453291e-06 8.20025035e-06\n",
      " 8.64825252e-06 9.11964653e-06 9.61559120e-06 1.01372993e-05\n",
      " 1.06860397e-05 1.12631401e-05 1.18699892e-05 1.25080396e-05\n",
      " 1.31788103e-05 1.38838896e-05 1.46249377e-05 1.54036904e-05\n",
      " 1.62219616e-05 1.70816468e-05 1.79847265e-05 1.89332694e-05\n",
      " 1.99294366e-05 2.09754848e-05 2.20737704e-05 2.32267536e-05\n",
      " 2.44370025e-05 2.57071974e-05 2.70401352e-05 2.84387344e-05\n",
      " 2.99060393e-05 3.14452255e-05 3.30596047e-05 3.47526302e-05\n",
      " 3.65279024e-05 3.83891742e-05 4.03403570e-05 4.23855271e-05\n",
      " 4.45289314e-05 4.67749944e-05 4.91283242e-05 5.15937202e-05\n",
      " 5.41761797e-05 5.68809053e-05 5.97133126e-05 6.26790379e-05\n",
      " 6.57839465e-05 6.90341407e-05 7.24359685e-05 7.59960324e-05\n",
      " 7.97211987e-05 8.36186064e-05 8.76956774e-05 9.19601261e-05\n",
      " 9.64199697e-05 1.01083539e-04 1.05959488e-04 1.11056807e-04\n",
      " 1.16384833e-04 1.21953260e-04 1.27772156e-04 1.33851968e-04\n",
      " 1.40203541e-04 1.46838128e-04 1.53767407e-04 1.61003487e-04\n",
      " 1.68558933e-04 1.76446771e-04 1.84680509e-04 1.93274149e-04\n",
      " 2.02242203e-04 2.11599712e-04 2.21362259e-04 2.31545987e-04\n",
      " 2.42167617e-04 2.53244465e-04 2.64794460e-04 2.76836161e-04\n",
      " 2.89388781e-04 3.02472200e-04 3.16106989e-04 3.30314426e-04\n",
      " 3.45116524e-04 3.60536042e-04 3.76596517e-04 3.93322277e-04\n",
      " 4.10738468e-04 4.28871077e-04 4.47746951e-04 4.67393828e-04\n",
      " 4.87840352e-04 5.09116105e-04 5.31251630e-04 5.54278452e-04\n",
      " 5.78229112e-04 6.03137183e-04 6.29037308e-04 6.55965217e-04\n",
      " 6.83957761e-04 7.13052936e-04 7.43289916e-04 7.74709075e-04\n",
      " 8.07352023e-04 8.41261630e-04 8.76482060e-04 9.13058797e-04\n",
      " 9.51038680e-04 9.90469931e-04 1.03140219e-03 1.07388653e-03\n",
      " 1.11797553e-03 1.16372324e-03 1.21118530e-03 1.26041889e-03\n",
      " 1.31148280e-03 1.36443749e-03 1.41934506e-03 1.47626935e-03\n",
      " 1.53527591e-03 1.59643210e-03 1.65980706e-03 1.72547179e-03\n",
      " 1.79349916e-03 1.86396396e-03 1.93694292e-03 2.01251476e-03\n",
      " 2.09076020e-03 2.17176201e-03 2.25560505e-03 2.34237629e-03\n",
      " 2.43216485e-03 2.52506204e-03 2.62116136e-03 2.72055859e-03\n",
      " 2.82335177e-03 2.92964125e-03 3.03952974e-03 3.15312231e-03\n",
      " 3.27052643e-03 3.39185204e-03 3.51721149e-03 3.64671966e-03\n",
      " 3.78049396e-03 3.91865430e-03 4.06132321e-03 4.20862581e-03\n",
      " 4.36068982e-03 4.51764564e-03 4.67962633e-03 4.84676762e-03\n",
      " 5.01920798e-03 5.19708861e-03 5.38055343e-03 5.56974917e-03\n",
      " 5.76482529e-03 5.96593409e-03 6.17323065e-03 6.38687286e-03\n",
      " 6.60702146e-03 6.83384001e-03 7.06749489e-03 7.30815534e-03\n",
      " 7.55599344e-03 7.81118412e-03 8.07390511e-03 8.34433702e-03\n",
      " 8.62266326e-03 8.90907005e-03 9.20374644e-03 9.50688425e-03\n",
      " 9.81867807e-03 1.01393253e-02 1.04690259e-02 1.08079828e-02\n",
      " 1.11564015e-02 1.15144899e-02 1.18824590e-02 1.22605219e-02\n",
      " 1.26488946e-02 1.30477954e-02 1.34574451e-02 1.38780669e-02\n",
      " 1.43098864e-02 1.47531313e-02 1.52080319e-02 1.56748203e-02\n",
      " 1.61537309e-02 1.66450000e-02 1.71488661e-02 1.76655694e-02\n",
      " 1.81953518e-02 1.87384572e-02 1.92951309e-02 1.98656198e-02\n",
      " 2.04501724e-02 2.10490381e-02 2.16624681e-02 2.22907142e-02\n",
      " 2.29340296e-02 2.35926682e-02 2.42668846e-02 2.49569343e-02\n",
      " 2.56630730e-02 2.63855571e-02 2.71246429e-02 2.78805871e-02\n",
      " 2.86536462e-02 2.94440764e-02 3.02521339e-02 3.10780740e-02\n",
      " 3.19221515e-02 3.27846204e-02 3.36657335e-02 3.45657426e-02\n",
      " 3.54848981e-02 3.64234488e-02 3.73816416e-02 3.83597217e-02\n",
      " 3.93579322e-02 4.03765136e-02 4.14157042e-02 4.24757393e-02\n",
      " 4.35568513e-02 4.46592696e-02 4.57832200e-02 4.69289249e-02\n",
      " 4.80966029e-02 4.92864682e-02 5.04987312e-02 5.17335976e-02\n",
      " 5.29912682e-02 5.42719391e-02 5.55758010e-02 5.69030392e-02\n",
      " 5.82538334e-02 5.96283574e-02 6.10267784e-02 6.24492578e-02\n",
      " 6.38959498e-02 6.53670019e-02 6.68625545e-02 6.83827404e-02\n",
      " 6.99276847e-02 7.14975048e-02 7.30923096e-02 7.47121999e-02\n",
      " 7.63572675e-02 7.80275955e-02 7.97232576e-02 8.14443183e-02\n",
      " 8.31908322e-02 8.49628440e-02 8.67603883e-02 8.85834894e-02\n",
      " 9.04321605e-02 9.23064044e-02 9.42062126e-02 9.61315650e-02\n",
      " 9.80824303e-02 1.00058765e-01 1.02060514e-01 1.04087610e-01\n",
      " 1.06139972e-01 1.08217507e-01 1.10320111e-01 1.12447665e-01\n",
      " 1.14600036e-01 1.16777080e-01 1.18978636e-01 1.21204534e-01\n",
      " 1.23454585e-01 1.25728589e-01 1.28026330e-01 1.30347580e-01\n",
      " 1.32692095e-01 1.35059614e-01 1.37449866e-01 1.39862561e-01\n",
      " 1.42297397e-01 1.44754053e-01 1.47232198e-01 1.49731482e-01\n",
      " 1.52251540e-01 1.54791993e-01 1.57352446e-01 1.59932489e-01\n",
      " 1.62531695e-01 1.65149623e-01 1.67785817e-01 1.70439803e-01\n",
      " 1.73111095e-01 1.75799188e-01 1.78503565e-01 1.81223692e-01\n",
      " 1.83959019e-01 1.86708982e-01 1.89473003e-01 1.92250487e-01\n",
      " 1.95040825e-01 1.97843393e-01 2.00657554e-01 2.03482654e-01\n",
      " 2.06318028e-01 2.09162994e-01 2.12016858e-01 2.14878912e-01\n",
      " 2.17748434e-01 2.20624690e-01 2.23506932e-01 2.26394400e-01\n",
      " 2.29286322e-01 2.32181913e-01 2.35080376e-01 2.37980905e-01\n",
      " 2.40882680e-01 2.43784872e-01 2.46686641e-01 2.49587136e-01\n",
      " 2.52485498e-01 2.55380858e-01 2.58272338e-01 2.61159051e-01\n",
      " 2.64040104e-01 2.66914593e-01 2.69781610e-01 2.72640239e-01\n",
      " 2.75489557e-01 2.78328637e-01 2.81156544e-01 2.83972341e-01\n",
      " 2.86775084e-01 2.89563829e-01 2.92337624e-01 2.95095517e-01\n",
      " 2.97836554e-01 3.00559778e-01 3.03264232e-01 3.05948957e-01\n",
      " 3.08612994e-01 3.11255387e-01 3.13875178e-01 3.16471412e-01\n",
      " 3.19043137e-01 3.21589401e-01 3.24109259e-01 3.26601767e-01\n",
      " 3.29065987e-01 3.31500986e-01 3.33905836e-01 3.36279617e-01\n",
      " 3.38621413e-01 3.40930318e-01 3.43205432e-01 3.45445867e-01\n",
      " 3.47650740e-01 3.49819180e-01 3.51950327e-01 3.54043330e-01\n",
      " 3.56097351e-01 3.58111564e-01 3.60085154e-01 3.62017321e-01\n",
      " 3.63907278e-01 3.65754252e-01 3.67557484e-01 3.69316234e-01\n",
      " 3.71029772e-01 3.72697390e-01 3.74318392e-01 3.75892102e-01\n",
      " 3.77417862e-01 3.78895031e-01 3.80322986e-01 3.81701126e-01\n",
      " 3.83028866e-01 3.84305643e-01 3.85530914e-01 3.86704157e-01\n",
      " 3.87824871e-01 3.88892575e-01 3.89906812e-01 3.90867146e-01\n",
      " 3.91773162e-01 3.92624472e-01 3.93420706e-01 3.94161521e-01\n",
      " 3.94846596e-01 3.95475633e-01 3.96048360e-01 3.96564528e-01\n",
      " 3.97023912e-01 3.97426312e-01 3.97771552e-01 3.98059484e-01\n",
      " 3.98289979e-01 3.98462939e-01 3.98578288e-01 3.98635975e-01\n",
      " 3.98635975e-01 3.98578288e-01 3.98462939e-01 3.98289979e-01\n",
      " 3.98059484e-01 3.97771552e-01 3.97426312e-01 3.97023912e-01\n",
      " 3.96564528e-01 3.96048360e-01 3.95475633e-01 3.94846596e-01\n",
      " 3.94161521e-01 3.93420706e-01 3.92624472e-01 3.91773162e-01\n",
      " 3.90867146e-01 3.89906812e-01 3.88892575e-01 3.87824871e-01\n",
      " 3.86704157e-01 3.85530914e-01 3.84305643e-01 3.83028866e-01\n",
      " 3.81701126e-01 3.80322986e-01 3.78895031e-01 3.77417862e-01\n",
      " 3.75892102e-01 3.74318392e-01 3.72697390e-01 3.71029772e-01\n",
      " 3.69316234e-01 3.67557484e-01 3.65754252e-01 3.63907278e-01\n",
      " 3.62017321e-01 3.60085154e-01 3.58111564e-01 3.56097351e-01\n",
      " 3.54043330e-01 3.51950327e-01 3.49819180e-01 3.47650740e-01\n",
      " 3.45445867e-01 3.43205432e-01 3.40930318e-01 3.38621413e-01\n",
      " 3.36279617e-01 3.33905836e-01 3.31500986e-01 3.29065987e-01\n",
      " 3.26601767e-01 3.24109259e-01 3.21589401e-01 3.19043137e-01\n",
      " 3.16471412e-01 3.13875178e-01 3.11255387e-01 3.08612994e-01\n",
      " 3.05948957e-01 3.03264232e-01 3.00559778e-01 2.97836554e-01\n",
      " 2.95095517e-01 2.92337624e-01 2.89563829e-01 2.86775084e-01\n",
      " 2.83972341e-01 2.81156544e-01 2.78328637e-01 2.75489557e-01\n",
      " 2.72640239e-01 2.69781610e-01 2.66914593e-01 2.64040104e-01\n",
      " 2.61159051e-01 2.58272338e-01 2.55380858e-01 2.52485498e-01\n",
      " 2.49587136e-01 2.46686641e-01 2.43784872e-01 2.40882680e-01\n",
      " 2.37980905e-01 2.35080376e-01 2.32181913e-01 2.29286322e-01\n",
      " 2.26394400e-01 2.23506932e-01 2.20624690e-01 2.17748434e-01\n",
      " 2.14878912e-01 2.12016858e-01 2.09162994e-01 2.06318028e-01\n",
      " 2.03482654e-01 2.00657554e-01 1.97843393e-01 1.95040825e-01\n",
      " 1.92250487e-01 1.89473003e-01 1.86708982e-01 1.83959019e-01\n",
      " 1.81223692e-01 1.78503565e-01 1.75799188e-01 1.73111095e-01\n",
      " 1.70439803e-01 1.67785817e-01 1.65149623e-01 1.62531695e-01\n",
      " 1.59932489e-01 1.57352446e-01 1.54791993e-01 1.52251540e-01\n",
      " 1.49731482e-01 1.47232198e-01 1.44754053e-01 1.42297397e-01\n",
      " 1.39862561e-01 1.37449866e-01 1.35059614e-01 1.32692095e-01\n",
      " 1.30347580e-01 1.28026330e-01 1.25728589e-01 1.23454585e-01\n",
      " 1.21204534e-01 1.18978636e-01 1.16777080e-01 1.14600036e-01\n",
      " 1.12447665e-01 1.10320111e-01 1.08217507e-01 1.06139972e-01\n",
      " 1.04087610e-01 1.02060514e-01 1.00058765e-01 9.80824303e-02\n",
      " 9.61315650e-02 9.42062126e-02 9.23064044e-02 9.04321605e-02\n",
      " 8.85834894e-02 8.67603883e-02 8.49628440e-02 8.31908322e-02\n",
      " 8.14443183e-02 7.97232576e-02 7.80275955e-02 7.63572675e-02\n",
      " 7.47121999e-02 7.30923096e-02 7.14975048e-02 6.99276847e-02\n",
      " 6.83827404e-02 6.68625545e-02 6.53670019e-02 6.38959498e-02\n",
      " 6.24492578e-02 6.10267784e-02 5.96283574e-02 5.82538334e-02\n",
      " 5.69030392e-02 5.55758010e-02 5.42719391e-02 5.29912682e-02\n",
      " 5.17335976e-02 5.04987312e-02 4.92864682e-02 4.80966029e-02\n",
      " 4.69289249e-02 4.57832200e-02 4.46592696e-02 4.35568513e-02\n",
      " 4.24757393e-02 4.14157042e-02 4.03765136e-02 3.93579322e-02\n",
      " 3.83597217e-02 3.73816416e-02 3.64234488e-02 3.54848981e-02\n",
      " 3.45657426e-02 3.36657335e-02 3.27846204e-02 3.19221515e-02\n",
      " 3.10780740e-02 3.02521339e-02 2.94440764e-02 2.86536462e-02\n",
      " 2.78805871e-02 2.71246429e-02 2.63855571e-02 2.56630730e-02\n",
      " 2.49569343e-02 2.42668846e-02 2.35926682e-02 2.29340296e-02\n",
      " 2.22907142e-02 2.16624681e-02 2.10490381e-02 2.04501724e-02\n",
      " 1.98656198e-02 1.92951309e-02 1.87384572e-02 1.81953518e-02\n",
      " 1.76655694e-02 1.71488661e-02 1.66450000e-02 1.61537309e-02\n",
      " 1.56748203e-02 1.52080319e-02 1.47531313e-02 1.43098864e-02\n",
      " 1.38780669e-02 1.34574451e-02 1.30477954e-02 1.26488946e-02\n",
      " 1.22605219e-02 1.18824590e-02 1.15144899e-02 1.11564015e-02\n",
      " 1.08079828e-02 1.04690259e-02 1.01393253e-02 9.81867807e-03\n",
      " 9.50688425e-03 9.20374644e-03 8.90907005e-03 8.62266326e-03\n",
      " 8.34433702e-03 8.07390511e-03 7.81118412e-03 7.55599344e-03\n",
      " 7.30815534e-03 7.06749489e-03 6.83384001e-03 6.60702146e-03\n",
      " 6.38687286e-03 6.17323065e-03 5.96593409e-03 5.76482529e-03\n",
      " 5.56974917e-03 5.38055343e-03 5.19708861e-03 5.01920798e-03\n",
      " 4.84676762e-03 4.67962633e-03 4.51764564e-03 4.36068982e-03\n",
      " 4.20862581e-03 4.06132321e-03 3.91865430e-03 3.78049396e-03\n",
      " 3.64671966e-03 3.51721149e-03 3.39185204e-03 3.27052643e-03\n",
      " 3.15312231e-03 3.03952974e-03 2.92964125e-03 2.82335177e-03\n",
      " 2.72055859e-03 2.62116136e-03 2.52506204e-03 2.43216485e-03\n",
      " 2.34237629e-03 2.25560505e-03 2.17176201e-03 2.09076020e-03\n",
      " 2.01251476e-03 1.93694292e-03 1.86396396e-03 1.79349916e-03\n",
      " 1.72547179e-03 1.65980706e-03 1.59643210e-03 1.53527591e-03\n",
      " 1.47626935e-03 1.41934506e-03 1.36443749e-03 1.31148280e-03\n",
      " 1.26041889e-03 1.21118530e-03 1.16372324e-03 1.11797553e-03\n",
      " 1.07388653e-03 1.03140219e-03 9.90469931e-04 9.51038680e-04\n",
      " 9.13058797e-04 8.76482060e-04 8.41261630e-04 8.07352023e-04\n",
      " 7.74709075e-04 7.43289916e-04 7.13052936e-04 6.83957761e-04\n",
      " 6.55965217e-04 6.29037308e-04 6.03137183e-04 5.78229112e-04\n",
      " 5.54278452e-04 5.31251630e-04 5.09116105e-04 4.87840352e-04\n",
      " 4.67393828e-04 4.47746951e-04 4.28871077e-04 4.10738468e-04\n",
      " 3.93322277e-04 3.76596517e-04 3.60536042e-04 3.45116524e-04\n",
      " 3.30314426e-04 3.16106989e-04 3.02472200e-04 2.89388781e-04\n",
      " 2.76836161e-04 2.64794460e-04 2.53244465e-04 2.42167617e-04\n",
      " 2.31545987e-04 2.21362259e-04 2.11599712e-04 2.02242203e-04\n",
      " 1.93274149e-04 1.84680509e-04 1.76446771e-04 1.68558933e-04\n",
      " 1.61003487e-04 1.53767407e-04 1.46838128e-04 1.40203541e-04\n",
      " 1.33851968e-04 1.27772156e-04 1.21953260e-04 1.16384833e-04\n",
      " 1.11056807e-04 1.05959488e-04 1.01083539e-04 9.64199697e-05\n",
      " 9.19601261e-05 8.76956774e-05 8.36186064e-05 7.97211987e-05\n",
      " 7.59960324e-05 7.24359685e-05 6.90341407e-05 6.57839465e-05\n",
      " 6.26790379e-05 5.97133126e-05 5.68809053e-05 5.41761797e-05\n",
      " 5.15937202e-05 4.91283242e-05 4.67749944e-05 4.45289314e-05\n",
      " 4.23855271e-05 4.03403570e-05 3.83891742e-05 3.65279024e-05\n",
      " 3.47526302e-05 3.30596047e-05 3.14452255e-05 2.99060393e-05\n",
      " 2.84387344e-05 2.70401352e-05 2.57071974e-05 2.44370025e-05\n",
      " 2.32267536e-05 2.20737704e-05 2.09754848e-05 1.99294366e-05\n",
      " 1.89332694e-05 1.79847265e-05 1.70816468e-05 1.62219616e-05\n",
      " 1.54036904e-05 1.46249377e-05 1.38838896e-05 1.31788103e-05\n",
      " 1.25080396e-05 1.18699892e-05 1.12631401e-05 1.06860397e-05\n",
      " 1.01372993e-05 9.61559120e-06 9.11964653e-06 8.64825252e-06\n",
      " 8.20025035e-06 7.77453291e-06 7.37004258e-06 6.98576925e-06\n",
      " 6.62074827e-06 6.27405855e-06 5.94482072e-06 5.63219540e-06\n",
      " 5.33538143e-06 5.05361429e-06 4.78616453e-06 4.53233623e-06\n",
      " 4.29146559e-06 4.06291950e-06 3.84609426e-06 3.64041424e-06\n",
      " 3.44533069e-06 3.26032054e-06 3.08488531e-06 2.91854994e-06\n",
      " 2.76086185e-06 2.61138986e-06 2.46972329e-06 2.33547100e-06\n",
      " 2.20826054e-06 2.08773730e-06 1.97356369e-06 1.86541839e-06\n",
      " 1.76299560e-06 1.66600430e-06 1.57416765e-06 1.48722225e-06\n",
      " 1.40491757e-06 1.32701535e-06 1.25328903e-06 1.18352319e-06\n",
      " 1.11751304e-06 1.05506394e-06 9.95990879e-07 9.40118073e-07\n",
      " 8.87278492e-07 8.37313463e-07 7.90072262e-07 7.45411745e-07\n",
      " 7.03195978e-07 6.63295895e-07 6.25588967e-07 5.89958884e-07\n",
      " 5.56295261e-07 5.24493340e-07 4.94453727e-07 4.66082123e-07\n",
      " 4.39289077e-07 4.13989749e-07 3.90103682e-07 3.67554585e-07\n",
      " 3.46270130e-07 3.26181751e-07 3.07224461e-07 2.89336668e-07\n",
      " 2.72460013e-07 2.56539199e-07 2.41521846e-07 2.27358336e-07\n",
      " 2.14001678e-07 2.01407373e-07 1.89533287e-07 1.78339533e-07\n",
      " 1.67788354e-07 1.57844013e-07 1.48472692e-07 1.39642391e-07\n",
      " 1.31322836e-07 1.23485386e-07 1.16102954e-07 1.09149921e-07\n",
      " 1.02602061e-07 9.64364708e-08 9.06314963e-08 8.51666701e-08\n",
      " 8.00226476e-08 7.51811481e-08 7.06248983e-08 6.63375792e-08\n",
      " 6.23037750e-08 5.85089250e-08 5.49392780e-08 5.15818489e-08\n",
      " 4.84243777e-08 4.54552902e-08 4.26636611e-08 4.00391789e-08\n",
      " 3.75721129e-08 3.52532813e-08 3.30740213e-08 3.10261610e-08\n",
      " 2.91019925e-08 2.72942464e-08 2.55960675e-08 2.40009925e-08\n",
      " 2.25029279e-08 2.10961296e-08 1.97751838e-08 1.85349883e-08\n",
      " 1.73707354e-08 1.62778955e-08 1.52522011e-08 1.42896327e-08]\n"
     ]
    }
   ],
   "source": [
    "print(cn.dim)\n",
    "print(cn._normalized_term())\n",
    "print(cn.prob(X_input))"
   ]
  },
  {
   "cell_type": "markdown",
   "metadata": {},
   "source": [
    "Coupled Normal multiple distributions with batch vector size of 2"
   ]
  },
  {
   "cell_type": "code",
   "execution_count": 20,
   "metadata": {},
   "outputs": [
    {
     "data": {
      "text/plain": [
       "<nsc.distributions.CoupledNormal batch_shape=[2] event_shape=[]>"
      ]
     },
     "execution_count": 20,
     "metadata": {},
     "output_type": "execute_result"
    }
   ],
   "source": [
    "cn = CoupledNormal(loc=[0., 1.], scale=[1., 2.])\n",
    "cn"
   ]
  },
  {
   "cell_type": "code",
   "execution_count": 21,
   "metadata": {},
   "outputs": [
    {
     "name": "stdout",
     "output_type": "stream",
     "text": [
      "1\n",
      "[2.50662827 5.01325655]\n"
     ]
    }
   ],
   "source": [
    "print(cn.dim)\n",
    "print(cn._normalized_term())\n",
    "# print(cn.prob(X_input))"
   ]
  },
  {
   "cell_type": "markdown",
   "metadata": {},
   "source": [
    "Coupled Normal multiple distributions with batch matrix size of 3x2"
   ]
  },
  {
   "cell_type": "code",
   "execution_count": 22,
   "metadata": {},
   "outputs": [
    {
     "data": {
      "text/plain": [
       "<nsc.distributions.CoupledNormal batch_shape=[3, 2] event_shape=[]>"
      ]
     },
     "execution_count": 22,
     "metadata": {},
     "output_type": "execute_result"
    }
   ],
   "source": [
    "cn = CoupledNormal(loc=[[0., 1.], [0., 1.], [0., 1.]], scale=[[1., 2.], [1., 2.], [1., 2.]])\n",
    "cn"
   ]
  },
  {
   "cell_type": "markdown",
   "metadata": {},
   "source": [
    "**Multivariate Coupled Normal distribution when d=2**"
   ]
  },
  {
   "cell_type": "code",
   "execution_count": 42,
   "metadata": {},
   "outputs": [
    {
     "data": {
      "text/plain": [
       "<nsc.distributions.MultivariateCoupledNormal batch_shape=[] event_shape=[2]>"
      ]
     },
     "execution_count": 42,
     "metadata": {},
     "output_type": "execute_result"
    }
   ],
   "source": [
    "# batch_shape is [] while event_shape is [2]\n",
    "mcn = MultivariateCoupledNormal(loc=[0., 1.], scale=[1., 2.], kappa=0.1)\n",
    "mcn"
   ]
  },
  {
   "cell_type": "code",
   "execution_count": 43,
   "metadata": {},
   "outputs": [
    {
     "name": "stdout",
     "output_type": "stream",
     "text": [
      "2\n",
      "[0. 1.]\n",
      "[[1. 0.]\n",
      " [0. 2.]]\n",
      "0.1\n",
      "2\n"
     ]
    }
   ],
   "source": [
    "print(mcn.dim)\n",
    "print(mcn.loc)\n",
    "print(mcn.scale)\n",
    "print(mcn.kappa)\n",
    "print(mcn.alpha)"
   ]
  },
  {
   "cell_type": "code",
   "execution_count": 44,
   "metadata": {},
   "outputs": [
    {
     "data": {
      "text/plain": [
       "4.889680162071525"
      ]
     },
     "execution_count": 44,
     "metadata": {},
     "output_type": "execute_result"
    }
   ],
   "source": [
    "mcn._normalized_term()"
   ]
  },
  {
   "cell_type": "markdown",
   "metadata": {},
   "source": [
    "Create 2nd X variable from -12 to 12."
   ]
  },
  {
   "cell_type": "code",
   "execution_count": 45,
   "metadata": {},
   "outputs": [],
   "source": [
    "twelve_scale = 12.*scale\n",
    "# X_input = np.arange(mu-6.*sigma, mu+6.*sigma, (20.+mu - -20.+mu)/(2.**16.+1.), dtype=float)\n",
    "X2_input = np.linspace(mu-twelve_scale, mu+twelve_scale, 1000)"
   ]
  },
  {
   "cell_type": "code",
   "execution_count": 46,
   "metadata": {},
   "outputs": [
    {
     "data": {
      "text/plain": [
       "(1000, 2)"
      ]
     },
     "execution_count": 46,
     "metadata": {},
     "output_type": "execute_result"
    }
   ],
   "source": [
    "X_2D = np.column_stack((X_input, X2_input))\n",
    "X_2D.shape"
   ]
  },
  {
   "cell_type": "code",
   "execution_count": 47,
   "metadata": {},
   "outputs": [
    {
     "data": {
      "text/plain": [
       "array([[ -6.        , -12.        ],\n",
       "       [ -5.98798799, -11.97597598],\n",
       "       [ -5.97597598, -11.95195195],\n",
       "       ...,\n",
       "       [  5.97597598,  11.95195195],\n",
       "       [  5.98798799,  11.97597598],\n",
       "       [  6.        ,  12.        ]])"
      ]
     },
     "execution_count": 47,
     "metadata": {},
     "output_type": "execute_result"
    }
   ],
   "source": [
    "X_2D"
   ]
  },
  {
   "cell_type": "markdown",
   "metadata": {},
   "source": [
    "Here is the dataset of X_2D, we can see that the sample size (m) is 1000 and the dim (d) for each sample is 2."
   ]
  },
  {
   "cell_type": "code",
   "execution_count": 52,
   "metadata": {},
   "outputs": [
    {
     "data": {
      "text/plain": [
       "array([1.92638620e-06, 1.96402683e-06, 2.00246169e-06, 2.04170873e-06,\n",
       "       2.08178637e-06, 2.12271343e-06, 2.16450921e-06, 2.20719347e-06,\n",
       "       2.25078645e-06, 2.29530888e-06, 2.34078200e-06, 2.38722755e-06,\n",
       "       2.43466781e-06, 2.48312560e-06, 2.53262431e-06, 2.58318788e-06,\n",
       "       2.63484086e-06, 2.68760838e-06, 2.74151620e-06, 2.79659071e-06,\n",
       "       2.85285896e-06, 2.91034864e-06, 2.96908815e-06, 3.02910658e-06,\n",
       "       3.09043374e-06, 3.15310020e-06, 3.21713725e-06, 3.28257698e-06,\n",
       "       3.34945229e-06, 3.41779689e-06, 3.48764532e-06, 3.55903299e-06,\n",
       "       3.63199621e-06, 3.70657218e-06, 3.78279905e-06, 3.86071593e-06,\n",
       "       3.94036290e-06, 4.02178105e-06, 4.10501252e-06, 4.19010052e-06,\n",
       "       4.27708933e-06, 4.36602438e-06, 4.45695222e-06, 4.54992062e-06,\n",
       "       4.64497855e-06, 4.74217621e-06, 4.84156511e-06, 4.94319807e-06,\n",
       "       5.04712924e-06, 5.15341418e-06, 5.26210988e-06, 5.37327477e-06,\n",
       "       5.48696881e-06, 5.60325348e-06, 5.72219188e-06, 5.84384871e-06,\n",
       "       5.96829035e-06, 6.09558491e-06, 6.22580227e-06, 6.35901411e-06,\n",
       "       6.49529398e-06, 6.63471736e-06, 6.77736169e-06, 6.92330642e-06,\n",
       "       7.07263310e-06, 7.22542541e-06, 7.38176922e-06, 7.54175265e-06,\n",
       "       7.70546617e-06, 7.87300259e-06, 8.04445720e-06, 8.21992779e-06,\n",
       "       8.39951475e-06, 8.58332112e-06, 8.77145266e-06, 8.96401798e-06,\n",
       "       9.16112853e-06, 9.36289875e-06, 9.56944615e-06, 9.78089135e-06,\n",
       "       9.99735820e-06, 1.02189739e-05, 1.04458690e-05, 1.06781776e-05,\n",
       "       1.09160373e-05, 1.11595897e-05, 1.14089799e-05, 1.16643570e-05,\n",
       "       1.19258742e-05, 1.21936888e-05, 1.24679623e-05, 1.27488608e-05,\n",
       "       1.30365547e-05, 1.33312191e-05, 1.36330339e-05, 1.39421838e-05,\n",
       "       1.42588587e-05, 1.45832537e-05, 1.49155690e-05, 1.52560106e-05,\n",
       "       1.56047899e-05, 1.59621243e-05, 1.63282372e-05, 1.67033580e-05,\n",
       "       1.70877224e-05, 1.74815729e-05, 1.78851585e-05, 1.82987352e-05,\n",
       "       1.87225659e-05, 1.91569210e-05, 1.96020785e-05, 2.00583239e-05,\n",
       "       2.05259508e-05, 2.10052611e-05, 2.14965649e-05, 2.20001813e-05,\n",
       "       2.25164380e-05, 2.30456721e-05, 2.35882302e-05, 2.41444687e-05,\n",
       "       2.47147538e-05, 2.52994622e-05, 2.58989813e-05, 2.65137093e-05,\n",
       "       2.71440559e-05, 2.77904423e-05, 2.84533015e-05, 2.91330791e-05,\n",
       "       2.98302333e-05, 3.05452351e-05, 3.12785694e-05, 3.20307345e-05,\n",
       "       3.28022434e-05, 3.35936234e-05, 3.44054171e-05, 3.52381827e-05,\n",
       "       3.60924945e-05, 3.69689432e-05, 3.78681365e-05, 3.87906998e-05,\n",
       "       3.97372764e-05, 4.07085284e-05, 4.17051368e-05, 4.27278026e-05,\n",
       "       4.37772471e-05, 4.48542123e-05, 4.59594622e-05, 4.70937826e-05,\n",
       "       4.82579827e-05, 4.94528950e-05, 5.06793764e-05, 5.19383088e-05,\n",
       "       5.32306001e-05, 5.45571847e-05, 5.59190244e-05, 5.73171095e-05,\n",
       "       5.87524592e-05, 6.02261227e-05, 6.17391804e-05, 6.32927442e-05,\n",
       "       6.48879593e-05, 6.65260044e-05, 6.82080934e-05, 6.99354759e-05,\n",
       "       7.17094389e-05, 7.35313073e-05, 7.54024456e-05, 7.73242590e-05,\n",
       "       7.92981944e-05, 8.13257418e-05, 8.34084360e-05, 8.55478574e-05,\n",
       "       8.77456337e-05, 9.00034416e-05, 9.23230076e-05, 9.47061105e-05,\n",
       "       9.71545822e-05, 9.96703097e-05, 1.02255237e-04, 1.04911367e-04,\n",
       "       1.07640761e-04, 1.10445545e-04, 1.13327909e-04, 1.16290107e-04,\n",
       "       1.19334463e-04, 1.22463371e-04, 1.25679297e-04, 1.28984783e-04,\n",
       "       1.32382448e-04, 1.35874989e-04, 1.39465186e-04, 1.43155904e-04,\n",
       "       1.46950095e-04, 1.50850800e-04, 1.54861155e-04, 1.58984390e-04,\n",
       "       1.63223833e-04, 1.67582916e-04, 1.72065174e-04, 1.76674251e-04,\n",
       "       1.81413903e-04, 1.86288000e-04, 1.91300531e-04, 1.96455610e-04,\n",
       "       2.01757473e-04, 2.07210490e-04, 2.12819162e-04, 2.18588132e-04,\n",
       "       2.24522184e-04, 2.30626249e-04, 2.36905410e-04, 2.43364908e-04,\n",
       "       2.50010146e-04, 2.56846691e-04, 2.63880284e-04, 2.71116844e-04,\n",
       "       2.78562471e-04, 2.86223456e-04, 2.94106282e-04, 3.02217634e-04,\n",
       "       3.10564403e-04, 3.19153697e-04, 3.27992838e-04, 3.37089381e-04,\n",
       "       3.46451110e-04, 3.56086055e-04, 3.66002492e-04, 3.76208954e-04,\n",
       "       3.86714239e-04, 3.97527419e-04, 4.08657847e-04, 4.20115165e-04,\n",
       "       4.31909315e-04, 4.44050550e-04, 4.56549437e-04, 4.69416874e-04,\n",
       "       4.82664097e-04, 4.96302690e-04, 5.10344597e-04, 5.24802133e-04,\n",
       "       5.39687995e-04, 5.55015273e-04, 5.70797465e-04, 5.87048486e-04,\n",
       "       6.03782683e-04, 6.21014849e-04, 6.38760235e-04, 6.57034562e-04,\n",
       "       6.75854043e-04, 6.95235387e-04, 7.15195826e-04, 7.35753120e-04,\n",
       "       7.56925582e-04, 7.78732088e-04, 8.01192099e-04, 8.24325675e-04,\n",
       "       8.48153497e-04, 8.72696881e-04, 8.97977802e-04, 9.24018909e-04,\n",
       "       9.50843548e-04, 9.78475784e-04, 1.00694042e-03, 1.03626302e-03,\n",
       "       1.06646993e-03, 1.09758830e-03, 1.12964611e-03, 1.16267221e-03,\n",
       "       1.19669631e-03, 1.23174904e-03, 1.26786194e-03, 1.30506753e-03,\n",
       "       1.34339931e-03, 1.38289180e-03, 1.42358056e-03, 1.46550221e-03,\n",
       "       1.50869450e-03, 1.55319630e-03, 1.59904764e-03, 1.64628978e-03,\n",
       "       1.69496519e-03, 1.74511762e-03, 1.79679212e-03, 1.85003508e-03,\n",
       "       1.90489427e-03, 1.96141887e-03, 2.01965952e-03, 2.07966836e-03,\n",
       "       2.14149904e-03, 2.20520681e-03, 2.27084852e-03, 2.33848268e-03,\n",
       "       2.40816951e-03, 2.47997096e-03, 2.55395080e-03, 2.63017461e-03,\n",
       "       2.70870987e-03, 2.78962598e-03, 2.87299434e-03, 2.95888837e-03,\n",
       "       3.04738356e-03, 3.13855754e-03, 3.23249012e-03, 3.32926336e-03,\n",
       "       3.42896158e-03, 3.53167146e-03, 3.63748207e-03, 3.74648492e-03,\n",
       "       3.85877406e-03, 3.97444606e-03, 4.09360013e-03, 4.21633816e-03,\n",
       "       4.34276475e-03, 4.47298731e-03, 4.60711609e-03, 4.74526426e-03,\n",
       "       4.88754792e-03, 5.03408623e-03, 5.18500141e-03, 5.34041882e-03,\n",
       "       5.50046704e-03, 5.66527787e-03, 5.83498645e-03, 6.00973127e-03,\n",
       "       6.18965426e-03, 6.37490083e-03, 6.56561991e-03, 6.76196404e-03,\n",
       "       6.96408940e-03, 7.17215584e-03, 7.38632698e-03, 7.60677022e-03,\n",
       "       7.83365680e-03, 8.06716184e-03, 8.30746438e-03, 8.55474744e-03,\n",
       "       8.80919802e-03, 9.07100717e-03, 9.34037000e-03, 9.61748572e-03,\n",
       "       9.90255766e-03, 1.01957933e-02, 1.04974042e-02, 1.08076062e-02,\n",
       "       1.11266193e-02, 1.14546676e-02, 1.17919794e-02, 1.21387872e-02,\n",
       "       1.24953276e-02, 1.28618415e-02, 1.32385737e-02, 1.36257731e-02,\n",
       "       1.40236926e-02, 1.44325894e-02, 1.48527241e-02, 1.52843615e-02,\n",
       "       1.57277702e-02, 1.61832222e-02, 1.66509935e-02, 1.71313631e-02,\n",
       "       1.76246139e-02, 1.81310317e-02, 1.86509054e-02, 1.91845271e-02,\n",
       "       1.97321914e-02, 2.02941959e-02, 2.08708401e-02, 2.14624262e-02,\n",
       "       2.20692581e-02, 2.26916416e-02, 2.33298840e-02, 2.39842938e-02,\n",
       "       2.46551806e-02, 2.53428545e-02, 2.60476260e-02, 2.67698057e-02,\n",
       "       2.75097038e-02, 2.82676298e-02, 2.90438922e-02, 2.98387978e-02,\n",
       "       3.06526517e-02, 3.14857566e-02, 3.23384121e-02, 3.32109149e-02,\n",
       "       3.41035575e-02, 3.50166283e-02, 3.59504106e-02, 3.69051823e-02,\n",
       "       3.78812153e-02, 3.88787748e-02, 3.98981187e-02, 4.09394969e-02,\n",
       "       4.20031507e-02, 4.30893122e-02, 4.41982033e-02, 4.53300354e-02,\n",
       "       4.64850081e-02, 4.76633090e-02, 4.88651126e-02, 5.00905795e-02,\n",
       "       5.13398557e-02, 5.26130719e-02, 5.39103423e-02, 5.52317639e-02,\n",
       "       5.65774159e-02, 5.79473584e-02, 5.93416319e-02, 6.07602561e-02,\n",
       "       6.22032292e-02, 6.36705270e-02, 6.51621019e-02, 6.66778822e-02,\n",
       "       6.82177708e-02, 6.97816448e-02, 7.13693544e-02, 7.29807219e-02,\n",
       "       7.46155411e-02, 7.62735763e-02, 7.79545614e-02, 7.96581994e-02,\n",
       "       8.13841611e-02, 8.31320850e-02, 8.49015760e-02, 8.66922049e-02,\n",
       "       8.85035080e-02, 9.03349860e-02, 9.21861037e-02, 9.40562897e-02,\n",
       "       9.59449352e-02, 9.78513942e-02, 9.97749831e-02, 1.01714980e-01,\n",
       "       1.03670624e-01, 1.05641118e-01, 1.07625622e-01, 1.09623262e-01,\n",
       "       1.11633122e-01, 1.13654248e-01, 1.15685647e-01, 1.17726291e-01,\n",
       "       1.19775109e-01, 1.21830997e-01, 1.23892811e-01, 1.25959372e-01,\n",
       "       1.28029466e-01, 1.30101841e-01, 1.32175215e-01, 1.34248271e-01,\n",
       "       1.36319659e-01, 1.38387999e-01, 1.40451883e-01, 1.42509873e-01,\n",
       "       1.44560505e-01, 1.46602290e-01, 1.48633714e-01, 1.50653244e-01,\n",
       "       1.52659324e-01, 1.54650383e-01, 1.56624833e-01, 1.58581070e-01,\n",
       "       1.60517482e-01, 1.62432444e-01, 1.64324327e-01, 1.66191496e-01,\n",
       "       1.68032314e-01, 1.69845143e-01, 1.71628351e-01, 1.73380308e-01,\n",
       "       1.75099394e-01, 1.76784000e-01, 1.78432531e-01, 1.80043407e-01,\n",
       "       1.81615069e-01, 1.83145977e-01, 1.84634620e-01, 1.86079511e-01,\n",
       "       1.87479194e-01, 1.88832247e-01, 1.90137283e-01, 1.91392954e-01,\n",
       "       1.92597952e-01, 1.93751013e-01, 1.94850919e-01, 1.95896501e-01,\n",
       "       1.96886641e-01, 1.97820272e-01, 1.98696386e-01, 1.99514029e-01,\n",
       "       2.00272307e-01, 2.00970390e-01, 2.01607507e-01, 2.02182954e-01,\n",
       "       2.02696092e-01, 2.03146352e-01, 2.03533229e-01, 2.03856293e-01,\n",
       "       2.04115180e-01, 2.04309600e-01, 2.04439335e-01, 2.04504239e-01,\n",
       "       2.04504239e-01, 2.04439335e-01, 2.04309600e-01, 2.04115180e-01,\n",
       "       2.03856293e-01, 2.03533229e-01, 2.03146352e-01, 2.02696092e-01,\n",
       "       2.02182954e-01, 2.01607507e-01, 2.00970390e-01, 2.00272307e-01,\n",
       "       1.99514029e-01, 1.98696386e-01, 1.97820272e-01, 1.96886641e-01,\n",
       "       1.95896501e-01, 1.94850919e-01, 1.93751013e-01, 1.92597952e-01,\n",
       "       1.91392954e-01, 1.90137283e-01, 1.88832247e-01, 1.87479194e-01,\n",
       "       1.86079511e-01, 1.84634620e-01, 1.83145977e-01, 1.81615069e-01,\n",
       "       1.80043407e-01, 1.78432531e-01, 1.76784000e-01, 1.75099394e-01,\n",
       "       1.73380308e-01, 1.71628351e-01, 1.69845143e-01, 1.68032314e-01,\n",
       "       1.66191496e-01, 1.64324327e-01, 1.62432444e-01, 1.60517482e-01,\n",
       "       1.58581070e-01, 1.56624833e-01, 1.54650383e-01, 1.52659324e-01,\n",
       "       1.50653244e-01, 1.48633714e-01, 1.46602290e-01, 1.44560505e-01,\n",
       "       1.42509873e-01, 1.40451883e-01, 1.38387999e-01, 1.36319659e-01,\n",
       "       1.34248271e-01, 1.32175215e-01, 1.30101841e-01, 1.28029466e-01,\n",
       "       1.25959372e-01, 1.23892811e-01, 1.21830997e-01, 1.19775109e-01,\n",
       "       1.17726291e-01, 1.15685647e-01, 1.13654248e-01, 1.11633122e-01,\n",
       "       1.09623262e-01, 1.07625622e-01, 1.05641118e-01, 1.03670624e-01,\n",
       "       1.01714980e-01, 9.97749831e-02, 9.78513942e-02, 9.59449352e-02,\n",
       "       9.40562897e-02, 9.21861037e-02, 9.03349860e-02, 8.85035080e-02,\n",
       "       8.66922049e-02, 8.49015760e-02, 8.31320850e-02, 8.13841611e-02,\n",
       "       7.96581994e-02, 7.79545614e-02, 7.62735763e-02, 7.46155411e-02,\n",
       "       7.29807219e-02, 7.13693544e-02, 6.97816448e-02, 6.82177708e-02,\n",
       "       6.66778822e-02, 6.51621019e-02, 6.36705270e-02, 6.22032292e-02,\n",
       "       6.07602561e-02, 5.93416319e-02, 5.79473584e-02, 5.65774159e-02,\n",
       "       5.52317639e-02, 5.39103423e-02, 5.26130719e-02, 5.13398557e-02,\n",
       "       5.00905795e-02, 4.88651126e-02, 4.76633090e-02, 4.64850081e-02,\n",
       "       4.53300354e-02, 4.41982033e-02, 4.30893122e-02, 4.20031507e-02,\n",
       "       4.09394969e-02, 3.98981187e-02, 3.88787748e-02, 3.78812153e-02,\n",
       "       3.69051823e-02, 3.59504106e-02, 3.50166283e-02, 3.41035575e-02,\n",
       "       3.32109149e-02, 3.23384121e-02, 3.14857566e-02, 3.06526517e-02,\n",
       "       2.98387978e-02, 2.90438922e-02, 2.82676298e-02, 2.75097038e-02,\n",
       "       2.67698057e-02, 2.60476260e-02, 2.53428545e-02, 2.46551806e-02,\n",
       "       2.39842938e-02, 2.33298840e-02, 2.26916416e-02, 2.20692581e-02,\n",
       "       2.14624262e-02, 2.08708401e-02, 2.02941959e-02, 1.97321914e-02,\n",
       "       1.91845271e-02, 1.86509054e-02, 1.81310317e-02, 1.76246139e-02,\n",
       "       1.71313631e-02, 1.66509935e-02, 1.61832222e-02, 1.57277702e-02,\n",
       "       1.52843615e-02, 1.48527241e-02, 1.44325894e-02, 1.40236926e-02,\n",
       "       1.36257731e-02, 1.32385737e-02, 1.28618415e-02, 1.24953276e-02,\n",
       "       1.21387872e-02, 1.17919794e-02, 1.14546676e-02, 1.11266193e-02,\n",
       "       1.08076062e-02, 1.04974042e-02, 1.01957933e-02, 9.90255766e-03,\n",
       "       9.61748572e-03, 9.34037000e-03, 9.07100717e-03, 8.80919802e-03,\n",
       "       8.55474744e-03, 8.30746438e-03, 8.06716184e-03, 7.83365680e-03,\n",
       "       7.60677022e-03, 7.38632698e-03, 7.17215584e-03, 6.96408940e-03,\n",
       "       6.76196404e-03, 6.56561991e-03, 6.37490083e-03, 6.18965426e-03,\n",
       "       6.00973127e-03, 5.83498645e-03, 5.66527787e-03, 5.50046704e-03,\n",
       "       5.34041882e-03, 5.18500141e-03, 5.03408623e-03, 4.88754792e-03,\n",
       "       4.74526426e-03, 4.60711609e-03, 4.47298731e-03, 4.34276475e-03,\n",
       "       4.21633816e-03, 4.09360013e-03, 3.97444606e-03, 3.85877406e-03,\n",
       "       3.74648492e-03, 3.63748207e-03, 3.53167146e-03, 3.42896158e-03,\n",
       "       3.32926336e-03, 3.23249012e-03, 3.13855754e-03, 3.04738356e-03,\n",
       "       2.95888837e-03, 2.87299434e-03, 2.78962598e-03, 2.70870987e-03,\n",
       "       2.63017461e-03, 2.55395080e-03, 2.47997096e-03, 2.40816951e-03,\n",
       "       2.33848268e-03, 2.27084852e-03, 2.20520681e-03, 2.14149904e-03,\n",
       "       2.07966836e-03, 2.01965952e-03, 1.96141887e-03, 1.90489427e-03,\n",
       "       1.85003508e-03, 1.79679212e-03, 1.74511762e-03, 1.69496519e-03,\n",
       "       1.64628978e-03, 1.59904764e-03, 1.55319630e-03, 1.50869450e-03,\n",
       "       1.46550221e-03, 1.42358056e-03, 1.38289180e-03, 1.34339931e-03,\n",
       "       1.30506753e-03, 1.26786194e-03, 1.23174904e-03, 1.19669631e-03,\n",
       "       1.16267221e-03, 1.12964611e-03, 1.09758830e-03, 1.06646993e-03,\n",
       "       1.03626302e-03, 1.00694042e-03, 9.78475784e-04, 9.50843548e-04,\n",
       "       9.24018909e-04, 8.97977802e-04, 8.72696881e-04, 8.48153497e-04,\n",
       "       8.24325675e-04, 8.01192099e-04, 7.78732088e-04, 7.56925582e-04,\n",
       "       7.35753120e-04, 7.15195826e-04, 6.95235387e-04, 6.75854043e-04,\n",
       "       6.57034562e-04, 6.38760235e-04, 6.21014849e-04, 6.03782683e-04,\n",
       "       5.87048486e-04, 5.70797465e-04, 5.55015273e-04, 5.39687995e-04,\n",
       "       5.24802133e-04, 5.10344597e-04, 4.96302690e-04, 4.82664097e-04,\n",
       "       4.69416874e-04, 4.56549437e-04, 4.44050550e-04, 4.31909315e-04,\n",
       "       4.20115165e-04, 4.08657847e-04, 3.97527419e-04, 3.86714239e-04,\n",
       "       3.76208954e-04, 3.66002492e-04, 3.56086055e-04, 3.46451110e-04,\n",
       "       3.37089381e-04, 3.27992838e-04, 3.19153697e-04, 3.10564403e-04,\n",
       "       3.02217634e-04, 2.94106282e-04, 2.86223456e-04, 2.78562471e-04,\n",
       "       2.71116844e-04, 2.63880284e-04, 2.56846691e-04, 2.50010146e-04,\n",
       "       2.43364908e-04, 2.36905410e-04, 2.30626249e-04, 2.24522184e-04,\n",
       "       2.18588132e-04, 2.12819162e-04, 2.07210490e-04, 2.01757473e-04,\n",
       "       1.96455610e-04, 1.91300531e-04, 1.86288000e-04, 1.81413903e-04,\n",
       "       1.76674251e-04, 1.72065174e-04, 1.67582916e-04, 1.63223833e-04,\n",
       "       1.58984390e-04, 1.54861155e-04, 1.50850800e-04, 1.46950095e-04,\n",
       "       1.43155904e-04, 1.39465186e-04, 1.35874989e-04, 1.32382448e-04,\n",
       "       1.28984783e-04, 1.25679297e-04, 1.22463371e-04, 1.19334463e-04,\n",
       "       1.16290107e-04, 1.13327909e-04, 1.10445545e-04, 1.07640761e-04,\n",
       "       1.04911367e-04, 1.02255237e-04, 9.96703097e-05, 9.71545822e-05,\n",
       "       9.47061105e-05, 9.23230076e-05, 9.00034416e-05, 8.77456337e-05,\n",
       "       8.55478574e-05, 8.34084360e-05, 8.13257418e-05, 7.92981944e-05,\n",
       "       7.73242590e-05, 7.54024456e-05, 7.35313073e-05, 7.17094389e-05,\n",
       "       6.99354759e-05, 6.82080934e-05, 6.65260044e-05, 6.48879593e-05,\n",
       "       6.32927442e-05, 6.17391804e-05, 6.02261227e-05, 5.87524592e-05,\n",
       "       5.73171095e-05, 5.59190244e-05, 5.45571847e-05, 5.32306001e-05,\n",
       "       5.19383088e-05, 5.06793764e-05, 4.94528950e-05, 4.82579827e-05,\n",
       "       4.70937826e-05, 4.59594622e-05, 4.48542123e-05, 4.37772471e-05,\n",
       "       4.27278026e-05, 4.17051368e-05, 4.07085284e-05, 3.97372764e-05,\n",
       "       3.87906998e-05, 3.78681365e-05, 3.69689432e-05, 3.60924945e-05,\n",
       "       3.52381827e-05, 3.44054171e-05, 3.35936234e-05, 3.28022434e-05,\n",
       "       3.20307345e-05, 3.12785694e-05, 3.05452351e-05, 2.98302333e-05,\n",
       "       2.91330791e-05, 2.84533015e-05, 2.77904423e-05, 2.71440559e-05,\n",
       "       2.65137093e-05, 2.58989813e-05, 2.52994622e-05, 2.47147538e-05,\n",
       "       2.41444687e-05, 2.35882302e-05, 2.30456721e-05, 2.25164380e-05,\n",
       "       2.20001813e-05, 2.14965649e-05, 2.10052611e-05, 2.05259508e-05,\n",
       "       2.00583239e-05, 1.96020785e-05, 1.91569210e-05, 1.87225659e-05,\n",
       "       1.82987352e-05, 1.78851585e-05, 1.74815729e-05, 1.70877224e-05,\n",
       "       1.67033580e-05, 1.63282372e-05, 1.59621243e-05, 1.56047899e-05,\n",
       "       1.52560106e-05, 1.49155690e-05, 1.45832537e-05, 1.42588587e-05,\n",
       "       1.39421838e-05, 1.36330339e-05, 1.33312191e-05, 1.30365547e-05,\n",
       "       1.27488608e-05, 1.24679623e-05, 1.21936888e-05, 1.19258742e-05,\n",
       "       1.16643570e-05, 1.14089799e-05, 1.11595897e-05, 1.09160373e-05,\n",
       "       1.06781776e-05, 1.04458690e-05, 1.02189739e-05, 9.99735820e-06,\n",
       "       9.78089135e-06, 9.56944615e-06, 9.36289875e-06, 9.16112853e-06,\n",
       "       8.96401798e-06, 8.77145266e-06, 8.58332112e-06, 8.39951475e-06,\n",
       "       8.21992779e-06, 8.04445720e-06, 7.87300259e-06, 7.70546617e-06,\n",
       "       7.54175265e-06, 7.38176922e-06, 7.22542541e-06, 7.07263310e-06,\n",
       "       6.92330642e-06, 6.77736169e-06, 6.63471736e-06, 6.49529398e-06,\n",
       "       6.35901411e-06, 6.22580227e-06, 6.09558491e-06, 5.96829035e-06,\n",
       "       5.84384871e-06, 5.72219188e-06, 5.60325348e-06, 5.48696881e-06,\n",
       "       5.37327477e-06, 5.26210988e-06, 5.15341418e-06, 5.04712924e-06,\n",
       "       4.94319807e-06, 4.84156511e-06, 4.74217621e-06, 4.64497855e-06,\n",
       "       4.54992062e-06, 4.45695222e-06, 4.36602438e-06, 4.27708933e-06,\n",
       "       4.19010052e-06, 4.10501252e-06, 4.02178105e-06, 3.94036290e-06,\n",
       "       3.86071593e-06, 3.78279905e-06, 3.70657218e-06, 3.63199621e-06,\n",
       "       3.55903299e-06, 3.48764532e-06, 3.41779689e-06, 3.34945229e-06,\n",
       "       3.28257698e-06, 3.21713725e-06, 3.15310020e-06, 3.09043374e-06,\n",
       "       3.02910658e-06, 2.96908815e-06, 2.91034864e-06, 2.85285896e-06,\n",
       "       2.79659071e-06, 2.74151620e-06, 2.68760838e-06, 2.63484086e-06,\n",
       "       2.58318788e-06, 2.53262431e-06, 2.48312560e-06, 2.43466781e-06,\n",
       "       2.38722755e-06, 2.34078200e-06, 2.29530888e-06, 2.25078645e-06,\n",
       "       2.20719347e-06, 2.16450921e-06, 2.12271343e-06, 2.08178637e-06,\n",
       "       2.04170873e-06, 2.00246169e-06, 1.96402683e-06, 1.92638620e-06])"
      ]
     },
     "execution_count": 52,
     "metadata": {},
     "output_type": "execute_result"
    }
   ],
   "source": [
    "mcn.prob(X_2D)"
   ]
  },
  {
   "cell_type": "markdown",
   "metadata": {},
   "source": [
    "***Multivariate Coupled Normal distribution when d=8***"
   ]
  },
  {
   "cell_type": "code",
   "execution_count": 57,
   "metadata": {},
   "outputs": [
    {
     "data": {
      "text/plain": [
       "<nsc.distributions.MultivariateCoupledNormal batch_shape=[] event_shape=[8]>"
      ]
     },
     "execution_count": 57,
     "metadata": {},
     "output_type": "execute_result"
    }
   ],
   "source": [
    "# batch_shape is [] while event_shape is [2]\n",
    "mcn = MultivariateCoupledNormal(loc=[0., 1., 2., 3., 4., 5., 6., 7.],\n",
    "                                scale=[1., 2., 3., 4., 5., 6., 7., 8.],\n",
    "                                kappa=0.1\n",
    "                               )\n",
    "mcn"
   ]
  },
  {
   "cell_type": "code",
   "execution_count": 61,
   "metadata": {},
   "outputs": [
    {
     "name": "stdout",
     "output_type": "stream",
     "text": [
      "8\n",
      "[0. 1. 2. 3. 4. 5. 6. 7.]\n",
      "[[1. 0. 0. 0. 0. 0. 0. 0.]\n",
      " [0. 2. 0. 0. 0. 0. 0. 0.]\n",
      " [0. 0. 3. 0. 0. 0. 0. 0.]\n",
      " [0. 0. 0. 4. 0. 0. 0. 0.]\n",
      " [0. 0. 0. 0. 5. 0. 0. 0.]\n",
      " [0. 0. 0. 0. 0. 6. 0. 0.]\n",
      " [0. 0. 0. 0. 0. 0. 7. 0.]\n",
      " [0. 0. 0. 0. 0. 0. 0. 8.]]\n",
      "0.1\n",
      "2\n"
     ]
    }
   ],
   "source": [
    "print(mcn.dim)\n",
    "print(mcn.loc)\n",
    "print(mcn.scale)\n",
    "print(mcn.kappa)\n",
    "print(mcn.alpha)"
   ]
  },
  {
   "cell_type": "markdown",
   "metadata": {},
   "source": [
    "Create 6 more variables"
   ]
  },
  {
   "cell_type": "code",
   "execution_count": 58,
   "metadata": {},
   "outputs": [],
   "source": [
    "two_scale = 2.*scale\n",
    "four_scale = 4.*scale\n",
    "eight_scale = 8.*scale\n",
    "ten_scale = 10.*scale\n",
    "fourteen_scale = 14.*scale\n",
    "sixteen_scale = 16.*scale\n",
    "\n",
    "X3_input = np.linspace(mu-two_scale, mu+two_scale, 1000)\n",
    "X4_input = np.linspace(mu-four_scale, mu+four_scale, 1000)\n",
    "X5_input = np.linspace(mu-eight_scale, mu+eight_scale, 1000)\n",
    "X6_input = np.linspace(mu-ten_scale, mu+ten_scale, 1000)\n",
    "X7_input = np.linspace(mu-fourteen_scale, mu+fourteen_scale, 1000)\n",
    "X8_input = np.linspace(mu-sixteen_scale, mu+sixteen_scale, 1000)"
   ]
  },
  {
   "cell_type": "code",
   "execution_count": 60,
   "metadata": {},
   "outputs": [
    {
     "data": {
      "text/plain": [
       "(1000, 8)"
      ]
     },
     "execution_count": 60,
     "metadata": {},
     "output_type": "execute_result"
    }
   ],
   "source": [
    "X_8D = np.column_stack((X_input, X2_input, X3_input, X4_input, X5_input, X6_input, X7_input, X8_input))\n",
    "X_8D.shape"
   ]
  },
  {
   "cell_type": "markdown",
   "metadata": {},
   "source": [
    "Run prob"
   ]
  },
  {
   "cell_type": "code",
   "execution_count": 62,
   "metadata": {},
   "outputs": [
    {
     "data": {
      "text/plain": [
       "array([4.81232826e-11, 4.90837687e-11, 5.00649993e-11, 5.10674558e-11,\n",
       "       5.20916314e-11, 5.31380316e-11, 5.42071743e-11, 5.52995905e-11,\n",
       "       5.64158242e-11, 5.75564333e-11, 5.87219892e-11, 5.99130781e-11,\n",
       "       6.11303005e-11, 6.23742720e-11, 6.36456240e-11, 6.49450034e-11,\n",
       "       6.62730736e-11, 6.76305149e-11, 6.90180245e-11, 7.04363174e-11,\n",
       "       7.18861267e-11, 7.33682043e-11, 7.48833210e-11, 7.64322673e-11,\n",
       "       7.80158539e-11, 7.96349122e-11, 8.12902950e-11, 8.29828767e-11,\n",
       "       8.47135544e-11, 8.64832482e-11, 8.82929017e-11, 9.01434831e-11,\n",
       "       9.20359854e-11, 9.39714274e-11, 9.59508544e-11, 9.79753385e-11,\n",
       "       1.00045980e-10, 1.02163907e-10, 1.04330279e-10, 1.06546283e-10,\n",
       "       1.08813140e-10, 1.11132100e-10, 1.13504448e-10, 1.15931501e-10,\n",
       "       1.18414613e-10, 1.20955171e-10, 1.23554601e-10, 1.26214364e-10,\n",
       "       1.28935962e-10, 1.31720936e-10, 1.34570868e-10, 1.37487381e-10,\n",
       "       1.40472143e-10, 1.43526866e-10, 1.46653305e-10, 1.49853267e-10,\n",
       "       1.53128603e-10, 1.56481215e-10, 1.59913058e-10, 1.63426136e-10,\n",
       "       1.67022510e-10, 1.70704295e-10, 1.74473664e-10, 1.78332848e-10,\n",
       "       1.82284141e-10, 1.86329894e-10, 1.90472528e-10, 1.94714526e-10,\n",
       "       1.99058440e-10, 2.03506891e-10, 2.08062573e-10, 2.12728253e-10,\n",
       "       2.17506774e-10, 2.22401057e-10, 2.27414104e-10, 2.32548998e-10,\n",
       "       2.37808909e-10, 2.43197095e-10, 2.48716902e-10, 2.54371771e-10,\n",
       "       2.60165237e-10, 2.66100934e-10, 2.72182598e-10, 2.78414068e-10,\n",
       "       2.84799290e-10, 2.91342322e-10, 2.98047335e-10, 3.04918617e-10,\n",
       "       3.11960576e-10, 3.19177746e-10, 3.26574786e-10, 3.34156489e-10,\n",
       "       3.41927783e-10, 3.49893735e-10, 3.58059555e-10, 3.66430604e-10,\n",
       "       3.75012393e-10, 3.83810591e-10, 3.92831028e-10, 4.02079702e-10,\n",
       "       4.11562781e-10, 4.21286612e-10, 4.31257723e-10, 4.41482829e-10,\n",
       "       4.51968839e-10, 4.62722864e-10, 4.73752215e-10, 4.85064420e-10,\n",
       "       4.96667221e-10, 5.08568588e-10, 5.20776719e-10, 5.33300055e-10,\n",
       "       5.46147279e-10, 5.59327330e-10, 5.72849408e-10, 5.86722981e-10,\n",
       "       6.00957796e-10, 6.15563886e-10, 6.30551580e-10, 6.45931510e-10,\n",
       "       6.61714620e-10, 6.77912182e-10, 6.94535798e-10, 7.11597414e-10,\n",
       "       7.29109332e-10, 7.47084218e-10, 7.65535117e-10, 7.84475461e-10,\n",
       "       8.03919083e-10, 8.23880231e-10, 8.44373579e-10, 8.65414240e-10,\n",
       "       8.87017782e-10, 9.09200240e-10, 9.31978134e-10, 9.55368479e-10,\n",
       "       9.79388808e-10, 1.00405718e-09, 1.02939220e-09, 1.05541305e-09,\n",
       "       1.08213948e-09, 1.10959184e-09, 1.13779112e-09, 1.16675892e-09,\n",
       "       1.19651753e-09, 1.22708990e-09, 1.25849969e-09, 1.29077129e-09,\n",
       "       1.32392984e-09, 1.35800125e-09, 1.39301223e-09, 1.42899031e-09,\n",
       "       1.46596387e-09, 1.50396217e-09, 1.54301539e-09, 1.58315463e-09,\n",
       "       1.62441196e-09, 1.66682045e-09, 1.71041420e-09, 1.75522837e-09,\n",
       "       1.80129923e-09, 1.84866417e-09, 1.89736176e-09, 1.94743177e-09,\n",
       "       1.99891525e-09, 2.05185450e-09, 2.10629318e-09, 2.16227631e-09,\n",
       "       2.21985035e-09, 2.27906322e-09, 2.33996435e-09, 2.40260474e-09,\n",
       "       2.46703703e-09, 2.53331551e-09, 2.60149621e-09, 2.67163693e-09,\n",
       "       2.74379733e-09, 2.81803898e-09, 2.89442541e-09, 2.97302219e-09,\n",
       "       3.05389698e-09, 3.13711964e-09, 3.22276225e-09, 3.31089922e-09,\n",
       "       3.40160738e-09, 3.49496600e-09, 3.59105694e-09, 3.68996471e-09,\n",
       "       3.79177653e-09, 3.89658248e-09, 4.00447556e-09, 4.11555177e-09,\n",
       "       4.22991026e-09, 4.34765340e-09, 4.46888691e-09, 4.59371994e-09,\n",
       "       4.72226523e-09, 4.85463921e-09, 4.99096212e-09, 5.13135813e-09,\n",
       "       5.27595553e-09, 5.42488677e-09, 5.57828872e-09, 5.73630272e-09,\n",
       "       5.89907477e-09, 6.06675573e-09, 6.23950141e-09, 6.41747279e-09,\n",
       "       6.60083617e-09, 6.78976338e-09, 6.98443195e-09, 7.18502529e-09,\n",
       "       7.39173295e-09, 7.60475073e-09, 7.82428101e-09, 8.05053288e-09,\n",
       "       8.28372243e-09, 8.52407296e-09, 8.77181524e-09, 9.02718776e-09,\n",
       "       9.29043701e-09, 9.56181773e-09, 9.84159321e-09, 1.01300356e-08,\n",
       "       1.04274261e-08, 1.07340556e-08, 1.10502245e-08, 1.13762435e-08,\n",
       "       1.17124337e-08, 1.20591271e-08, 1.24166667e-08, 1.27854075e-08,\n",
       "       1.31657160e-08, 1.35579716e-08, 1.39625660e-08, 1.43799047e-08,\n",
       "       1.48104065e-08, 1.52545048e-08, 1.57126473e-08, 1.61852972e-08,\n",
       "       1.66729332e-08, 1.71760506e-08, 1.76951611e-08, 1.82307942e-08,\n",
       "       1.87834972e-08, 1.93538360e-08, 1.99423959e-08, 2.05497821e-08,\n",
       "       2.11766203e-08, 2.18235576e-08, 2.24912634e-08, 2.31804295e-08,\n",
       "       2.38917715e-08, 2.46260296e-08, 2.53839689e-08, 2.61663808e-08,\n",
       "       2.69740838e-08, 2.78079241e-08, 2.86687770e-08, 2.95575476e-08,\n",
       "       3.04751717e-08, 3.14226175e-08, 3.24008858e-08, 3.34110117e-08,\n",
       "       3.44540657e-08, 3.55311547e-08, 3.66434236e-08, 3.77920559e-08,\n",
       "       3.89782758e-08, 4.02033491e-08, 4.14685847e-08, 4.27753361e-08,\n",
       "       4.41250030e-08, 4.55190324e-08, 4.69589208e-08, 4.84462153e-08,\n",
       "       4.99825157e-08, 5.15694762e-08, 5.32088067e-08, 5.49022755e-08,\n",
       "       5.66517105e-08, 5.84590016e-08, 6.03261022e-08, 6.22550322e-08,\n",
       "       6.42478793e-08, 6.63068016e-08, 6.84340297e-08, 7.06318696e-08,\n",
       "       7.29027042e-08, 7.52489966e-08, 7.76732924e-08, 8.01782222e-08,\n",
       "       8.27665044e-08, 8.54409481e-08, 8.82044557e-08, 9.10600263e-08,\n",
       "       9.40107583e-08, 9.70598526e-08, 1.00210616e-07, 1.03466464e-07,\n",
       "       1.06830924e-07, 1.10307642e-07, 1.13900379e-07, 1.17613022e-07,\n",
       "       1.21449584e-07, 1.25414209e-07, 1.29511173e-07, 1.33744893e-07,\n",
       "       1.38119928e-07, 1.42640981e-07, 1.47312910e-07, 1.52140724e-07,\n",
       "       1.57129594e-07, 1.62284855e-07, 1.67612010e-07, 1.73116736e-07,\n",
       "       1.78804887e-07, 1.84682501e-07, 1.90755804e-07, 1.97031216e-07,\n",
       "       2.03515353e-07, 2.10215035e-07, 2.17137293e-07, 2.24289369e-07,\n",
       "       2.31678726e-07, 2.39313052e-07, 2.47200264e-07, 2.55348517e-07,\n",
       "       2.63766207e-07, 2.72461975e-07, 2.81444719e-07, 2.90723594e-07,\n",
       "       3.00308019e-07, 3.10207684e-07, 3.20432555e-07, 3.30992880e-07,\n",
       "       3.41899195e-07, 3.53162330e-07, 3.64793412e-07, 3.76803874e-07,\n",
       "       3.89205460e-07, 4.02010230e-07, 4.15230563e-07, 4.28879166e-07,\n",
       "       4.42969078e-07, 4.57513675e-07, 4.72526672e-07, 4.88022132e-07,\n",
       "       5.04014469e-07, 5.20518449e-07, 5.37549200e-07, 5.55122210e-07,\n",
       "       5.73253332e-07, 5.91958790e-07, 6.11255176e-07, 6.31159457e-07,\n",
       "       6.51688975e-07, 6.72861448e-07, 6.94694971e-07, 7.17208015e-07,\n",
       "       7.40419431e-07, 7.64348443e-07, 7.89014651e-07, 8.14438025e-07,\n",
       "       8.40638907e-07, 8.67638003e-07, 8.95456376e-07, 9.24115450e-07,\n",
       "       9.53636991e-07, 9.84043110e-07, 1.01535625e-06, 1.04759917e-06,\n",
       "       1.08079495e-06, 1.11496697e-06, 1.15013889e-06, 1.18633465e-06,\n",
       "       1.22357843e-06, 1.26189466e-06, 1.30130801e-06, 1.34184331e-06,\n",
       "       1.38352560e-06, 1.42638007e-06, 1.47043202e-06, 1.51570688e-06,\n",
       "       1.56223012e-06, 1.61002730e-06, 1.65912396e-06, 1.70954560e-06,\n",
       "       1.76131771e-06, 1.81446564e-06, 1.86901462e-06, 1.92498970e-06,\n",
       "       1.98241568e-06, 2.04131713e-06, 2.10171826e-06, 2.16364292e-06,\n",
       "       2.22711455e-06, 2.29215607e-06, 2.35878990e-06, 2.42703784e-06,\n",
       "       2.49692101e-06, 2.56845984e-06, 2.64167394e-06, 2.71658207e-06,\n",
       "       2.79320203e-06, 2.87155064e-06, 2.95164364e-06, 3.03349558e-06,\n",
       "       3.11711981e-06, 3.20252833e-06, 3.28973176e-06, 3.37873922e-06,\n",
       "       3.46955830e-06, 3.56219488e-06, 3.65665314e-06, 3.75293541e-06,\n",
       "       3.85104213e-06, 3.95097171e-06, 4.05272048e-06, 4.15628258e-06,\n",
       "       4.26164987e-06, 4.36881187e-06, 4.47775565e-06, 4.58846574e-06,\n",
       "       4.70092406e-06, 4.81510981e-06, 4.93099944e-06, 5.04856653e-06,\n",
       "       5.16778170e-06, 5.28861261e-06, 5.41102379e-06, 5.53497668e-06,\n",
       "       5.66042947e-06, 5.78733711e-06, 5.91565125e-06, 6.04532017e-06,\n",
       "       6.17628875e-06, 6.30849843e-06, 6.44188721e-06, 6.57638959e-06,\n",
       "       6.71193659e-06, 6.84845572e-06, 6.98587099e-06, 7.12410292e-06,\n",
       "       7.26306858e-06, 7.40268158e-06, 7.54285213e-06, 7.68348709e-06,\n",
       "       7.82449001e-06, 7.96576122e-06, 8.10719789e-06, 8.24869412e-06,\n",
       "       8.39014104e-06, 8.53142692e-06, 8.67243729e-06, 8.81305506e-06,\n",
       "       8.95316068e-06, 9.09263226e-06, 9.23134578e-06, 9.36917521e-06,\n",
       "       9.50599270e-06, 9.64166882e-06, 9.77607269e-06, 9.90907226e-06,\n",
       "       1.00405345e-05, 1.01703255e-05, 1.02983110e-05, 1.04243564e-05,\n",
       "       1.05483270e-05, 1.06700883e-05, 1.07895065e-05, 1.09064483e-05,\n",
       "       1.10207815e-05, 1.11323753e-05, 1.12411001e-05, 1.13468287e-05,\n",
       "       1.14494354e-05, 1.15487974e-05, 1.16447941e-05, 1.17373083e-05,\n",
       "       1.18262257e-05, 1.19114354e-05, 1.19928305e-05, 1.20703078e-05,\n",
       "       1.21437686e-05, 1.22131183e-05, 1.22782674e-05, 1.23391311e-05,\n",
       "       1.23956296e-05, 1.24476887e-05, 1.24952395e-05, 1.25382188e-05,\n",
       "       1.25765694e-05, 1.26102400e-05, 1.26391852e-05, 1.26633663e-05,\n",
       "       1.26827505e-05, 1.26973117e-05, 1.27070302e-05, 1.27118927e-05,\n",
       "       1.27118927e-05, 1.27070302e-05, 1.26973117e-05, 1.26827505e-05,\n",
       "       1.26633663e-05, 1.26391852e-05, 1.26102400e-05, 1.25765694e-05,\n",
       "       1.25382188e-05, 1.24952395e-05, 1.24476887e-05, 1.23956296e-05,\n",
       "       1.23391311e-05, 1.22782674e-05, 1.22131183e-05, 1.21437686e-05,\n",
       "       1.20703078e-05, 1.19928305e-05, 1.19114354e-05, 1.18262257e-05,\n",
       "       1.17373083e-05, 1.16447941e-05, 1.15487974e-05, 1.14494354e-05,\n",
       "       1.13468287e-05, 1.12411001e-05, 1.11323753e-05, 1.10207815e-05,\n",
       "       1.09064483e-05, 1.07895065e-05, 1.06700883e-05, 1.05483270e-05,\n",
       "       1.04243564e-05, 1.02983110e-05, 1.01703255e-05, 1.00405345e-05,\n",
       "       9.90907226e-06, 9.77607269e-06, 9.64166882e-06, 9.50599270e-06,\n",
       "       9.36917521e-06, 9.23134578e-06, 9.09263226e-06, 8.95316068e-06,\n",
       "       8.81305506e-06, 8.67243729e-06, 8.53142692e-06, 8.39014104e-06,\n",
       "       8.24869412e-06, 8.10719789e-06, 7.96576122e-06, 7.82449001e-06,\n",
       "       7.68348709e-06, 7.54285213e-06, 7.40268158e-06, 7.26306858e-06,\n",
       "       7.12410292e-06, 6.98587099e-06, 6.84845572e-06, 6.71193659e-06,\n",
       "       6.57638959e-06, 6.44188721e-06, 6.30849843e-06, 6.17628875e-06,\n",
       "       6.04532017e-06, 5.91565125e-06, 5.78733711e-06, 5.66042947e-06,\n",
       "       5.53497668e-06, 5.41102379e-06, 5.28861261e-06, 5.16778170e-06,\n",
       "       5.04856653e-06, 4.93099944e-06, 4.81510981e-06, 4.70092406e-06,\n",
       "       4.58846574e-06, 4.47775565e-06, 4.36881187e-06, 4.26164987e-06,\n",
       "       4.15628258e-06, 4.05272048e-06, 3.95097171e-06, 3.85104213e-06,\n",
       "       3.75293541e-06, 3.65665314e-06, 3.56219488e-06, 3.46955830e-06,\n",
       "       3.37873922e-06, 3.28973176e-06, 3.20252833e-06, 3.11711981e-06,\n",
       "       3.03349558e-06, 2.95164364e-06, 2.87155064e-06, 2.79320203e-06,\n",
       "       2.71658207e-06, 2.64167394e-06, 2.56845984e-06, 2.49692101e-06,\n",
       "       2.42703784e-06, 2.35878990e-06, 2.29215607e-06, 2.22711455e-06,\n",
       "       2.16364292e-06, 2.10171826e-06, 2.04131713e-06, 1.98241568e-06,\n",
       "       1.92498970e-06, 1.86901462e-06, 1.81446564e-06, 1.76131771e-06,\n",
       "       1.70954560e-06, 1.65912396e-06, 1.61002730e-06, 1.56223012e-06,\n",
       "       1.51570688e-06, 1.47043202e-06, 1.42638007e-06, 1.38352560e-06,\n",
       "       1.34184331e-06, 1.30130801e-06, 1.26189466e-06, 1.22357843e-06,\n",
       "       1.18633465e-06, 1.15013889e-06, 1.11496697e-06, 1.08079495e-06,\n",
       "       1.04759917e-06, 1.01535625e-06, 9.84043110e-07, 9.53636991e-07,\n",
       "       9.24115450e-07, 8.95456376e-07, 8.67638003e-07, 8.40638907e-07,\n",
       "       8.14438025e-07, 7.89014651e-07, 7.64348443e-07, 7.40419431e-07,\n",
       "       7.17208015e-07, 6.94694971e-07, 6.72861448e-07, 6.51688975e-07,\n",
       "       6.31159457e-07, 6.11255176e-07, 5.91958790e-07, 5.73253332e-07,\n",
       "       5.55122210e-07, 5.37549200e-07, 5.20518449e-07, 5.04014469e-07,\n",
       "       4.88022132e-07, 4.72526672e-07, 4.57513675e-07, 4.42969078e-07,\n",
       "       4.28879166e-07, 4.15230563e-07, 4.02010230e-07, 3.89205460e-07,\n",
       "       3.76803874e-07, 3.64793412e-07, 3.53162330e-07, 3.41899195e-07,\n",
       "       3.30992880e-07, 3.20432555e-07, 3.10207684e-07, 3.00308019e-07,\n",
       "       2.90723594e-07, 2.81444719e-07, 2.72461975e-07, 2.63766207e-07,\n",
       "       2.55348517e-07, 2.47200264e-07, 2.39313052e-07, 2.31678726e-07,\n",
       "       2.24289369e-07, 2.17137293e-07, 2.10215035e-07, 2.03515353e-07,\n",
       "       1.97031216e-07, 1.90755804e-07, 1.84682501e-07, 1.78804887e-07,\n",
       "       1.73116736e-07, 1.67612010e-07, 1.62284855e-07, 1.57129594e-07,\n",
       "       1.52140724e-07, 1.47312910e-07, 1.42640981e-07, 1.38119928e-07,\n",
       "       1.33744893e-07, 1.29511173e-07, 1.25414209e-07, 1.21449584e-07,\n",
       "       1.17613022e-07, 1.13900379e-07, 1.10307642e-07, 1.06830924e-07,\n",
       "       1.03466464e-07, 1.00210616e-07, 9.70598526e-08, 9.40107583e-08,\n",
       "       9.10600263e-08, 8.82044557e-08, 8.54409481e-08, 8.27665044e-08,\n",
       "       8.01782222e-08, 7.76732924e-08, 7.52489966e-08, 7.29027042e-08,\n",
       "       7.06318696e-08, 6.84340297e-08, 6.63068016e-08, 6.42478793e-08,\n",
       "       6.22550322e-08, 6.03261022e-08, 5.84590016e-08, 5.66517105e-08,\n",
       "       5.49022755e-08, 5.32088067e-08, 5.15694762e-08, 4.99825157e-08,\n",
       "       4.84462153e-08, 4.69589208e-08, 4.55190324e-08, 4.41250030e-08,\n",
       "       4.27753361e-08, 4.14685847e-08, 4.02033491e-08, 3.89782758e-08,\n",
       "       3.77920559e-08, 3.66434236e-08, 3.55311547e-08, 3.44540657e-08,\n",
       "       3.34110117e-08, 3.24008858e-08, 3.14226175e-08, 3.04751717e-08,\n",
       "       2.95575476e-08, 2.86687770e-08, 2.78079241e-08, 2.69740838e-08,\n",
       "       2.61663808e-08, 2.53839689e-08, 2.46260296e-08, 2.38917715e-08,\n",
       "       2.31804295e-08, 2.24912634e-08, 2.18235576e-08, 2.11766203e-08,\n",
       "       2.05497821e-08, 1.99423959e-08, 1.93538360e-08, 1.87834972e-08,\n",
       "       1.82307942e-08, 1.76951611e-08, 1.71760506e-08, 1.66729332e-08,\n",
       "       1.61852972e-08, 1.57126473e-08, 1.52545048e-08, 1.48104065e-08,\n",
       "       1.43799047e-08, 1.39625660e-08, 1.35579716e-08, 1.31657160e-08,\n",
       "       1.27854075e-08, 1.24166667e-08, 1.20591271e-08, 1.17124337e-08,\n",
       "       1.13762435e-08, 1.10502245e-08, 1.07340556e-08, 1.04274261e-08,\n",
       "       1.01300356e-08, 9.84159321e-09, 9.56181773e-09, 9.29043701e-09,\n",
       "       9.02718776e-09, 8.77181524e-09, 8.52407296e-09, 8.28372243e-09,\n",
       "       8.05053288e-09, 7.82428101e-09, 7.60475073e-09, 7.39173295e-09,\n",
       "       7.18502529e-09, 6.98443195e-09, 6.78976338e-09, 6.60083617e-09,\n",
       "       6.41747279e-09, 6.23950141e-09, 6.06675573e-09, 5.89907477e-09,\n",
       "       5.73630272e-09, 5.57828872e-09, 5.42488677e-09, 5.27595553e-09,\n",
       "       5.13135813e-09, 4.99096212e-09, 4.85463921e-09, 4.72226523e-09,\n",
       "       4.59371994e-09, 4.46888691e-09, 4.34765340e-09, 4.22991026e-09,\n",
       "       4.11555177e-09, 4.00447556e-09, 3.89658248e-09, 3.79177653e-09,\n",
       "       3.68996471e-09, 3.59105694e-09, 3.49496600e-09, 3.40160738e-09,\n",
       "       3.31089922e-09, 3.22276225e-09, 3.13711964e-09, 3.05389698e-09,\n",
       "       2.97302219e-09, 2.89442541e-09, 2.81803898e-09, 2.74379733e-09,\n",
       "       2.67163693e-09, 2.60149621e-09, 2.53331551e-09, 2.46703703e-09,\n",
       "       2.40260474e-09, 2.33996435e-09, 2.27906322e-09, 2.21985035e-09,\n",
       "       2.16227631e-09, 2.10629318e-09, 2.05185450e-09, 1.99891525e-09,\n",
       "       1.94743177e-09, 1.89736176e-09, 1.84866417e-09, 1.80129923e-09,\n",
       "       1.75522837e-09, 1.71041420e-09, 1.66682045e-09, 1.62441196e-09,\n",
       "       1.58315463e-09, 1.54301539e-09, 1.50396217e-09, 1.46596387e-09,\n",
       "       1.42899031e-09, 1.39301223e-09, 1.35800125e-09, 1.32392984e-09,\n",
       "       1.29077129e-09, 1.25849969e-09, 1.22708990e-09, 1.19651753e-09,\n",
       "       1.16675892e-09, 1.13779112e-09, 1.10959184e-09, 1.08213948e-09,\n",
       "       1.05541305e-09, 1.02939220e-09, 1.00405718e-09, 9.79388808e-10,\n",
       "       9.55368479e-10, 9.31978134e-10, 9.09200240e-10, 8.87017782e-10,\n",
       "       8.65414240e-10, 8.44373579e-10, 8.23880231e-10, 8.03919083e-10,\n",
       "       7.84475461e-10, 7.65535117e-10, 7.47084218e-10, 7.29109332e-10,\n",
       "       7.11597414e-10, 6.94535798e-10, 6.77912182e-10, 6.61714620e-10,\n",
       "       6.45931510e-10, 6.30551580e-10, 6.15563886e-10, 6.00957796e-10,\n",
       "       5.86722981e-10, 5.72849408e-10, 5.59327330e-10, 5.46147279e-10,\n",
       "       5.33300055e-10, 5.20776719e-10, 5.08568588e-10, 4.96667221e-10,\n",
       "       4.85064420e-10, 4.73752215e-10, 4.62722864e-10, 4.51968839e-10,\n",
       "       4.41482829e-10, 4.31257723e-10, 4.21286612e-10, 4.11562781e-10,\n",
       "       4.02079702e-10, 3.92831028e-10, 3.83810591e-10, 3.75012393e-10,\n",
       "       3.66430604e-10, 3.58059555e-10, 3.49893735e-10, 3.41927783e-10,\n",
       "       3.34156489e-10, 3.26574786e-10, 3.19177746e-10, 3.11960576e-10,\n",
       "       3.04918617e-10, 2.98047335e-10, 2.91342322e-10, 2.84799290e-10,\n",
       "       2.78414068e-10, 2.72182598e-10, 2.66100934e-10, 2.60165237e-10,\n",
       "       2.54371771e-10, 2.48716902e-10, 2.43197095e-10, 2.37808909e-10,\n",
       "       2.32548998e-10, 2.27414104e-10, 2.22401057e-10, 2.17506774e-10,\n",
       "       2.12728253e-10, 2.08062573e-10, 2.03506891e-10, 1.99058440e-10,\n",
       "       1.94714526e-10, 1.90472528e-10, 1.86329894e-10, 1.82284141e-10,\n",
       "       1.78332848e-10, 1.74473664e-10, 1.70704295e-10, 1.67022510e-10,\n",
       "       1.63426136e-10, 1.59913058e-10, 1.56481215e-10, 1.53128603e-10,\n",
       "       1.49853267e-10, 1.46653305e-10, 1.43526866e-10, 1.40472143e-10,\n",
       "       1.37487381e-10, 1.34570868e-10, 1.31720936e-10, 1.28935962e-10,\n",
       "       1.26214364e-10, 1.23554601e-10, 1.20955171e-10, 1.18414613e-10,\n",
       "       1.15931501e-10, 1.13504448e-10, 1.11132100e-10, 1.08813140e-10,\n",
       "       1.06546283e-10, 1.04330279e-10, 1.02163907e-10, 1.00045980e-10,\n",
       "       9.79753385e-11, 9.59508544e-11, 9.39714274e-11, 9.20359854e-11,\n",
       "       9.01434831e-11, 8.82929017e-11, 8.64832482e-11, 8.47135544e-11,\n",
       "       8.29828767e-11, 8.12902950e-11, 7.96349122e-11, 7.80158539e-11,\n",
       "       7.64322673e-11, 7.48833210e-11, 7.33682043e-11, 7.18861267e-11,\n",
       "       7.04363174e-11, 6.90180245e-11, 6.76305149e-11, 6.62730736e-11,\n",
       "       6.49450034e-11, 6.36456240e-11, 6.23742720e-11, 6.11303005e-11,\n",
       "       5.99130781e-11, 5.87219892e-11, 5.75564333e-11, 5.64158242e-11,\n",
       "       5.52995905e-11, 5.42071743e-11, 5.31380316e-11, 5.20916314e-11,\n",
       "       5.10674558e-11, 5.00649993e-11, 4.90837687e-11, 4.81232826e-11])"
      ]
     },
     "execution_count": 62,
     "metadata": {},
     "output_type": "execute_result"
    }
   ],
   "source": [
    "mcn.prob(X_8D)"
   ]
  },
  {
   "cell_type": "code",
   "execution_count": 63,
   "metadata": {},
   "outputs": [
    {
     "data": {
      "text/plain": [
       "(1000,)"
      ]
     },
     "execution_count": 63,
     "metadata": {},
     "output_type": "execute_result"
    }
   ],
   "source": [
    "mcn.prob(X_8D).shape"
   ]
  },
  {
   "cell_type": "markdown",
   "metadata": {},
   "source": [
    "***Multivariate Coupled Normal multiple distribution when d=2 and batch_size=3***"
   ]
  },
  {
   "cell_type": "code",
   "execution_count": 53,
   "metadata": {},
   "outputs": [
    {
     "data": {
      "text/plain": [
       "<nsc.distributions.MultivariateCoupledNormal batch_shape=[3] event_shape=[2]>"
      ]
     },
     "execution_count": 53,
     "metadata": {},
     "output_type": "execute_result"
    }
   ],
   "source": [
    "cn = MultivariateCoupledNormal(loc=[[0., 1.], [1., 2.], [2., 3.]], \\\n",
    "                               scale=[[0., 1.], [2., 3.], [4., 5.]],\n",
    "                               kappa=0.1\n",
    "                               )\n",
    "cn"
   ]
  },
  {
   "cell_type": "code",
   "execution_count": 54,
   "metadata": {},
   "outputs": [
    {
     "name": "stdout",
     "output_type": "stream",
     "text": [
      "2\n",
      "[[0. 1.]\n",
      " [1. 2.]\n",
      " [2. 3.]]\n",
      "[[0. 1.]\n",
      " [2. 3.]\n",
      " [4. 5.]]\n",
      "0.1\n",
      "2\n"
     ]
    }
   ],
   "source": [
    "print(cn.dim)\n",
    "print(cn.loc)\n",
    "print(cn.scale)\n",
    "print(cn.kappa)\n",
    "print(cn.alpha)"
   ]
  },
  {
   "cell_type": "code",
   "execution_count": 55,
   "metadata": {},
   "outputs": [
    {
     "data": {
      "text/plain": [
       "1"
      ]
     },
     "execution_count": 55,
     "metadata": {},
     "output_type": "execute_result"
    }
   ],
   "source": [
    "cn = CoupledNormal(loc=[[0., 1., 0., 1.], [1., 2., 1., 2.], [2., 3., 2., 3.]], \\\n",
    "                   scale=[[0., 1., 0., 1.], [2., 3., 2., 3.], [4., 5., 4., 5.]]\n",
    "                   )\n",
    "cn.dim"
   ]
  },
  {
   "cell_type": "code",
   "execution_count": 56,
   "metadata": {},
   "outputs": [
    {
     "name": "stdout",
     "output_type": "stream",
     "text": [
      "1\n",
      "[[ 0.          2.50662827  0.          2.50662827]\n",
      " [ 5.01325655  7.51988482  5.01325655  7.51988482]\n",
      " [10.0265131  12.53314137 10.0265131  12.53314137]]\n"
     ]
    }
   ],
   "source": [
    "print(cn.dim)\n",
    "print(cn._normalized_term())"
   ]
  },
  {
   "cell_type": "code",
   "execution_count": null,
   "metadata": {},
   "outputs": [],
   "source": [
    "# print(cn.prob(X_input))"
   ]
  }
 ],
 "metadata": {
  "kernelspec": {
   "display_name": "nsc",
   "language": "python",
   "name": "nsc"
  },
  "language_info": {
   "codemirror_mode": {
    "name": "ipython",
    "version": 3
   },
   "file_extension": ".py",
   "mimetype": "text/x-python",
   "name": "python",
   "nbconvert_exporter": "python",
   "pygments_lexer": "ipython3",
   "version": "3.7.9"
  }
 },
 "nbformat": 4,
 "nbformat_minor": 4
}
