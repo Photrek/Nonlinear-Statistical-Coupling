{
 "cells": [
  {
   "cell_type": "code",
   "execution_count": 1,
   "metadata": {},
   "outputs": [],
   "source": [
    "# !python3 -m pip uninstall tensorflow tensorflow-probability nsc -y\n",
    "# !python3 -m pip install tensorflow tensorflow-probability -q"
   ]
  },
  {
   "cell_type": "code",
   "execution_count": 2,
   "metadata": {},
   "outputs": [],
   "source": [
    "!python3 -m pip uninstall nsc -y -q\n",
    "!python3 -m pip install -i https://test.pypi.org/simple/ nsc -q"
   ]
  },
  {
   "cell_type": "code",
   "execution_count": 3,
   "metadata": {},
   "outputs": [
    {
     "name": "stdout",
     "output_type": "stream",
     "text": [
      "Importing NSC lib v0.0.1.6.\n"
     ]
    }
   ],
   "source": [
    "import numpy as np\n",
    "import pandas as pd\n",
    "import matplotlib.pyplot as plt\n",
    "import seaborn as sns\n",
    "import scipy.stats as stats\n",
    "sns.set()\n",
    "from collections import defaultdict\n",
    "import math\n",
    "from typing import List\n",
    "\n",
    "# From nsc lib\n",
    "from nsc.util import function as nsc_func\n",
    "# from nsc.util.function import coupled_logarithm, coupled_exponential"
   ]
  },
  {
   "cell_type": "markdown",
   "metadata": {},
   "source": [
    "### 1) CoupledNormalDistribution function version"
   ]
  },
  {
   "cell_type": "code",
   "execution_count": 4,
   "metadata": {},
   "outputs": [],
   "source": [
    "def norm_CG(sigma, kappa):\n",
    "    if kappa == 0:\n",
    "        result = math.sqrt(2*math.pi) * sigma\n",
    "    elif kappa < 0:\n",
    "        result = math.sqrt(math.pi) * sigma * math.gamma((-1+kappa) / (2*kappa)) / float(math.sqrt(-1*kappa) * math.gamma(1 - (1 / (2*kappa))))\n",
    "    else:\n",
    "        result = math.sqrt(math.pi) * sigma * math.gamma(1 / (2*kappa)) / float(math.sqrt(kappa) * math.gamma((1+kappa)/(2*kappa)))\n",
    "  \n",
    "    return result"
   ]
  },
  {
   "cell_type": "code",
   "execution_count": 5,
   "metadata": {},
   "outputs": [],
   "source": [
    "def CoupledNormalDistribution(mean, sigma, kappa, alpha):\n",
    "    \"\"\"\n",
    "    Short description\n",
    "    \n",
    "    Inputs\n",
    "    ----------\n",
    "    x : Input variable in which the coupled logarithm is applied to.\n",
    "    mean : \n",
    "    sigma : \n",
    "    kappa : Coupling parameter which modifies the coupled logarithm function.\n",
    "    dim : The dimension of x, or rank if x is a tensor. Not needed?\n",
    "    \"\"\"\n",
    "\n",
    "    assert sigma > 0, \"std must be greater than 0.\"\n",
    "    assert alpha in [1, 2], \"alpha must be set to either 1 or 2.\"\n",
    "\n",
    "    \n",
    "    if kappa >= 0:\n",
    "        input = np.arange(mean-20, mean+20, (20+mean - -20+mean)/(2**16+1))\n",
    "    else:\n",
    "        x1 = mean - ((-1*sigma**2) / kappa)**0.5\n",
    "        x2 = mean + ((-1*sigma**2) / kappa)**0.5\n",
    "        input = np.arange(mean - ((-1*sigma**2) / kappa)**0.5, mean + ((-1*sigma**2) / kappa)**0.5, (x2-x1)/(2**16+1))\n",
    " \n",
    "    normCGvalue = 1/float(norm_CG(sigma, kappa))\n",
    "    \n",
    "    coupledNormalDistributionResult = normCGvalue * (nsc_func.coupled_exponential((input - mean)**2/sigma**2, kappa)) ** -0.5\n",
    "  \n",
    "    return coupledNormalDistributionResult"
   ]
  },
  {
   "cell_type": "code",
   "execution_count": 6,
   "metadata": {},
   "outputs": [],
   "source": [
    "kappa, alpha, dim = 0.5, 2, 1"
   ]
  },
  {
   "cell_type": "code",
   "execution_count": 7,
   "metadata": {},
   "outputs": [],
   "source": [
    "mu, sigma = 0, 1 # mean and standard deviation\n",
    "x = np.linspace(mu - 3*sigma, mu + 3*sigma, 100)\n",
    "y = CoupledNormalDistribution(mu, sigma, kappa, alpha)\n",
    "\n",
    "dx = np.arange(mu-20, mu+20, (20+mu - -20+mu)/(2**16+1))[1] - np.arange(mu-20, mu+20, (20+mu - -20+mu)/(2**16+1))[0]"
   ]
  },
  {
   "cell_type": "markdown",
   "metadata": {},
   "source": [
    "### 2) CoupledNormalDistribution class"
   ]
  },
  {
   "cell_type": "code",
   "execution_count": 8,
   "metadata": {},
   "outputs": [],
   "source": [
    "class CoupledNormal:\n",
    "    \"\"\"Coupled Normal Distribution.\n",
    "\n",
    "    This distribution has parameters: location `loc`, 'scale', coupling `kappa`,\n",
    "    and `alpha`.\n",
    "\n",
    "    \"\"\"\n",
    "    def __init__(self,\n",
    "                 loc: [int, float, List, np.ndarray],\n",
    "                 scale: [int, float, List, np.ndarray],\n",
    "                 kappa: [int, float] = 0.,\n",
    "                 alpha: int = 2,\n",
    "                 validate_args: bool = False,\n",
    "                 allow_nan_stats: bool = True\n",
    "                 ):\n",
    "        loc = np.asarray(loc) if isinstance(loc, List) else loc\n",
    "        scale = np.asarray(scale) if isinstance(scale, List) else scale\n",
    "        if validate_args:\n",
    "            assert isinstance(loc, (int, float, np.ndarray)), \"loc must be either an int/float type for scalar, or an list/ndarray type for multidimensional.\"\n",
    "            assert isinstance(scale, (int, float, np.ndarray)), \"scale must be either an int/float type for scalar, or an list/ndarray type for multidimensional.\"\n",
    "            assert type(loc) == type(scale), \"loc and scale must be the same type.\"\n",
    "            if instance(loc, np.ndarray):\n",
    "                assert loc.shape == scale.shape, \"loc and scale must have the same dimensions (check respective .shape()).\"\n",
    "                assert np.all((scale >= 0)), \"All scale values must be greater or equal to 0.\"            \n",
    "            else:\n",
    "                assert scale >= 0, \"scale must be greater or equal to 0.\"            \n",
    "            assert isinstance(kappa, (int, float)), \"kappa must be an int or float type.\"\n",
    "            assert isinstance(alpha, int), \"alpha must be an int that equals to either 1 or 2.\"\n",
    "            assert alpha in [1, 2], \"alpha must be equal to either 1 or 2.\"\n",
    "        self.loc = loc\n",
    "        self.scale = scale\n",
    "        self.kappa = kappa\n",
    "        self.alpha = alpha\n",
    "        print(f\"<nsc.distributions.CoupledNormal batch_shape={self._batch_shape()} event_shape={self._event_shape()}>\")\n",
    "\n",
    "    def n_dim(self):\n",
    "        return 1 if self._event_shape() == [] else self._event_shape()[0]\n",
    "    \n",
    "    def _batch_shape(self) -> List:\n",
    "        if isinstance(self.loc, (int, float)):\n",
    "            # return [] signifying single batch of a single distribution\n",
    "            return []\n",
    "        elif self.loc.shape[0] == 1:\n",
    "            # return [] signifying single batch of a multivariate distribution\n",
    "            return []\n",
    "        else:\n",
    "            # return [batch size]\n",
    "            return [self.loc.shape[0]]\n",
    "\n",
    "    def _event_shape(self) -> List:\n",
    "        if isinstance(self.loc, (int, float)):\n",
    "            # return [] signifying single random variable\n",
    "            return []\n",
    "        elif len(self.loc.shape) == 1:\n",
    "            # return [] signifying single random variable (although with multiple batches)\n",
    "            return []\n",
    "        else:\n",
    "            # return [n of random variables]\n",
    "            return [self.loc.shape[-1]]\n",
    "\n",
    "    def prob(self, X: [List, np.ndarray]):\n",
    "        # Check whether input X is valid\n",
    "        X = np.asarray(X) if isinstance(X, List) else X\n",
    "        assert isinstance(X, np.ndarray), \"X must be a List or np.ndarray.\"\n",
    "        # assert type(X[0]) == type(self.loc), \"X samples must be the same type as loc and scale.\"\n",
    "        if isinstance(X[0], np.ndarray):\n",
    "            assert X[0].shape == loc.shape, \"X samples must have the same dimensions as loc and scale (check respective .shape()).\"\n",
    "        # Calculate PDF with input X\n",
    "        X_norm = (X-self.loc)**2 / self.scale**2\n",
    "        norm_term = self._normalized_term()\n",
    "        p = (nsc_func.coupled_exponential(X_norm, kappa))**-0.5 / norm_term\n",
    "        # normCGvalue =  1/float(norm_CG(sigma, kappa))\n",
    "        # coupledNormalDistributionResult = normCGvalue * (fj.coupled_exponential(y, kappa)) ** -0.5\n",
    "        return p\n",
    "    \n",
    "    # Normalization of 1-D Coupled Gaussian (NormCG)\n",
    "    def _normalized_term(self) -> [int, float, np.ndarray]:\n",
    "        if self.kappa == 0:\n",
    "            norm_term = math.sqrt(2*math.pi) * self.scale\n",
    "        elif self.kappa < 0:\n",
    "            gamma_num = math.gamma(self.kappa-1) / (2*self.kappa)\n",
    "            gamma_dem = math.gamma(1 - (1 / (2*self.kappa)))\n",
    "            norm_term = (math.sqrt(math.pi)*self.sigma*gamma_num) / float(math.sqrt(-1*self.kappa)*gamma_dem)\n",
    "        else:\n",
    "            gamma_num = math.gamma(1 / (2*self.kappa))\n",
    "            gamma_dem = math.gamma((1+kappa)/(2*self.kappa))\n",
    "            norm_term = (math.sqrt(math.pi)*self.sigma*gamma_num) / float(math.sqrt(self.kappa)*gamma_dem)\n",
    "        return norm_term\n"
   ]
  },
  {
   "cell_type": "markdown",
   "metadata": {},
   "source": [
    "***Test***"
   ]
  },
  {
   "cell_type": "code",
   "execution_count": 9,
   "metadata": {},
   "outputs": [],
   "source": [
    "mu, sigma, kappa, alpha = 0., 1., 0.5, 2\n",
    "X_input = np.arange(mu-20., mu+20., (20.+mu - -20.+mu)/(2.**16.+1.), dtype=float)"
   ]
  },
  {
   "cell_type": "code",
   "execution_count": 10,
   "metadata": {},
   "outputs": [
    {
     "data": {
      "text/plain": [
       "array([-20.        , -19.99938966, -19.99877932, ...,  19.99816897,\n",
       "        19.99877932,  19.99938966])"
      ]
     },
     "execution_count": 10,
     "metadata": {},
     "output_type": "execute_result"
    }
   ],
   "source": [
    "X_input"
   ]
  },
  {
   "cell_type": "markdown",
   "metadata": {},
   "source": [
    "Coupled Normal distribution"
   ]
  },
  {
   "cell_type": "code",
   "execution_count": 11,
   "metadata": {},
   "outputs": [
    {
     "name": "stdout",
     "output_type": "stream",
     "text": [
      "<nsc.distributions.CoupledNormal batch_shape=[] event_shape=[]>\n"
     ]
    }
   ],
   "source": [
    "cn = CoupledNormal(loc=mu, scale=sigma)"
   ]
  },
  {
   "cell_type": "code",
   "execution_count": 12,
   "metadata": {},
   "outputs": [
    {
     "name": "stdout",
     "output_type": "stream",
     "text": [
      "1\n",
      "2.5066282746310002\n",
      "[0.00014    0.00014001 0.00014002 ... 0.00014003 0.00014002 0.00014001]\n"
     ]
    }
   ],
   "source": [
    "print(cn.n_dim())\n",
    "print(cn._normalized_term())\n",
    "print(cn.prob(X_input))"
   ]
  },
  {
   "cell_type": "markdown",
   "metadata": {},
   "source": [
    "Coupled Normal multiple distributions (i.e., batch size of 2)"
   ]
  },
  {
   "cell_type": "code",
   "execution_count": 13,
   "metadata": {},
   "outputs": [
    {
     "name": "stdout",
     "output_type": "stream",
     "text": [
      "<nsc.distributions.CoupledNormal batch_shape=[2] event_shape=[]>\n"
     ]
    }
   ],
   "source": [
    "cn = CoupledNormal(loc=[0., 1.], scale=[1., 2.])"
   ]
  },
  {
   "cell_type": "code",
   "execution_count": 14,
   "metadata": {},
   "outputs": [
    {
     "name": "stdout",
     "output_type": "stream",
     "text": [
      "1\n",
      "[2.50662827 5.01325655]\n"
     ]
    }
   ],
   "source": [
    "print(cn.n_dim())\n",
    "print(cn._normalized_term())\n",
    "# print(cn.prob(X_input))"
   ]
  },
  {
   "cell_type": "markdown",
   "metadata": {},
   "source": [
    "Multivariate Coupled Normal distribution"
   ]
  },
  {
   "cell_type": "code",
   "execution_count": 15,
   "metadata": {},
   "outputs": [
    {
     "name": "stdout",
     "output_type": "stream",
     "text": [
      "<nsc.distributions.CoupledNormal batch_shape=[] event_shape=[2]>\n"
     ]
    }
   ],
   "source": [
    "# use double brackets to signify multiple multivariate\n",
    "cn = CoupledNormal(loc=[[0., 1.]], scale=[[1., 2.]])"
   ]
  },
  {
   "cell_type": "code",
   "execution_count": 16,
   "metadata": {},
   "outputs": [
    {
     "name": "stdout",
     "output_type": "stream",
     "text": [
      "2\n",
      "[[2.50662827 5.01325655]]\n"
     ]
    }
   ],
   "source": [
    "print(cn.n_dim())\n",
    "print(cn._normalized_term())\n",
    "# print(cn.prob(X_input))"
   ]
  },
  {
   "cell_type": "markdown",
   "metadata": {},
   "source": [
    "Multivariate Coupled Normal multiple distribution (i.e., batch size of 3)"
   ]
  },
  {
   "cell_type": "code",
   "execution_count": 17,
   "metadata": {},
   "outputs": [
    {
     "name": "stdout",
     "output_type": "stream",
     "text": [
      "<nsc.distributions.CoupledNormal batch_shape=[3] event_shape=[2]>\n"
     ]
    },
    {
     "data": {
      "text/plain": [
       "2"
      ]
     },
     "execution_count": 17,
     "metadata": {},
     "output_type": "execute_result"
    }
   ],
   "source": [
    "cn = CoupledNormal(loc=[[0., 1.], [1., 2.], [2., 3.]], \\\n",
    "                   scale=[[0., 1.], [2., 3.], [4., 5.]]\n",
    "                   )\n",
    "cn.n_dim()"
   ]
  },
  {
   "cell_type": "code",
   "execution_count": 18,
   "metadata": {},
   "outputs": [
    {
     "name": "stdout",
     "output_type": "stream",
     "text": [
      "2\n",
      "[[ 0.          2.50662827]\n",
      " [ 5.01325655  7.51988482]\n",
      " [10.0265131  12.53314137]]\n"
     ]
    }
   ],
   "source": [
    "print(cn.n_dim())\n",
    "print(cn._normalized_term())\n",
    "# print(cn.prob(X_input))"
   ]
  },
  {
   "cell_type": "code",
   "execution_count": 19,
   "metadata": {},
   "outputs": [
    {
     "name": "stdout",
     "output_type": "stream",
     "text": [
      "<nsc.distributions.CoupledNormal batch_shape=[3] event_shape=[4]>\n"
     ]
    },
    {
     "data": {
      "text/plain": [
       "4"
      ]
     },
     "execution_count": 19,
     "metadata": {},
     "output_type": "execute_result"
    }
   ],
   "source": [
    "cn = CoupledNormal(loc=[[0., 1., 0., 1.], [1., 2., 1., 2.], [2., 3., 2., 3.]], \\\n",
    "                   scale=[[0., 1., 0., 1.], [2., 3., 2., 3.], [4., 5., 4., 5.]]\n",
    "                   )\n",
    "cn.n_dim()"
   ]
  },
  {
   "cell_type": "code",
   "execution_count": 20,
   "metadata": {},
   "outputs": [
    {
     "name": "stdout",
     "output_type": "stream",
     "text": [
      "4\n",
      "[[ 0.          2.50662827  0.          2.50662827]\n",
      " [ 5.01325655  7.51988482  5.01325655  7.51988482]\n",
      " [10.0265131  12.53314137 10.0265131  12.53314137]]\n"
     ]
    }
   ],
   "source": [
    "print(cn.n_dim())\n",
    "print(cn._normalized_term())\n",
    "# print(cn.prob(X_input))"
   ]
  },
  {
   "cell_type": "code",
   "execution_count": null,
   "metadata": {},
   "outputs": [],
   "source": []
  }
 ],
 "metadata": {
  "kernelspec": {
   "display_name": "nsc",
   "language": "python",
   "name": "nsc"
  },
  "language_info": {
   "codemirror_mode": {
    "name": "ipython",
    "version": 3
   },
   "file_extension": ".py",
   "mimetype": "text/x-python",
   "name": "python",
   "nbconvert_exporter": "python",
   "pygments_lexer": "ipython3",
   "version": "3.7.9"
  }
 },
 "nbformat": 4,
 "nbformat_minor": 4
}
