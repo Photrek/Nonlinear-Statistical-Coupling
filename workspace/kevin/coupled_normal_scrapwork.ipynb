{
 "cells": [
  {
   "cell_type": "code",
   "execution_count": 1,
   "metadata": {},
   "outputs": [],
   "source": [
    "# !python3 -m pip uninstall tensorflow tensorflow-probability nsc -y\n",
    "# !python3 -m pip install tensorflow tensorflow-probability -q"
   ]
  },
  {
   "cell_type": "code",
   "execution_count": 2,
   "metadata": {},
   "outputs": [],
   "source": [
    "# !python3 -m pip uninstall nsc -y -q\n",
    "# !python3 -m pip install -i https://test.pypi.org/simple/ nsc -q"
   ]
  },
  {
   "cell_type": "code",
   "execution_count": 3,
   "metadata": {},
   "outputs": [
    {
     "name": "stdout",
     "output_type": "stream",
     "text": [
      "Importing NSC lib v0.0.2.\n"
     ]
    }
   ],
   "source": [
    "import numpy as np\n",
    "import pandas as pd\n",
    "import matplotlib.pyplot as plt\n",
    "import seaborn as sns\n",
    "import scipy.stats as stats\n",
    "sns.set()\n",
    "from collections import defaultdict\n",
    "import math\n",
    "from typing import List\n",
    "\n",
    "# From nsc lib\n",
    "import nsc\n",
    "from nsc import distributions as nsd\n",
    "from nsc.util import function as nsc_func\n",
    "from nsc.util.function import coupled_logarithm, coupled_exponential\n",
    "# nsd = nsc.distributions\n",
    "\n",
    "import ipdb"
   ]
  },
  {
   "cell_type": "markdown",
   "metadata": {},
   "source": [
    "### 1) CoupledNormalDistribution function version"
   ]
  },
  {
   "cell_type": "code",
   "execution_count": 4,
   "metadata": {},
   "outputs": [],
   "source": [
    "def norm_CG(sigma, kappa):\n",
    "    if kappa == 0:\n",
    "        result = math.sqrt(2*math.pi) * sigma\n",
    "    elif kappa < 0:\n",
    "        result = math.sqrt(math.pi) * sigma * math.gamma((-1+kappa) / (2*kappa)) / float(math.sqrt(-1*kappa) * math.gamma(1 - (1 / (2*kappa))))\n",
    "    else:\n",
    "        result = math.sqrt(math.pi) * sigma * math.gamma(1 / (2*kappa)) / float(math.sqrt(kappa) * math.gamma((1+kappa)/(2*kappa)))\n",
    "  \n",
    "    return result"
   ]
  },
  {
   "cell_type": "code",
   "execution_count": 5,
   "metadata": {},
   "outputs": [],
   "source": [
    "def CoupledNormalDistribution(mean, sigma, kappa, alpha):\n",
    "    \"\"\"\n",
    "    Short description\n",
    "    \n",
    "    Inputs\n",
    "    ----------\n",
    "    x : Input variable in which the coupled logarithm is applied to.\n",
    "    mean : \n",
    "    sigma : \n",
    "    kappa : Coupling parameter which modifies the coupled logarithm function.\n",
    "    dim : The dimension of x, or rank if x is a tensor. Not needed?\n",
    "    \"\"\"\n",
    "\n",
    "    assert sigma > 0, \"std must be greater than 0.\"\n",
    "    assert alpha in [1, 2], \"alpha must be set to either 1 or 2.\"\n",
    "\n",
    "    \n",
    "    if kappa >= 0:\n",
    "        input = np.arange(mean-20, mean+20, (20+mean - -20+mean)/(2**16+1))\n",
    "    else:\n",
    "        x1 = mean - ((-1*sigma**2) / kappa)**0.5\n",
    "        x2 = mean + ((-1*sigma**2) / kappa)**0.5\n",
    "        input = np.arange(mean - ((-1*sigma**2) / kappa)**0.5, mean + ((-1*sigma**2) / kappa)**0.5, (x2-x1)/(2**16+1))\n",
    " \n",
    "    normCGvalue = 1/float(norm_CG(sigma, kappa))\n",
    "    \n",
    "    coupledNormalDistributionResult = normCGvalue * (nsc_func.coupled_exponential((input - mean)**2/sigma**2, kappa)) ** -0.5\n",
    "  \n",
    "    return coupledNormalDistributionResult"
   ]
  },
  {
   "cell_type": "code",
   "execution_count": 6,
   "metadata": {},
   "outputs": [],
   "source": [
    "kappa, alpha, dim = 0.5, 2, 1"
   ]
  },
  {
   "cell_type": "code",
   "execution_count": 7,
   "metadata": {},
   "outputs": [],
   "source": [
    "mu, sigma = 0, 1 # mean and standard deviation\n",
    "x = np.linspace(mu - 3*sigma, mu + 3*sigma, 100)\n",
    "y = CoupledNormalDistribution(mu, sigma, kappa, alpha)\n",
    "\n",
    "dx = np.arange(mu-20, mu+20, (20+mu - -20+mu)/(2**16+1))[1] - np.arange(mu-20, mu+20, (20+mu - -20+mu)/(2**16+1))[0]"
   ]
  },
  {
   "cell_type": "markdown",
   "metadata": {},
   "source": [
    "### 2) CoupledNormalDistribution class"
   ]
  },
  {
   "cell_type": "code",
   "execution_count": 8,
   "metadata": {},
   "outputs": [],
   "source": [
    "class CoupledNormal:\n",
    "    \"\"\"Coupled Normal Distribution.\n",
    "\n",
    "    This distribution has parameters: location `loc`, 'scale', coupling `kappa`,\n",
    "    and `alpha`.\n",
    "\n",
    "    \"\"\"\n",
    "    def __init__(self,\n",
    "                 loc: [int, float, List, np.ndarray],\n",
    "                 scale: [int, float, List, np.ndarray],\n",
    "                 kappa: [int, float] = 0.,\n",
    "                 alpha: int = 2,\n",
    "                 validate_args: bool = True\n",
    "                 ):\n",
    "        loc = np.asarray(loc) if isinstance(loc, List) else loc\n",
    "        scale = np.asarray(scale) if isinstance(scale, List) else scale\n",
    "        if validate_args:\n",
    "            assert isinstance(loc, (int, float, np.ndarray)), \"loc must be either an int/float type for scalar, or an list/ndarray type for multidimensional.\"\n",
    "            assert isinstance(scale, (int, float, np.ndarray)), \"scale must be either an int/float type for scalar, or an list/ndarray type for multidimensional.\"\n",
    "            assert type(loc) == type(scale), \"loc and scale must be the same type.\"\n",
    "            if isinstance(loc, np.ndarray):\n",
    "                assert loc.shape == scale.shape, \"loc and scale must have the same dimensions (check respective .shape()).\"\n",
    "                assert np.all((scale >= 0)), \"All scale values must be greater or equal to 0.\"            \n",
    "            else:\n",
    "                assert scale >= 0, \"scale must be greater or equal to 0.\"            \n",
    "            assert isinstance(kappa, (int, float)), \"kappa must be an int or float type.\"\n",
    "            assert isinstance(alpha, int), \"alpha must be an int that equals to either 1 or 2.\"\n",
    "            assert alpha in [1, 2], \"alpha must be equal to either 1 or 2.\"\n",
    "        self.loc = loc\n",
    "        self.scale = scale\n",
    "        self.kappa = kappa\n",
    "        self.alpha = alpha            \n",
    "\n",
    "    def n_dim(self):\n",
    "        return 1 if self._event_shape() == [] else self._event_shape()[0]\n",
    "\n",
    "    def _batch_shape(self) -> List:\n",
    "        if self._rank(self.loc) == 0:\n",
    "            # return [] signifying single batch of a single distribution\n",
    "            return []\n",
    "        else:\n",
    "            # return the batch shape in list format\n",
    "            return list(self.loc.shape)\n",
    "\n",
    "    def _event_shape(self) -> List:\n",
    "        # For univariate Coupled Normal distribution, event shape is always []\n",
    "        # [] signifies single random variable dim (regardless of batch size)\n",
    "        return []\n",
    "\n",
    "    def _rank(self, value: [int, float, np.ndarray]) -> int:\n",
    "        # specify the rank of a given value, with rank=0 for a scalar and rank=ndim for an ndarray\n",
    "        if isinstance(value, (int, float)):\n",
    "            return 0 \n",
    "        else:\n",
    "            return len(value.shape)\n",
    "\n",
    "    def prob(self, X: [List, np.ndarray]):\n",
    "        # Check whether input X is valid\n",
    "        X = np.asarray(X) if isinstance(X, List) else X\n",
    "        assert isinstance(X, np.ndarray), \"X must be a List or np.ndarray.\"\n",
    "        # assert type(X[0]) == type(self.loc), \"X samples must be the same type as loc and scale.\"\n",
    "        if isinstance(X[0], np.ndarray):\n",
    "            assert X[0].shape == self.loc.shape, \"X samples must have the same dimensions as loc and scale (check respective .shape()).\"\n",
    "        # Calculate PDF with input X\n",
    "        X_norm = (X-self.loc)**2 / self.scale**2\n",
    "        norm_term = self._normalized_term()\n",
    "        p = (coupled_exponential(X_norm, self.kappa))**-0.5 / norm_term\n",
    "        # normCGvalue =  1/float(norm_CG(scale, kappa))\n",
    "        # coupledNormalDistributionResult = normCGvalue * (coupled_exponential(y, kappa)) ** -0.5\n",
    "        return p\n",
    "\n",
    "    # Normalization of 1-D Coupled Gaussian (NormCG)\n",
    "    def _normalized_term(self) -> [int, float, np.ndarray]:\n",
    "        if self.kappa == 0:\n",
    "            norm_term = math.sqrt(2*math.pi) * self.scale\n",
    "        elif self.kappa < 0:\n",
    "            gamma_num = math.gamma(self.kappa-1) / (2*self.kappa)\n",
    "            gamma_dem = math.gamma(1 - (1 / (2*self.kappa)))\n",
    "            norm_term = (math.sqrt(math.pi)*self.scale*gamma_num) / float(math.sqrt(-1*self.kappa)*gamma_dem)\n",
    "        else:\n",
    "            gamma_num = math.gamma(1 / (2*self.kappa))\n",
    "            gamma_dem = math.gamma((1+self.kappa)/(2*self.kappa))\n",
    "            norm_term = (math.sqrt(math.pi)*self.scale*gamma_num) / float(math.sqrt(self.kappa)*gamma_dem)\n",
    "        return norm_term\n",
    "\n",
    "    def __repr__(self) -> str:\n",
    "        return f\"<nsc.distributions.{self.__class__.__name__} batch_shape={str(self._batch_shape())} event_shape={str(self._event_shape())}>\"\n"
   ]
  },
  {
   "cell_type": "code",
   "execution_count": 9,
   "metadata": {},
   "outputs": [],
   "source": [
    "class MultivariateCoupledNormal(CoupledNormal):\n",
    "    \"\"\"Multivariate Coupled Normal Distribution.\n",
    "\n",
    "    This distribution has parameters: location `loc`, 'scale', coupling `kappa`,\n",
    "    and `alpha`.\n",
    "\n",
    "    \"\"\"\n",
    "    def __init__(self,\n",
    "                 loc: [int, float, List, np.ndarray],\n",
    "                 scale: [int, float, List, np.ndarray],\n",
    "                 kappa: [int, float] = 0.,\n",
    "                 alpha: int = 2,\n",
    "                 validate_args: bool = True\n",
    "                 ):\n",
    "        if validate_args:\n",
    "            assert isinstance(loc, (list, np.ndarray)), \"loc must be either a list or ndarray type. Otherwise use CoupledNormal.\"\n",
    "            assert isinstance(scale, (list, np.ndarray)), \"scale must be either a list or ndarray type. Otherwise use CoupledNormal.\"\n",
    "        super(MultivariateCoupledNormal, self).__init__(\n",
    "            loc=loc,\n",
    "            scale=scale,\n",
    "            kappa=kappa,\n",
    "            alpha=alpha,\n",
    "            validate_args=validate_args\n",
    "        )\n",
    "\n",
    "    def _batch_shape(self) -> List:\n",
    "        if self._rank(self.loc) == 1:\n",
    "            # return [] signifying single batch of a single distribution\n",
    "            return []\n",
    "        else:\n",
    "            # return [batch size]\n",
    "            return list(self.loc.shape[:-1])\n",
    "        \n",
    "    def _event_shape(self) -> List:\n",
    "        if self._rank(self.loc) == 1:\n",
    "            # if loc is only a vector\n",
    "            return list(self.loc.shape)\n",
    "        else:\n",
    "            # return [n of random variables] when rank >= 2\n",
    "            return [self.loc.shape[-1]]\n",
    "\n",
    "    def _rank(self, value: [int, float, np.ndarray]) -> int:\n",
    "        # specify the rank of a given value, with rank=0 for a scalar and rank=ndim for an ndarray\n",
    "        if isinstance(value, (int, float)):\n",
    "            return 0 \n",
    "        else:\n",
    "            return len(value.shape)\n",
    "\n",
    "    def prob(self, X: [List, np.ndarray]):\n",
    "        pass\n",
    "        '''\n",
    "        # Check whether input X is valid\n",
    "        X = np.asarray(X) if isinstance(X, List) else X\n",
    "        assert isinstance(X, np.ndarray), \"X must be a List or np.ndarray.\"\n",
    "        # assert type(X[0]) == type(self.loc), \"X samples must be the same type as loc and scale.\"\n",
    "        if isinstance(X[0], np.ndarray):\n",
    "            assert X[0].shape == self.loc.shape, \"X samples must have the same dimensions as loc and scale (check respective .shape()).\"\n",
    "        # Calculate PDF with input X\n",
    "        X_norm = (X-self.loc)**2 / self.scale**2\n",
    "        norm_term = self._normalized_term()\n",
    "        p = (coupled_exponential(X_norm, self.kappa))**-0.5 / norm_term\n",
    "        # normCGvalue =  1/float(norm_CG(scale, kappa))\n",
    "        # coupledNormalDistributionResult = normCGvalue * (coupled_exponential(y, kappa)) ** -0.5\n",
    "        return p\n",
    "        '''\n",
    "\n",
    "    # Normalization of the multivariate Coupled Gaussian (NormMultiCoupled)\n",
    "    def _normalized_term(self) -> [int, float, np.ndarray]:\n",
    "        pass\n",
    "        '''\n",
    "        if self.kappa == 0:\n",
    "            norm_term = math.sqrt(2*math.pi) * self.scale\n",
    "        elif self.kappa < 0:\n",
    "            gamma_num = math.gamma(self.kappa-1) / (2*self.kappa)\n",
    "            gamma_dem = math.gamma(1 - (1 / (2*self.kappa)))\n",
    "            norm_term = (math.sqrt(math.pi)*self.scale*gamma_num) / float(math.sqrt(-1*self.kappa)*gamma_dem)\n",
    "        else:\n",
    "            gamma_num = math.gamma(1 / (2*self.kappa))\n",
    "            gamma_dem = math.gamma((1+self.kappa)/(2*self.kappa))\n",
    "            norm_term = (math.sqrt(math.pi)*self.scale*gamma_num) / float(math.sqrt(self.kappa)*gamma_dem)\n",
    "        return norm_term\n",
    "        '''\n"
   ]
  },
  {
   "cell_type": "markdown",
   "metadata": {},
   "source": [
    "***Test***"
   ]
  },
  {
   "cell_type": "code",
   "execution_count": 10,
   "metadata": {},
   "outputs": [],
   "source": [
    "mu, sigma, kappa, alpha = 0., 1., 0.5, 2\n",
    "# X_input = np.arange(mu-20., mu+20., (20.+mu - -20.+mu)/(2.**16.+1.), dtype=float)\n",
    "six_sigma = 6.*sigma\n",
    "# X_input = np.arange(mu-6.*sigma, mu+6.*sigma, (20.+mu - -20.+mu)/(2.**16.+1.), dtype=float)\n",
    "X_input = np.linspace(mu-six_sigma, mu+six_sigma, 1000)"
   ]
  },
  {
   "cell_type": "code",
   "execution_count": 11,
   "metadata": {},
   "outputs": [
    {
     "data": {
      "text/plain": [
       "(1000,)"
      ]
     },
     "execution_count": 11,
     "metadata": {},
     "output_type": "execute_result"
    }
   ],
   "source": [
    "X_input.shape"
   ]
  },
  {
   "cell_type": "markdown",
   "metadata": {},
   "source": [
    "Coupled Normal distribution"
   ]
  },
  {
   "cell_type": "code",
   "execution_count": 12,
   "metadata": {},
   "outputs": [
    {
     "data": {
      "text/plain": [
       "<nsc.distributions.CoupledNormal batch_shape=[] event_shape=[]>"
      ]
     },
     "execution_count": 12,
     "metadata": {},
     "output_type": "execute_result"
    }
   ],
   "source": [
    "cn = CoupledNormal(loc=mu, scale=sigma)\n",
    "cn"
   ]
  },
  {
   "cell_type": "code",
   "execution_count": 13,
   "metadata": {},
   "outputs": [
    {
     "name": "stdout",
     "output_type": "stream",
     "text": [
      "1\n",
      "2.5066282746310002\n",
      "[6.07588285e-09 6.52947950e-09 7.01592715e-09 7.53752759e-09\n",
      " 8.09673816e-09 8.69618183e-09 9.33865787e-09 1.00271533e-08\n",
      " 1.07648549e-08 1.15551621e-08 1.24017005e-08 1.33083365e-08\n",
      " 1.42791924e-08 1.53186627e-08 1.64314314e-08 1.76224902e-08\n",
      " 1.88971579e-08 2.02611012e-08 2.17203558e-08 2.32813500e-08\n",
      " 2.49509291e-08 2.67363809e-08 2.86454635e-08 3.06864341e-08\n",
      " 3.28680797e-08 3.51997497e-08 3.76913900e-08 4.03535801e-08\n",
      " 4.31975705e-08 4.62353246e-08 4.94795608e-08 5.29437985e-08\n",
      " 5.66424063e-08 6.05906524e-08 6.48047589e-08 6.93019581e-08\n",
      " 7.41005529e-08 7.92199799e-08 8.46808763e-08 9.05051506e-08\n",
      " 9.67160572e-08 1.03338275e-07 1.10397991e-07 1.17922986e-07\n",
      " 1.25942729e-07 1.34488475e-07 1.43593366e-07 1.53292539e-07\n",
      " 1.63623243e-07 1.74624957e-07 1.86339516e-07 1.98811248e-07\n",
      " 2.12087111e-07 2.26216843e-07 2.41253117e-07 2.57251708e-07\n",
      " 2.74271661e-07 2.92375476e-07 3.11629300e-07 3.32103125e-07\n",
      " 3.53871003e-07 3.77011266e-07 4.01606762e-07 4.27745097e-07\n",
      " 4.55518899e-07 4.85026086e-07 5.16370151e-07 5.49660462e-07\n",
      " 5.85012578e-07 6.22548578e-07 6.62397407e-07 7.04695241e-07\n",
      " 7.49585866e-07 7.97221085e-07 8.47761129e-07 9.01375106e-07\n",
      " 9.58241456e-07 1.01854844e-06 1.08249465e-06 1.15028952e-06\n",
      " 1.22215392e-06 1.29832070e-06 1.37903534e-06 1.46455655e-06\n",
      " 1.55515697e-06 1.65112387e-06 1.75275984e-06 1.86038364e-06\n",
      " 1.97433090e-06 2.09495506e-06 2.22262818e-06 2.35774187e-06\n",
      " 2.50070829e-06 2.65196109e-06 2.81195650e-06 2.98117441e-06\n",
      " 3.16011951e-06 3.34932249e-06 3.54934129e-06 3.76076237e-06\n",
      " 3.98420211e-06 4.22030818e-06 4.46976105e-06 4.73327550e-06\n",
      " 5.01160226e-06 5.30552965e-06 5.61588534e-06 5.94353815e-06\n",
      " 6.28939996e-06 6.65442766e-06 7.03962524e-06 7.44604587e-06\n",
      " 7.87479417e-06 8.32702851e-06 8.80396340e-06 9.30687201e-06\n",
      " 9.83708877e-06 1.03960121e-05 1.09851072e-05 1.16059089e-05\n",
      " 1.22600249e-05 1.29491387e-05 1.36750130e-05 1.44394933e-05\n",
      " 1.52445108e-05 1.60920869e-05 1.69843363e-05 1.79234715e-05\n",
      " 1.89118065e-05 1.99517612e-05 2.10458657e-05 2.21967653e-05\n",
      " 2.34072245e-05 2.46801325e-05 2.60185081e-05 2.74255048e-05\n",
      " 2.89044165e-05 3.04586828e-05 3.20918953e-05 3.38078032e-05\n",
      " 3.56103197e-05 3.75035285e-05 3.94916905e-05 4.15792503e-05\n",
      " 4.37708440e-05 4.60713060e-05 4.84856769e-05 5.10192111e-05\n",
      " 5.36773851e-05 5.64659057e-05 5.93907190e-05 6.24580188e-05\n",
      " 6.56742560e-05 6.90461480e-05 7.25806887e-05 7.62851581e-05\n",
      " 8.01671332e-05 8.42344980e-05 8.84954552e-05 9.29585367e-05\n",
      " 9.76326161e-05 1.02526920e-04 1.07651040e-04 1.13014948e-04\n",
      " 1.18629003e-04 1.24503973e-04 1.30651042e-04 1.37081825e-04\n",
      " 1.43808388e-04 1.50843254e-04 1.58199426e-04 1.65890399e-04\n",
      " 1.73930175e-04 1.82333284e-04 1.91114796e-04 2.00290340e-04\n",
      " 2.09876123e-04 2.19888946e-04 2.30346225e-04 2.41266008e-04\n",
      " 2.52666993e-04 2.64568554e-04 2.76990753e-04 2.89954367e-04\n",
      " 3.03480907e-04 3.17592640e-04 3.32312610e-04 3.47664663e-04\n",
      " 3.63673466e-04 3.80364535e-04 3.97764257e-04 4.15899912e-04\n",
      " 4.34799704e-04 4.54492777e-04 4.75009252e-04 4.96380244e-04\n",
      " 5.18637893e-04 5.41815389e-04 5.65947003e-04 5.91068111e-04\n",
      " 6.17215225e-04 6.44426020e-04 6.72739365e-04 7.02195353e-04\n",
      " 7.32835328e-04 7.64701919e-04 7.97839069e-04 8.32292066e-04\n",
      " 8.68107576e-04 9.05333674e-04 9.44019877e-04 9.84217175e-04\n",
      " 1.02597807e-03 1.06935659e-03 1.11440835e-03 1.16119058e-03\n",
      " 1.20976214e-03 1.26018355e-03 1.31251707e-03 1.36682670e-03\n",
      " 1.42317819e-03 1.48163915e-03 1.54227900e-03 1.60516906e-03\n",
      " 1.67038259e-03 1.73799476e-03 1.80808277e-03 1.88072584e-03\n",
      " 1.95600522e-03 2.03400428e-03 2.11480853e-03 2.19850563e-03\n",
      " 2.28518542e-03 2.37494002e-03 2.46786376e-03 2.56405333e-03\n",
      " 2.66360771e-03 2.76662825e-03 2.87321873e-03 2.98348533e-03\n",
      " 3.09753671e-03 3.21548399e-03 3.33744086e-03 3.46352353e-03\n",
      " 3.59385079e-03 3.72854404e-03 3.86772733e-03 4.01152736e-03\n",
      " 4.16007349e-03 4.31349784e-03 4.47193520e-03 4.63552317e-03\n",
      " 4.80440208e-03 4.97871507e-03 5.15860809e-03 5.34422992e-03\n",
      " 5.53573217e-03 5.73326930e-03 5.93699865e-03 6.14708041e-03\n",
      " 6.36367769e-03 6.58695645e-03 6.81708558e-03 7.05423682e-03\n",
      " 7.29858486e-03 7.55030724e-03 7.80958441e-03 8.07659969e-03\n",
      " 8.35153931e-03 8.63459232e-03 8.92595065e-03 9.22580906e-03\n",
      " 9.53436511e-03 9.85181917e-03 1.01783744e-02 1.05142366e-02\n",
      " 1.08596145e-02 1.12147193e-02 1.15797649e-02 1.19549679e-02\n",
      " 1.23405473e-02 1.27367248e-02 1.31437244e-02 1.35617727e-02\n",
      " 1.39910985e-02 1.44319330e-02 1.48845095e-02 1.53490638e-02\n",
      " 1.58258333e-02 1.63150580e-02 1.68169794e-02 1.73318412e-02\n",
      " 1.78598885e-02 1.84013685e-02 1.89565299e-02 1.95256226e-02\n",
      " 2.01088984e-02 2.07066101e-02 2.13190116e-02 2.19463583e-02\n",
      " 2.25889060e-02 2.32469118e-02 2.39206334e-02 2.46103289e-02\n",
      " 2.53162571e-02 2.60386769e-02 2.67778476e-02 2.75340283e-02\n",
      " 2.83074780e-02 2.90984556e-02 2.99072194e-02 3.07340271e-02\n",
      " 3.15791358e-02 3.24428013e-02 3.33252786e-02 3.42268214e-02\n",
      " 3.51476816e-02 3.60881098e-02 3.70483545e-02 3.80286622e-02\n",
      " 3.90292772e-02 4.00504412e-02 4.10923935e-02 4.21553702e-02\n",
      " 4.32396046e-02 4.43453264e-02 4.54727621e-02 4.66221341e-02\n",
      " 4.77936612e-02 4.89875577e-02 5.02040337e-02 5.14432944e-02\n",
      " 5.27055402e-02 5.39909665e-02 5.52997632e-02 5.66321144e-02\n",
      " 5.79881987e-02 5.93681884e-02 6.07722494e-02 6.22005410e-02\n",
      " 6.36532158e-02 6.51304191e-02 6.66322890e-02 6.81589559e-02\n",
      " 6.97105424e-02 7.12871628e-02 7.28889234e-02 7.45159216e-02\n",
      " 7.61682461e-02 7.78459762e-02 7.95491823e-02 8.12779248e-02\n",
      " 8.30322545e-02 8.48122118e-02 8.66178272e-02 8.84491202e-02\n",
      " 9.03060997e-02 9.21887636e-02 9.40970984e-02 9.60310791e-02\n",
      " 9.79906691e-02 9.99758196e-02 1.01986470e-01 1.04022547e-01\n",
      " 1.06083965e-01 1.08170625e-01 1.10282415e-01 1.12419212e-01\n",
      " 1.14580877e-01 1.16767258e-01 1.18978190e-01 1.21213495e-01\n",
      " 1.23472978e-01 1.25756432e-01 1.28063637e-01 1.30394355e-01\n",
      " 1.32748336e-01 1.35125314e-01 1.37525010e-01 1.39947127e-01\n",
      " 1.42391357e-01 1.44857373e-01 1.47344836e-01 1.49853389e-01\n",
      " 1.52382661e-01 1.54932267e-01 1.57501805e-01 1.60090857e-01\n",
      " 1.62698991e-01 1.65325760e-01 1.67970699e-01 1.70633332e-01\n",
      " 1.73313163e-01 1.76009683e-01 1.78722368e-01 1.81450678e-01\n",
      " 1.84194058e-01 1.86951939e-01 1.89723736e-01 1.92508850e-01\n",
      " 1.95306666e-01 1.98116556e-01 2.00937877e-01 2.03769972e-01\n",
      " 2.06612169e-01 2.09463785e-01 2.12324119e-01 2.15192461e-01\n",
      " 2.18068085e-01 2.20950253e-01 2.23838215e-01 2.26731207e-01\n",
      " 2.29628455e-01 2.32529171e-01 2.35432557e-01 2.38337802e-01\n",
      " 2.41244088e-01 2.44150582e-01 2.47056443e-01 2.49960821e-01\n",
      " 2.52862854e-01 2.55761674e-01 2.58656402e-01 2.61546152e-01\n",
      " 2.64430029e-01 2.67307133e-01 2.70176555e-01 2.73037380e-01\n",
      " 2.75888687e-01 2.78729549e-01 2.81559036e-01 2.84376211e-01\n",
      " 2.87180133e-01 2.89969860e-01 2.92744443e-01 2.95502935e-01\n",
      " 2.98244384e-01 3.00967836e-01 3.03672338e-01 3.06356936e-01\n",
      " 3.09020675e-01 3.11662603e-01 3.14281767e-01 3.16877217e-01\n",
      " 3.19448006e-01 3.21993187e-01 3.24511821e-01 3.27002969e-01\n",
      " 3.29465699e-01 3.31899084e-01 3.34302202e-01 3.36674138e-01\n",
      " 3.39013984e-01 3.41320840e-01 3.43593812e-01 3.45832018e-01\n",
      " 3.48034583e-01 3.50200643e-01 3.52329342e-01 3.54419839e-01\n",
      " 3.56471300e-01 3.58482908e-01 3.60453854e-01 3.62383344e-01\n",
      " 3.64270600e-01 3.66114854e-01 3.67915355e-01 3.69671368e-01\n",
      " 3.71382173e-01 3.73047064e-01 3.74665355e-01 3.76236376e-01\n",
      " 3.77759474e-01 3.79234016e-01 3.80659384e-01 3.82034982e-01\n",
      " 3.83360233e-01 3.84634578e-01 3.85857481e-01 3.87028425e-01\n",
      " 3.88146912e-01 3.89212469e-01 3.90224642e-01 3.91183001e-01\n",
      " 3.92087135e-01 3.92936658e-01 3.93731208e-01 3.94470442e-01\n",
      " 3.95154044e-01 3.95781720e-01 3.96353199e-01 3.96868236e-01\n",
      " 3.97326608e-01 3.97728119e-01 3.98072593e-01 3.98359883e-01\n",
      " 3.98589864e-01 3.98762437e-01 3.98877528e-01 3.98935085e-01\n",
      " 3.98935085e-01 3.98877528e-01 3.98762437e-01 3.98589864e-01\n",
      " 3.98359883e-01 3.98072593e-01 3.97728119e-01 3.97326608e-01\n",
      " 3.96868236e-01 3.96353199e-01 3.95781720e-01 3.95154044e-01\n",
      " 3.94470442e-01 3.93731208e-01 3.92936658e-01 3.92087135e-01\n",
      " 3.91183001e-01 3.90224642e-01 3.89212469e-01 3.88146912e-01\n",
      " 3.87028425e-01 3.85857481e-01 3.84634578e-01 3.83360233e-01\n",
      " 3.82034982e-01 3.80659384e-01 3.79234016e-01 3.77759474e-01\n",
      " 3.76236376e-01 3.74665355e-01 3.73047064e-01 3.71382173e-01\n",
      " 3.69671368e-01 3.67915355e-01 3.66114854e-01 3.64270600e-01\n",
      " 3.62383344e-01 3.60453854e-01 3.58482908e-01 3.56471300e-01\n",
      " 3.54419839e-01 3.52329342e-01 3.50200643e-01 3.48034583e-01\n",
      " 3.45832018e-01 3.43593812e-01 3.41320840e-01 3.39013984e-01\n",
      " 3.36674138e-01 3.34302202e-01 3.31899084e-01 3.29465699e-01\n",
      " 3.27002969e-01 3.24511821e-01 3.21993187e-01 3.19448006e-01\n",
      " 3.16877217e-01 3.14281767e-01 3.11662603e-01 3.09020675e-01\n",
      " 3.06356936e-01 3.03672338e-01 3.00967836e-01 2.98244384e-01\n",
      " 2.95502935e-01 2.92744443e-01 2.89969860e-01 2.87180133e-01\n",
      " 2.84376211e-01 2.81559036e-01 2.78729549e-01 2.75888687e-01\n",
      " 2.73037380e-01 2.70176555e-01 2.67307133e-01 2.64430029e-01\n",
      " 2.61546152e-01 2.58656402e-01 2.55761674e-01 2.52862854e-01\n",
      " 2.49960821e-01 2.47056443e-01 2.44150582e-01 2.41244088e-01\n",
      " 2.38337802e-01 2.35432557e-01 2.32529171e-01 2.29628455e-01\n",
      " 2.26731207e-01 2.23838215e-01 2.20950253e-01 2.18068085e-01\n",
      " 2.15192461e-01 2.12324119e-01 2.09463785e-01 2.06612169e-01\n",
      " 2.03769972e-01 2.00937877e-01 1.98116556e-01 1.95306666e-01\n",
      " 1.92508850e-01 1.89723736e-01 1.86951939e-01 1.84194058e-01\n",
      " 1.81450678e-01 1.78722368e-01 1.76009683e-01 1.73313163e-01\n",
      " 1.70633332e-01 1.67970699e-01 1.65325760e-01 1.62698991e-01\n",
      " 1.60090857e-01 1.57501805e-01 1.54932267e-01 1.52382661e-01\n",
      " 1.49853389e-01 1.47344836e-01 1.44857373e-01 1.42391357e-01\n",
      " 1.39947127e-01 1.37525010e-01 1.35125314e-01 1.32748336e-01\n",
      " 1.30394355e-01 1.28063637e-01 1.25756432e-01 1.23472978e-01\n",
      " 1.21213495e-01 1.18978190e-01 1.16767258e-01 1.14580877e-01\n",
      " 1.12419212e-01 1.10282415e-01 1.08170625e-01 1.06083965e-01\n",
      " 1.04022547e-01 1.01986470e-01 9.99758196e-02 9.79906691e-02\n",
      " 9.60310791e-02 9.40970984e-02 9.21887636e-02 9.03060997e-02\n",
      " 8.84491202e-02 8.66178272e-02 8.48122118e-02 8.30322545e-02\n",
      " 8.12779248e-02 7.95491823e-02 7.78459762e-02 7.61682461e-02\n",
      " 7.45159216e-02 7.28889234e-02 7.12871628e-02 6.97105424e-02\n",
      " 6.81589559e-02 6.66322890e-02 6.51304191e-02 6.36532158e-02\n",
      " 6.22005410e-02 6.07722494e-02 5.93681884e-02 5.79881987e-02\n",
      " 5.66321144e-02 5.52997632e-02 5.39909665e-02 5.27055402e-02\n",
      " 5.14432944e-02 5.02040337e-02 4.89875577e-02 4.77936612e-02\n",
      " 4.66221341e-02 4.54727621e-02 4.43453264e-02 4.32396046e-02\n",
      " 4.21553702e-02 4.10923935e-02 4.00504412e-02 3.90292772e-02\n",
      " 3.80286622e-02 3.70483545e-02 3.60881098e-02 3.51476816e-02\n",
      " 3.42268214e-02 3.33252786e-02 3.24428013e-02 3.15791358e-02\n",
      " 3.07340271e-02 2.99072194e-02 2.90984556e-02 2.83074780e-02\n",
      " 2.75340283e-02 2.67778476e-02 2.60386769e-02 2.53162571e-02\n",
      " 2.46103289e-02 2.39206334e-02 2.32469118e-02 2.25889060e-02\n",
      " 2.19463583e-02 2.13190116e-02 2.07066101e-02 2.01088984e-02\n",
      " 1.95256226e-02 1.89565299e-02 1.84013685e-02 1.78598885e-02\n",
      " 1.73318412e-02 1.68169794e-02 1.63150580e-02 1.58258333e-02\n",
      " 1.53490638e-02 1.48845095e-02 1.44319330e-02 1.39910985e-02\n",
      " 1.35617727e-02 1.31437244e-02 1.27367248e-02 1.23405473e-02\n",
      " 1.19549679e-02 1.15797649e-02 1.12147193e-02 1.08596145e-02\n",
      " 1.05142366e-02 1.01783744e-02 9.85181917e-03 9.53436511e-03\n",
      " 9.22580906e-03 8.92595065e-03 8.63459232e-03 8.35153931e-03\n",
      " 8.07659969e-03 7.80958441e-03 7.55030724e-03 7.29858486e-03\n",
      " 7.05423682e-03 6.81708558e-03 6.58695645e-03 6.36367769e-03\n",
      " 6.14708041e-03 5.93699865e-03 5.73326930e-03 5.53573217e-03\n",
      " 5.34422992e-03 5.15860809e-03 4.97871507e-03 4.80440208e-03\n",
      " 4.63552317e-03 4.47193520e-03 4.31349784e-03 4.16007349e-03\n",
      " 4.01152736e-03 3.86772733e-03 3.72854404e-03 3.59385079e-03\n",
      " 3.46352353e-03 3.33744086e-03 3.21548399e-03 3.09753671e-03\n",
      " 2.98348533e-03 2.87321873e-03 2.76662825e-03 2.66360771e-03\n",
      " 2.56405333e-03 2.46786376e-03 2.37494002e-03 2.28518542e-03\n",
      " 2.19850563e-03 2.11480853e-03 2.03400428e-03 1.95600522e-03\n",
      " 1.88072584e-03 1.80808277e-03 1.73799476e-03 1.67038259e-03\n",
      " 1.60516906e-03 1.54227900e-03 1.48163915e-03 1.42317819e-03\n",
      " 1.36682670e-03 1.31251707e-03 1.26018355e-03 1.20976214e-03\n",
      " 1.16119058e-03 1.11440835e-03 1.06935659e-03 1.02597807e-03\n",
      " 9.84217175e-04 9.44019877e-04 9.05333674e-04 8.68107576e-04\n",
      " 8.32292066e-04 7.97839069e-04 7.64701919e-04 7.32835328e-04\n",
      " 7.02195353e-04 6.72739365e-04 6.44426020e-04 6.17215225e-04\n",
      " 5.91068111e-04 5.65947003e-04 5.41815389e-04 5.18637893e-04\n",
      " 4.96380244e-04 4.75009252e-04 4.54492777e-04 4.34799704e-04\n",
      " 4.15899912e-04 3.97764257e-04 3.80364535e-04 3.63673466e-04\n",
      " 3.47664663e-04 3.32312610e-04 3.17592640e-04 3.03480907e-04\n",
      " 2.89954367e-04 2.76990753e-04 2.64568554e-04 2.52666993e-04\n",
      " 2.41266008e-04 2.30346225e-04 2.19888946e-04 2.09876123e-04\n",
      " 2.00290340e-04 1.91114796e-04 1.82333284e-04 1.73930175e-04\n",
      " 1.65890399e-04 1.58199426e-04 1.50843254e-04 1.43808388e-04\n",
      " 1.37081825e-04 1.30651042e-04 1.24503973e-04 1.18629003e-04\n",
      " 1.13014948e-04 1.07651040e-04 1.02526920e-04 9.76326161e-05\n",
      " 9.29585367e-05 8.84954552e-05 8.42344980e-05 8.01671332e-05\n",
      " 7.62851581e-05 7.25806887e-05 6.90461480e-05 6.56742560e-05\n",
      " 6.24580188e-05 5.93907190e-05 5.64659057e-05 5.36773851e-05\n",
      " 5.10192111e-05 4.84856769e-05 4.60713060e-05 4.37708440e-05\n",
      " 4.15792503e-05 3.94916905e-05 3.75035285e-05 3.56103197e-05\n",
      " 3.38078032e-05 3.20918953e-05 3.04586828e-05 2.89044165e-05\n",
      " 2.74255048e-05 2.60185081e-05 2.46801325e-05 2.34072245e-05\n",
      " 2.21967653e-05 2.10458657e-05 1.99517612e-05 1.89118065e-05\n",
      " 1.79234715e-05 1.69843363e-05 1.60920869e-05 1.52445108e-05\n",
      " 1.44394933e-05 1.36750130e-05 1.29491387e-05 1.22600249e-05\n",
      " 1.16059089e-05 1.09851072e-05 1.03960121e-05 9.83708877e-06\n",
      " 9.30687201e-06 8.80396340e-06 8.32702851e-06 7.87479417e-06\n",
      " 7.44604587e-06 7.03962524e-06 6.65442766e-06 6.28939996e-06\n",
      " 5.94353815e-06 5.61588534e-06 5.30552965e-06 5.01160226e-06\n",
      " 4.73327550e-06 4.46976105e-06 4.22030818e-06 3.98420211e-06\n",
      " 3.76076237e-06 3.54934129e-06 3.34932249e-06 3.16011951e-06\n",
      " 2.98117441e-06 2.81195650e-06 2.65196109e-06 2.50070829e-06\n",
      " 2.35774187e-06 2.22262818e-06 2.09495506e-06 1.97433090e-06\n",
      " 1.86038364e-06 1.75275984e-06 1.65112387e-06 1.55515697e-06\n",
      " 1.46455655e-06 1.37903534e-06 1.29832070e-06 1.22215392e-06\n",
      " 1.15028952e-06 1.08249465e-06 1.01854844e-06 9.58241456e-07\n",
      " 9.01375106e-07 8.47761129e-07 7.97221085e-07 7.49585866e-07\n",
      " 7.04695241e-07 6.62397407e-07 6.22548578e-07 5.85012578e-07\n",
      " 5.49660462e-07 5.16370151e-07 4.85026086e-07 4.55518899e-07\n",
      " 4.27745097e-07 4.01606762e-07 3.77011266e-07 3.53871003e-07\n",
      " 3.32103125e-07 3.11629300e-07 2.92375476e-07 2.74271661e-07\n",
      " 2.57251708e-07 2.41253117e-07 2.26216843e-07 2.12087111e-07\n",
      " 1.98811248e-07 1.86339516e-07 1.74624957e-07 1.63623243e-07\n",
      " 1.53292539e-07 1.43593366e-07 1.34488475e-07 1.25942729e-07\n",
      " 1.17922986e-07 1.10397991e-07 1.03338275e-07 9.67160572e-08\n",
      " 9.05051506e-08 8.46808763e-08 7.92199799e-08 7.41005529e-08\n",
      " 6.93019581e-08 6.48047589e-08 6.05906524e-08 5.66424063e-08\n",
      " 5.29437985e-08 4.94795608e-08 4.62353246e-08 4.31975705e-08\n",
      " 4.03535801e-08 3.76913900e-08 3.51997497e-08 3.28680797e-08\n",
      " 3.06864341e-08 2.86454635e-08 2.67363809e-08 2.49509291e-08\n",
      " 2.32813500e-08 2.17203558e-08 2.02611012e-08 1.88971579e-08\n",
      " 1.76224902e-08 1.64314314e-08 1.53186627e-08 1.42791924e-08\n",
      " 1.33083365e-08 1.24017005e-08 1.15551621e-08 1.07648549e-08\n",
      " 1.00271533e-08 9.33865787e-09 8.69618183e-09 8.09673816e-09\n",
      " 7.53752759e-09 7.01592715e-09 6.52947950e-09 6.07588285e-09]\n"
     ]
    }
   ],
   "source": [
    "print(cn.n_dim())\n",
    "print(cn._normalized_term())\n",
    "print(cn.prob(X_input))"
   ]
  },
  {
   "cell_type": "markdown",
   "metadata": {},
   "source": [
    "Coupled Normal multiple distributions with batch vector size of 2"
   ]
  },
  {
   "cell_type": "code",
   "execution_count": 14,
   "metadata": {},
   "outputs": [
    {
     "data": {
      "text/plain": [
       "<nsc.distributions.CoupledNormal batch_shape=[2] event_shape=[]>"
      ]
     },
     "execution_count": 14,
     "metadata": {},
     "output_type": "execute_result"
    }
   ],
   "source": [
    "cn = CoupledNormal(loc=[0., 1.], scale=[1., 2.])\n",
    "cn"
   ]
  },
  {
   "cell_type": "code",
   "execution_count": 15,
   "metadata": {},
   "outputs": [
    {
     "name": "stdout",
     "output_type": "stream",
     "text": [
      "1\n",
      "[2.50662827 5.01325655]\n"
     ]
    }
   ],
   "source": [
    "print(cn.n_dim())\n",
    "print(cn._normalized_term())\n",
    "# print(cn.prob(X_input))"
   ]
  },
  {
   "cell_type": "markdown",
   "metadata": {},
   "source": [
    "Coupled Normal multiple distributions with batch matrix size of 3x2"
   ]
  },
  {
   "cell_type": "code",
   "execution_count": 16,
   "metadata": {},
   "outputs": [
    {
     "data": {
      "text/plain": [
       "<nsc.distributions.CoupledNormal batch_shape=[3, 2] event_shape=[]>"
      ]
     },
     "execution_count": 16,
     "metadata": {},
     "output_type": "execute_result"
    }
   ],
   "source": [
    "cn = CoupledNormal(loc=[[0., 1.], [0., 1.], [0., 1.]], scale=[[1., 2.], [1., 2.], [1., 2.]])\n",
    "cn"
   ]
  },
  {
   "cell_type": "markdown",
   "metadata": {},
   "source": [
    "Multivariate Coupled Normal distribution"
   ]
  },
  {
   "cell_type": "code",
   "execution_count": 17,
   "metadata": {},
   "outputs": [
    {
     "data": {
      "text/plain": [
       "<nsc.distributions.MultivariateCoupledNormal batch_shape=[] event_shape=[2]>"
      ]
     },
     "execution_count": 17,
     "metadata": {},
     "output_type": "execute_result"
    }
   ],
   "source": [
    "# batch_shape is [] while event_shape is [2]\n",
    "cn = MultivariateCoupledNormal(loc=[0., 1.], scale=[1., 2.])\n",
    "cn"
   ]
  },
  {
   "cell_type": "code",
   "execution_count": 18,
   "metadata": {},
   "outputs": [
    {
     "name": "stdout",
     "output_type": "stream",
     "text": [
      "2\n",
      "None\n"
     ]
    }
   ],
   "source": [
    "print(cn.n_dim())\n",
    "print(cn._normalized_term())\n",
    "# print(cn.prob(X_input))"
   ]
  },
  {
   "cell_type": "markdown",
   "metadata": {},
   "source": [
    "Multivariate Coupled Normal multiple distribution (i.e., batch size of 3)"
   ]
  },
  {
   "cell_type": "code",
   "execution_count": 19,
   "metadata": {},
   "outputs": [
    {
     "data": {
      "text/plain": [
       "<nsc.distributions.MultivariateCoupledNormal batch_shape=[3] event_shape=[2]>"
      ]
     },
     "execution_count": 19,
     "metadata": {},
     "output_type": "execute_result"
    }
   ],
   "source": [
    "cn = MultivariateCoupledNormal(loc=[[0., 1.], [1., 2.], [2., 3.]], \\\n",
    "                               scale=[[0., 1.], [2., 3.], [4., 5.]]\n",
    "                               )\n",
    "cn"
   ]
  },
  {
   "cell_type": "code",
   "execution_count": 20,
   "metadata": {},
   "outputs": [
    {
     "name": "stdout",
     "output_type": "stream",
     "text": [
      "2\n",
      "None\n"
     ]
    }
   ],
   "source": [
    "print(cn.n_dim())\n",
    "print(cn._normalized_term())\n",
    "# print(cn.prob(X_input))"
   ]
  },
  {
   "cell_type": "code",
   "execution_count": 21,
   "metadata": {},
   "outputs": [
    {
     "data": {
      "text/plain": [
       "1"
      ]
     },
     "execution_count": 21,
     "metadata": {},
     "output_type": "execute_result"
    }
   ],
   "source": [
    "cn = CoupledNormal(loc=[[0., 1., 0., 1.], [1., 2., 1., 2.], [2., 3., 2., 3.]], \\\n",
    "                   scale=[[0., 1., 0., 1.], [2., 3., 2., 3.], [4., 5., 4., 5.]]\n",
    "                   )\n",
    "cn.n_dim()"
   ]
  },
  {
   "cell_type": "code",
   "execution_count": 22,
   "metadata": {},
   "outputs": [
    {
     "name": "stdout",
     "output_type": "stream",
     "text": [
      "1\n",
      "[[ 0.          2.50662827  0.          2.50662827]\n",
      " [ 5.01325655  7.51988482  5.01325655  7.51988482]\n",
      " [10.0265131  12.53314137 10.0265131  12.53314137]]\n"
     ]
    }
   ],
   "source": [
    "print(cn.n_dim())\n",
    "print(cn._normalized_term())\n",
    "# print(cn.prob(X_input))"
   ]
  },
  {
   "cell_type": "code",
   "execution_count": null,
   "metadata": {},
   "outputs": [],
   "source": []
  }
 ],
 "metadata": {
  "kernelspec": {
   "display_name": "nsc",
   "language": "python",
   "name": "nsc"
  },
  "language_info": {
   "codemirror_mode": {
    "name": "ipython",
    "version": 3
   },
   "file_extension": ".py",
   "mimetype": "text/x-python",
   "name": "python",
   "nbconvert_exporter": "python",
   "pygments_lexer": "ipython3",
   "version": "3.7.9"
  }
 },
 "nbformat": 4,
 "nbformat_minor": 4
}
