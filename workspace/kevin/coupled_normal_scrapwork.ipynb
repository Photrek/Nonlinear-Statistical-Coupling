{
 "cells": [
  {
   "cell_type": "code",
   "execution_count": 1,
   "metadata": {},
   "outputs": [],
   "source": [
    "# !python3 -m pip uninstall tensorflow tensorflow-probability nsc -y\n",
    "# !python3 -m pip install tensorflow tensorflow-probability -q"
   ]
  },
  {
   "cell_type": "code",
   "execution_count": 2,
   "metadata": {},
   "outputs": [],
   "source": [
    "# !python3 -m pip uninstall nsc -y -q\n",
    "# !python3 -m pip install -i https://test.pypi.org/simple/ nsc -q"
   ]
  },
  {
   "cell_type": "code",
   "execution_count": 19,
   "metadata": {},
   "outputs": [],
   "source": [
    "import numpy as np\n",
    "import pandas as pd\n",
    "import matplotlib.pyplot as plt\n",
    "import seaborn as sns\n",
    "import scipy.stats as stats\n",
    "sns.set()\n",
    "from collections import defaultdict\n",
    "import math\n",
    "from typing import List\n",
    "\n",
    "# From nsc lib\n",
    "from nsc.util import function as nsc_func\n",
    "# from nsc.util.function import coupled_logarithm, coupled_exponential\n",
    "\n",
    "# import ipdb"
   ]
  },
  {
   "cell_type": "markdown",
   "metadata": {},
   "source": [
    "### 1) CoupledNormalDistribution function version"
   ]
  },
  {
   "cell_type": "code",
   "execution_count": 20,
   "metadata": {},
   "outputs": [],
   "source": [
    "def norm_CG(sigma, kappa):\n",
    "    if kappa == 0:\n",
    "        result = math.sqrt(2*math.pi) * sigma\n",
    "    elif kappa < 0:\n",
    "        result = math.sqrt(math.pi) * sigma * math.gamma((-1+kappa) / (2*kappa)) / float(math.sqrt(-1*kappa) * math.gamma(1 - (1 / (2*kappa))))\n",
    "    else:\n",
    "        result = math.sqrt(math.pi) * sigma * math.gamma(1 / (2*kappa)) / float(math.sqrt(kappa) * math.gamma((1+kappa)/(2*kappa)))\n",
    "  \n",
    "    return result"
   ]
  },
  {
   "cell_type": "code",
   "execution_count": 21,
   "metadata": {},
   "outputs": [],
   "source": [
    "def CoupledNormalDistribution(mean, sigma, kappa, alpha):\n",
    "    \"\"\"\n",
    "    Short description\n",
    "    \n",
    "    Inputs\n",
    "    ----------\n",
    "    x : Input variable in which the coupled logarithm is applied to.\n",
    "    mean : \n",
    "    sigma : \n",
    "    kappa : Coupling parameter which modifies the coupled logarithm function.\n",
    "    dim : The dimension of x, or rank if x is a tensor. Not needed?\n",
    "    \"\"\"\n",
    "\n",
    "    assert sigma > 0, \"std must be greater than 0.\"\n",
    "    assert alpha in [1, 2], \"alpha must be set to either 1 or 2.\"\n",
    "\n",
    "    \n",
    "    if kappa >= 0:\n",
    "        input = np.arange(mean-20, mean+20, (20+mean - -20+mean)/(2**16+1))\n",
    "    else:\n",
    "        x1 = mean - ((-1*sigma**2) / kappa)**0.5\n",
    "        x2 = mean + ((-1*sigma**2) / kappa)**0.5\n",
    "        input = np.arange(mean - ((-1*sigma**2) / kappa)**0.5, mean + ((-1*sigma**2) / kappa)**0.5, (x2-x1)/(2**16+1))\n",
    " \n",
    "    normCGvalue = 1/float(norm_CG(sigma, kappa))\n",
    "    \n",
    "    coupledNormalDistributionResult = normCGvalue * (nsc_func.coupled_exponential((input - mean)**2/sigma**2, kappa)) ** -0.5\n",
    "  \n",
    "    return coupledNormalDistributionResult"
   ]
  },
  {
   "cell_type": "code",
   "execution_count": 22,
   "metadata": {},
   "outputs": [],
   "source": [
    "kappa, alpha, dim = 0.5, 2, 1"
   ]
  },
  {
   "cell_type": "code",
   "execution_count": 23,
   "metadata": {},
   "outputs": [],
   "source": [
    "mu, sigma = 0, 1 # mean and standard deviation\n",
    "x = np.linspace(mu - 3*sigma, mu + 3*sigma, 100)\n",
    "y = CoupledNormalDistribution(mu, sigma, kappa, alpha)\n",
    "\n",
    "dx = np.arange(mu-20, mu+20, (20+mu - -20+mu)/(2**16+1))[1] - np.arange(mu-20, mu+20, (20+mu - -20+mu)/(2**16+1))[0]"
   ]
  },
  {
   "cell_type": "markdown",
   "metadata": {},
   "source": [
    "### 2) CoupledNormalDistribution class"
   ]
  },
  {
   "cell_type": "code",
   "execution_count": 24,
   "metadata": {},
   "outputs": [],
   "source": [
    "class CoupledNormal:\n",
    "    \"\"\"Coupled Normal Distribution.\n",
    "\n",
    "    This distribution has parameters: location `loc`, 'scale', coupling `kappa`,\n",
    "    and `alpha`.\n",
    "\n",
    "    \"\"\"\n",
    "    def __init__(self,\n",
    "                 loc: [int, float, List, np.ndarray],\n",
    "                 scale: [int, float, List, np.ndarray],\n",
    "                 kappa: [int, float] = 0.,\n",
    "                 alpha: int = 2,\n",
    "                 multivariate: bool = False,\n",
    "                 validate_args: bool = True,\n",
    "                 verbose: bool = True\n",
    "                 ):\n",
    "        loc = np.asarray(loc) if isinstance(loc, List) else loc\n",
    "        scale = np.asarray(scale) if isinstance(scale, List) else scale\n",
    "        if validate_args:\n",
    "            assert isinstance(loc, (int, float, np.ndarray)), \"loc must be either an int/float type for scalar, or an list/ndarray type for multidimensional.\"\n",
    "            assert isinstance(scale, (int, float, np.ndarray)), \"scale must be either an int/float type for scalar, or an list/ndarray type for multidimensional.\"\n",
    "            assert type(loc) == type(scale), \"loc and scale must be the same type.\"\n",
    "            if isinstance(loc, np.ndarray):\n",
    "                assert loc.shape == scale.shape, \"loc and scale must have the same dimensions (check respective .shape()).\"\n",
    "                assert np.all((scale >= 0)), \"All scale values must be greater or equal to 0.\"            \n",
    "            else:\n",
    "                assert scale >= 0, \"scale must be greater or equal to 0.\"            \n",
    "            assert isinstance(kappa, (int, float)), \"kappa must be an int or float type.\"\n",
    "            assert isinstance(alpha, int), \"alpha must be an int that equals to either 1 or 2.\"\n",
    "            assert alpha in [1, 2], \"alpha must be equal to either 1 or 2.\"\n",
    "        self.loc = loc\n",
    "        self.scale = scale\n",
    "        self.kappa = kappa\n",
    "        self.alpha = alpha\n",
    "        if verbose:\n",
    "            print(f\"<nsc.distributions.{self.__class__.__name__} batch_shape={self._batch_shape()} event_shape={self._event_shape()}>\")\n",
    "\n",
    "    def n_dim(self):\n",
    "        return 1 if self._event_shape() == [] else self._event_shape()[0]\n",
    "\n",
    "    def _batch_shape(self) -> List:\n",
    "        if self._rank(self.loc) == 0:\n",
    "            # return [] signifying single batch of a single distribution\n",
    "            return []\n",
    "        elif self.loc.shape[0] == 1:\n",
    "            # return [] signifying single batch of a multivariate distribution\n",
    "            return []\n",
    "        else:\n",
    "            # return [batch size]\n",
    "            return [self.loc.shape[0]]\n",
    "\n",
    "    def _event_shape(self) -> List:\n",
    "        if self._rank(self.loc) < 2:\n",
    "            # return [] signifying single random variable (regardless of batch size)\n",
    "            return []\n",
    "        else:\n",
    "            # return [n of random variables] when rank >= 2\n",
    "            return [self.loc.shape[-1]]\n",
    "\n",
    "    def _rank(self, value: [int, float, np.ndarray]) -> int:\n",
    "        # specify the rank of a given value, with rank=0 for a scalar and rank=ndim for an ndarray\n",
    "        if isinstance(value, (int, float)):\n",
    "            return 0 \n",
    "        else:\n",
    "            return len(value.shape)\n",
    "\n",
    "    def prob(self, X: [List, np.ndarray]):\n",
    "        # Check whether input X is valid\n",
    "        X = np.asarray(X) if isinstance(X, List) else X\n",
    "        assert isinstance(X, np.ndarray), \"X must be a List or np.ndarray.\"\n",
    "        # assert type(X[0]) == type(self.loc), \"X samples must be the same type as loc and scale.\"\n",
    "        if isinstance(X[0], np.ndarray):\n",
    "            assert X[0].shape == self.loc.shape, \"X samples must have the same dimensions as loc and scale (check respective .shape()).\"\n",
    "        # Calculate PDF with input X\n",
    "        X_norm = (X-self.loc)**2 / self.scale**2\n",
    "        norm_term = self._normalized_term()\n",
    "        p = (coupled_exponential(X_norm, self.kappa))**-0.5 / norm_term\n",
    "        # normCGvalue =  1/float(norm_CG(scale, kappa))\n",
    "        # coupledNormalDistributionResult = normCGvalue * (coupled_exponential(y, kappa)) ** -0.5\n",
    "        return p\n",
    "\n",
    "    # Normalization of 1-D Coupled Gaussian (NormCG)\n",
    "    def _normalized_term(self) -> [int, float, np.ndarray]:\n",
    "        if self.kappa == 0:\n",
    "            norm_term = math.sqrt(2*math.pi) * self.scale\n",
    "        elif self.kappa < 0:\n",
    "            gamma_num = math.gamma(self.kappa-1) / (2*self.kappa)\n",
    "            gamma_dem = math.gamma(1 - (1 / (2*self.kappa)))\n",
    "            norm_term = (math.sqrt(math.pi)*self.scale*gamma_num) / float(math.sqrt(-1*self.kappa)*gamma_dem)\n",
    "        else:\n",
    "            gamma_num = math.gamma(1 / (2*self.kappa))\n",
    "            gamma_dem = math.gamma((1+self.kappa)/(2*self.kappa))\n",
    "            norm_term = (math.sqrt(math.pi)*self.scale*gamma_num) / float(math.sqrt(self.kappa)*gamma_dem)\n",
    "        return norm_term\n",
    "\n",
    "    def _class_name(self) -> str:\n",
    "        return self.__class__.split('.')[-1]"
   ]
  },
  {
   "cell_type": "code",
   "execution_count": 25,
   "metadata": {},
   "outputs": [],
   "source": [
    "class MultivariateCoupledNormal(CoupledNormal):\n",
    "    \"\"\"Coupled Normal Distribution.\n",
    "\n",
    "    This distribution has parameters: location `loc`, 'scale', coupling `kappa`,\n",
    "    and `alpha`.\n",
    "\n",
    "    \"\"\""
   ]
  },
  {
   "cell_type": "markdown",
   "metadata": {},
   "source": [
    "***Test***"
   ]
  },
  {
   "cell_type": "code",
   "execution_count": 26,
   "metadata": {},
   "outputs": [],
   "source": [
    "mu, sigma, kappa, alpha = 0., 1., 0.5, 2\n",
    "# X_input = np.arange(mu-20., mu+20., (20.+mu - -20.+mu)/(2.**16.+1.), dtype=float)\n",
    "six_sigma = 6.*sigma\n",
    "# X_input = np.arange(mu-6.*sigma, mu+6.*sigma, (20.+mu - -20.+mu)/(2.**16.+1.), dtype=float)\n",
    "X_input = np.linspace(mu-six_sigma, mu+six_sigma, 1000)"
   ]
  },
  {
   "cell_type": "code",
   "execution_count": 27,
   "metadata": {},
   "outputs": [
    {
     "data": {
      "text/plain": [
       "(1000,)"
      ]
     },
     "execution_count": 27,
     "metadata": {},
     "output_type": "execute_result"
    }
   ],
   "source": [
    "X_input.shape"
   ]
  },
  {
   "cell_type": "markdown",
   "metadata": {},
   "source": [
    "Coupled Normal distribution"
   ]
  },
  {
   "cell_type": "code",
   "execution_count": 28,
   "metadata": {},
   "outputs": [
    {
     "name": "stdout",
     "output_type": "stream",
     "text": [
      "<nsc.distributions.CoupledNormal batch_shape=[] event_shape=[]>\n"
     ]
    }
   ],
   "source": [
    "cn = CoupledNormal(loc=mu, scale=sigma)"
   ]
  },
  {
   "cell_type": "code",
   "execution_count": 29,
   "metadata": {},
   "outputs": [
    {
     "name": "stdout",
     "output_type": "stream",
     "text": [
      "1\n",
      "2.5066282746310002\n",
      "[0.00481703 0.00484454 0.00487226 0.00490019 0.00492833 0.00495668\n",
      " 0.00498524 0.00501403 0.00504303 0.00507225 0.00510169 0.00513136\n",
      " 0.00516126 0.00519139 0.00522174 0.00525234 0.00528316 0.00531423\n",
      " 0.00534553 0.00537708 0.00540888 0.00544092 0.00547321 0.00550575\n",
      " 0.00553855 0.0055716  0.00560491 0.00563849 0.00567233 0.00570644\n",
      " 0.00574081 0.00577546 0.00581038 0.00584559 0.00588107 0.00591683\n",
      " 0.00595288 0.00598922 0.00602585 0.00606278 0.0061     0.00613753\n",
      " 0.00617535 0.00621348 0.00625193 0.00629068 0.00632975 0.00636914\n",
      " 0.00640885 0.00644889 0.00648925 0.00652995 0.00657098 0.00661235\n",
      " 0.00665406 0.00669611 0.00673852 0.00678128 0.00682439 0.00686786\n",
      " 0.0069117  0.00695591 0.00700048 0.00704543 0.00709076 0.00713647\n",
      " 0.00718257 0.00722906 0.00727594 0.00732322 0.0073709  0.00741899\n",
      " 0.0074675  0.00751641 0.00756575 0.00761551 0.0076657  0.00771633\n",
      " 0.00776739 0.00781889 0.00787085 0.00792325 0.00797611 0.00802944\n",
      " 0.00808323 0.00813749 0.00819223 0.00824745 0.00830315 0.00835936\n",
      " 0.00841605 0.00847325 0.00853096 0.00858919 0.00864793 0.0087072\n",
      " 0.008767   0.00882734 0.00888822 0.00894965 0.00901164 0.00907418\n",
      " 0.00913729 0.00920098 0.00926525 0.0093301  0.00939555 0.00946159\n",
      " 0.00952825 0.00959551 0.0096634  0.00973191 0.00980106 0.00987085\n",
      " 0.00994128 0.01001238 0.01008413 0.01015656 0.01022967 0.01030346\n",
      " 0.01037795 0.01045314 0.01052903 0.01060565 0.010683   0.01076108\n",
      " 0.0108399  0.01091948 0.01099981 0.01108092 0.01116281 0.01124548\n",
      " 0.01132895 0.01141323 0.01149832 0.01158424 0.011671   0.0117586\n",
      " 0.01184706 0.01193638 0.01202658 0.01211766 0.01220964 0.01230253\n",
      " 0.01239634 0.01249108 0.01258676 0.01268339 0.01278098 0.01287955\n",
      " 0.01297911 0.01307967 0.01318124 0.01328383 0.01338745 0.01349213\n",
      " 0.01359787 0.01370468 0.01381259 0.01392159 0.01403171 0.01414296\n",
      " 0.01425535 0.0143689  0.01448362 0.01459952 0.01471663 0.01483496\n",
      " 0.01495451 0.01507531 0.01519738 0.01532072 0.01544536 0.01557131\n",
      " 0.01569859 0.01582722 0.0159572  0.01608857 0.01622133 0.01635551\n",
      " 0.01649112 0.01662818 0.01676671 0.01690674 0.01704827 0.01719133\n",
      " 0.01733594 0.01748212 0.01762988 0.01777926 0.01793026 0.01808292\n",
      " 0.01823725 0.01839328 0.01855103 0.01871052 0.01887177 0.01903481\n",
      " 0.01919966 0.01936635 0.01953489 0.01970533 0.01987767 0.02005195\n",
      " 0.02022819 0.02040641 0.02058666 0.02076894 0.0209533  0.02113975\n",
      " 0.02132833 0.02151906 0.02171199 0.02190712 0.0221045  0.02230416\n",
      " 0.02250612 0.02271043 0.0229171  0.02312618 0.02333769 0.02355168\n",
      " 0.02376817 0.02398721 0.02420882 0.02443304 0.0246599  0.02488946\n",
      " 0.02512174 0.02535678 0.02559461 0.02583529 0.02607885 0.02632533\n",
      " 0.02657477 0.02682722 0.02708271 0.02734129 0.02760301 0.0278679\n",
      " 0.02813602 0.02840741 0.02868212 0.0289602  0.02924169 0.02952664\n",
      " 0.0298151  0.03010713 0.03040277 0.03070209 0.03100512 0.03131193\n",
      " 0.03162257 0.0319371  0.03225557 0.03257804 0.03290457 0.03323522\n",
      " 0.03357005 0.03390912 0.0342525  0.03460024 0.03495242 0.03530909\n",
      " 0.03567032 0.03603619 0.03640676 0.03678209 0.03716227 0.03754736\n",
      " 0.03793744 0.03833258 0.03873285 0.03913834 0.03954912 0.03996527\n",
      " 0.04038687 0.040814   0.04124675 0.0416852  0.04212944 0.04257955\n",
      " 0.04303562 0.04349774 0.043966   0.0444405  0.04492133 0.04540858\n",
      " 0.04590236 0.04640276 0.04690988 0.04742382 0.04794469 0.04847259\n",
      " 0.04900763 0.04954991 0.05009955 0.05065666 0.05122134 0.05179373\n",
      " 0.05237392 0.05296205 0.05355822 0.05416257 0.05477522 0.05539629\n",
      " 0.05602591 0.0566642  0.05731131 0.05796736 0.05863249 0.05930683\n",
      " 0.05999053 0.06068373 0.06138656 0.06209917 0.06282172 0.06355434\n",
      " 0.0642972  0.06505043 0.06581421 0.06658867 0.067374   0.06817033\n",
      " 0.06897785 0.06979671 0.07062708 0.07146913 0.07232303 0.07318896\n",
      " 0.07406709 0.0749576  0.07586067 0.07677648 0.07770521 0.07864705\n",
      " 0.0796022  0.08057082 0.08155313 0.08254931 0.08355956 0.08458408\n",
      " 0.08562306 0.08667671 0.08774522 0.08882881 0.08992767 0.09104202\n",
      " 0.09217207 0.09331802 0.09448008 0.09565848 0.09685341 0.09806511\n",
      " 0.09929377 0.10053963 0.1018029  0.10308379 0.10438252 0.10569932\n",
      " 0.10703441 0.108388   0.10976031 0.11115156 0.11256197 0.11399176\n",
      " 0.11544115 0.11691034 0.11839957 0.11990904 0.12143896 0.12298955\n",
      " 0.12456101 0.12615354 0.12776736 0.12940266 0.13105964 0.13273848\n",
      " 0.13443939 0.13616254 0.13790811 0.13967629 0.14146723 0.14328111\n",
      " 0.14511807 0.14697828 0.14886187 0.15076898 0.15269973 0.15465426\n",
      " 0.15663266 0.15863503 0.16066147 0.16271206 0.16478685 0.16688592\n",
      " 0.16900929 0.171157   0.17332907 0.17552549 0.17774624 0.17999131\n",
      " 0.18226064 0.18455417 0.1868718  0.18921345 0.19157898 0.19396825\n",
      " 0.1963811  0.19881735 0.20127677 0.20375914 0.2062642  0.20879166\n",
      " 0.21134121 0.21391251 0.2165052  0.21911888 0.22175313 0.22440748\n",
      " 0.22708145 0.22977452 0.23248613 0.2352157  0.23796261 0.24072619\n",
      " 0.24350575 0.24630056 0.24910985 0.25193281 0.25476861 0.25761634\n",
      " 0.26047509 0.26334388 0.26622172 0.26910756 0.2720003  0.27489882\n",
      " 0.27780195 0.28070846 0.28361712 0.28652661 0.2894356  0.29234271\n",
      " 0.29524653 0.29814559 0.3010384  0.30392341 0.30679906 0.30966372\n",
      " 0.31251576 0.31535349 0.3181752  0.32097913 0.32376351 0.32652653\n",
      " 0.32926636 0.33198115 0.33466901 0.33732805 0.33995634 0.34255194\n",
      " 0.34511293 0.34763733 0.35012318 0.35256851 0.35497136 0.35732975\n",
      " 0.35964172 0.36190532 0.3641186  0.36627962 0.3683865  0.37043732\n",
      " 0.37243024 0.37436342 0.37623505 0.37804339 0.37978669 0.38146329\n",
      " 0.38307155 0.3846099  0.3860768  0.38747078 0.38879045 0.39003446\n",
      " 0.39120153 0.39229046 0.39330012 0.39422945 0.39507747 0.3958433\n",
      " 0.39652611 0.39712519 0.39763988 0.39806964 0.39841401 0.39867261\n",
      " 0.39884516 0.39893149 0.39893149 0.39884516 0.39867261 0.39841401\n",
      " 0.39806964 0.39763988 0.39712519 0.39652611 0.3958433  0.39507747\n",
      " 0.39422945 0.39330012 0.39229046 0.39120153 0.39003446 0.38879045\n",
      " 0.38747078 0.3860768  0.3846099  0.38307155 0.38146329 0.37978669\n",
      " 0.37804339 0.37623505 0.37436342 0.37243024 0.37043732 0.3683865\n",
      " 0.36627962 0.3641186  0.36190532 0.35964172 0.35732975 0.35497136\n",
      " 0.35256851 0.35012318 0.34763733 0.34511293 0.34255194 0.33995634\n",
      " 0.33732805 0.33466901 0.33198115 0.32926636 0.32652653 0.32376351\n",
      " 0.32097913 0.3181752  0.31535349 0.31251576 0.30966372 0.30679906\n",
      " 0.30392341 0.3010384  0.29814559 0.29524653 0.29234271 0.2894356\n",
      " 0.28652661 0.28361712 0.28070846 0.27780195 0.27489882 0.2720003\n",
      " 0.26910756 0.26622172 0.26334388 0.26047509 0.25761634 0.25476861\n",
      " 0.25193281 0.24910985 0.24630056 0.24350575 0.24072619 0.23796261\n",
      " 0.2352157  0.23248613 0.22977452 0.22708145 0.22440748 0.22175313\n",
      " 0.21911888 0.2165052  0.21391251 0.21134121 0.20879166 0.2062642\n",
      " 0.20375914 0.20127677 0.19881735 0.1963811  0.19396825 0.19157898\n",
      " 0.18921345 0.1868718  0.18455417 0.18226064 0.17999131 0.17774624\n",
      " 0.17552549 0.17332907 0.171157   0.16900929 0.16688592 0.16478685\n",
      " 0.16271206 0.16066147 0.15863503 0.15663266 0.15465426 0.15269973\n",
      " 0.15076898 0.14886187 0.14697828 0.14511807 0.14328111 0.14146723\n",
      " 0.13967629 0.13790811 0.13616254 0.13443939 0.13273848 0.13105964\n",
      " 0.12940266 0.12776736 0.12615354 0.12456101 0.12298955 0.12143896\n",
      " 0.11990904 0.11839957 0.11691034 0.11544115 0.11399176 0.11256197\n",
      " 0.11115156 0.10976031 0.108388   0.10703441 0.10569932 0.10438252\n",
      " 0.10308379 0.1018029  0.10053963 0.09929377 0.09806511 0.09685341\n",
      " 0.09565848 0.09448008 0.09331802 0.09217207 0.09104202 0.08992767\n",
      " 0.08882881 0.08774522 0.08667671 0.08562306 0.08458408 0.08355956\n",
      " 0.08254931 0.08155313 0.08057082 0.0796022  0.07864705 0.07770521\n",
      " 0.07677648 0.07586067 0.0749576  0.07406709 0.07318896 0.07232303\n",
      " 0.07146913 0.07062708 0.06979671 0.06897785 0.06817033 0.067374\n",
      " 0.06658867 0.06581421 0.06505043 0.0642972  0.06355434 0.06282172\n",
      " 0.06209917 0.06138656 0.06068373 0.05999053 0.05930683 0.05863249\n",
      " 0.05796736 0.05731131 0.0566642  0.05602591 0.05539629 0.05477522\n",
      " 0.05416257 0.05355822 0.05296205 0.05237392 0.05179373 0.05122134\n",
      " 0.05065666 0.05009955 0.04954991 0.04900763 0.04847259 0.04794469\n",
      " 0.04742382 0.04690988 0.04640276 0.04590236 0.04540858 0.04492133\n",
      " 0.0444405  0.043966   0.04349774 0.04303562 0.04257955 0.04212944\n",
      " 0.0416852  0.04124675 0.040814   0.04038687 0.03996527 0.03954912\n",
      " 0.03913834 0.03873285 0.03833258 0.03793744 0.03754736 0.03716227\n",
      " 0.03678209 0.03640676 0.03603619 0.03567032 0.03530909 0.03495242\n",
      " 0.03460024 0.0342525  0.03390912 0.03357005 0.03323522 0.03290457\n",
      " 0.03257804 0.03225557 0.0319371  0.03162257 0.03131193 0.03100512\n",
      " 0.03070209 0.03040277 0.03010713 0.0298151  0.02952664 0.02924169\n",
      " 0.0289602  0.02868212 0.02840741 0.02813602 0.0278679  0.02760301\n",
      " 0.02734129 0.02708271 0.02682722 0.02657477 0.02632533 0.02607885\n",
      " 0.02583529 0.02559461 0.02535678 0.02512174 0.02488946 0.0246599\n",
      " 0.02443304 0.02420882 0.02398721 0.02376817 0.02355168 0.02333769\n",
      " 0.02312618 0.0229171  0.02271043 0.02250612 0.02230416 0.0221045\n",
      " 0.02190712 0.02171199 0.02151906 0.02132833 0.02113975 0.0209533\n",
      " 0.02076894 0.02058666 0.02040641 0.02022819 0.02005195 0.01987767\n",
      " 0.01970533 0.01953489 0.01936635 0.01919966 0.01903481 0.01887177\n",
      " 0.01871052 0.01855103 0.01839328 0.01823725 0.01808292 0.01793026\n",
      " 0.01777926 0.01762988 0.01748212 0.01733594 0.01719133 0.01704827\n",
      " 0.01690674 0.01676671 0.01662818 0.01649112 0.01635551 0.01622133\n",
      " 0.01608857 0.0159572  0.01582722 0.01569859 0.01557131 0.01544536\n",
      " 0.01532072 0.01519738 0.01507531 0.01495451 0.01483496 0.01471663\n",
      " 0.01459952 0.01448362 0.0143689  0.01425535 0.01414296 0.01403171\n",
      " 0.01392159 0.01381259 0.01370468 0.01359787 0.01349213 0.01338745\n",
      " 0.01328383 0.01318124 0.01307967 0.01297911 0.01287955 0.01278098\n",
      " 0.01268339 0.01258676 0.01249108 0.01239634 0.01230253 0.01220964\n",
      " 0.01211766 0.01202658 0.01193638 0.01184706 0.0117586  0.011671\n",
      " 0.01158424 0.01149832 0.01141323 0.01132895 0.01124548 0.01116281\n",
      " 0.01108092 0.01099981 0.01091948 0.0108399  0.01076108 0.010683\n",
      " 0.01060565 0.01052903 0.01045314 0.01037795 0.01030346 0.01022967\n",
      " 0.01015656 0.01008413 0.01001238 0.00994128 0.00987085 0.00980106\n",
      " 0.00973191 0.0096634  0.00959551 0.00952825 0.00946159 0.00939555\n",
      " 0.0093301  0.00926525 0.00920098 0.00913729 0.00907418 0.00901164\n",
      " 0.00894965 0.00888822 0.00882734 0.008767   0.0087072  0.00864793\n",
      " 0.00858919 0.00853096 0.00847325 0.00841605 0.00835936 0.00830315\n",
      " 0.00824745 0.00819223 0.00813749 0.00808323 0.00802944 0.00797611\n",
      " 0.00792325 0.00787085 0.00781889 0.00776739 0.00771633 0.0076657\n",
      " 0.00761551 0.00756575 0.00751641 0.0074675  0.00741899 0.0073709\n",
      " 0.00732322 0.00727594 0.00722906 0.00718257 0.00713647 0.00709076\n",
      " 0.00704543 0.00700048 0.00695591 0.0069117  0.00686786 0.00682439\n",
      " 0.00678128 0.00673852 0.00669611 0.00665406 0.00661235 0.00657098\n",
      " 0.00652995 0.00648925 0.00644889 0.00640885 0.00636914 0.00632975\n",
      " 0.00629068 0.00625193 0.00621348 0.00617535 0.00613753 0.0061\n",
      " 0.00606278 0.00602585 0.00598922 0.00595288 0.00591683 0.00588107\n",
      " 0.00584559 0.00581038 0.00577546 0.00574081 0.00570644 0.00567233\n",
      " 0.00563849 0.00560491 0.0055716  0.00553855 0.00550575 0.00547321\n",
      " 0.00544092 0.00540888 0.00537708 0.00534553 0.00531423 0.00528316\n",
      " 0.00525234 0.00522174 0.00519139 0.00516126 0.00513136 0.00510169\n",
      " 0.00507225 0.00504303 0.00501403 0.00498524 0.00495668 0.00492833\n",
      " 0.00490019 0.00487226 0.00484454 0.00481703]\n"
     ]
    }
   ],
   "source": [
    "print(cn.n_dim())\n",
    "print(cn._normalized_term())\n",
    "print(cn.prob(X_input))"
   ]
  },
  {
   "cell_type": "markdown",
   "metadata": {},
   "source": [
    "Coupled Normal multiple distributions (i.e., batch size of 2)"
   ]
  },
  {
   "cell_type": "code",
   "execution_count": 8,
   "metadata": {},
   "outputs": [
    {
     "name": "stdout",
     "output_type": "stream",
     "text": [
      "<nsc.distributions.CoupledNormal batch_shape=[2] event_shape=[]>\n"
     ]
    }
   ],
   "source": [
    "cn = CoupledNormal(loc=[0., 1.], scale=[1., 2.])"
   ]
  },
  {
   "cell_type": "code",
   "execution_count": 15,
   "metadata": {},
   "outputs": [
    {
     "name": "stdout",
     "output_type": "stream",
     "text": [
      "1\n",
      "[2.50662827 5.01325655]\n"
     ]
    }
   ],
   "source": [
    "print(cn.n_dim())\n",
    "print(cn._normalized_term())\n",
    "# print(cn.prob(X_input))"
   ]
  },
  {
   "cell_type": "markdown",
   "metadata": {},
   "source": [
    "Multivariate Coupled Normal distribution"
   ]
  },
  {
   "cell_type": "code",
   "execution_count": 16,
   "metadata": {},
   "outputs": [
    {
     "name": "stdout",
     "output_type": "stream",
     "text": [
      "<nsc.distributions.CoupledNormal batch_shape=[] event_shape=[2]>\n"
     ]
    }
   ],
   "source": [
    "# use double brackets to signify multiple multivariate\n",
    "cn = CoupledNormal(loc=[[0., 1.]], scale=[[1., 2.]])"
   ]
  },
  {
   "cell_type": "code",
   "execution_count": 17,
   "metadata": {},
   "outputs": [
    {
     "name": "stdout",
     "output_type": "stream",
     "text": [
      "2\n",
      "[[2.50662827 5.01325655]]\n"
     ]
    }
   ],
   "source": [
    "print(cn.n_dim())\n",
    "print(cn._normalized_term())\n",
    "# print(cn.prob(X_input))"
   ]
  },
  {
   "cell_type": "markdown",
   "metadata": {},
   "source": [
    "Multivariate Coupled Normal multiple distribution (i.e., batch size of 3)"
   ]
  },
  {
   "cell_type": "code",
   "execution_count": 18,
   "metadata": {},
   "outputs": [
    {
     "name": "stdout",
     "output_type": "stream",
     "text": [
      "<nsc.distributions.CoupledNormal batch_shape=[3] event_shape=[2]>\n"
     ]
    },
    {
     "data": {
      "text/plain": [
       "2"
      ]
     },
     "execution_count": 18,
     "metadata": {},
     "output_type": "execute_result"
    }
   ],
   "source": [
    "cn = CoupledNormal(loc=[[0., 1.], [1., 2.], [2., 3.]], \\\n",
    "                   scale=[[0., 1.], [2., 3.], [4., 5.]]\n",
    "                   )\n",
    "cn.n_dim()"
   ]
  },
  {
   "cell_type": "code",
   "execution_count": 19,
   "metadata": {},
   "outputs": [
    {
     "name": "stdout",
     "output_type": "stream",
     "text": [
      "2\n",
      "[[ 0.          2.50662827]\n",
      " [ 5.01325655  7.51988482]\n",
      " [10.0265131  12.53314137]]\n"
     ]
    }
   ],
   "source": [
    "print(cn.n_dim())\n",
    "print(cn._normalized_term())\n",
    "# print(cn.prob(X_input))"
   ]
  },
  {
   "cell_type": "code",
   "execution_count": 20,
   "metadata": {},
   "outputs": [
    {
     "name": "stdout",
     "output_type": "stream",
     "text": [
      "<nsc.distributions.CoupledNormal batch_shape=[3] event_shape=[4]>\n"
     ]
    },
    {
     "data": {
      "text/plain": [
       "4"
      ]
     },
     "execution_count": 20,
     "metadata": {},
     "output_type": "execute_result"
    }
   ],
   "source": [
    "cn = CoupledNormal(loc=[[0., 1., 0., 1.], [1., 2., 1., 2.], [2., 3., 2., 3.]], \\\n",
    "                   scale=[[0., 1., 0., 1.], [2., 3., 2., 3.], [4., 5., 4., 5.]]\n",
    "                   )\n",
    "cn.n_dim()"
   ]
  },
  {
   "cell_type": "code",
   "execution_count": 21,
   "metadata": {},
   "outputs": [
    {
     "name": "stdout",
     "output_type": "stream",
     "text": [
      "4\n",
      "[[ 0.          2.50662827  0.          2.50662827]\n",
      " [ 5.01325655  7.51988482  5.01325655  7.51988482]\n",
      " [10.0265131  12.53314137 10.0265131  12.53314137]]\n"
     ]
    }
   ],
   "source": [
    "print(cn.n_dim())\n",
    "print(cn._normalized_term())\n",
    "# print(cn.prob(X_input))"
   ]
  },
  {
   "cell_type": "code",
   "execution_count": null,
   "metadata": {},
   "outputs": [],
   "source": []
  }
 ],
 "metadata": {
  "kernelspec": {
   "display_name": "nsc",
   "language": "python",
   "name": "nsc"
  },
  "language_info": {
   "codemirror_mode": {
    "name": "ipython",
    "version": 3
   },
   "file_extension": ".py",
   "mimetype": "text/x-python",
   "name": "python",
   "nbconvert_exporter": "python",
   "pygments_lexer": "ipython3",
   "version": "3.7.9"
  }
 },
 "nbformat": 4,
 "nbformat_minor": 4
}
