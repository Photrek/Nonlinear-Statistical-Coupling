{
 "cells": [
  {
   "cell_type": "code",
   "execution_count": 1,
   "metadata": {},
   "outputs": [],
   "source": [
    "# !python3 -m pip uninstall tensorflow tensorflow-probability nsc -y\n",
    "# !python3 -m pip install tensorflow tensorflow-probability -q"
   ]
  },
  {
   "cell_type": "code",
   "execution_count": 2,
   "metadata": {},
   "outputs": [],
   "source": [
    "# !python3 -m pip uninstall nsc -y -q\n",
    "# !python3 -m pip install -i https://test.pypi.org/simple/ nsc -q"
   ]
  },
  {
   "cell_type": "code",
   "execution_count": 3,
   "metadata": {},
   "outputs": [
    {
     "name": "stdout",
     "output_type": "stream",
     "text": [
      "Importing NSC lib v0.0.2.14.\n"
     ]
    }
   ],
   "source": [
    "import math\n",
    "import numpy as np\n",
    "import pandas as pd\n",
    "import matplotlib.pyplot as plt\n",
    "import seaborn as sns\n",
    "sns.set()\n",
    "import scipy\n",
    "from scipy.special import beta, gamma\n",
    "from collections import defaultdict\n",
    "from typing import List\n",
    "\n",
    "# From nsc lib\n",
    "import nsc\n",
    "from nsc import distributions as nsd\n",
    "from nsc.util import function as nsc_func\n",
    "from nsc.util.function import coupled_logarithm, coupled_exponential\n",
    "# nsd = nsc.distributions"
   ]
  },
  {
   "cell_type": "markdown",
   "metadata": {},
   "source": [
    "### 1) CoupledNormalDistribution function version"
   ]
  },
  {
   "cell_type": "code",
   "execution_count": 4,
   "metadata": {},
   "outputs": [],
   "source": [
    "def norm_CG(sigma, kappa):\n",
    "    if kappa == 0:\n",
    "        result = math.sqrt(2*math.pi) * sigma\n",
    "    elif kappa < 0:\n",
    "        result = math.sqrt(math.pi) * sigma * math.gamma((-1+kappa) / (2*kappa)) / float(math.sqrt(-1*kappa) * math.gamma(1 - (1 / (2*kappa))))\n",
    "    else:\n",
    "        result = math.sqrt(math.pi) * sigma * math.gamma(1 / (2*kappa)) / float(math.sqrt(kappa) * math.gamma((1+kappa)/(2*kappa)))\n",
    "  \n",
    "    return result"
   ]
  },
  {
   "cell_type": "code",
   "execution_count": 5,
   "metadata": {},
   "outputs": [],
   "source": [
    "def CoupledNormalDistribution(mean, sigma, kappa, alpha):\n",
    "    \"\"\"\n",
    "    Short description\n",
    "    \n",
    "    Inputs\n",
    "    ----------\n",
    "    x : Input variable in which the coupled logarithm is applied to.\n",
    "    mean : \n",
    "    sigma : \n",
    "    kappa : Coupling parameter which modifies the coupled logarithm function.\n",
    "    dim : The dimension of x, or rank if x is a tensor. Not needed?\n",
    "    \"\"\"\n",
    "\n",
    "    assert sigma > 0, \"std must be greater than 0.\"\n",
    "    assert alpha in [1, 2], \"alpha must be set to either 1 or 2.\"\n",
    "\n",
    "    \n",
    "    if kappa >= 0:\n",
    "        input = np.arange(mean-20, mean+20, (20+mean - -20+mean)/(2**16+1))\n",
    "    else:\n",
    "        x1 = mean - ((-1*sigma**2) / kappa)**0.5\n",
    "        x2 = mean + ((-1*sigma**2) / kappa)**0.5\n",
    "        input = np.arange(mean - ((-1*sigma**2) / kappa)**0.5, mean + ((-1*sigma**2) / kappa)**0.5, (x2-x1)/(2**16+1))\n",
    " \n",
    "    normCGvalue = 1/float(norm_CG(sigma, kappa))\n",
    "    \n",
    "    coupledNormalDistributionResult = normCGvalue * (coupled_exponential((input - mean)**2/sigma**2, kappa)) ** -0.5\n",
    "  \n",
    "    return coupledNormalDistributionResult"
   ]
  },
  {
   "cell_type": "code",
   "execution_count": 6,
   "metadata": {},
   "outputs": [],
   "source": [
    "kappa, alpha, dim = 0.5, 2, 1"
   ]
  },
  {
   "cell_type": "code",
   "execution_count": 7,
   "metadata": {},
   "outputs": [],
   "source": [
    "mu, sigma = 0, 1 # mean and standard deviation\n",
    "x = np.linspace(mu - 3*sigma, mu + 3*sigma, 100)\n",
    "y = CoupledNormalDistribution(mu, sigma, kappa, alpha)\n",
    "\n",
    "dx = np.arange(mu-20, mu+20, (20+mu - -20+mu)/(2**16+1))[1] - np.arange(mu-20, mu+20, (20+mu - -20+mu)/(2**16+1))[0]"
   ]
  },
  {
   "cell_type": "markdown",
   "metadata": {},
   "source": [
    "### 2) CoupledNormalDistribution class"
   ]
  },
  {
   "cell_type": "code",
   "execution_count": 8,
   "metadata": {},
   "outputs": [],
   "source": [
    "import numpy as np\n",
    "import math\n",
    "from typing import List\n",
    "\n",
    "\n",
    "# From nsc lib\n",
    "import nsc\n",
    "from nsc import distributions as nsd\n",
    "from nsc.util import function as nsc_func\n",
    "from nsc.util.function import coupled_logarithm, coupled_exponential\n",
    "# nsd = nsc.distributions\n",
    "\n",
    "import ipdb"
   ]
  },
  {
   "cell_type": "code",
   "execution_count": 9,
   "metadata": {},
   "outputs": [],
   "source": [
    "class CoupledNormal:\n",
    "    \"\"\"Coupled Normal Distribution.\n",
    "\n",
    "    This distribution has parameters: location `loc`, 'scale', coupling `kappa`,\n",
    "    and `alpha`.\n",
    "\n",
    "    \"\"\"\n",
    "    def __init__(self,\n",
    "                 loc: [int, float, List, np.ndarray],\n",
    "                 scale: [int, float, List, np.ndarray],\n",
    "                 kappa: [int, float] = 0.,\n",
    "                 alpha: int = 2,\n",
    "                 validate_args: bool = True\n",
    "                 ):\n",
    "        loc = np.asarray(loc) if isinstance(loc, List) else loc\n",
    "        scale = np.asarray(scale) if isinstance(scale, List) else scale\n",
    "        if validate_args:\n",
    "            assert isinstance(loc, (int, float, np.ndarray)), \"loc must be either an int/float type for scalar, or an list/ndarray type for multidimensional.\"\n",
    "            assert isinstance(scale, (int, float, np.ndarray)), \"scale must be either an int/float type for scalar, or an list/ndarray type for multidimensional.\"\n",
    "            assert type(loc) == type(scale), \"loc and scale must be the same type.\"\n",
    "            if isinstance(loc, np.ndarray):\n",
    "                # assert loc.shape == scale.shape, \"loc and scale must have the same dimensions (check respective .shape()).\"\n",
    "                assert np.all((scale >= 0)), \"All scale values must be greater or equal to 0.\"            \n",
    "            else:\n",
    "                assert scale >= 0, \"scale must be greater or equal to 0.\"            \n",
    "            assert isinstance(kappa, (int, float)), \"kappa must be an int or float type.\"\n",
    "            assert isinstance(alpha, int), \"alpha must be an int that equals to either 1 or 2.\"\n",
    "            assert alpha in [1, 2], \"alpha must be equal to either 1 or 2.\"\n",
    "        self._loc = loc\n",
    "        self._scale = scale\n",
    "        self._kappa = kappa\n",
    "        self._alpha = alpha\n",
    "        self._dim = self._n_dim()\n",
    "\n",
    "    @property\n",
    "    def loc(self):\n",
    "        return self._loc\n",
    "\n",
    "    @property\n",
    "    def scale(self):\n",
    "        return self._scale\n",
    "\n",
    "    @property\n",
    "    def kappa(self):\n",
    "        return self._kappa\n",
    "\n",
    "    @property\n",
    "    def alpha(self):\n",
    "        return self._alpha\n",
    "\n",
    "    @property\n",
    "    def dim(self):\n",
    "        return self._dim\n",
    "    \n",
    "    def _n_dim(self):\n",
    "        return 1 if self._event_shape() == [] else self._event_shape()[0]\n",
    "\n",
    "    def _batch_shape(self) -> List:\n",
    "        if self._rank(self._loc) == 0:\n",
    "            # return [] signifying single batch of a single distribution\n",
    "            return []\n",
    "        else:\n",
    "            # return the batch shape in list format\n",
    "            return list(self._loc.shape)\n",
    "\n",
    "    def _event_shape(self) -> List:\n",
    "        # For univariate Coupled Normal distribution, event shape is always []\n",
    "        # [] signifies single random variable dim (regardless of batch size)\n",
    "        return []\n",
    "\n",
    "    def _rank(self, value: [int, float, np.ndarray]) -> int:\n",
    "        # specify the rank of a given value, with rank=0 for a scalar and rank=ndim for an ndarray\n",
    "        if isinstance(value, (int, float)):\n",
    "            return 0 \n",
    "        else:\n",
    "            return len(value.shape)\n",
    "\n",
    "    def sample_n(self, n: int) -> np.array:\n",
    "        # https://het.as.utexas.edu/HET/Software/Numpy/reference/generated/numpy.random.gamma.html\n",
    "        normal_samples = np.random.normal(loc=self._loc, scale=self._scale, size=n)\n",
    "        if self._kappa == 0:\n",
    "            samples = normal_samples\n",
    "        else:\n",
    "            gamma_samples = np.random.gamma(shape=1/(2*self._kappa), scale=self._scale, size=n)\n",
    "            samples = normal_samples * 1/np.sqrt(gamma_samples*self._kappa)\n",
    "        return samples * self._scale + self._loc\n",
    "        '''\n",
    "        normal_seed, gamma_seed = samplers.split_seed(seed, salt='student_t')\n",
    "        shape = ps.concat([[n], batch_shape], 0)\n",
    "\n",
    "        normal_sample = samplers.normal(shape, dtype=dtype, seed=normal_seed)\n",
    "        df = df * tf.ones(batch_shape, dtype=dtype)\n",
    "        gamma_sample = gamma_lib.random_gamma(\n",
    "            [n], concentration=0.5 * df, rate=0.5, seed=gamma_seed)\n",
    "        samples = normal_sample * tf.math.rsqrt(gamma_sample / df)\n",
    "        return samples * scale + loc\n",
    "        '''\n",
    "        \n",
    "    def prob(self, X: [List, np.ndarray]) -> np.ndarray:\n",
    "        # Check whether input X is valid\n",
    "        X = np.asarray(X) if isinstance(X, List) else X\n",
    "        assert isinstance(X, np.ndarray), \"X must be a List or np.ndarray.\"\n",
    "        # assert type(X[0]) == type(self._loc), \"X samples must be the same type as loc and scale.\"\n",
    "        if isinstance(X[0], np.ndarray):\n",
    "            assert X[0].shape == self._loc.shape, \"X samples must have the same dimensions as loc and scale (check respective .shape()).\"\n",
    "        # Calculate PDF with input X\n",
    "        X_norm = (X-self._loc)**2 / self._scale**2\n",
    "        norm_term = self._normalized_term()\n",
    "        p = (coupled_exponential(X_norm, self._kappa))**-0.5 / norm_term\n",
    "        # normCGvalue =  1/float(norm_CG(scale, kappa))\n",
    "        # coupledNormalDistributionResult = normCGvalue * (coupled_exponential(y, kappa)) ** -0.5\n",
    "        return p\n",
    "    \n",
    "    '''\n",
    "    def _normalized_term(self) -> [int, float, np.ndarray]:\n",
    "        norm_term = np.sqrt(2*np.pi) * self.scale\n",
    "        return self._normalization_function(self.scale)\n",
    "    '''\n",
    "\n",
    "    # Normalization constant of 1-D Coupled Gaussian (NormCG)\n",
    "    def _normalized_term(self, use_beta_func: bool = False, use_scipy_gamma_func: bool = False) -> [int, float, np.ndarray]:\n",
    "        if use_beta_func:\n",
    "            base_term = np.sqrt(2*np.pi) * self._scale\n",
    "            return base_term*self._normalization_function()\n",
    "        elif use_scipy_gamma_func:\n",
    "            if self._kappa == 0:\n",
    "                norm_term = np.sqrt(2*np.pi) * self._scale\n",
    "            elif self._kappa < 0:\n",
    "                gamma_num = gamma(self._kappa-1) / (2*self._kappa)\n",
    "                gamma_dem = gamma(1 - (1 / (2*self._kappa)))\n",
    "                norm_term = (np.sqrt(np.pi)*self.scale*gamma_num) / float(np.sqrt(-1*self.kappa)*gamma_dem)\n",
    "            else:\n",
    "                gamma_num = gamma(1 / (2*self.kappa))\n",
    "                gamma_dem = gamma((1+self.kappa)/(2*self._kappa))\n",
    "                norm_term = (np.sqrt(np.pi)*self.scale*gamma_num) / float(np.sqrt(self.kappa)*gamma_dem)\n",
    "        else:\n",
    "            if self._kappa == 0:\n",
    "                norm_term = np.sqrt(2*np.pi) * self._scale\n",
    "            elif self._kappa < 0:\n",
    "                gamma_num = math.gamma(self.kappa-1) / (2*self._kappa)\n",
    "                gamma_dem = math.gamma(1 - (1 / (2*self._kappa)))\n",
    "                norm_term = (np.sqrt(np.pi)*self.scale*gamma_num) / float(np.sqrt(-1*self.kappa)*gamma_dem)\n",
    "            else:\n",
    "                gamma_num = math.gamma(1 / (2*self._kappa))\n",
    "                gamma_dem = math.gamma((1+self._kappa)/(2*self._kappa))\n",
    "                norm_term = (np.sqrt(np.pi)*self.scale*gamma_num) / float(np.sqrt(self.kappa)*gamma_dem)\n",
    "        return norm_term\n",
    "\n",
    "    def _normalization_function(self):\n",
    "        k, d = self._kappa, self._dim\n",
    "        assert -1/d < k, \"kappa must be greater than -1/dim.\"\n",
    "        if k == 0:\n",
    "            return 1\n",
    "        elif k > 0:\n",
    "            func_term = (1 + d*k) / (2*k)**(d/2)\n",
    "            beta_input_x = 1/(2*k) + 1\n",
    "            beta_input_y = d/2\n",
    "            gamma_input = d/2\n",
    "            return func_term * beta(beta_input_x, beta_input_y)/gamma(gamma_input)\n",
    "        else:  # -1 < self.kappa < 0:\n",
    "            func_term = 1 / (-2*k)**(d/2)\n",
    "            beta_input_x = (1 + d*k)/(-2*k) + 1\n",
    "            beta_input_y = d/2\n",
    "            gamma_input = d/2\n",
    "            return func_term * beta(beta_input_x, beta_input_y)/gamma(gamma_input)\n",
    "    \n",
    "    def __repr__(self) -> str:\n",
    "        return f\"<nsc.distributions.{self.__class__.__name__} batch_shape={str(self._batch_shape())} event_shape={str(self._event_shape())}>\"\n"
   ]
  },
  {
   "cell_type": "code",
   "execution_count": 10,
   "metadata": {},
   "outputs": [],
   "source": [
    "class MultivariateCoupledNormal(CoupledNormal):\n",
    "    \"\"\"Multivariate Coupled Normal Distribution.\n",
    "\n",
    "    This distribution has parameters: location `loc`, 'scale', coupling `kappa`,\n",
    "    and `alpha`.\n",
    "\n",
    "    \"\"\"\n",
    "    def __init__(self,\n",
    "                 loc: [int, float, List, np.ndarray],\n",
    "                 scale: [int, float, List, np.ndarray],\n",
    "                 kappa: [int, float] = 0.,\n",
    "                 alpha: int = 2,\n",
    "                 validate_args: bool = True\n",
    "                 ):\n",
    "        if validate_args:\n",
    "            assert isinstance(loc, (list, np.ndarray)), \"loc must be either a list or ndarray type. Otherwise use CoupledNormal.\"\n",
    "            assert isinstance(scale, (list, np.ndarray)), \"scale must be either a list or ndarray type. Otherwise use CoupledNormal.\"\n",
    "        super(MultivariateCoupledNormal, self).__init__(\n",
    "            loc=loc,\n",
    "            scale=scale,\n",
    "            kappa=kappa,\n",
    "            alpha=alpha,\n",
    "            validate_args=validate_args\n",
    "        )\n",
    "        if self._rank(self._scale) == 1:\n",
    "            self._scale = np.diag(self._scale)\n",
    "        # Ensure that scale is indeed positive definite\n",
    "        assert self.is_positive_definite(self._scale), \"scale must be positive definite, but not necessarily symmetric.\"\n",
    "\n",
    "    # Credit: https://stackoverflow.com/questions/16266720/find-out-if-matrix-is-positive-definite-with-numpy\n",
    "    # This is only for positive definite, not symmetric positive definite\n",
    "    def is_positive_definite(self, A: np.ndarray) -> bool:\n",
    "        try:\n",
    "            np.linalg.cholesky(A)\n",
    "            return True\n",
    "        except np.linalg.LinAlgError:\n",
    "            return False\n",
    "\n",
    "    def _batch_shape(self) -> List:\n",
    "        if self._rank(self._loc) == 1:\n",
    "            # return [] signifying single batch of a single distribution\n",
    "            return []\n",
    "        else:\n",
    "            # return [batch size]\n",
    "            return list(self._loc.shape[:-1])\n",
    "\n",
    "    def _event_shape(self) -> List:\n",
    "        if self._rank(self._loc) == 1:\n",
    "            # if loc is only a vector\n",
    "            return list(self._loc.shape)\n",
    "        else:\n",
    "            # return [n of random variables] when rank >= 2\n",
    "            return [self._loc.shape[-1]]\n",
    "\n",
    "    def _rank(self, value: [int, float, np.ndarray]) -> int:\n",
    "        # specify the rank of a given value, with rank=0 for a scalar and rank=ndim for an ndarray\n",
    "        if isinstance(value, (int, float)):\n",
    "            return 0 \n",
    "        else:\n",
    "            return len(value.shape)\n",
    "\n",
    "    def sample_n(self, n: int) -> np.array:\n",
    "        pass\n",
    "        '''\n",
    "        normal_seed, chi2_seed = samplers.split_seed(seed, salt='multivariate t')\n",
    "\n",
    "        loc = tf.broadcast_to(self._loc, self._sample_shape())\n",
    "        mvn = mvn_linear_operator.MultivariateNormalLinearOperator(\n",
    "            loc=tf.zeros_like(loc), scale=self._scale)\n",
    "        normal_samp = mvn.sample(n, seed=normal_seed)\n",
    "\n",
    "        df = tf.broadcast_to(self.df, self.batch_shape_tensor())\n",
    "        chi2 = chi2_lib.Chi2(df=df)\n",
    "        chi2_samp = chi2.sample(n, seed=chi2_seed)\n",
    "\n",
    "        return (self._loc +\n",
    "                normal_samp * tf.math.rsqrt(chi2_samp / self._df)[..., tf.newaxis])\n",
    "        '''\n",
    "\n",
    "    def prob(self, X: [List, np.ndarray], beta_func: bool = True) -> np.ndarray:\n",
    "        assert X.shape[-1] ==  self._loc.shape[-1], \"input X and loc must have the same dims.\"\n",
    "        sigma = np.matmul(self._scale, self._scale)\n",
    "        sigma_inv = np.linalg.inv(sigma)\n",
    "        _normalized_X = lambda x: np.linalg.multi_dot([x, sigma_inv, x])\n",
    "        X_norm = np.apply_along_axis(_normalized_X, 1, X)\n",
    "        norm_term = self._normalized_term(beta_func)\n",
    "        p = (coupled_exponential(X_norm, self._kappa))**(-1/self._alpha) / norm_term\n",
    "        return p\n",
    "\n",
    "    # Normalization constant of the multivariate Coupled Gaussian (NormMultiCoupled)\n",
    "    def _normalized_term(self, beta_func: bool = False, scipy_gamma_func: bool = False) -> [int, float, np.ndarray]:\n",
    "        if beta_func:\n",
    "            sigma = np.matmul(self._scale, self._scale.T)\n",
    "#             sigma = np.matmul(self._scale, self._scale)\n",
    "            sigma_det = np.linalg.det(sigma)\n",
    "#             k, d = self._kappa, self._dim\n",
    "#             assert -1/d < k, \"kappa must be greater than -1/dim.\"\n",
    "#             base_term = np.sqrt(2 * np.pi * sigma_det)\n",
    "#             base_term = (2*np.pi)**(self.dim/2) * (sigma_det)**(1/2)\n",
    "            base_term = np.sqrt((2 * np.pi)**self._dim * sigma_det)\n",
    "            return base_term*self._normalization_function()\n",
    "            '''\n",
    "            if k == 0:\n",
    "                base_term = (2*np.pi)**(d/2) * (sigma_det)**(1/2)\n",
    "                return base_term\n",
    "            elif k > 0:\n",
    "                base_term = (np.pi)**(d/2) * (sigma_det)**(1/2)\n",
    "                func_term = (1 + d*k) / (k)**(d/2)\n",
    "                beta_input_x = 1/(2*k) + 1\n",
    "                beta_input_y = d/2\n",
    "                gamma_input = d/2\n",
    "                return base_term * func_term * beta(beta_input_x, beta_input_y)/gamma(gamma_input)\n",
    "            else:  # -1 < self.kappa < 0:\n",
    "                base_term = (np.pi)**(d/2) * (sigma_det)**(1/2)\n",
    "                func_term = 1 / (-k)**(-d/2)\n",
    "                beta_input_x = (1 + d*k)/(-2*k) + 1\n",
    "                beta_input_y = d/2\n",
    "                gamma_input = d/2\n",
    "                return base_term * func_term * beta(beta_input_x, beta_input_y)/gamma(gamma_input)\n",
    "            '''\n",
    "        elif scipy_gamma_func:\n",
    "            sigma = np.matmul(self._scale, self._scale.T)\n",
    "            sigma_det = np.linalg.det(sigma)\n",
    "            if self.alpha == 1:\n",
    "                return sigma_det**0.5 / (1 + (-1 + self._dim)*self._kappa)\n",
    "            else:  # self.alpha == 2\n",
    "                gamma_num = gamma((1 + (-1 + self.dim)*self._kappa) / (2*self._kappa))\n",
    "                gamma_dem = gamma((1 + self.dim*self._kappa) / (2*self._kappa))\n",
    "                return (np.sqrt(np.pi) * sigma_det**0.5 * gamma_num) / (np.sqrt(self._kappa) * gamma_dem)\n",
    "        else:\n",
    "            sigma = np.matmul(self._scale, self._scale.T)\n",
    "            sigma_det = np.linalg.det(sigma)\n",
    "            if self.alpha == 1:\n",
    "                return sigma_det**0.5 / (1 + (-1 + self._dim)*self._kappa)\n",
    "            else:  # self.alpha == 2\n",
    "                gamma_num = math.gamma((1 + (-1 + self._dim)*self._kappa) / (2*self._kappa))\n",
    "                gamma_dem = math.gamma((1 + self._dim*self._kappa) / (2*self._kappa))\n",
    "                return (np.sqrt(np.pi) * sigma_det**0.5 * gamma_num) / (np.sqrt(self._kappa) * gamma_dem)\n"
   ]
  },
  {
   "cell_type": "markdown",
   "metadata": {},
   "source": [
    "***Test***"
   ]
  },
  {
   "cell_type": "code",
   "execution_count": 11,
   "metadata": {},
   "outputs": [],
   "source": [
    "loc, scale, kappa, alpha = 0., 1., 0.5, 2\n",
    "# X_input = np.arange(mu-20., mu+20., (20.+mu - -20.+mu)/(2.**16.+1.), dtype=float)\n",
    "six_scale = 6.*scale\n",
    "# X_input = np.arange(mu-6.*sigma, mu+6.*sigma, (20.+mu - -20.+mu)/(2.**16.+1.), dtype=float)\n",
    "X_input = np.linspace(mu-six_scale, mu+six_scale, 1000)"
   ]
  },
  {
   "cell_type": "code",
   "execution_count": 12,
   "metadata": {},
   "outputs": [
    {
     "data": {
      "text/plain": [
       "(1000,)"
      ]
     },
     "execution_count": 12,
     "metadata": {},
     "output_type": "execute_result"
    }
   ],
   "source": [
    "X_input.shape"
   ]
  },
  {
   "cell_type": "markdown",
   "metadata": {},
   "source": [
    "Coupled Normal distribution"
   ]
  },
  {
   "cell_type": "code",
   "execution_count": 13,
   "metadata": {},
   "outputs": [],
   "source": [
    "cn = CoupledNormal(loc=mu, scale=sigma, kappa=kappa)"
   ]
  },
  {
   "cell_type": "code",
   "execution_count": 14,
   "metadata": {},
   "outputs": [
    {
     "data": {
      "text/plain": [
       "<nsc.distributions.CoupledNormal batch_shape=[] event_shape=[]>"
      ]
     },
     "execution_count": 14,
     "metadata": {},
     "output_type": "execute_result"
    }
   ],
   "source": [
    "cn"
   ]
  },
  {
   "cell_type": "code",
   "execution_count": 15,
   "metadata": {},
   "outputs": [
    {
     "name": "stdout",
     "output_type": "stream",
     "text": [
      "1\n",
      "2.82842712474619\n"
     ]
    }
   ],
   "source": [
    "print(cn.dim)\n",
    "print(cn._normalized_term())"
   ]
  },
  {
   "cell_type": "code",
   "execution_count": 16,
   "metadata": {},
   "outputs": [
    {
     "data": {
      "text/plain": [
       "array([ 7.50969812e-02,  4.06153498e+00,  1.21957748e+00,  2.18756801e+00,\n",
       "        9.83145429e-02, -9.28682494e-01,  2.24203906e+00, -1.46873850e+00,\n",
       "       -3.00647497e+00,  1.35310034e+00, -4.55841775e+00, -1.72026381e+00,\n",
       "       -1.70420646e+00, -5.58659779e+00,  8.67580819e-01, -1.50969470e+00,\n",
       "       -1.97858901e+00, -4.00273598e+00, -1.02511829e+00,  8.81080279e-01,\n",
       "        1.69149407e-01, -6.80572298e-01, -1.10142574e+00, -1.20631818e+00,\n",
       "       -3.58923848e+00, -1.60230887e+00, -1.80036091e-01, -1.08135670e+00,\n",
       "        2.72340453e-01,  1.26106723e+00,  1.33421635e+00,  4.26370872e+00,\n",
       "       -1.17820357e+00,  5.98603933e+00,  2.26376321e-01,  2.46947619e+00,\n",
       "        4.14522432e+00,  2.17914337e+00, -1.88618163e+00,  3.21454189e+00,\n",
       "       -5.12617488e+00, -1.69608755e+00,  7.13844674e-02,  1.48973097e+00,\n",
       "        1.61746416e+00, -2.93528300e-01, -1.28248011e+01, -9.34613826e-01,\n",
       "       -4.47287055e-01, -7.28031731e-01,  1.04102492e+00,  1.79712040e+00,\n",
       "        6.27605548e+00,  1.65292686e-01, -1.56071302e+00,  1.77446006e+00,\n",
       "       -1.04368293e+00, -2.09789359e+00, -1.20704203e+00,  4.26245401e-01,\n",
       "        5.01727386e-01, -6.95399740e-01, -3.05921662e-01, -7.63076086e-01,\n",
       "        6.99525319e-01, -2.27538230e+00,  2.16429188e+00,  4.11162474e-01,\n",
       "        3.05636611e-02, -1.78029560e+00,  1.63194760e+00, -2.35403112e-01,\n",
       "       -1.20524830e+00, -1.10622307e+00,  1.90052969e+00, -2.42362033e+00,\n",
       "       -1.77967640e+00,  2.92612677e-01, -1.13018080e+00,  4.04521816e-01,\n",
       "       -3.69127805e-01, -4.44874099e+00, -1.23481207e-02, -4.70890816e+00,\n",
       "        1.78589037e+00, -2.82913702e-01, -3.61701336e-01, -2.52435339e+00,\n",
       "        1.17464607e+00,  1.33623914e+00,  4.03946402e+00, -7.10857253e-01,\n",
       "       -1.18606389e+00,  2.41979361e+00, -1.38247836e+00, -2.17130098e+00,\n",
       "        1.93013984e-01, -1.93929654e+00,  3.01522523e+00,  2.08557350e+00,\n",
       "        2.69418301e+00,  1.01745644e+00, -1.85962940e+00, -1.08904104e+00,\n",
       "        1.00093246e+00, -1.30279891e+00, -6.88825872e-01,  7.75509561e-01,\n",
       "        3.23653113e-01,  6.67834587e-01,  3.68017996e+00, -1.09895606e+01,\n",
       "        5.33339145e-01,  1.18618257e-01, -2.51416458e-01, -7.19198075e-01,\n",
       "        7.05679807e-01, -1.56768964e+00,  4.75490700e+00, -8.02145068e-01,\n",
       "        4.06307073e+00,  2.20205324e+00, -7.52982867e-01,  2.59287854e+00,\n",
       "        1.60055096e-01,  2.18060837e+00,  3.10911911e+00,  3.77295962e-01,\n",
       "        1.28807954e+00, -1.29727367e+00,  1.73071082e+00, -5.07849149e+00,\n",
       "       -5.11273336e-01, -9.23824265e-01,  3.13039883e+00,  1.30668322e+00,\n",
       "        2.94770750e-01, -7.68934895e-02,  6.44560153e-01,  2.46811654e+00,\n",
       "        1.67372238e+00,  1.92285338e+00,  6.33040380e-01, -5.55763070e+00,\n",
       "       -2.10724602e+00, -5.48223951e-01,  2.00462982e-01,  5.73958108e+00,\n",
       "        2.75918688e+00, -2.96008060e-01,  4.77986160e+00,  7.45588603e-01,\n",
       "       -4.90570746e+00,  4.08375123e-01, -1.47559987e-01,  1.25790457e+00,\n",
       "        1.52529976e+00,  8.10905542e-01,  3.88989203e+00, -1.44456119e+00,\n",
       "        1.94065722e+00, -6.08049395e+00, -1.24595973e+00, -1.27955992e+00,\n",
       "       -3.17236032e-01, -2.75667919e-01,  5.86412152e-01,  1.24148442e+00,\n",
       "        7.25515731e-02,  1.09779686e-01, -3.51723308e+00,  2.47024726e+00,\n",
       "       -3.58812177e-01,  2.30953390e+00, -2.36368486e+00, -1.82313689e+00,\n",
       "        3.27757649e+00, -3.75395146e+00, -3.48619589e+00,  7.20902495e+00,\n",
       "       -1.17527269e+00,  1.19750638e+00,  2.40639122e-01,  1.39645540e+00,\n",
       "       -9.76146469e-01,  2.84096532e-01, -2.65705633e-01, -9.53638535e-02,\n",
       "        6.59541188e+00, -6.72026481e+00,  5.95597594e-02, -1.47891031e+00,\n",
       "        3.16063487e-01, -2.75021014e+00, -2.73597270e-01,  9.44711593e-01,\n",
       "       -6.19745936e-01,  7.55582880e+01, -3.42859821e+00, -7.50525556e-01,\n",
       "        1.14725823e-01, -1.54741129e+00, -2.29887729e-01, -1.71109772e+00,\n",
       "       -1.14326218e+00,  8.53415607e-01, -5.44761850e-01, -3.15223689e+00,\n",
       "        1.42618409e+00, -4.41886393e+00,  3.02944932e+00, -5.29893313e-02,\n",
       "       -2.07374325e+00,  1.24789509e-01,  2.45280984e+00, -1.63930489e+00,\n",
       "        2.16808485e-01,  3.99924775e+00,  7.07562533e-01,  1.36063819e+00,\n",
       "        4.85384148e+00,  2.07056153e+00, -7.41418157e-01,  3.58206924e+00,\n",
       "        1.98613895e+00, -2.62273060e+00, -2.35126384e-01, -8.07140552e-01,\n",
       "        2.32608308e+00, -1.30117025e+00,  1.29059555e+00,  1.90909367e-01,\n",
       "        1.02937193e+00,  1.34490888e+00,  8.83089945e-01, -1.23676683e-01,\n",
       "       -1.53539238e+00, -2.59686531e+00,  1.89427263e+00, -2.27720809e+00,\n",
       "        1.48948915e+00, -1.47397039e+00,  5.54162496e-01,  2.69026613e-01,\n",
       "       -2.48516864e+00,  9.26391732e-02,  4.76915489e+00, -6.15426984e-01,\n",
       "        1.57792550e+00, -3.80579271e-01, -1.10187522e-01,  2.98820270e+00,\n",
       "        7.77624601e+00,  2.05443710e-01, -7.38846935e-01,  8.20642670e-02,\n",
       "       -1.81301724e+00,  1.24257913e+00,  1.60541035e+00,  1.12288780e+00,\n",
       "       -3.51236738e+00,  1.56193385e+00,  2.53078071e+00, -1.98911857e+00,\n",
       "       -2.28153079e+00, -9.59452760e-01,  5.09237977e+00,  3.61472997e+00,\n",
       "        9.75101159e-01, -3.12686693e-01, -4.92201297e+00,  9.29754682e-01,\n",
       "       -5.94368775e+00,  3.68946088e-02, -9.52335115e-01,  3.30863249e+00,\n",
       "        2.54692190e+00,  1.90850174e+00, -1.32730994e-01,  1.25243598e-01,\n",
       "        9.53139073e-01,  4.04134200e+00, -5.45152260e-01, -9.03987187e-01,\n",
       "       -8.96032177e-01, -3.25961396e+00,  8.41517338e+00,  2.98597657e+00,\n",
       "        2.58356991e+00, -7.91057172e-01, -4.22142187e+00,  5.48410259e-02,\n",
       "        1.65916368e+00,  2.96641022e+00,  7.72835425e-02,  2.66270137e-01,\n",
       "       -6.54697004e-01,  2.93386920e+00,  2.93720220e-01,  1.07184135e+00,\n",
       "       -4.43272836e-01, -1.11522957e+00,  1.68305700e+00,  2.44095421e-01,\n",
       "       -1.69991291e+00, -5.11864604e-01,  8.30396618e-01,  2.93716191e-01,\n",
       "        6.36381846e-01, -6.83028820e-01, -1.15944610e-01,  2.60972875e-01,\n",
       "       -6.88914175e-02, -3.53145420e-01, -2.00344349e+00,  8.66055331e-01,\n",
       "       -5.38171672e+01,  2.26670103e-01,  2.62203826e+00, -1.51687600e+00,\n",
       "        4.63698804e+00, -7.70633519e-01,  1.10787444e+00, -3.89162598e+00,\n",
       "       -1.67109927e+00, -2.95033093e+00, -1.33850167e+00,  8.65928650e-01,\n",
       "        1.61568434e+00,  8.86989455e-01, -1.48441195e-01, -9.03699040e-01,\n",
       "        1.79813201e+00, -7.61779738e-01,  6.61997436e-02,  4.16457714e-01,\n",
       "       -3.66972927e-01,  3.90519275e-01,  4.07760922e+00,  1.87162876e+00,\n",
       "       -5.50051644e+00, -3.71321756e+00,  1.56479447e+01,  2.76596207e+00,\n",
       "        1.10311724e+00,  3.91576504e-01, -3.25196596e-01,  2.05019211e-01,\n",
       "        1.23999307e+01,  3.91529669e-01,  7.16828886e+00, -2.45521619e+00,\n",
       "       -8.39465541e-01, -1.26365393e-02,  2.04494972e+00,  2.53790908e-01,\n",
       "        6.24858315e-01, -1.12787694e+00,  2.70704808e+00, -2.17300639e-01,\n",
       "        3.20247490e+00, -7.25558639e-02, -9.75801302e-01,  1.53790571e+00,\n",
       "        1.79809174e+00,  2.68996791e+00, -9.24797021e-01, -9.84907480e-01,\n",
       "       -1.95086018e+00,  4.31036184e-01, -9.26631481e-01, -8.56345268e-01,\n",
       "       -1.33639244e+00,  1.42897088e+00, -3.84954020e+00, -1.14221690e+00,\n",
       "       -3.65124307e-01,  2.30960346e+00,  4.57147793e+00, -4.51745825e-01,\n",
       "        8.72944564e-02, -2.15591719e+00,  8.59853240e-01, -1.14005413e+00,\n",
       "       -2.74415494e-01,  1.53433640e+00,  6.18896682e+00, -1.25666393e+00,\n",
       "       -2.28608401e+00, -1.35444423e+00,  1.79817803e-01, -6.09018867e+00,\n",
       "       -4.75806940e-01,  2.40254856e+00,  8.78584459e-01, -9.55420042e-01,\n",
       "       -1.49883157e+00, -4.35514915e-01, -1.76281377e-01,  2.38380704e+00,\n",
       "       -1.93501758e+00,  8.68589829e-01, -1.01824139e+01, -2.22697255e+00,\n",
       "        1.95195359e+00,  1.86114709e+00,  7.21140423e-02, -1.73646385e+00,\n",
       "        1.17283316e+00, -4.36856456e-01, -3.68380306e-01,  2.49040075e-01,\n",
       "       -7.20984288e-01, -8.85833018e-01, -1.44592050e+00,  3.30150423e+00,\n",
       "       -2.40063776e+00, -5.48470902e-01,  1.11616442e-01,  3.33671423e-01,\n",
       "        1.00145207e+00,  1.93177112e+00,  6.10837135e-01, -4.77690984e-03,\n",
       "       -1.26583326e+00, -1.14624533e-01, -2.31143464e+00,  1.23624446e-01,\n",
       "        8.76035894e-01, -8.45952015e-01,  2.50427732e+00, -2.81075610e-01,\n",
       "        1.62930928e+00,  1.83673906e+00, -2.47647461e+00,  8.96125388e-01,\n",
       "        3.36322906e+00,  3.33991613e+00,  7.85177984e-01, -1.88963008e+00,\n",
       "        3.01397625e-01, -2.38405687e-01, -5.18029042e+00,  4.78867800e-01,\n",
       "        2.81637603e-01, -1.38771013e+00,  3.05459792e+00,  1.20586423e-01,\n",
       "        2.95052598e+00, -1.99448082e+00,  3.91195901e-01,  1.18883327e+00,\n",
       "        1.94064008e+00, -2.02247174e-01,  3.47834512e-01,  2.19796415e+00,\n",
       "       -2.03171384e+00, -2.92744710e-01,  3.47569988e+00,  1.37062205e+00,\n",
       "       -3.54227975e+00,  2.90970715e+00, -3.21368628e-01,  3.53225675e-01,\n",
       "       -2.55815964e+00,  1.85497001e+00, -1.43888766e-01,  6.50068691e-02,\n",
       "        1.05341140e+00,  6.01141188e-01, -8.12003921e-01, -2.80726990e+00,\n",
       "       -1.77553124e+00, -5.57763880e+00,  3.24477761e+00,  1.18801027e-01,\n",
       "        5.29725927e-01,  2.27233742e+00, -3.96220470e-01, -3.00491292e+00,\n",
       "        1.14240506e+01,  8.02928830e-01, -8.50277644e-01, -4.39207328e-01,\n",
       "       -1.92724216e+00,  2.45897526e+00,  7.94171591e-01, -1.73730577e+00,\n",
       "        1.59966111e+00,  4.65312537e+00, -1.82017845e+00, -4.98839006e-01,\n",
       "       -7.48659467e-01,  2.13976518e+00, -3.98747234e-02, -4.83445565e-01,\n",
       "        5.34729750e+00, -2.36019788e+00, -1.66157190e+00, -2.23839919e-01,\n",
       "        1.38630723e-01,  1.87608495e+00,  1.05288969e+00, -9.56829471e-02,\n",
       "       -1.31045489e+00,  3.16475299e-01,  8.78723368e-01, -1.90827257e+00,\n",
       "        6.42725465e-02,  6.01371560e-02,  1.92456114e+00,  1.51309816e+00,\n",
       "       -1.24161397e+00,  1.23883039e+00,  1.09476661e-02, -6.05463949e-02,\n",
       "       -2.62096616e-01, -1.88252832e+00,  4.73698551e-01,  1.31137154e+00,\n",
       "        2.09553513e+00,  2.69323849e+00, -6.57506586e-01,  5.20179487e-01,\n",
       "        3.01033213e+00, -4.50142079e-01,  4.06502144e-01,  2.30182602e+00,\n",
       "        4.74929153e-01, -5.65059012e+00, -4.57368568e-01, -3.00998223e-01,\n",
       "        2.46423849e-01,  1.40989504e+00,  6.87189955e-01,  9.49687930e-01,\n",
       "        1.34172811e+00, -8.90608407e-01,  6.24532092e+00,  6.90552629e-01,\n",
       "       -5.23324922e+00, -1.21442645e+00,  1.88560234e+00,  5.52503330e-01,\n",
       "        8.02686340e-01, -2.33286084e+00, -6.31030991e-01,  8.30668327e-02,\n",
       "       -2.66144434e+00,  4.61474906e+00, -4.73028696e+00, -2.33762425e-01,\n",
       "       -7.38807771e-01, -9.26117918e-01, -2.11102243e+00,  7.91957514e-01,\n",
       "        2.60090436e-01, -2.01471933e+00,  7.62923425e-01,  3.27380150e+00,\n",
       "       -5.03515256e-01,  1.00168317e+00, -4.19851959e-02,  3.33847888e+00,\n",
       "        5.77468641e-01, -4.12504214e+00,  4.30791616e+00, -3.28059737e-01,\n",
       "       -8.81121700e+00,  1.19237038e-01,  5.94404900e-01, -2.46165544e+00,\n",
       "        1.61800780e+00, -1.16709342e+00, -6.50927921e-01, -1.60989999e+00,\n",
       "       -5.83591476e-01, -1.42339940e-01, -8.34406610e-01,  8.48330780e-01,\n",
       "        1.79877467e-01, -2.38063702e+00, -8.64502467e-01,  7.76240394e-01,\n",
       "        1.63212146e+00, -3.79496853e-01, -1.02631234e+00, -5.98738167e+00,\n",
       "        4.08617388e-01, -1.62972696e+00, -2.43835458e+00,  4.78576123e+00,\n",
       "       -8.08119351e-02, -3.35997830e-01, -1.15888320e-01, -1.38674517e+00,\n",
       "        2.16004098e+00, -4.15584650e+00,  1.08587174e+00,  2.13863650e+00,\n",
       "       -6.38960010e-03,  3.13583139e-01, -1.66467776e-01, -8.33313029e-01,\n",
       "        6.57928735e-01,  5.07898530e+00, -2.68499204e+00,  4.65656211e-01,\n",
       "        2.78699211e+00, -6.67523295e-01, -7.52438495e-01, -7.63579616e-01,\n",
       "       -2.46238771e-01,  2.25309259e-01, -2.34012409e+00, -2.02749177e+00,\n",
       "       -1.58053500e-01,  2.20407208e-01,  4.36574374e+00,  8.81513672e-01,\n",
       "       -1.39895704e+00, -1.70061755e-01, -3.56492640e+00,  2.39201299e+00,\n",
       "        1.66583824e+00, -1.23478557e-03, -1.69108444e+00,  1.18758833e+00,\n",
       "       -1.60109450e-01,  1.26117741e+00,  1.63192181e+00,  9.02965976e-01,\n",
       "        1.97415740e+00, -1.50414734e+00,  8.80298134e-01, -1.73904690e+00,\n",
       "        4.18515020e+00, -1.11791146e+00,  4.65550869e+00,  6.05298166e-01,\n",
       "       -4.44269128e+00,  2.03843618e+00, -8.30725199e-02, -1.41272883e+00,\n",
       "       -3.45535049e+00, -7.84417369e-01, -8.55974042e-01,  7.83364502e-02,\n",
       "        1.10335860e+00, -7.17220850e-01,  2.30942197e+00, -5.25407851e-01,\n",
       "        7.45270718e-02,  1.39011505e+00,  6.23457264e-01, -6.11451769e-02,\n",
       "       -3.55006504e+00, -2.66167401e+00,  3.92299822e-02,  3.01167334e+00,\n",
       "        1.04126058e-01,  8.00724221e-01, -6.53843052e+00, -5.32580087e-01,\n",
       "        4.74322058e+00,  1.12666359e+01,  2.58819543e+00, -1.99136909e+00,\n",
       "       -1.09071418e+00, -1.35122253e-01,  6.99298466e-01,  6.24289111e-01,\n",
       "        4.90326790e-01, -7.25261406e-01,  2.21298846e+00,  2.76505620e+00,\n",
       "        1.74006848e+00, -2.14733758e+00, -7.94358897e-01,  3.75122108e+00,\n",
       "       -1.21455887e+00,  1.31923211e+00,  7.74556969e-01, -2.35378060e+00,\n",
       "       -7.96234386e-01,  4.61239718e+00,  2.03478412e+00,  1.19909325e+00,\n",
       "       -4.66536613e+00, -6.32171866e-01, -1.59929582e-01,  6.13770279e-01,\n",
       "       -1.06362438e+00,  2.41146006e+00,  7.86952135e+00,  5.02221239e-02,\n",
       "       -2.14870147e-01,  1.01674613e+00,  2.32580676e+00, -1.54304646e+00,\n",
       "       -2.87765714e-01, -4.78964779e-01, -5.70416602e-01, -6.28973010e-01,\n",
       "       -1.93864114e+00, -1.23382406e+00,  3.20466436e+00, -6.49703109e-01,\n",
       "       -2.26608846e+00, -4.33929170e-01,  2.39598742e-01, -2.97049322e+00,\n",
       "        3.29589494e+00, -4.45329527e-01, -2.45951983e+00,  1.60057423e+00,\n",
       "       -8.86301982e-01,  9.38664793e-02, -1.27392995e+00, -9.43116257e+00,\n",
       "        3.91349926e+00,  1.06698536e+00, -1.37231800e+00, -1.09815225e+01,\n",
       "       -3.00578754e-01, -4.03134961e+00, -1.06113395e+00,  2.09985068e-01,\n",
       "       -1.22708223e+00,  8.56686056e-01,  1.27127329e+00, -5.79246917e+00,\n",
       "        1.59245655e+00,  4.52206104e-01, -6.30991040e+00, -1.39053929e+00,\n",
       "       -7.40655457e-01,  3.67376679e-01, -1.98439327e+00, -1.70647427e+00,\n",
       "        1.02342492e+00,  1.75670875e+00,  1.23141395e-01, -8.13300943e-01,\n",
       "       -2.32869663e+00,  1.44336972e+00, -9.85023976e-01, -9.98912346e-01,\n",
       "       -1.32802176e+00, -5.92096259e-01, -7.78683737e+00,  1.13528701e+00,\n",
       "       -3.78164611e+00, -3.98162834e-01,  5.40107456e+01, -1.29993041e+00,\n",
       "       -4.12609409e-01, -9.10516380e-01, -2.16266774e-01, -2.28572388e-01,\n",
       "       -1.11926505e+00,  1.22199201e+00, -2.73574200e+00, -5.52902005e-01,\n",
       "        9.08674942e-01, -9.72264562e-01,  1.13799953e+00, -4.90539318e-01,\n",
       "        3.60288975e-01,  2.45326378e-01,  4.60684390e+00, -3.53180802e+00,\n",
       "        5.93386209e+00, -1.56165260e+00,  1.30090762e-01, -7.57122017e-01,\n",
       "        1.52627196e+00,  3.61677384e-01,  1.24015279e+00, -1.46320108e+00,\n",
       "       -4.67623288e+00,  2.35785107e+00, -2.21716665e+00,  1.10651038e+00,\n",
       "        5.34888590e+00, -5.10751740e-02,  1.85609542e+00,  4.60047429e-03,\n",
       "        1.26497356e+00,  4.55870491e-01, -1.05549143e-01, -1.65963538e+00,\n",
       "       -1.71414396e+00, -1.64783563e+00,  6.79555364e-01, -3.26557259e+00,\n",
       "        5.34414548e-01, -1.53978681e+00,  2.92814309e-01,  1.32517131e+00,\n",
       "        5.13930150e-01, -2.24996301e+00, -9.04545380e-01, -1.45297535e+00,\n",
       "       -8.27780061e-01,  7.65026015e-03,  1.09333128e+00,  3.68579549e-01,\n",
       "       -2.89085041e+00,  1.05110909e+00, -4.11495163e-01,  7.05420757e-01,\n",
       "        6.35945624e-01, -1.24089179e+00,  1.78194116e+00, -3.10480145e+00,\n",
       "       -1.05529904e+01, -1.55736460e+00,  2.42259018e+00,  1.92641525e+00,\n",
       "       -1.72049277e+00,  7.34549476e-01, -1.54415974e+00, -3.47622074e+00,\n",
       "       -4.92870730e+00, -1.35429978e+00,  1.13617159e+00,  9.84759860e-01,\n",
       "        3.20570590e-02,  3.15965727e-01, -2.01682061e+00, -9.73219651e-01,\n",
       "       -1.57135375e+00,  7.61978633e+00,  2.58153676e+00,  5.22793719e-01,\n",
       "        1.95755340e+00,  5.95439095e+00,  1.48859212e-01,  1.64227175e+00,\n",
       "       -9.15363832e-02, -7.27916051e-01,  4.40124968e-01, -7.76176820e-01,\n",
       "        7.58532510e-01, -7.35070280e-01, -2.98510383e+00,  4.96405475e+00,\n",
       "        9.26948013e-01,  1.44882998e+00, -3.33398787e-01, -3.38500392e+00,\n",
       "       -1.36726632e+00,  6.37477755e-02,  3.22426747e-01, -2.36423743e+00,\n",
       "       -2.59645307e-01, -1.44823637e+00, -1.20309242e+00, -3.68789759e-01,\n",
       "       -1.29152501e+00,  7.77557652e-01,  1.63762285e+00,  1.58436831e+00,\n",
       "        4.07902240e+00, -1.54735226e+00,  5.41545914e-01, -1.15325494e+00,\n",
       "        1.00789996e+00, -6.89018332e-01,  8.99014978e-01,  2.03013616e-01,\n",
       "        2.33613444e+00,  2.97673321e+00,  4.88570996e+00,  9.46964115e+00,\n",
       "        2.78268431e-01, -2.77641784e-01, -9.77470582e-02, -5.70626413e+00,\n",
       "        7.38589317e-01,  3.23750809e+00,  1.61076242e-01,  2.07487395e+00,\n",
       "        3.67155245e+00,  2.46312279e+00,  1.71949748e+00,  1.44463170e+00,\n",
       "        1.27736524e+00,  3.01019216e+00,  1.42326742e-01, -3.93987131e+00,\n",
       "        3.37790112e+00, -4.62806345e+00,  8.48440567e-01, -1.08803018e+01,\n",
       "        2.10641196e+00,  7.07773731e-01, -5.46733109e-01,  7.89875008e-01,\n",
       "        3.16659313e+00,  3.24247533e+00, -1.61587986e+00, -1.01872717e+00,\n",
       "       -3.57481447e-01,  2.02841068e+00,  5.53895156e+00, -8.88214940e+00,\n",
       "        6.38133306e-01,  1.84638514e-01, -2.09072969e-01, -1.80408996e+01,\n",
       "        7.25217522e-02,  9.13689796e-02,  3.35665476e-01, -1.67207327e+00,\n",
       "       -1.09726272e-01, -3.94142011e-01,  5.52719270e+00, -1.62631529e-01,\n",
       "        1.03760196e-01,  4.37313658e+00, -1.14434695e+00,  1.31850084e-01,\n",
       "        5.38901055e+00,  5.83227352e-03,  1.56884186e+00,  7.85854456e-01,\n",
       "       -3.38879087e+00,  9.27299481e-01, -2.14170962e-01, -2.11591719e-01,\n",
       "       -2.28479510e+00, -2.95460172e-01, -4.74660483e-01,  5.03849838e+00,\n",
       "        9.98342131e-01,  4.54856784e-01, -1.11003102e+01,  7.49775636e-01,\n",
       "       -1.54701878e+00,  3.86831786e-01, -8.44404083e+00, -1.66207139e-01,\n",
       "        7.82975795e-01,  3.25466418e+00,  1.85669044e+01, -7.21366602e-01,\n",
       "       -1.36120455e+00, -1.95615727e+00, -5.36366528e-01, -2.22401690e+00,\n",
       "       -1.82052556e-01,  6.20025299e-01, -7.84565947e-01,  4.71671644e-01,\n",
       "        3.03246915e+00,  2.92911184e+00, -3.09984540e+00,  1.17046476e+00,\n",
       "        1.41138169e+00,  7.06338677e-01,  7.40275475e-01,  4.46512947e+01,\n",
       "       -2.59942937e-01,  2.52389936e+01,  9.28699312e-03, -1.11264064e+00,\n",
       "       -6.84182213e+00,  2.06505386e+00,  1.01243034e+00, -6.57440374e-01,\n",
       "       -1.12623539e+00,  2.41716798e+00,  2.35981527e+00,  7.04376338e-01,\n",
       "       -6.88349327e+00, -7.85581639e-01,  3.34912717e-01,  5.39525002e+00,\n",
       "        1.05281052e+00, -8.11745885e+00,  6.82879317e-01, -2.50401996e+00,\n",
       "       -9.52341525e-01,  2.99360335e+00,  1.36378440e+00,  2.84570922e+00,\n",
       "        6.54702152e-01,  7.52763960e-02, -4.98581090e-01,  2.63250141e+00,\n",
       "       -1.54344362e+00,  1.60790161e-01,  1.25172947e+00,  1.89574488e+00,\n",
       "       -1.62929053e-01,  1.55879928e+00, -2.32307268e+00, -3.25099068e+00])"
      ]
     },
     "execution_count": 16,
     "metadata": {},
     "output_type": "execute_result"
    }
   ],
   "source": [
    "cn.sample_n(1000)"
   ]
  },
  {
   "cell_type": "code",
   "execution_count": 17,
   "metadata": {},
   "outputs": [
    {
     "data": {
      "text/plain": [
       "array([0.00426898, 0.00429337, 0.00431793, 0.00434268, 0.00436762,\n",
       "       0.00439274, 0.00441806, 0.00444357, 0.00446927, 0.00449516,\n",
       "       0.00452126, 0.00454755, 0.00457405, 0.00460075, 0.00462765,\n",
       "       0.00465476, 0.00468208, 0.00470961, 0.00473736, 0.00476532,\n",
       "       0.00479349, 0.00482189, 0.0048505 , 0.00487934, 0.00490841,\n",
       "       0.0049377 , 0.00496723, 0.00499698, 0.00502697, 0.0050572 ,\n",
       "       0.00508766, 0.00511837, 0.00514932, 0.00518052, 0.00521196,\n",
       "       0.00524366, 0.00527561, 0.00530781, 0.00534027, 0.005373  ,\n",
       "       0.00540599, 0.00543924, 0.00547276, 0.00550656, 0.00554063,\n",
       "       0.00557497, 0.0056096 , 0.0056445 , 0.0056797 , 0.00571518,\n",
       "       0.00575095, 0.00578701, 0.00582338, 0.00586004, 0.005897  ,\n",
       "       0.00593428, 0.00597186, 0.00600975, 0.00604796, 0.00608649,\n",
       "       0.00612534, 0.00616451, 0.00620401, 0.00624385, 0.00628402,\n",
       "       0.00632453, 0.00636538, 0.00640658, 0.00644813, 0.00649003,\n",
       "       0.00653229, 0.00657491, 0.0066179 , 0.00666125, 0.00670497,\n",
       "       0.00674907, 0.00679355, 0.00683842, 0.00688367, 0.00692932,\n",
       "       0.00697536, 0.0070218 , 0.00706865, 0.0071159 , 0.00716357,\n",
       "       0.00721166, 0.00726017, 0.00730911, 0.00735848, 0.00740829,\n",
       "       0.00745853, 0.00750923, 0.00756037, 0.00761197, 0.00766403,\n",
       "       0.00771656, 0.00776955, 0.00782303, 0.00787698, 0.00793142,\n",
       "       0.00798635, 0.00804178, 0.00809772, 0.00815416, 0.00821111,\n",
       "       0.00826859, 0.00832659, 0.00838512, 0.00844419, 0.0085038 ,\n",
       "       0.00856396, 0.00862468, 0.00868596, 0.00874781, 0.00881023,\n",
       "       0.00887324, 0.00893683, 0.00900102, 0.00906581, 0.0091312 ,\n",
       "       0.00919722, 0.00926385, 0.00933111, 0.00939902, 0.00946756,\n",
       "       0.00953676, 0.00960661, 0.00967713, 0.00974833, 0.00982021,\n",
       "       0.00989278, 0.00996605, 0.01004002, 0.01011471, 0.01019012,\n",
       "       0.01026627, 0.01034315, 0.01042079, 0.01049918, 0.01057834,\n",
       "       0.01065828, 0.010739  , 0.01082052, 0.01090284, 0.01098597,\n",
       "       0.01106993, 0.01115472, 0.01124036, 0.01132685, 0.01141421,\n",
       "       0.01150244, 0.01159155, 0.01168157, 0.01177249, 0.01186432,\n",
       "       0.01195709, 0.0120508 , 0.01214546, 0.01224109, 0.01233769,\n",
       "       0.01243528, 0.01253387, 0.01263347, 0.0127341 , 0.01283577,\n",
       "       0.01293849, 0.01304227, 0.01314714, 0.01325309, 0.01336015,\n",
       "       0.01346833, 0.01357764, 0.0136881 , 0.01379972, 0.01391252,\n",
       "       0.0140265 , 0.0141417 , 0.01425812, 0.01437578, 0.01449469,\n",
       "       0.01461487, 0.01473634, 0.01485911, 0.01498321, 0.01510864,\n",
       "       0.01523542, 0.01536358, 0.01549312, 0.01562408, 0.01575646,\n",
       "       0.01589028, 0.01602557, 0.01616235, 0.01630062, 0.01644042,\n",
       "       0.01658176, 0.01672467, 0.01686916, 0.01701526, 0.01716298,\n",
       "       0.01731235, 0.01746339, 0.01761612, 0.01777057, 0.01792676,\n",
       "       0.01808471, 0.01824445, 0.01840599, 0.01856938, 0.01873461,\n",
       "       0.01890174, 0.01907077, 0.01924175, 0.01941468, 0.0195896 ,\n",
       "       0.01976655, 0.01994553, 0.02012659, 0.02030975, 0.02049504,\n",
       "       0.02068249, 0.02087213, 0.021064  , 0.02125811, 0.0214545 ,\n",
       "       0.02165321, 0.02185427, 0.02205771, 0.02226356, 0.02247186,\n",
       "       0.02268264, 0.02289593, 0.02311178, 0.02333022, 0.02355128,\n",
       "       0.023775  , 0.02400143, 0.02423059, 0.02446253, 0.02469729,\n",
       "       0.0249349 , 0.02517542, 0.02541887, 0.02566531, 0.02591477,\n",
       "       0.0261673 , 0.02642295, 0.02668175, 0.02694376, 0.02720902,\n",
       "       0.02747757, 0.02774948, 0.02802477, 0.02830352, 0.02858575,\n",
       "       0.02887154, 0.02916092, 0.02945395, 0.02975068, 0.03005118,\n",
       "       0.03035549, 0.03066367, 0.03097577, 0.03129186, 0.031612  ,\n",
       "       0.03193624, 0.03226465, 0.03259728, 0.03293421, 0.03327548,\n",
       "       0.03362118, 0.03397136, 0.0343261 , 0.03468545, 0.0350495 ,\n",
       "       0.0354183 , 0.03579193, 0.03617047, 0.03655398, 0.03694255,\n",
       "       0.03733624, 0.03773514, 0.03813932, 0.03854887, 0.03896385,\n",
       "       0.03938437, 0.03981049, 0.04024231, 0.04067991, 0.04112337,\n",
       "       0.0415728 , 0.04202827, 0.04248987, 0.04295771, 0.04343188,\n",
       "       0.04391246, 0.04439957, 0.04489329, 0.04539373, 0.04590099,\n",
       "       0.04641518, 0.04693639, 0.04746474, 0.04800033, 0.04854327,\n",
       "       0.04909368, 0.04965167, 0.05021734, 0.05079083, 0.05137223,\n",
       "       0.05196169, 0.05255931, 0.05316522, 0.05377955, 0.05440242,\n",
       "       0.05503396, 0.0556743 , 0.05632357, 0.05698191, 0.05764944,\n",
       "       0.05832632, 0.05901268, 0.05970865, 0.06041439, 0.06113003,\n",
       "       0.06185572, 0.06259162, 0.06333787, 0.06409462, 0.06486203,\n",
       "       0.06564025, 0.06642944, 0.06722977, 0.06804138, 0.06886445,\n",
       "       0.06969914, 0.07054561, 0.07140403, 0.07227458, 0.07315743,\n",
       "       0.07405274, 0.07496069, 0.07588146, 0.07681523, 0.07776218,\n",
       "       0.07872248, 0.07969633, 0.08068389, 0.08168537, 0.08270094,\n",
       "       0.08373079, 0.08477512, 0.0858341 , 0.08690794, 0.08799681,\n",
       "       0.08910093, 0.09022047, 0.09135563, 0.0925066 , 0.09367359,\n",
       "       0.09485678, 0.09605636, 0.09727254, 0.0985055 , 0.09975545,\n",
       "       0.10102257, 0.10230705, 0.1036091 , 0.10492889, 0.10626662,\n",
       "       0.10762248, 0.10899665, 0.11038932, 0.11180067, 0.11323088,\n",
       "       0.11468012, 0.11614858, 0.11763642, 0.11914381, 0.12067091,\n",
       "       0.12221788, 0.12378489, 0.12537207, 0.12697957, 0.12860754,\n",
       "       0.13025611, 0.1319254 , 0.13361553, 0.13532662, 0.13705877,\n",
       "       0.13881208, 0.14058664, 0.14238252, 0.14419981, 0.14603855,\n",
       "       0.14789879, 0.14978058, 0.15168394, 0.15360888, 0.15555541,\n",
       "       0.15752351, 0.15951315, 0.16152429, 0.16355687, 0.16561082,\n",
       "       0.16768605, 0.16978245, 0.17189989, 0.17403822, 0.17619729,\n",
       "       0.17837689, 0.18057684, 0.18279689, 0.18503679, 0.18729627,\n",
       "       0.18957503, 0.19187274, 0.19418905, 0.19652359, 0.19887595,\n",
       "       0.20124569, 0.20363236, 0.20603547, 0.20845449, 0.21088887,\n",
       "       0.21333803, 0.21580135, 0.21827819, 0.22076786, 0.22326964,\n",
       "       0.2257828 , 0.22830653, 0.23084003, 0.23338244, 0.23593286,\n",
       "       0.23849037, 0.24105399, 0.24362274, 0.24619557, 0.2487714 ,\n",
       "       0.25134912, 0.25392759, 0.25650562, 0.25908198, 0.26165542,\n",
       "       0.26422465, 0.26678833, 0.26934511, 0.27189359, 0.27443233,\n",
       "       0.27695988, 0.27947476, 0.28197543, 0.28446034, 0.28692794,\n",
       "       0.2893766 , 0.29180472, 0.29421064, 0.29659269, 0.2989492 ,\n",
       "       0.30127846, 0.30357876, 0.30584837, 0.30808556, 0.31028859,\n",
       "       0.31245571, 0.31458518, 0.31667525, 0.31872418, 0.32073024,\n",
       "       0.3226917 , 0.32460687, 0.32647403, 0.32829153, 0.33005771,\n",
       "       0.33177094, 0.33342964, 0.33503223, 0.33657719, 0.33806304,\n",
       "       0.33948832, 0.34085165, 0.34215165, 0.34338704, 0.34455657,\n",
       "       0.34565904, 0.34669333, 0.34765837, 0.34855315, 0.34937675,\n",
       "       0.35012829, 0.35080699, 0.35141212, 0.35194303, 0.35239917,\n",
       "       0.35278003, 0.35308522, 0.3533144 , 0.35346732, 0.35354383,\n",
       "       0.35354383, 0.35346732, 0.3533144 , 0.35308522, 0.35278003,\n",
       "       0.35239917, 0.35194303, 0.35141212, 0.35080699, 0.35012829,\n",
       "       0.34937675, 0.34855315, 0.34765837, 0.34669333, 0.34565904,\n",
       "       0.34455657, 0.34338704, 0.34215165, 0.34085165, 0.33948832,\n",
       "       0.33806304, 0.33657719, 0.33503223, 0.33342964, 0.33177094,\n",
       "       0.33005771, 0.32829153, 0.32647403, 0.32460687, 0.3226917 ,\n",
       "       0.32073024, 0.31872418, 0.31667525, 0.31458518, 0.31245571,\n",
       "       0.31028859, 0.30808556, 0.30584837, 0.30357876, 0.30127846,\n",
       "       0.2989492 , 0.29659269, 0.29421064, 0.29180472, 0.2893766 ,\n",
       "       0.28692794, 0.28446034, 0.28197543, 0.27947476, 0.27695988,\n",
       "       0.27443233, 0.27189359, 0.26934511, 0.26678833, 0.26422465,\n",
       "       0.26165542, 0.25908198, 0.25650562, 0.25392759, 0.25134912,\n",
       "       0.2487714 , 0.24619557, 0.24362274, 0.24105399, 0.23849037,\n",
       "       0.23593286, 0.23338244, 0.23084003, 0.22830653, 0.2257828 ,\n",
       "       0.22326964, 0.22076786, 0.21827819, 0.21580135, 0.21333803,\n",
       "       0.21088887, 0.20845449, 0.20603547, 0.20363236, 0.20124569,\n",
       "       0.19887595, 0.19652359, 0.19418905, 0.19187274, 0.18957503,\n",
       "       0.18729627, 0.18503679, 0.18279689, 0.18057684, 0.17837689,\n",
       "       0.17619729, 0.17403822, 0.17189989, 0.16978245, 0.16768605,\n",
       "       0.16561082, 0.16355687, 0.16152429, 0.15951315, 0.15752351,\n",
       "       0.15555541, 0.15360888, 0.15168394, 0.14978058, 0.14789879,\n",
       "       0.14603855, 0.14419981, 0.14238252, 0.14058664, 0.13881208,\n",
       "       0.13705877, 0.13532662, 0.13361553, 0.1319254 , 0.13025611,\n",
       "       0.12860754, 0.12697957, 0.12537207, 0.12378489, 0.12221788,\n",
       "       0.12067091, 0.11914381, 0.11763642, 0.11614858, 0.11468012,\n",
       "       0.11323088, 0.11180067, 0.11038932, 0.10899665, 0.10762248,\n",
       "       0.10626662, 0.10492889, 0.1036091 , 0.10230705, 0.10102257,\n",
       "       0.09975545, 0.0985055 , 0.09727254, 0.09605636, 0.09485678,\n",
       "       0.09367359, 0.0925066 , 0.09135563, 0.09022047, 0.08910093,\n",
       "       0.08799681, 0.08690794, 0.0858341 , 0.08477512, 0.08373079,\n",
       "       0.08270094, 0.08168537, 0.08068389, 0.07969633, 0.07872248,\n",
       "       0.07776218, 0.07681523, 0.07588146, 0.07496069, 0.07405274,\n",
       "       0.07315743, 0.07227458, 0.07140403, 0.07054561, 0.06969914,\n",
       "       0.06886445, 0.06804138, 0.06722977, 0.06642944, 0.06564025,\n",
       "       0.06486203, 0.06409462, 0.06333787, 0.06259162, 0.06185572,\n",
       "       0.06113003, 0.06041439, 0.05970865, 0.05901268, 0.05832632,\n",
       "       0.05764944, 0.05698191, 0.05632357, 0.0556743 , 0.05503396,\n",
       "       0.05440242, 0.05377955, 0.05316522, 0.05255931, 0.05196169,\n",
       "       0.05137223, 0.05079083, 0.05021734, 0.04965167, 0.04909368,\n",
       "       0.04854327, 0.04800033, 0.04746474, 0.04693639, 0.04641518,\n",
       "       0.04590099, 0.04539373, 0.04489329, 0.04439957, 0.04391246,\n",
       "       0.04343188, 0.04295771, 0.04248987, 0.04202827, 0.0415728 ,\n",
       "       0.04112337, 0.04067991, 0.04024231, 0.03981049, 0.03938437,\n",
       "       0.03896385, 0.03854887, 0.03813932, 0.03773514, 0.03733624,\n",
       "       0.03694255, 0.03655398, 0.03617047, 0.03579193, 0.0354183 ,\n",
       "       0.0350495 , 0.03468545, 0.0343261 , 0.03397136, 0.03362118,\n",
       "       0.03327548, 0.03293421, 0.03259728, 0.03226465, 0.03193624,\n",
       "       0.031612  , 0.03129186, 0.03097577, 0.03066367, 0.03035549,\n",
       "       0.03005118, 0.02975068, 0.02945395, 0.02916092, 0.02887154,\n",
       "       0.02858575, 0.02830352, 0.02802477, 0.02774948, 0.02747757,\n",
       "       0.02720902, 0.02694376, 0.02668175, 0.02642295, 0.0261673 ,\n",
       "       0.02591477, 0.02566531, 0.02541887, 0.02517542, 0.0249349 ,\n",
       "       0.02469729, 0.02446253, 0.02423059, 0.02400143, 0.023775  ,\n",
       "       0.02355128, 0.02333022, 0.02311178, 0.02289593, 0.02268264,\n",
       "       0.02247186, 0.02226356, 0.02205771, 0.02185427, 0.02165321,\n",
       "       0.0214545 , 0.02125811, 0.021064  , 0.02087213, 0.02068249,\n",
       "       0.02049504, 0.02030975, 0.02012659, 0.01994553, 0.01976655,\n",
       "       0.0195896 , 0.01941468, 0.01924175, 0.01907077, 0.01890174,\n",
       "       0.01873461, 0.01856938, 0.01840599, 0.01824445, 0.01808471,\n",
       "       0.01792676, 0.01777057, 0.01761612, 0.01746339, 0.01731235,\n",
       "       0.01716298, 0.01701526, 0.01686916, 0.01672467, 0.01658176,\n",
       "       0.01644042, 0.01630062, 0.01616235, 0.01602557, 0.01589028,\n",
       "       0.01575646, 0.01562408, 0.01549312, 0.01536358, 0.01523542,\n",
       "       0.01510864, 0.01498321, 0.01485911, 0.01473634, 0.01461487,\n",
       "       0.01449469, 0.01437578, 0.01425812, 0.0141417 , 0.0140265 ,\n",
       "       0.01391252, 0.01379972, 0.0136881 , 0.01357764, 0.01346833,\n",
       "       0.01336015, 0.01325309, 0.01314714, 0.01304227, 0.01293849,\n",
       "       0.01283577, 0.0127341 , 0.01263347, 0.01253387, 0.01243528,\n",
       "       0.01233769, 0.01224109, 0.01214546, 0.0120508 , 0.01195709,\n",
       "       0.01186432, 0.01177249, 0.01168157, 0.01159155, 0.01150244,\n",
       "       0.01141421, 0.01132685, 0.01124036, 0.01115472, 0.01106993,\n",
       "       0.01098597, 0.01090284, 0.01082052, 0.010739  , 0.01065828,\n",
       "       0.01057834, 0.01049918, 0.01042079, 0.01034315, 0.01026627,\n",
       "       0.01019012, 0.01011471, 0.01004002, 0.00996605, 0.00989278,\n",
       "       0.00982021, 0.00974833, 0.00967713, 0.00960661, 0.00953676,\n",
       "       0.00946756, 0.00939902, 0.00933111, 0.00926385, 0.00919722,\n",
       "       0.0091312 , 0.00906581, 0.00900102, 0.00893683, 0.00887324,\n",
       "       0.00881023, 0.00874781, 0.00868596, 0.00862468, 0.00856396,\n",
       "       0.0085038 , 0.00844419, 0.00838512, 0.00832659, 0.00826859,\n",
       "       0.00821111, 0.00815416, 0.00809772, 0.00804178, 0.00798635,\n",
       "       0.00793142, 0.00787698, 0.00782303, 0.00776955, 0.00771656,\n",
       "       0.00766403, 0.00761197, 0.00756037, 0.00750923, 0.00745853,\n",
       "       0.00740829, 0.00735848, 0.00730911, 0.00726017, 0.00721166,\n",
       "       0.00716357, 0.0071159 , 0.00706865, 0.0070218 , 0.00697536,\n",
       "       0.00692932, 0.00688367, 0.00683842, 0.00679355, 0.00674907,\n",
       "       0.00670497, 0.00666125, 0.0066179 , 0.00657491, 0.00653229,\n",
       "       0.00649003, 0.00644813, 0.00640658, 0.00636538, 0.00632453,\n",
       "       0.00628402, 0.00624385, 0.00620401, 0.00616451, 0.00612534,\n",
       "       0.00608649, 0.00604796, 0.00600975, 0.00597186, 0.00593428,\n",
       "       0.005897  , 0.00586004, 0.00582338, 0.00578701, 0.00575095,\n",
       "       0.00571518, 0.0056797 , 0.0056445 , 0.0056096 , 0.00557497,\n",
       "       0.00554063, 0.00550656, 0.00547276, 0.00543924, 0.00540599,\n",
       "       0.005373  , 0.00534027, 0.00530781, 0.00527561, 0.00524366,\n",
       "       0.00521196, 0.00518052, 0.00514932, 0.00511837, 0.00508766,\n",
       "       0.0050572 , 0.00502697, 0.00499698, 0.00496723, 0.0049377 ,\n",
       "       0.00490841, 0.00487934, 0.0048505 , 0.00482189, 0.00479349,\n",
       "       0.00476532, 0.00473736, 0.00470961, 0.00468208, 0.00465476,\n",
       "       0.00462765, 0.00460075, 0.00457405, 0.00454755, 0.00452126,\n",
       "       0.00449516, 0.00446927, 0.00444357, 0.00441806, 0.00439274,\n",
       "       0.00436762, 0.00434268, 0.00431793, 0.00429337, 0.00426898])"
      ]
     },
     "execution_count": 17,
     "metadata": {},
     "output_type": "execute_result"
    }
   ],
   "source": [
    "cn.prob(X_input)"
   ]
  },
  {
   "cell_type": "code",
   "execution_count": 18,
   "metadata": {},
   "outputs": [
    {
     "data": {
      "text/plain": [
       "(2.82842712474619, 2.82842712474619, 2.82842712474619)"
      ]
     },
     "execution_count": 18,
     "metadata": {},
     "output_type": "execute_result"
    }
   ],
   "source": [
    "cn._normalized_term(), cn._normalized_term(use_scipy_gamma_func=True), cn._normalized_term(use_beta_func=True)"
   ]
  },
  {
   "cell_type": "markdown",
   "metadata": {},
   "source": [
    "Test for really low kappa value"
   ]
  },
  {
   "cell_type": "code",
   "execution_count": 19,
   "metadata": {},
   "outputs": [],
   "source": [
    "kappa=0.003"
   ]
  },
  {
   "cell_type": "code",
   "execution_count": 20,
   "metadata": {},
   "outputs": [],
   "source": [
    "cn = CoupledNormal(loc=mu, scale=sigma, kappa=kappa)"
   ]
  },
  {
   "cell_type": "code",
   "execution_count": 21,
   "metadata": {},
   "outputs": [
    {
     "name": "stdout",
     "output_type": "stream",
     "text": [
      "166.66666666666666\n"
     ]
    },
    {
     "data": {
      "text/plain": [
       "9.332621544394415e+155"
      ]
     },
     "execution_count": 21,
     "metadata": {},
     "output_type": "execute_result"
    }
   ],
   "source": [
    "print(1 / (2*kappa))\n",
    "math.gamma(100)"
   ]
  },
  {
   "cell_type": "code",
   "execution_count": 22,
   "metadata": {},
   "outputs": [
    {
     "data": {
      "text/plain": [
       "2.508508948180413"
      ]
     },
     "execution_count": 22,
     "metadata": {},
     "output_type": "execute_result"
    }
   ],
   "source": [
    "cn._normalized_term()"
   ]
  },
  {
   "cell_type": "code",
   "execution_count": 23,
   "metadata": {},
   "outputs": [
    {
     "data": {
      "text/plain": [
       "2.5085089481804146"
      ]
     },
     "execution_count": 23,
     "metadata": {},
     "output_type": "execute_result"
    }
   ],
   "source": [
    "cn._normalized_term(use_beta_func=True)"
   ]
  },
  {
   "cell_type": "code",
   "execution_count": 24,
   "metadata": {},
   "outputs": [
    {
     "data": {
      "text/plain": [
       "2.5085089481804146"
      ]
     },
     "execution_count": 24,
     "metadata": {},
     "output_type": "execute_result"
    }
   ],
   "source": [
    "cn._normalized_term(use_beta_func=True)"
   ]
  },
  {
   "cell_type": "code",
   "execution_count": 25,
   "metadata": {},
   "outputs": [
    {
     "name": "stdout",
     "output_type": "stream",
     "text": [
      "1\n",
      "2.508508948180413\n",
      "[1.42896327e-08 1.52522011e-08 1.62778955e-08 1.73707354e-08\n",
      " 1.85349883e-08 1.97751838e-08 2.10961296e-08 2.25029279e-08\n",
      " 2.40009925e-08 2.55960675e-08 2.72942464e-08 2.91019925e-08\n",
      " 3.10261610e-08 3.30740213e-08 3.52532813e-08 3.75721129e-08\n",
      " 4.00391789e-08 4.26636611e-08 4.54552902e-08 4.84243777e-08\n",
      " 5.15818489e-08 5.49392780e-08 5.85089250e-08 6.23037750e-08\n",
      " 6.63375792e-08 7.06248983e-08 7.51811481e-08 8.00226476e-08\n",
      " 8.51666701e-08 9.06314963e-08 9.64364708e-08 1.02602061e-07\n",
      " 1.09149921e-07 1.16102954e-07 1.23485386e-07 1.31322836e-07\n",
      " 1.39642391e-07 1.48472692e-07 1.57844013e-07 1.67788354e-07\n",
      " 1.78339533e-07 1.89533287e-07 2.01407373e-07 2.14001678e-07\n",
      " 2.27358336e-07 2.41521846e-07 2.56539199e-07 2.72460013e-07\n",
      " 2.89336668e-07 3.07224461e-07 3.26181751e-07 3.46270130e-07\n",
      " 3.67554585e-07 3.90103682e-07 4.13989749e-07 4.39289077e-07\n",
      " 4.66082123e-07 4.94453727e-07 5.24493340e-07 5.56295261e-07\n",
      " 5.89958884e-07 6.25588967e-07 6.63295895e-07 7.03195978e-07\n",
      " 7.45411745e-07 7.90072262e-07 8.37313463e-07 8.87278492e-07\n",
      " 9.40118073e-07 9.95990879e-07 1.05506394e-06 1.11751304e-06\n",
      " 1.18352319e-06 1.25328903e-06 1.32701535e-06 1.40491757e-06\n",
      " 1.48722225e-06 1.57416765e-06 1.66600430e-06 1.76299560e-06\n",
      " 1.86541839e-06 1.97356369e-06 2.08773730e-06 2.20826054e-06\n",
      " 2.33547100e-06 2.46972329e-06 2.61138986e-06 2.76086185e-06\n",
      " 2.91854994e-06 3.08488531e-06 3.26032054e-06 3.44533069e-06\n",
      " 3.64041424e-06 3.84609426e-06 4.06291950e-06 4.29146559e-06\n",
      " 4.53233623e-06 4.78616453e-06 5.05361429e-06 5.33538143e-06\n",
      " 5.63219540e-06 5.94482072e-06 6.27405855e-06 6.62074827e-06\n",
      " 6.98576925e-06 7.37004258e-06 7.77453291e-06 8.20025035e-06\n",
      " 8.64825252e-06 9.11964653e-06 9.61559120e-06 1.01372993e-05\n",
      " 1.06860397e-05 1.12631401e-05 1.18699892e-05 1.25080396e-05\n",
      " 1.31788103e-05 1.38838896e-05 1.46249377e-05 1.54036904e-05\n",
      " 1.62219616e-05 1.70816468e-05 1.79847265e-05 1.89332694e-05\n",
      " 1.99294366e-05 2.09754848e-05 2.20737704e-05 2.32267536e-05\n",
      " 2.44370025e-05 2.57071974e-05 2.70401352e-05 2.84387344e-05\n",
      " 2.99060393e-05 3.14452255e-05 3.30596047e-05 3.47526302e-05\n",
      " 3.65279024e-05 3.83891742e-05 4.03403570e-05 4.23855271e-05\n",
      " 4.45289314e-05 4.67749944e-05 4.91283242e-05 5.15937202e-05\n",
      " 5.41761797e-05 5.68809053e-05 5.97133126e-05 6.26790379e-05\n",
      " 6.57839465e-05 6.90341407e-05 7.24359685e-05 7.59960324e-05\n",
      " 7.97211987e-05 8.36186064e-05 8.76956774e-05 9.19601261e-05\n",
      " 9.64199697e-05 1.01083539e-04 1.05959488e-04 1.11056807e-04\n",
      " 1.16384833e-04 1.21953260e-04 1.27772156e-04 1.33851968e-04\n",
      " 1.40203541e-04 1.46838128e-04 1.53767407e-04 1.61003487e-04\n",
      " 1.68558933e-04 1.76446771e-04 1.84680509e-04 1.93274149e-04\n",
      " 2.02242203e-04 2.11599712e-04 2.21362259e-04 2.31545987e-04\n",
      " 2.42167617e-04 2.53244465e-04 2.64794460e-04 2.76836161e-04\n",
      " 2.89388781e-04 3.02472200e-04 3.16106989e-04 3.30314426e-04\n",
      " 3.45116524e-04 3.60536042e-04 3.76596517e-04 3.93322277e-04\n",
      " 4.10738468e-04 4.28871077e-04 4.47746951e-04 4.67393828e-04\n",
      " 4.87840352e-04 5.09116105e-04 5.31251630e-04 5.54278452e-04\n",
      " 5.78229112e-04 6.03137183e-04 6.29037308e-04 6.55965217e-04\n",
      " 6.83957761e-04 7.13052936e-04 7.43289916e-04 7.74709075e-04\n",
      " 8.07352023e-04 8.41261630e-04 8.76482060e-04 9.13058797e-04\n",
      " 9.51038680e-04 9.90469931e-04 1.03140219e-03 1.07388653e-03\n",
      " 1.11797553e-03 1.16372324e-03 1.21118530e-03 1.26041889e-03\n",
      " 1.31148280e-03 1.36443749e-03 1.41934506e-03 1.47626935e-03\n",
      " 1.53527591e-03 1.59643210e-03 1.65980706e-03 1.72547179e-03\n",
      " 1.79349916e-03 1.86396396e-03 1.93694292e-03 2.01251476e-03\n",
      " 2.09076020e-03 2.17176201e-03 2.25560505e-03 2.34237629e-03\n",
      " 2.43216485e-03 2.52506204e-03 2.62116136e-03 2.72055859e-03\n",
      " 2.82335177e-03 2.92964125e-03 3.03952974e-03 3.15312231e-03\n",
      " 3.27052643e-03 3.39185204e-03 3.51721149e-03 3.64671966e-03\n",
      " 3.78049396e-03 3.91865430e-03 4.06132321e-03 4.20862581e-03\n",
      " 4.36068982e-03 4.51764564e-03 4.67962633e-03 4.84676762e-03\n",
      " 5.01920798e-03 5.19708861e-03 5.38055343e-03 5.56974917e-03\n",
      " 5.76482529e-03 5.96593409e-03 6.17323065e-03 6.38687286e-03\n",
      " 6.60702146e-03 6.83384001e-03 7.06749489e-03 7.30815534e-03\n",
      " 7.55599344e-03 7.81118412e-03 8.07390511e-03 8.34433702e-03\n",
      " 8.62266326e-03 8.90907005e-03 9.20374644e-03 9.50688425e-03\n",
      " 9.81867807e-03 1.01393253e-02 1.04690259e-02 1.08079828e-02\n",
      " 1.11564015e-02 1.15144899e-02 1.18824590e-02 1.22605219e-02\n",
      " 1.26488946e-02 1.30477954e-02 1.34574451e-02 1.38780669e-02\n",
      " 1.43098864e-02 1.47531313e-02 1.52080319e-02 1.56748203e-02\n",
      " 1.61537309e-02 1.66450000e-02 1.71488661e-02 1.76655694e-02\n",
      " 1.81953518e-02 1.87384572e-02 1.92951309e-02 1.98656198e-02\n",
      " 2.04501724e-02 2.10490381e-02 2.16624681e-02 2.22907142e-02\n",
      " 2.29340296e-02 2.35926682e-02 2.42668846e-02 2.49569343e-02\n",
      " 2.56630730e-02 2.63855571e-02 2.71246429e-02 2.78805871e-02\n",
      " 2.86536462e-02 2.94440764e-02 3.02521339e-02 3.10780740e-02\n",
      " 3.19221515e-02 3.27846204e-02 3.36657335e-02 3.45657426e-02\n",
      " 3.54848981e-02 3.64234488e-02 3.73816416e-02 3.83597217e-02\n",
      " 3.93579322e-02 4.03765136e-02 4.14157042e-02 4.24757393e-02\n",
      " 4.35568513e-02 4.46592696e-02 4.57832200e-02 4.69289249e-02\n",
      " 4.80966029e-02 4.92864682e-02 5.04987312e-02 5.17335976e-02\n",
      " 5.29912682e-02 5.42719391e-02 5.55758010e-02 5.69030392e-02\n",
      " 5.82538334e-02 5.96283574e-02 6.10267784e-02 6.24492578e-02\n",
      " 6.38959498e-02 6.53670019e-02 6.68625545e-02 6.83827404e-02\n",
      " 6.99276847e-02 7.14975048e-02 7.30923096e-02 7.47121999e-02\n",
      " 7.63572675e-02 7.80275955e-02 7.97232576e-02 8.14443183e-02\n",
      " 8.31908322e-02 8.49628440e-02 8.67603883e-02 8.85834894e-02\n",
      " 9.04321605e-02 9.23064044e-02 9.42062126e-02 9.61315650e-02\n",
      " 9.80824303e-02 1.00058765e-01 1.02060514e-01 1.04087610e-01\n",
      " 1.06139972e-01 1.08217507e-01 1.10320111e-01 1.12447665e-01\n",
      " 1.14600036e-01 1.16777080e-01 1.18978636e-01 1.21204534e-01\n",
      " 1.23454585e-01 1.25728589e-01 1.28026330e-01 1.30347580e-01\n",
      " 1.32692095e-01 1.35059614e-01 1.37449866e-01 1.39862561e-01\n",
      " 1.42297397e-01 1.44754053e-01 1.47232198e-01 1.49731482e-01\n",
      " 1.52251540e-01 1.54791993e-01 1.57352446e-01 1.59932489e-01\n",
      " 1.62531695e-01 1.65149623e-01 1.67785817e-01 1.70439803e-01\n",
      " 1.73111095e-01 1.75799188e-01 1.78503565e-01 1.81223692e-01\n",
      " 1.83959019e-01 1.86708982e-01 1.89473003e-01 1.92250487e-01\n",
      " 1.95040825e-01 1.97843393e-01 2.00657554e-01 2.03482654e-01\n",
      " 2.06318028e-01 2.09162994e-01 2.12016858e-01 2.14878912e-01\n",
      " 2.17748434e-01 2.20624690e-01 2.23506932e-01 2.26394400e-01\n",
      " 2.29286322e-01 2.32181913e-01 2.35080376e-01 2.37980905e-01\n",
      " 2.40882680e-01 2.43784872e-01 2.46686641e-01 2.49587136e-01\n",
      " 2.52485498e-01 2.55380858e-01 2.58272338e-01 2.61159051e-01\n",
      " 2.64040104e-01 2.66914593e-01 2.69781610e-01 2.72640239e-01\n",
      " 2.75489557e-01 2.78328637e-01 2.81156544e-01 2.83972341e-01\n",
      " 2.86775084e-01 2.89563829e-01 2.92337624e-01 2.95095517e-01\n",
      " 2.97836554e-01 3.00559778e-01 3.03264232e-01 3.05948957e-01\n",
      " 3.08612994e-01 3.11255387e-01 3.13875178e-01 3.16471412e-01\n",
      " 3.19043137e-01 3.21589401e-01 3.24109259e-01 3.26601767e-01\n",
      " 3.29065987e-01 3.31500986e-01 3.33905836e-01 3.36279617e-01\n",
      " 3.38621413e-01 3.40930318e-01 3.43205432e-01 3.45445867e-01\n",
      " 3.47650740e-01 3.49819180e-01 3.51950327e-01 3.54043330e-01\n",
      " 3.56097351e-01 3.58111564e-01 3.60085154e-01 3.62017321e-01\n",
      " 3.63907278e-01 3.65754252e-01 3.67557484e-01 3.69316234e-01\n",
      " 3.71029772e-01 3.72697390e-01 3.74318392e-01 3.75892102e-01\n",
      " 3.77417862e-01 3.78895031e-01 3.80322986e-01 3.81701126e-01\n",
      " 3.83028866e-01 3.84305643e-01 3.85530914e-01 3.86704157e-01\n",
      " 3.87824871e-01 3.88892575e-01 3.89906812e-01 3.90867146e-01\n",
      " 3.91773162e-01 3.92624472e-01 3.93420706e-01 3.94161521e-01\n",
      " 3.94846596e-01 3.95475633e-01 3.96048360e-01 3.96564528e-01\n",
      " 3.97023912e-01 3.97426312e-01 3.97771552e-01 3.98059484e-01\n",
      " 3.98289979e-01 3.98462939e-01 3.98578288e-01 3.98635975e-01\n",
      " 3.98635975e-01 3.98578288e-01 3.98462939e-01 3.98289979e-01\n",
      " 3.98059484e-01 3.97771552e-01 3.97426312e-01 3.97023912e-01\n",
      " 3.96564528e-01 3.96048360e-01 3.95475633e-01 3.94846596e-01\n",
      " 3.94161521e-01 3.93420706e-01 3.92624472e-01 3.91773162e-01\n",
      " 3.90867146e-01 3.89906812e-01 3.88892575e-01 3.87824871e-01\n",
      " 3.86704157e-01 3.85530914e-01 3.84305643e-01 3.83028866e-01\n",
      " 3.81701126e-01 3.80322986e-01 3.78895031e-01 3.77417862e-01\n",
      " 3.75892102e-01 3.74318392e-01 3.72697390e-01 3.71029772e-01\n",
      " 3.69316234e-01 3.67557484e-01 3.65754252e-01 3.63907278e-01\n",
      " 3.62017321e-01 3.60085154e-01 3.58111564e-01 3.56097351e-01\n",
      " 3.54043330e-01 3.51950327e-01 3.49819180e-01 3.47650740e-01\n",
      " 3.45445867e-01 3.43205432e-01 3.40930318e-01 3.38621413e-01\n",
      " 3.36279617e-01 3.33905836e-01 3.31500986e-01 3.29065987e-01\n",
      " 3.26601767e-01 3.24109259e-01 3.21589401e-01 3.19043137e-01\n",
      " 3.16471412e-01 3.13875178e-01 3.11255387e-01 3.08612994e-01\n",
      " 3.05948957e-01 3.03264232e-01 3.00559778e-01 2.97836554e-01\n",
      " 2.95095517e-01 2.92337624e-01 2.89563829e-01 2.86775084e-01\n",
      " 2.83972341e-01 2.81156544e-01 2.78328637e-01 2.75489557e-01\n",
      " 2.72640239e-01 2.69781610e-01 2.66914593e-01 2.64040104e-01\n",
      " 2.61159051e-01 2.58272338e-01 2.55380858e-01 2.52485498e-01\n",
      " 2.49587136e-01 2.46686641e-01 2.43784872e-01 2.40882680e-01\n",
      " 2.37980905e-01 2.35080376e-01 2.32181913e-01 2.29286322e-01\n",
      " 2.26394400e-01 2.23506932e-01 2.20624690e-01 2.17748434e-01\n",
      " 2.14878912e-01 2.12016858e-01 2.09162994e-01 2.06318028e-01\n",
      " 2.03482654e-01 2.00657554e-01 1.97843393e-01 1.95040825e-01\n",
      " 1.92250487e-01 1.89473003e-01 1.86708982e-01 1.83959019e-01\n",
      " 1.81223692e-01 1.78503565e-01 1.75799188e-01 1.73111095e-01\n",
      " 1.70439803e-01 1.67785817e-01 1.65149623e-01 1.62531695e-01\n",
      " 1.59932489e-01 1.57352446e-01 1.54791993e-01 1.52251540e-01\n",
      " 1.49731482e-01 1.47232198e-01 1.44754053e-01 1.42297397e-01\n",
      " 1.39862561e-01 1.37449866e-01 1.35059614e-01 1.32692095e-01\n",
      " 1.30347580e-01 1.28026330e-01 1.25728589e-01 1.23454585e-01\n",
      " 1.21204534e-01 1.18978636e-01 1.16777080e-01 1.14600036e-01\n",
      " 1.12447665e-01 1.10320111e-01 1.08217507e-01 1.06139972e-01\n",
      " 1.04087610e-01 1.02060514e-01 1.00058765e-01 9.80824303e-02\n",
      " 9.61315650e-02 9.42062126e-02 9.23064044e-02 9.04321605e-02\n",
      " 8.85834894e-02 8.67603883e-02 8.49628440e-02 8.31908322e-02\n",
      " 8.14443183e-02 7.97232576e-02 7.80275955e-02 7.63572675e-02\n",
      " 7.47121999e-02 7.30923096e-02 7.14975048e-02 6.99276847e-02\n",
      " 6.83827404e-02 6.68625545e-02 6.53670019e-02 6.38959498e-02\n",
      " 6.24492578e-02 6.10267784e-02 5.96283574e-02 5.82538334e-02\n",
      " 5.69030392e-02 5.55758010e-02 5.42719391e-02 5.29912682e-02\n",
      " 5.17335976e-02 5.04987312e-02 4.92864682e-02 4.80966029e-02\n",
      " 4.69289249e-02 4.57832200e-02 4.46592696e-02 4.35568513e-02\n",
      " 4.24757393e-02 4.14157042e-02 4.03765136e-02 3.93579322e-02\n",
      " 3.83597217e-02 3.73816416e-02 3.64234488e-02 3.54848981e-02\n",
      " 3.45657426e-02 3.36657335e-02 3.27846204e-02 3.19221515e-02\n",
      " 3.10780740e-02 3.02521339e-02 2.94440764e-02 2.86536462e-02\n",
      " 2.78805871e-02 2.71246429e-02 2.63855571e-02 2.56630730e-02\n",
      " 2.49569343e-02 2.42668846e-02 2.35926682e-02 2.29340296e-02\n",
      " 2.22907142e-02 2.16624681e-02 2.10490381e-02 2.04501724e-02\n",
      " 1.98656198e-02 1.92951309e-02 1.87384572e-02 1.81953518e-02\n",
      " 1.76655694e-02 1.71488661e-02 1.66450000e-02 1.61537309e-02\n",
      " 1.56748203e-02 1.52080319e-02 1.47531313e-02 1.43098864e-02\n",
      " 1.38780669e-02 1.34574451e-02 1.30477954e-02 1.26488946e-02\n",
      " 1.22605219e-02 1.18824590e-02 1.15144899e-02 1.11564015e-02\n",
      " 1.08079828e-02 1.04690259e-02 1.01393253e-02 9.81867807e-03\n",
      " 9.50688425e-03 9.20374644e-03 8.90907005e-03 8.62266326e-03\n",
      " 8.34433702e-03 8.07390511e-03 7.81118412e-03 7.55599344e-03\n",
      " 7.30815534e-03 7.06749489e-03 6.83384001e-03 6.60702146e-03\n",
      " 6.38687286e-03 6.17323065e-03 5.96593409e-03 5.76482529e-03\n",
      " 5.56974917e-03 5.38055343e-03 5.19708861e-03 5.01920798e-03\n",
      " 4.84676762e-03 4.67962633e-03 4.51764564e-03 4.36068982e-03\n",
      " 4.20862581e-03 4.06132321e-03 3.91865430e-03 3.78049396e-03\n",
      " 3.64671966e-03 3.51721149e-03 3.39185204e-03 3.27052643e-03\n",
      " 3.15312231e-03 3.03952974e-03 2.92964125e-03 2.82335177e-03\n",
      " 2.72055859e-03 2.62116136e-03 2.52506204e-03 2.43216485e-03\n",
      " 2.34237629e-03 2.25560505e-03 2.17176201e-03 2.09076020e-03\n",
      " 2.01251476e-03 1.93694292e-03 1.86396396e-03 1.79349916e-03\n",
      " 1.72547179e-03 1.65980706e-03 1.59643210e-03 1.53527591e-03\n",
      " 1.47626935e-03 1.41934506e-03 1.36443749e-03 1.31148280e-03\n",
      " 1.26041889e-03 1.21118530e-03 1.16372324e-03 1.11797553e-03\n",
      " 1.07388653e-03 1.03140219e-03 9.90469931e-04 9.51038680e-04\n",
      " 9.13058797e-04 8.76482060e-04 8.41261630e-04 8.07352023e-04\n",
      " 7.74709075e-04 7.43289916e-04 7.13052936e-04 6.83957761e-04\n",
      " 6.55965217e-04 6.29037308e-04 6.03137183e-04 5.78229112e-04\n",
      " 5.54278452e-04 5.31251630e-04 5.09116105e-04 4.87840352e-04\n",
      " 4.67393828e-04 4.47746951e-04 4.28871077e-04 4.10738468e-04\n",
      " 3.93322277e-04 3.76596517e-04 3.60536042e-04 3.45116524e-04\n",
      " 3.30314426e-04 3.16106989e-04 3.02472200e-04 2.89388781e-04\n",
      " 2.76836161e-04 2.64794460e-04 2.53244465e-04 2.42167617e-04\n",
      " 2.31545987e-04 2.21362259e-04 2.11599712e-04 2.02242203e-04\n",
      " 1.93274149e-04 1.84680509e-04 1.76446771e-04 1.68558933e-04\n",
      " 1.61003487e-04 1.53767407e-04 1.46838128e-04 1.40203541e-04\n",
      " 1.33851968e-04 1.27772156e-04 1.21953260e-04 1.16384833e-04\n",
      " 1.11056807e-04 1.05959488e-04 1.01083539e-04 9.64199697e-05\n",
      " 9.19601261e-05 8.76956774e-05 8.36186064e-05 7.97211987e-05\n",
      " 7.59960324e-05 7.24359685e-05 6.90341407e-05 6.57839465e-05\n",
      " 6.26790379e-05 5.97133126e-05 5.68809053e-05 5.41761797e-05\n",
      " 5.15937202e-05 4.91283242e-05 4.67749944e-05 4.45289314e-05\n",
      " 4.23855271e-05 4.03403570e-05 3.83891742e-05 3.65279024e-05\n",
      " 3.47526302e-05 3.30596047e-05 3.14452255e-05 2.99060393e-05\n",
      " 2.84387344e-05 2.70401352e-05 2.57071974e-05 2.44370025e-05\n",
      " 2.32267536e-05 2.20737704e-05 2.09754848e-05 1.99294366e-05\n",
      " 1.89332694e-05 1.79847265e-05 1.70816468e-05 1.62219616e-05\n",
      " 1.54036904e-05 1.46249377e-05 1.38838896e-05 1.31788103e-05\n",
      " 1.25080396e-05 1.18699892e-05 1.12631401e-05 1.06860397e-05\n",
      " 1.01372993e-05 9.61559120e-06 9.11964653e-06 8.64825252e-06\n",
      " 8.20025035e-06 7.77453291e-06 7.37004258e-06 6.98576925e-06\n",
      " 6.62074827e-06 6.27405855e-06 5.94482072e-06 5.63219540e-06\n",
      " 5.33538143e-06 5.05361429e-06 4.78616453e-06 4.53233623e-06\n",
      " 4.29146559e-06 4.06291950e-06 3.84609426e-06 3.64041424e-06\n",
      " 3.44533069e-06 3.26032054e-06 3.08488531e-06 2.91854994e-06\n",
      " 2.76086185e-06 2.61138986e-06 2.46972329e-06 2.33547100e-06\n",
      " 2.20826054e-06 2.08773730e-06 1.97356369e-06 1.86541839e-06\n",
      " 1.76299560e-06 1.66600430e-06 1.57416765e-06 1.48722225e-06\n",
      " 1.40491757e-06 1.32701535e-06 1.25328903e-06 1.18352319e-06\n",
      " 1.11751304e-06 1.05506394e-06 9.95990879e-07 9.40118073e-07\n",
      " 8.87278492e-07 8.37313463e-07 7.90072262e-07 7.45411745e-07\n",
      " 7.03195978e-07 6.63295895e-07 6.25588967e-07 5.89958884e-07\n",
      " 5.56295261e-07 5.24493340e-07 4.94453727e-07 4.66082123e-07\n",
      " 4.39289077e-07 4.13989749e-07 3.90103682e-07 3.67554585e-07\n",
      " 3.46270130e-07 3.26181751e-07 3.07224461e-07 2.89336668e-07\n",
      " 2.72460013e-07 2.56539199e-07 2.41521846e-07 2.27358336e-07\n",
      " 2.14001678e-07 2.01407373e-07 1.89533287e-07 1.78339533e-07\n",
      " 1.67788354e-07 1.57844013e-07 1.48472692e-07 1.39642391e-07\n",
      " 1.31322836e-07 1.23485386e-07 1.16102954e-07 1.09149921e-07\n",
      " 1.02602061e-07 9.64364708e-08 9.06314963e-08 8.51666701e-08\n",
      " 8.00226476e-08 7.51811481e-08 7.06248983e-08 6.63375792e-08\n",
      " 6.23037750e-08 5.85089250e-08 5.49392780e-08 5.15818489e-08\n",
      " 4.84243777e-08 4.54552902e-08 4.26636611e-08 4.00391789e-08\n",
      " 3.75721129e-08 3.52532813e-08 3.30740213e-08 3.10261610e-08\n",
      " 2.91019925e-08 2.72942464e-08 2.55960675e-08 2.40009925e-08\n",
      " 2.25029279e-08 2.10961296e-08 1.97751838e-08 1.85349883e-08\n",
      " 1.73707354e-08 1.62778955e-08 1.52522011e-08 1.42896327e-08]\n"
     ]
    }
   ],
   "source": [
    "print(cn.dim)\n",
    "print(cn._normalized_term())\n",
    "print(cn.prob(X_input))"
   ]
  },
  {
   "cell_type": "markdown",
   "metadata": {},
   "source": [
    "Coupled Normal multiple distributions with batch vector size of 2"
   ]
  },
  {
   "cell_type": "code",
   "execution_count": 26,
   "metadata": {},
   "outputs": [
    {
     "data": {
      "text/plain": [
       "<nsc.distributions.CoupledNormal batch_shape=[2] event_shape=[]>"
      ]
     },
     "execution_count": 26,
     "metadata": {},
     "output_type": "execute_result"
    }
   ],
   "source": [
    "cn = CoupledNormal(loc=[0., 1.], scale=[1., 2.])\n",
    "cn"
   ]
  },
  {
   "cell_type": "code",
   "execution_count": 27,
   "metadata": {},
   "outputs": [
    {
     "name": "stdout",
     "output_type": "stream",
     "text": [
      "1\n",
      "[2.50662827 5.01325655]\n"
     ]
    }
   ],
   "source": [
    "print(cn.dim)\n",
    "print(cn._normalized_term())\n",
    "# print(cn.prob(X_input))"
   ]
  },
  {
   "cell_type": "markdown",
   "metadata": {},
   "source": [
    "Coupled Normal multiple distributions with batch matrix size of 3x2"
   ]
  },
  {
   "cell_type": "code",
   "execution_count": 28,
   "metadata": {},
   "outputs": [
    {
     "data": {
      "text/plain": [
       "<nsc.distributions.CoupledNormal batch_shape=[3, 2] event_shape=[]>"
      ]
     },
     "execution_count": 28,
     "metadata": {},
     "output_type": "execute_result"
    }
   ],
   "source": [
    "cn = CoupledNormal(loc=[[0., 1.], [0., 1.], [0., 1.]], scale=[[1., 2.], [1., 2.], [1., 2.]])\n",
    "cn"
   ]
  },
  {
   "cell_type": "markdown",
   "metadata": {},
   "source": [
    "**Multivariate Coupled Normal distribution when d=2**"
   ]
  },
  {
   "cell_type": "code",
   "execution_count": 29,
   "metadata": {},
   "outputs": [
    {
     "data": {
      "text/plain": [
       "<nsc.distributions.MultivariateCoupledNormal batch_shape=[] event_shape=[2]>"
      ]
     },
     "execution_count": 29,
     "metadata": {},
     "output_type": "execute_result"
    }
   ],
   "source": [
    "# batch_shape is [] while event_shape is [2]\n",
    "mcn = MultivariateCoupledNormal(loc=[0., 1.], scale=[1., 2.], kappa=0.1)\n",
    "mcn"
   ]
  },
  {
   "cell_type": "code",
   "execution_count": 30,
   "metadata": {},
   "outputs": [
    {
     "name": "stdout",
     "output_type": "stream",
     "text": [
      "2\n",
      "[0. 1.]\n",
      "[[1. 0.]\n",
      " [0. 2.]]\n",
      "0.1\n",
      "2\n"
     ]
    }
   ],
   "source": [
    "print(mcn.dim)\n",
    "print(mcn.loc)\n",
    "print(mcn.scale)\n",
    "print(mcn.kappa)\n",
    "print(mcn.alpha)"
   ]
  },
  {
   "cell_type": "code",
   "execution_count": 31,
   "metadata": {},
   "outputs": [
    {
     "data": {
      "text/plain": [
       "4.889680162071525"
      ]
     },
     "execution_count": 31,
     "metadata": {},
     "output_type": "execute_result"
    }
   ],
   "source": [
    "mcn._normalized_term()"
   ]
  },
  {
   "cell_type": "markdown",
   "metadata": {},
   "source": [
    "Create 2nd X variable from -12 to 12."
   ]
  },
  {
   "cell_type": "code",
   "execution_count": 32,
   "metadata": {},
   "outputs": [],
   "source": [
    "twelve_scale = 12.*scale\n",
    "# X_input = np.arange(mu-6.*sigma, mu+6.*sigma, (20.+mu - -20.+mu)/(2.**16.+1.), dtype=float)\n",
    "X2_input = np.linspace(mu-twelve_scale, mu+twelve_scale, 1000)"
   ]
  },
  {
   "cell_type": "code",
   "execution_count": 33,
   "metadata": {},
   "outputs": [
    {
     "data": {
      "text/plain": [
       "(1000, 2)"
      ]
     },
     "execution_count": 33,
     "metadata": {},
     "output_type": "execute_result"
    }
   ],
   "source": [
    "X_2D = np.column_stack((X_input, X2_input))\n",
    "X_2D.shape"
   ]
  },
  {
   "cell_type": "code",
   "execution_count": 34,
   "metadata": {},
   "outputs": [
    {
     "data": {
      "text/plain": [
       "array([[ -6.        , -12.        ],\n",
       "       [ -5.98798799, -11.97597598],\n",
       "       [ -5.97597598, -11.95195195],\n",
       "       ...,\n",
       "       [  5.97597598,  11.95195195],\n",
       "       [  5.98798799,  11.97597598],\n",
       "       [  6.        ,  12.        ]])"
      ]
     },
     "execution_count": 34,
     "metadata": {},
     "output_type": "execute_result"
    }
   ],
   "source": [
    "X_2D"
   ]
  },
  {
   "cell_type": "code",
   "execution_count": 35,
   "metadata": {},
   "outputs": [
    {
     "data": {
      "text/plain": [
       "(4.889680162071525, 12.566370614359169)"
      ]
     },
     "execution_count": 35,
     "metadata": {},
     "output_type": "execute_result"
    }
   ],
   "source": [
    "mcn._normalized_term(), mcn._normalized_term(beta_func=True)"
   ]
  },
  {
   "cell_type": "markdown",
   "metadata": {},
   "source": [
    "Here is the dataset of X_2D, we can see that the sample size (m) is 1000 and the dim (d) for each sample is 2."
   ]
  },
  {
   "cell_type": "code",
   "execution_count": 36,
   "metadata": {},
   "outputs": [],
   "source": [
    "# mcn.prob(X_2D), mcn.prob(X_2D, b=True)"
   ]
  },
  {
   "cell_type": "markdown",
   "metadata": {},
   "source": [
    "***Multivariate Coupled Normal distribution when d=8***"
   ]
  },
  {
   "cell_type": "code",
   "execution_count": 37,
   "metadata": {},
   "outputs": [
    {
     "data": {
      "text/plain": [
       "<nsc.distributions.MultivariateCoupledNormal batch_shape=[] event_shape=[8]>"
      ]
     },
     "execution_count": 37,
     "metadata": {},
     "output_type": "execute_result"
    }
   ],
   "source": [
    "# batch_shape is [] while event_shape is [2]\n",
    "mcn = MultivariateCoupledNormal(loc=[0., 1., 2., 3., 4., 5., 6., 7.],\n",
    "                                scale=[1., 2., 3., 4., 5., 6., 7., 8.],\n",
    "                                kappa=0.1\n",
    "                               )\n",
    "mcn"
   ]
  },
  {
   "cell_type": "code",
   "execution_count": 38,
   "metadata": {},
   "outputs": [
    {
     "name": "stdout",
     "output_type": "stream",
     "text": [
      "8\n",
      "[0. 1. 2. 3. 4. 5. 6. 7.]\n",
      "[[1. 0. 0. 0. 0. 0. 0. 0.]\n",
      " [0. 2. 0. 0. 0. 0. 0. 0.]\n",
      " [0. 0. 3. 0. 0. 0. 0. 0.]\n",
      " [0. 0. 0. 4. 0. 0. 0. 0.]\n",
      " [0. 0. 0. 0. 5. 0. 0. 0.]\n",
      " [0. 0. 0. 0. 0. 6. 0. 0.]\n",
      " [0. 0. 0. 0. 0. 0. 7. 0.]\n",
      " [0. 0. 0. 0. 0. 0. 0. 8.]]\n",
      "0.1\n",
      "2\n"
     ]
    }
   ],
   "source": [
    "print(mcn.dim)\n",
    "print(mcn.loc)\n",
    "print(mcn.scale)\n",
    "print(mcn.kappa)\n",
    "print(mcn.alpha)"
   ]
  },
  {
   "cell_type": "markdown",
   "metadata": {},
   "source": [
    "Create 6 more variables"
   ]
  },
  {
   "cell_type": "code",
   "execution_count": 39,
   "metadata": {},
   "outputs": [],
   "source": [
    "two_scale = 2.*scale\n",
    "four_scale = 4.*scale\n",
    "eight_scale = 8.*scale\n",
    "ten_scale = 10.*scale\n",
    "fourteen_scale = 14.*scale\n",
    "sixteen_scale = 16.*scale\n",
    "\n",
    "X3_input = np.linspace(mu-two_scale, mu+two_scale, 1000)\n",
    "X4_input = np.linspace(mu-four_scale, mu+four_scale, 1000)\n",
    "X5_input = np.linspace(mu-eight_scale, mu+eight_scale, 1000)\n",
    "X6_input = np.linspace(mu-ten_scale, mu+ten_scale, 1000)\n",
    "X7_input = np.linspace(mu-fourteen_scale, mu+fourteen_scale, 1000)\n",
    "X8_input = np.linspace(mu-sixteen_scale, mu+sixteen_scale, 1000)"
   ]
  },
  {
   "cell_type": "code",
   "execution_count": 40,
   "metadata": {},
   "outputs": [
    {
     "data": {
      "text/plain": [
       "(1000, 8)"
      ]
     },
     "execution_count": 40,
     "metadata": {},
     "output_type": "execute_result"
    }
   ],
   "source": [
    "X_8D = np.column_stack((X_input, X2_input, X3_input, X4_input, X5_input, X6_input, X7_input, X8_input))\n",
    "X_8D.shape"
   ]
  },
  {
   "cell_type": "markdown",
   "metadata": {},
   "source": [
    "Run prob"
   ]
  },
  {
   "cell_type": "code",
   "execution_count": 41,
   "metadata": {},
   "outputs": [
    {
     "data": {
      "text/plain": [
       "array([1.61924858e-13, 1.65156694e-13, 1.68458331e-13, 1.71831389e-13,\n",
       "       1.75277528e-13, 1.78798447e-13, 1.82395890e-13, 1.86071644e-13,\n",
       "       1.89827539e-13, 1.93665452e-13, 1.97587306e-13, 2.01595072e-13,\n",
       "       2.05690773e-13, 2.09876479e-13, 2.14154315e-13, 2.18526457e-13,\n",
       "       2.22995137e-13, 2.27562645e-13, 2.32231327e-13, 2.37003588e-13,\n",
       "       2.41881896e-13, 2.46868779e-13, 2.51966833e-13, 2.57178715e-13,\n",
       "       2.62507156e-13, 2.67954951e-13, 2.73524970e-13, 2.79220157e-13,\n",
       "       2.85043528e-13, 2.90998180e-13, 2.97087288e-13, 3.03314111e-13,\n",
       "       3.09681988e-13, 3.16194349e-13, 3.22854710e-13, 3.29666678e-13,\n",
       "       3.36633957e-13, 3.43760343e-13, 3.51049735e-13, 3.58506129e-13,\n",
       "       3.66133631e-13, 3.73936450e-13, 3.81918908e-13, 3.90085439e-13,\n",
       "       3.98440595e-13, 4.06989045e-13, 4.15735586e-13, 4.24685137e-13,\n",
       "       4.33842750e-13, 4.43213610e-13, 4.52803039e-13, 4.62616501e-13,\n",
       "       4.72659606e-13, 4.82938112e-13, 4.93457934e-13, 5.04225140e-13,\n",
       "       5.15245966e-13, 5.26526811e-13, 5.38074248e-13, 5.49895027e-13,\n",
       "       5.61996078e-13, 5.74384521e-13, 5.87067666e-13, 6.00053021e-13,\n",
       "       6.13348299e-13, 6.26961420e-13, 6.40900523e-13, 6.55173966e-13,\n",
       "       6.69790334e-13, 6.84758450e-13, 7.00087375e-13, 7.15786419e-13,\n",
       "       7.31865150e-13, 7.48333396e-13, 7.65201257e-13, 7.82479110e-13,\n",
       "       8.00177620e-13, 8.18307747e-13, 8.36880752e-13, 8.55908212e-13,\n",
       "       8.75402023e-13, 8.95374412e-13, 9.15837948e-13, 9.36805551e-13,\n",
       "       9.58290498e-13, 9.80306444e-13, 1.00286742e-12, 1.02598786e-12,\n",
       "       1.04968259e-12, 1.07396687e-12, 1.09885637e-12, 1.12436723e-12,\n",
       "       1.15051602e-12, 1.17731979e-12, 1.20479609e-12, 1.23296293e-12,\n",
       "       1.26183887e-12, 1.29144298e-12, 1.32179488e-12, 1.35291474e-12,\n",
       "       1.38482334e-12, 1.41754201e-12, 1.45109273e-12, 1.48549809e-12,\n",
       "       1.52078134e-12, 1.55696639e-12, 1.59407787e-12, 1.63214109e-12,\n",
       "       1.67118211e-12, 1.71122774e-12, 1.75230557e-12, 1.79444399e-12,\n",
       "       1.83767224e-12, 1.88202037e-12, 1.92751936e-12, 1.97420105e-12,\n",
       "       2.02209825e-12, 2.07124471e-12, 2.12167519e-12, 2.17342546e-12,\n",
       "       2.22653235e-12, 2.28103379e-12, 2.33696880e-12, 2.39437760e-12,\n",
       "       2.45330157e-12, 2.51378333e-12, 2.57586678e-12, 2.63959710e-12,\n",
       "       2.70502086e-12, 2.77218598e-12, 2.84114184e-12, 2.91193929e-12,\n",
       "       2.98463073e-12, 3.05927010e-12, 3.13591298e-12, 3.21461664e-12,\n",
       "       3.29544006e-12, 3.37844401e-12, 3.46369111e-12, 3.55124586e-12,\n",
       "       3.64117475e-12, 3.73354625e-12, 3.82843096e-12, 3.92590160e-12,\n",
       "       4.02603313e-12, 4.12890281e-12, 4.23459024e-12, 4.34317749e-12,\n",
       "       4.45474913e-12, 4.56939235e-12, 4.68719702e-12, 4.80825578e-12,\n",
       "       4.93266414e-12, 5.06052055e-12, 5.19192653e-12, 5.32698674e-12,\n",
       "       5.46580909e-12, 5.60850486e-12, 5.75518877e-12, 5.90597916e-12,\n",
       "       6.06099803e-12, 6.22037122e-12, 6.38422850e-12, 6.55270371e-12,\n",
       "       6.72593492e-12, 6.90406451e-12, 7.08723936e-12, 7.27561099e-12,\n",
       "       7.46933568e-12, 7.66857469e-12, 7.87349435e-12, 8.08426628e-12,\n",
       "       8.30106757e-12, 8.52408089e-12, 8.75349478e-12, 8.98950375e-12,\n",
       "       9.23230853e-12, 9.48211627e-12, 9.73914075e-12, 1.00036026e-11,\n",
       "       1.02757295e-11, 1.05557564e-11, 1.08439261e-11, 1.11404887e-11,\n",
       "       1.14457028e-11, 1.17598352e-11, 1.20831613e-11, 1.24159654e-11,\n",
       "       1.27585410e-11, 1.31111913e-11, 1.34742291e-11, 1.38479775e-11,\n",
       "       1.42327701e-11, 1.46289513e-11, 1.50368769e-11, 1.54569141e-11,\n",
       "       1.58894424e-11, 1.63348533e-11, 1.67935516e-11, 1.72659551e-11,\n",
       "       1.77524953e-11, 1.82536180e-11, 1.87697837e-11, 1.93014680e-11,\n",
       "       1.98491622e-11, 2.04133738e-11, 2.09946272e-11, 2.15934639e-11,\n",
       "       2.22104437e-11, 2.28461445e-11, 2.35011638e-11, 2.41761188e-11,\n",
       "       2.48716472e-11, 2.55884078e-11, 2.63270816e-11, 2.70883722e-11,\n",
       "       2.78730066e-11, 2.86817363e-11, 2.95153376e-11, 3.03746132e-11,\n",
       "       3.12603922e-11, 3.21735320e-11, 3.31149185e-11, 3.40854672e-11,\n",
       "       3.50861247e-11, 3.61178692e-11, 3.71817119e-11, 3.82786981e-11,\n",
       "       3.94099084e-11, 4.05764596e-11, 4.17795064e-11, 4.30202425e-11,\n",
       "       4.42999018e-11, 4.56197603e-11, 4.69811367e-11, 4.83853946e-11,\n",
       "       4.98339440e-11, 5.13282424e-11, 5.28697968e-11, 5.44601656e-11,\n",
       "       5.61009597e-11, 5.77938452e-11, 5.95405445e-11, 6.13428387e-11,\n",
       "       6.32025694e-11, 6.51216412e-11, 6.71020230e-11, 6.91457514e-11,\n",
       "       7.12549318e-11, 7.34317418e-11, 7.56784330e-11, 7.79973339e-11,\n",
       "       8.03908523e-11, 8.28614782e-11, 8.54117867e-11, 8.80444405e-11,\n",
       "       9.07621933e-11, 9.35678929e-11, 9.64644842e-11, 9.94550127e-11,\n",
       "       1.02542628e-10, 1.05730586e-10, 1.09022256e-10, 1.12421120e-10,\n",
       "       1.15930780e-10, 1.19554961e-10, 1.23297515e-10, 1.27162424e-10,\n",
       "       1.31153808e-10, 1.35275925e-10, 1.39533180e-10, 1.43930128e-10,\n",
       "       1.48471477e-10, 1.53162096e-10, 1.58007022e-10, 1.63011459e-10,\n",
       "       1.68180791e-10, 1.73520584e-10, 1.79036591e-10, 1.84734762e-10,\n",
       "       1.90621248e-10, 1.96702407e-10, 2.02984813e-10, 2.09475262e-10,\n",
       "       2.16180779e-10, 2.23108625e-10, 2.30266306e-10, 2.37661581e-10,\n",
       "       2.45302468e-10, 2.53197255e-10, 2.61354507e-10, 2.69783076e-10,\n",
       "       2.78492109e-10, 2.87491056e-10, 2.96789686e-10, 3.06398088e-10,\n",
       "       3.16326689e-10, 3.26586258e-10, 3.37187923e-10, 3.48143175e-10,\n",
       "       3.59463887e-10, 3.71162319e-10, 3.83251134e-10, 3.95743408e-10,\n",
       "       4.08652644e-10, 4.21992782e-10, 4.35778216e-10, 4.50023806e-10,\n",
       "       4.64744889e-10, 4.79957295e-10, 4.95677365e-10, 5.11921957e-10,\n",
       "       5.28708471e-10, 5.46054854e-10, 5.63979625e-10, 5.82501884e-10,\n",
       "       6.01641331e-10, 6.21418283e-10, 6.41853688e-10, 6.62969146e-10,\n",
       "       6.84786920e-10, 7.07329962e-10, 7.30621923e-10, 7.54687175e-10,\n",
       "       7.79550828e-10, 8.05238749e-10, 8.31777582e-10, 8.59194761e-10,\n",
       "       8.87518538e-10, 9.16777995e-10, 9.47003064e-10, 9.78224552e-10,\n",
       "       1.01047415e-09, 1.04378447e-09, 1.07818904e-09, 1.11372234e-09,\n",
       "       1.15041983e-09, 1.18831794e-09, 1.22745411e-09, 1.26786683e-09,\n",
       "       1.30959559e-09, 1.35268098e-09, 1.39716466e-09, 1.44308938e-09,\n",
       "       1.49049901e-09, 1.53943856e-09, 1.58995417e-09, 1.64209318e-09,\n",
       "       1.69590407e-09, 1.75143654e-09, 1.80874149e-09, 1.86787102e-09,\n",
       "       1.92887848e-09, 1.99181846e-09, 2.05674680e-09, 2.12372057e-09,\n",
       "       2.19279814e-09, 2.26403912e-09, 2.33750439e-09, 2.41325611e-09,\n",
       "       2.49135771e-09, 2.57187386e-09, 2.65487053e-09, 2.74041491e-09,\n",
       "       2.82857544e-09, 2.91942179e-09, 3.01302485e-09, 3.10945668e-09,\n",
       "       3.20879054e-09, 3.31110082e-09, 3.41646303e-09, 3.52495377e-09,\n",
       "       3.63665069e-09, 3.75163245e-09, 3.86997865e-09, 3.99176985e-09,\n",
       "       4.11708744e-09, 4.24601363e-09, 4.37863135e-09, 4.51502423e-09,\n",
       "       4.65527650e-09, 4.79947287e-09, 4.94769855e-09, 5.10003904e-09,\n",
       "       5.25658012e-09, 5.41740770e-09, 5.58260775e-09, 5.75226613e-09,\n",
       "       5.92646852e-09, 6.10530028e-09, 6.28884627e-09, 6.47719078e-09,\n",
       "       6.67041731e-09, 6.86860845e-09, 7.07184571e-09, 7.28020936e-09,\n",
       "       7.49377820e-09, 7.71262943e-09, 7.93683844e-09, 8.16647857e-09,\n",
       "       8.40162096e-09, 8.64233427e-09, 8.88868452e-09, 9.14073481e-09,\n",
       "       9.39854508e-09, 9.66217190e-09, 9.93166820e-09, 1.02070830e-08,\n",
       "       1.04884612e-08, 1.07758431e-08, 1.10692646e-08, 1.13687562e-08,\n",
       "       1.16743435e-08, 1.19860464e-08, 1.23038788e-08, 1.26278487e-08,\n",
       "       1.29579575e-08, 1.32941998e-08, 1.36365632e-08, 1.39850282e-08,\n",
       "       1.43395673e-08, 1.47001452e-08, 1.50667184e-08, 1.54392348e-08,\n",
       "       1.58176337e-08, 1.62018451e-08, 1.65917897e-08, 1.69873785e-08,\n",
       "       1.73885128e-08, 1.77950837e-08, 1.82069720e-08, 1.86240477e-08,\n",
       "       1.90461703e-08, 1.94731882e-08, 1.99049386e-08, 2.03412476e-08,\n",
       "       2.07819297e-08, 2.12267878e-08, 2.16756134e-08, 2.21281860e-08,\n",
       "       2.25842735e-08, 2.30436320e-08, 2.35060059e-08, 2.39711277e-08,\n",
       "       2.44387183e-08, 2.49084870e-08, 2.53801319e-08, 2.58533393e-08,\n",
       "       2.63277849e-08, 2.68031332e-08, 2.72790382e-08, 2.77551436e-08,\n",
       "       2.82310832e-08, 2.87064808e-08, 2.91809514e-08, 2.96541011e-08,\n",
       "       3.01255274e-08, 3.05948203e-08, 3.10615625e-08, 3.15253299e-08,\n",
       "       3.19856924e-08, 3.24422144e-08, 3.28944555e-08, 3.33419715e-08,\n",
       "       3.37843145e-08, 3.42210343e-08, 3.46516790e-08, 3.50757956e-08,\n",
       "       3.54929309e-08, 3.59026326e-08, 3.63044500e-08, 3.66979349e-08,\n",
       "       3.70826424e-08, 3.74581322e-08, 3.78239688e-08, 3.81797233e-08,\n",
       "       3.85249737e-08, 3.88593061e-08, 3.91823153e-08, 3.94936064e-08,\n",
       "       3.97927948e-08, 4.00795079e-08, 4.03533854e-08, 4.06140805e-08,\n",
       "       4.08612607e-08, 4.10946083e-08, 4.13138215e-08, 4.15186151e-08,\n",
       "       4.17087209e-08, 4.18838889e-08, 4.20438874e-08, 4.21885039e-08,\n",
       "       4.23175458e-08, 4.24308401e-08, 4.25282350e-08, 4.26095993e-08,\n",
       "       4.26748232e-08, 4.27238185e-08, 4.27565190e-08, 4.27728804e-08,\n",
       "       4.27728804e-08, 4.27565190e-08, 4.27238185e-08, 4.26748232e-08,\n",
       "       4.26095993e-08, 4.25282350e-08, 4.24308401e-08, 4.23175458e-08,\n",
       "       4.21885039e-08, 4.20438874e-08, 4.18838889e-08, 4.17087209e-08,\n",
       "       4.15186151e-08, 4.13138215e-08, 4.10946083e-08, 4.08612607e-08,\n",
       "       4.06140805e-08, 4.03533854e-08, 4.00795079e-08, 3.97927948e-08,\n",
       "       3.94936064e-08, 3.91823153e-08, 3.88593061e-08, 3.85249737e-08,\n",
       "       3.81797233e-08, 3.78239688e-08, 3.74581322e-08, 3.70826424e-08,\n",
       "       3.66979349e-08, 3.63044500e-08, 3.59026326e-08, 3.54929309e-08,\n",
       "       3.50757956e-08, 3.46516790e-08, 3.42210343e-08, 3.37843145e-08,\n",
       "       3.33419715e-08, 3.28944555e-08, 3.24422144e-08, 3.19856924e-08,\n",
       "       3.15253299e-08, 3.10615625e-08, 3.05948203e-08, 3.01255274e-08,\n",
       "       2.96541011e-08, 2.91809514e-08, 2.87064808e-08, 2.82310832e-08,\n",
       "       2.77551436e-08, 2.72790382e-08, 2.68031332e-08, 2.63277849e-08,\n",
       "       2.58533393e-08, 2.53801319e-08, 2.49084870e-08, 2.44387183e-08,\n",
       "       2.39711277e-08, 2.35060059e-08, 2.30436320e-08, 2.25842735e-08,\n",
       "       2.21281860e-08, 2.16756134e-08, 2.12267878e-08, 2.07819297e-08,\n",
       "       2.03412476e-08, 1.99049386e-08, 1.94731882e-08, 1.90461703e-08,\n",
       "       1.86240477e-08, 1.82069720e-08, 1.77950837e-08, 1.73885128e-08,\n",
       "       1.69873785e-08, 1.65917897e-08, 1.62018451e-08, 1.58176337e-08,\n",
       "       1.54392348e-08, 1.50667184e-08, 1.47001452e-08, 1.43395673e-08,\n",
       "       1.39850282e-08, 1.36365632e-08, 1.32941998e-08, 1.29579575e-08,\n",
       "       1.26278487e-08, 1.23038788e-08, 1.19860464e-08, 1.16743435e-08,\n",
       "       1.13687562e-08, 1.10692646e-08, 1.07758431e-08, 1.04884612e-08,\n",
       "       1.02070830e-08, 9.93166820e-09, 9.66217190e-09, 9.39854508e-09,\n",
       "       9.14073481e-09, 8.88868452e-09, 8.64233427e-09, 8.40162096e-09,\n",
       "       8.16647857e-09, 7.93683844e-09, 7.71262943e-09, 7.49377820e-09,\n",
       "       7.28020936e-09, 7.07184571e-09, 6.86860845e-09, 6.67041731e-09,\n",
       "       6.47719078e-09, 6.28884627e-09, 6.10530028e-09, 5.92646852e-09,\n",
       "       5.75226613e-09, 5.58260775e-09, 5.41740770e-09, 5.25658012e-09,\n",
       "       5.10003904e-09, 4.94769855e-09, 4.79947287e-09, 4.65527650e-09,\n",
       "       4.51502423e-09, 4.37863135e-09, 4.24601363e-09, 4.11708744e-09,\n",
       "       3.99176985e-09, 3.86997865e-09, 3.75163245e-09, 3.63665069e-09,\n",
       "       3.52495377e-09, 3.41646303e-09, 3.31110082e-09, 3.20879054e-09,\n",
       "       3.10945668e-09, 3.01302485e-09, 2.91942179e-09, 2.82857544e-09,\n",
       "       2.74041491e-09, 2.65487053e-09, 2.57187386e-09, 2.49135771e-09,\n",
       "       2.41325611e-09, 2.33750439e-09, 2.26403912e-09, 2.19279814e-09,\n",
       "       2.12372057e-09, 2.05674680e-09, 1.99181846e-09, 1.92887848e-09,\n",
       "       1.86787102e-09, 1.80874149e-09, 1.75143654e-09, 1.69590407e-09,\n",
       "       1.64209318e-09, 1.58995417e-09, 1.53943856e-09, 1.49049901e-09,\n",
       "       1.44308938e-09, 1.39716466e-09, 1.35268098e-09, 1.30959559e-09,\n",
       "       1.26786683e-09, 1.22745411e-09, 1.18831794e-09, 1.15041983e-09,\n",
       "       1.11372234e-09, 1.07818904e-09, 1.04378447e-09, 1.01047415e-09,\n",
       "       9.78224552e-10, 9.47003064e-10, 9.16777995e-10, 8.87518538e-10,\n",
       "       8.59194761e-10, 8.31777582e-10, 8.05238749e-10, 7.79550828e-10,\n",
       "       7.54687175e-10, 7.30621923e-10, 7.07329962e-10, 6.84786920e-10,\n",
       "       6.62969146e-10, 6.41853688e-10, 6.21418283e-10, 6.01641331e-10,\n",
       "       5.82501884e-10, 5.63979625e-10, 5.46054854e-10, 5.28708471e-10,\n",
       "       5.11921957e-10, 4.95677365e-10, 4.79957295e-10, 4.64744889e-10,\n",
       "       4.50023806e-10, 4.35778216e-10, 4.21992782e-10, 4.08652644e-10,\n",
       "       3.95743408e-10, 3.83251134e-10, 3.71162319e-10, 3.59463887e-10,\n",
       "       3.48143175e-10, 3.37187923e-10, 3.26586258e-10, 3.16326689e-10,\n",
       "       3.06398088e-10, 2.96789686e-10, 2.87491056e-10, 2.78492109e-10,\n",
       "       2.69783076e-10, 2.61354507e-10, 2.53197255e-10, 2.45302468e-10,\n",
       "       2.37661581e-10, 2.30266306e-10, 2.23108625e-10, 2.16180779e-10,\n",
       "       2.09475262e-10, 2.02984813e-10, 1.96702407e-10, 1.90621248e-10,\n",
       "       1.84734762e-10, 1.79036591e-10, 1.73520584e-10, 1.68180791e-10,\n",
       "       1.63011459e-10, 1.58007022e-10, 1.53162096e-10, 1.48471477e-10,\n",
       "       1.43930128e-10, 1.39533180e-10, 1.35275925e-10, 1.31153808e-10,\n",
       "       1.27162424e-10, 1.23297515e-10, 1.19554961e-10, 1.15930780e-10,\n",
       "       1.12421120e-10, 1.09022256e-10, 1.05730586e-10, 1.02542628e-10,\n",
       "       9.94550127e-11, 9.64644842e-11, 9.35678929e-11, 9.07621933e-11,\n",
       "       8.80444405e-11, 8.54117867e-11, 8.28614782e-11, 8.03908523e-11,\n",
       "       7.79973339e-11, 7.56784330e-11, 7.34317418e-11, 7.12549318e-11,\n",
       "       6.91457514e-11, 6.71020230e-11, 6.51216412e-11, 6.32025694e-11,\n",
       "       6.13428387e-11, 5.95405445e-11, 5.77938452e-11, 5.61009597e-11,\n",
       "       5.44601656e-11, 5.28697968e-11, 5.13282424e-11, 4.98339440e-11,\n",
       "       4.83853946e-11, 4.69811367e-11, 4.56197603e-11, 4.42999018e-11,\n",
       "       4.30202425e-11, 4.17795064e-11, 4.05764596e-11, 3.94099084e-11,\n",
       "       3.82786981e-11, 3.71817119e-11, 3.61178692e-11, 3.50861247e-11,\n",
       "       3.40854672e-11, 3.31149185e-11, 3.21735320e-11, 3.12603922e-11,\n",
       "       3.03746132e-11, 2.95153376e-11, 2.86817363e-11, 2.78730066e-11,\n",
       "       2.70883722e-11, 2.63270816e-11, 2.55884078e-11, 2.48716472e-11,\n",
       "       2.41761188e-11, 2.35011638e-11, 2.28461445e-11, 2.22104437e-11,\n",
       "       2.15934639e-11, 2.09946272e-11, 2.04133738e-11, 1.98491622e-11,\n",
       "       1.93014680e-11, 1.87697837e-11, 1.82536180e-11, 1.77524953e-11,\n",
       "       1.72659551e-11, 1.67935516e-11, 1.63348533e-11, 1.58894424e-11,\n",
       "       1.54569141e-11, 1.50368769e-11, 1.46289513e-11, 1.42327701e-11,\n",
       "       1.38479775e-11, 1.34742291e-11, 1.31111913e-11, 1.27585410e-11,\n",
       "       1.24159654e-11, 1.20831613e-11, 1.17598352e-11, 1.14457028e-11,\n",
       "       1.11404887e-11, 1.08439261e-11, 1.05557564e-11, 1.02757295e-11,\n",
       "       1.00036026e-11, 9.73914075e-12, 9.48211627e-12, 9.23230853e-12,\n",
       "       8.98950375e-12, 8.75349478e-12, 8.52408089e-12, 8.30106757e-12,\n",
       "       8.08426628e-12, 7.87349435e-12, 7.66857469e-12, 7.46933568e-12,\n",
       "       7.27561099e-12, 7.08723936e-12, 6.90406451e-12, 6.72593492e-12,\n",
       "       6.55270371e-12, 6.38422850e-12, 6.22037122e-12, 6.06099803e-12,\n",
       "       5.90597916e-12, 5.75518877e-12, 5.60850486e-12, 5.46580909e-12,\n",
       "       5.32698674e-12, 5.19192653e-12, 5.06052055e-12, 4.93266414e-12,\n",
       "       4.80825578e-12, 4.68719702e-12, 4.56939235e-12, 4.45474913e-12,\n",
       "       4.34317749e-12, 4.23459024e-12, 4.12890281e-12, 4.02603313e-12,\n",
       "       3.92590160e-12, 3.82843096e-12, 3.73354625e-12, 3.64117475e-12,\n",
       "       3.55124586e-12, 3.46369111e-12, 3.37844401e-12, 3.29544006e-12,\n",
       "       3.21461664e-12, 3.13591298e-12, 3.05927010e-12, 2.98463073e-12,\n",
       "       2.91193929e-12, 2.84114184e-12, 2.77218598e-12, 2.70502086e-12,\n",
       "       2.63959710e-12, 2.57586678e-12, 2.51378333e-12, 2.45330157e-12,\n",
       "       2.39437760e-12, 2.33696880e-12, 2.28103379e-12, 2.22653235e-12,\n",
       "       2.17342546e-12, 2.12167519e-12, 2.07124471e-12, 2.02209825e-12,\n",
       "       1.97420105e-12, 1.92751936e-12, 1.88202037e-12, 1.83767224e-12,\n",
       "       1.79444399e-12, 1.75230557e-12, 1.71122774e-12, 1.67118211e-12,\n",
       "       1.63214109e-12, 1.59407787e-12, 1.55696639e-12, 1.52078134e-12,\n",
       "       1.48549809e-12, 1.45109273e-12, 1.41754201e-12, 1.38482334e-12,\n",
       "       1.35291474e-12, 1.32179488e-12, 1.29144298e-12, 1.26183887e-12,\n",
       "       1.23296293e-12, 1.20479609e-12, 1.17731979e-12, 1.15051602e-12,\n",
       "       1.12436723e-12, 1.09885637e-12, 1.07396687e-12, 1.04968259e-12,\n",
       "       1.02598786e-12, 1.00286742e-12, 9.80306444e-13, 9.58290498e-13,\n",
       "       9.36805551e-13, 9.15837948e-13, 8.95374412e-13, 8.75402023e-13,\n",
       "       8.55908212e-13, 8.36880752e-13, 8.18307747e-13, 8.00177620e-13,\n",
       "       7.82479110e-13, 7.65201257e-13, 7.48333396e-13, 7.31865150e-13,\n",
       "       7.15786419e-13, 7.00087375e-13, 6.84758450e-13, 6.69790334e-13,\n",
       "       6.55173966e-13, 6.40900523e-13, 6.26961420e-13, 6.13348299e-13,\n",
       "       6.00053021e-13, 5.87067666e-13, 5.74384521e-13, 5.61996078e-13,\n",
       "       5.49895027e-13, 5.38074248e-13, 5.26526811e-13, 5.15245966e-13,\n",
       "       5.04225140e-13, 4.93457934e-13, 4.82938112e-13, 4.72659606e-13,\n",
       "       4.62616501e-13, 4.52803039e-13, 4.43213610e-13, 4.33842750e-13,\n",
       "       4.24685137e-13, 4.15735586e-13, 4.06989045e-13, 3.98440595e-13,\n",
       "       3.90085439e-13, 3.81918908e-13, 3.73936450e-13, 3.66133631e-13,\n",
       "       3.58506129e-13, 3.51049735e-13, 3.43760343e-13, 3.36633957e-13,\n",
       "       3.29666678e-13, 3.22854710e-13, 3.16194349e-13, 3.09681988e-13,\n",
       "       3.03314111e-13, 2.97087288e-13, 2.90998180e-13, 2.85043528e-13,\n",
       "       2.79220157e-13, 2.73524970e-13, 2.67954951e-13, 2.62507156e-13,\n",
       "       2.57178715e-13, 2.51966833e-13, 2.46868779e-13, 2.41881896e-13,\n",
       "       2.37003588e-13, 2.32231327e-13, 2.27562645e-13, 2.22995137e-13,\n",
       "       2.18526457e-13, 2.14154315e-13, 2.09876479e-13, 2.05690773e-13,\n",
       "       2.01595072e-13, 1.97587306e-13, 1.93665452e-13, 1.89827539e-13,\n",
       "       1.86071644e-13, 1.82395890e-13, 1.78798447e-13, 1.75277528e-13,\n",
       "       1.71831389e-13, 1.68458331e-13, 1.65156694e-13, 1.61924858e-13])"
      ]
     },
     "execution_count": 41,
     "metadata": {},
     "output_type": "execute_result"
    }
   ],
   "source": [
    "mcn.prob(X_8D)"
   ]
  },
  {
   "cell_type": "code",
   "execution_count": 42,
   "metadata": {},
   "outputs": [
    {
     "data": {
      "text/plain": [
       "(1000,)"
      ]
     },
     "execution_count": 42,
     "metadata": {},
     "output_type": "execute_result"
    }
   ],
   "source": [
    "mcn.prob(X_8D).shape"
   ]
  },
  {
   "cell_type": "markdown",
   "metadata": {},
   "source": [
    "***Multivariate Coupled Normal multiple distribution when d=2 and batch_size=3***"
   ]
  },
  {
   "cell_type": "code",
   "execution_count": 43,
   "metadata": {},
   "outputs": [
    {
     "ename": "AssertionError",
     "evalue": "scale must be positive definite, but not necessarily symmetric.",
     "output_type": "error",
     "traceback": [
      "\u001b[0;31m---------------------------------------------------------------------------\u001b[0m",
      "\u001b[0;31mAssertionError\u001b[0m                            Traceback (most recent call last)",
      "\u001b[0;32m<ipython-input-43-dd81d1b14eae>\u001b[0m in \u001b[0;36m<module>\u001b[0;34m\u001b[0m\n\u001b[1;32m      1\u001b[0m cn = MultivariateCoupledNormal(loc=[[0., 1.], [1., 2.], [2., 3.]], \\\n\u001b[1;32m      2\u001b[0m                                \u001b[0mscale\u001b[0m\u001b[0;34m=\u001b[0m\u001b[0;34m[\u001b[0m\u001b[0;34m[\u001b[0m\u001b[0;36m0.\u001b[0m\u001b[0;34m,\u001b[0m \u001b[0;36m1.\u001b[0m\u001b[0;34m]\u001b[0m\u001b[0;34m,\u001b[0m \u001b[0;34m[\u001b[0m\u001b[0;36m2.\u001b[0m\u001b[0;34m,\u001b[0m \u001b[0;36m3.\u001b[0m\u001b[0;34m]\u001b[0m\u001b[0;34m,\u001b[0m \u001b[0;34m[\u001b[0m\u001b[0;36m4.\u001b[0m\u001b[0;34m,\u001b[0m \u001b[0;36m5.\u001b[0m\u001b[0;34m]\u001b[0m\u001b[0;34m]\u001b[0m\u001b[0;34m,\u001b[0m\u001b[0;34m\u001b[0m\u001b[0;34m\u001b[0m\u001b[0m\n\u001b[0;32m----> 3\u001b[0;31m                                \u001b[0mkappa\u001b[0m\u001b[0;34m=\u001b[0m\u001b[0;36m0.1\u001b[0m\u001b[0;34m\u001b[0m\u001b[0;34m\u001b[0m\u001b[0m\n\u001b[0m\u001b[1;32m      4\u001b[0m                                )\n\u001b[1;32m      5\u001b[0m \u001b[0mcn\u001b[0m\u001b[0;34m\u001b[0m\u001b[0;34m\u001b[0m\u001b[0m\n",
      "\u001b[0;32m<ipython-input-10-0651aee74d0c>\u001b[0m in \u001b[0;36m__init__\u001b[0;34m(self, loc, scale, kappa, alpha, validate_args)\u001b[0m\n\u001b[1;32m     26\u001b[0m             \u001b[0mself\u001b[0m\u001b[0;34m.\u001b[0m\u001b[0m_scale\u001b[0m \u001b[0;34m=\u001b[0m \u001b[0mnp\u001b[0m\u001b[0;34m.\u001b[0m\u001b[0mdiag\u001b[0m\u001b[0;34m(\u001b[0m\u001b[0mself\u001b[0m\u001b[0;34m.\u001b[0m\u001b[0m_scale\u001b[0m\u001b[0;34m)\u001b[0m\u001b[0;34m\u001b[0m\u001b[0;34m\u001b[0m\u001b[0m\n\u001b[1;32m     27\u001b[0m         \u001b[0;31m# Ensure that scale is indeed positive definite\u001b[0m\u001b[0;34m\u001b[0m\u001b[0;34m\u001b[0m\u001b[0;34m\u001b[0m\u001b[0m\n\u001b[0;32m---> 28\u001b[0;31m         \u001b[0;32massert\u001b[0m \u001b[0mself\u001b[0m\u001b[0;34m.\u001b[0m\u001b[0mis_positive_definite\u001b[0m\u001b[0;34m(\u001b[0m\u001b[0mself\u001b[0m\u001b[0;34m.\u001b[0m\u001b[0m_scale\u001b[0m\u001b[0;34m)\u001b[0m\u001b[0;34m,\u001b[0m \u001b[0;34m\"scale must be positive definite, but not necessarily symmetric.\"\u001b[0m\u001b[0;34m\u001b[0m\u001b[0;34m\u001b[0m\u001b[0m\n\u001b[0m\u001b[1;32m     29\u001b[0m \u001b[0;34m\u001b[0m\u001b[0m\n\u001b[1;32m     30\u001b[0m     \u001b[0;31m# Credit: https://stackoverflow.com/questions/16266720/find-out-if-matrix-is-positive-definite-with-numpy\u001b[0m\u001b[0;34m\u001b[0m\u001b[0;34m\u001b[0m\u001b[0;34m\u001b[0m\u001b[0m\n",
      "\u001b[0;31mAssertionError\u001b[0m: scale must be positive definite, but not necessarily symmetric."
     ]
    }
   ],
   "source": [
    "cn = MultivariateCoupledNormal(loc=[[0., 1.], [1., 2.], [2., 3.]], \\\n",
    "                               scale=[[0., 1.], [2., 3.], [4., 5.]],\n",
    "                               kappa=0.1\n",
    "                               )\n",
    "cn"
   ]
  },
  {
   "cell_type": "code",
   "execution_count": null,
   "metadata": {},
   "outputs": [],
   "source": [
    "print(cn.dim)\n",
    "print(cn.loc)\n",
    "print(cn.scale)\n",
    "print(cn.kappa)\n",
    "print(cn.alpha)"
   ]
  },
  {
   "cell_type": "code",
   "execution_count": null,
   "metadata": {},
   "outputs": [],
   "source": [
    "cn = CoupledNormal(loc=[[0., 1., 0., 1.], [1., 2., 1., 2.], [2., 3., 2., 3.]], \\\n",
    "                   scale=[[0., 1., 0., 1.], [2., 3., 2., 3.], [4., 5., 4., 5.]]\n",
    "                   )\n",
    "cn.dim"
   ]
  },
  {
   "cell_type": "code",
   "execution_count": null,
   "metadata": {},
   "outputs": [],
   "source": [
    "print(cn.dim)\n",
    "print(cn._normalized_term())"
   ]
  },
  {
   "cell_type": "code",
   "execution_count": null,
   "metadata": {},
   "outputs": [],
   "source": [
    "# print(cn.prob(X_input))"
   ]
  }
 ],
 "metadata": {
  "kernelspec": {
   "display_name": "nsc",
   "language": "python",
   "name": "nsc"
  },
  "language_info": {
   "codemirror_mode": {
    "name": "ipython",
    "version": 3
   },
   "file_extension": ".py",
   "mimetype": "text/x-python",
   "name": "python",
   "nbconvert_exporter": "python",
   "pygments_lexer": "ipython3",
   "version": "3.7.9"
  }
 },
 "nbformat": 4,
 "nbformat_minor": 4
}
