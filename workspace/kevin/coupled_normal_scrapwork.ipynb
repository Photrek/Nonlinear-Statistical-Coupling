{
 "cells": [
  {
   "cell_type": "code",
   "execution_count": 1,
   "metadata": {},
   "outputs": [],
   "source": [
    "# !python3 -m pip uninstall tensorflow tensorflow-probability nsc -y\n",
    "# !python3 -m pip install tensorflow tensorflow-probability -q"
   ]
  },
  {
   "cell_type": "code",
   "execution_count": 2,
   "metadata": {},
   "outputs": [],
   "source": [
    "# !python3 -m pip uninstall nsc -y -q\n",
    "# !python3 -m pip install -i https://test.pypi.org/simple/ nsc -q"
   ]
  },
  {
   "cell_type": "code",
   "execution_count": 3,
   "metadata": {},
   "outputs": [
    {
     "name": "stdout",
     "output_type": "stream",
     "text": [
      "Importing NSC lib v0.0.2.13.\n"
     ]
    }
   ],
   "source": [
    "import math\n",
    "import numpy as np\n",
    "import pandas as pd\n",
    "import matplotlib.pyplot as plt\n",
    "import seaborn as sns\n",
    "sns.set()\n",
    "from scipy.special import beta, gamma\n",
    "from collections import defaultdict\n",
    "from typing import List\n",
    "\n",
    "# From nsc lib\n",
    "import nsc\n",
    "from nsc import distributions as nsd\n",
    "from nsc.util import function as nsc_func\n",
    "from nsc.util.function import coupled_logarithm, coupled_exponential\n",
    "# nsd = nsc.distributions"
   ]
  },
  {
   "cell_type": "markdown",
   "metadata": {},
   "source": [
    "### 1) CoupledNormalDistribution function version"
   ]
  },
  {
   "cell_type": "code",
   "execution_count": 4,
   "metadata": {},
   "outputs": [],
   "source": [
    "def norm_CG(sigma, kappa):\n",
    "    if kappa == 0:\n",
    "        result = math.sqrt(2*math.pi) * sigma\n",
    "    elif kappa < 0:\n",
    "        result = math.sqrt(math.pi) * sigma * math.gamma((-1+kappa) / (2*kappa)) / float(math.sqrt(-1*kappa) * math.gamma(1 - (1 / (2*kappa))))\n",
    "    else:\n",
    "        result = math.sqrt(math.pi) * sigma * math.gamma(1 / (2*kappa)) / float(math.sqrt(kappa) * math.gamma((1+kappa)/(2*kappa)))\n",
    "  \n",
    "    return result"
   ]
  },
  {
   "cell_type": "code",
   "execution_count": 5,
   "metadata": {},
   "outputs": [],
   "source": [
    "def CoupledNormalDistribution(mean, sigma, kappa, alpha):\n",
    "    \"\"\"\n",
    "    Short description\n",
    "    \n",
    "    Inputs\n",
    "    ----------\n",
    "    x : Input variable in which the coupled logarithm is applied to.\n",
    "    mean : \n",
    "    sigma : \n",
    "    kappa : Coupling parameter which modifies the coupled logarithm function.\n",
    "    dim : The dimension of x, or rank if x is a tensor. Not needed?\n",
    "    \"\"\"\n",
    "\n",
    "    assert sigma > 0, \"std must be greater than 0.\"\n",
    "    assert alpha in [1, 2], \"alpha must be set to either 1 or 2.\"\n",
    "\n",
    "    \n",
    "    if kappa >= 0:\n",
    "        input = np.arange(mean-20, mean+20, (20+mean - -20+mean)/(2**16+1))\n",
    "    else:\n",
    "        x1 = mean - ((-1*sigma**2) / kappa)**0.5\n",
    "        x2 = mean + ((-1*sigma**2) / kappa)**0.5\n",
    "        input = np.arange(mean - ((-1*sigma**2) / kappa)**0.5, mean + ((-1*sigma**2) / kappa)**0.5, (x2-x1)/(2**16+1))\n",
    " \n",
    "    normCGvalue = 1/float(norm_CG(sigma, kappa))\n",
    "    \n",
    "    coupledNormalDistributionResult = normCGvalue * (coupled_exponential((input - mean)**2/sigma**2, kappa)) ** -0.5\n",
    "  \n",
    "    return coupledNormalDistributionResult"
   ]
  },
  {
   "cell_type": "code",
   "execution_count": 6,
   "metadata": {},
   "outputs": [],
   "source": [
    "kappa, alpha, dim = 0.5, 2, 1"
   ]
  },
  {
   "cell_type": "code",
   "execution_count": 7,
   "metadata": {},
   "outputs": [],
   "source": [
    "mu, sigma = 0, 1 # mean and standard deviation\n",
    "x = np.linspace(mu - 3*sigma, mu + 3*sigma, 100)\n",
    "y = CoupledNormalDistribution(mu, sigma, kappa, alpha)\n",
    "\n",
    "dx = np.arange(mu-20, mu+20, (20+mu - -20+mu)/(2**16+1))[1] - np.arange(mu-20, mu+20, (20+mu - -20+mu)/(2**16+1))[0]"
   ]
  },
  {
   "cell_type": "markdown",
   "metadata": {},
   "source": [
    "### 2) CoupledNormalDistribution class"
   ]
  },
  {
   "cell_type": "code",
   "execution_count": 8,
   "metadata": {},
   "outputs": [],
   "source": [
    "import numpy as np\n",
    "import math\n",
    "from typing import List\n",
    "\n",
    "\n",
    "# From nsc lib\n",
    "import nsc\n",
    "from nsc import distributions as nsd\n",
    "from nsc.util import function as nsc_func\n",
    "from nsc.util.function import coupled_logarithm, coupled_exponential\n",
    "# nsd = nsc.distributions\n",
    "\n",
    "import ipdb"
   ]
  },
  {
   "cell_type": "code",
   "execution_count": 9,
   "metadata": {},
   "outputs": [],
   "source": [
    "class CoupledNormal:\n",
    "    \"\"\"Coupled Normal Distribution.\n",
    "\n",
    "    This distribution has parameters: location `loc`, 'scale', coupling `kappa`,\n",
    "    and `alpha`.\n",
    "\n",
    "    \"\"\"\n",
    "    def __init__(self,\n",
    "                 loc: [int, float, List, np.ndarray],\n",
    "                 scale: [int, float, List, np.ndarray],\n",
    "                 kappa: [int, float] = 0.,\n",
    "                 alpha: int = 2,\n",
    "                 validate_args: bool = True\n",
    "                 ):\n",
    "        loc = np.asarray(loc) if isinstance(loc, List) else loc\n",
    "        scale = np.asarray(scale) if isinstance(scale, List) else scale\n",
    "        if validate_args:\n",
    "            assert isinstance(loc, (int, float, np.ndarray)), \"loc must be either an int/float type for scalar, or an list/ndarray type for multidimensional.\"\n",
    "            assert isinstance(scale, (int, float, np.ndarray)), \"scale must be either an int/float type for scalar, or an list/ndarray type for multidimensional.\"\n",
    "            assert type(loc) == type(scale), \"loc and scale must be the same type.\"\n",
    "            if isinstance(loc, np.ndarray):\n",
    "                # assert loc.shape == scale.shape, \"loc and scale must have the same dimensions (check respective .shape()).\"\n",
    "                assert np.all((scale >= 0)), \"All scale values must be greater or equal to 0.\"            \n",
    "            else:\n",
    "                assert scale >= 0, \"scale must be greater or equal to 0.\"            \n",
    "            assert isinstance(kappa, (int, float)), \"kappa must be an int or float type.\"\n",
    "            assert isinstance(alpha, int), \"alpha must be an int that equals to either 1 or 2.\"\n",
    "            assert alpha in [1, 2], \"alpha must be equal to either 1 or 2.\"\n",
    "        self.loc = loc\n",
    "        self.scale = scale\n",
    "        self.kappa = kappa\n",
    "        self.alpha = alpha\n",
    "        self.dim = self._n_dim()\n",
    "\n",
    "    def _n_dim(self):\n",
    "        return 1 if self._event_shape() == [] else self._event_shape()[0]\n",
    "\n",
    "    def _batch_shape(self) -> List:\n",
    "        if self._rank(self.loc) == 0:\n",
    "            # return [] signifying single batch of a single distribution\n",
    "            return []\n",
    "        else:\n",
    "            # return the batch shape in list format\n",
    "            return list(self.loc.shape)\n",
    "\n",
    "    def _event_shape(self) -> List:\n",
    "        # For univariate Coupled Normal distribution, event shape is always []\n",
    "        # [] signifies single random variable dim (regardless of batch size)\n",
    "        return []\n",
    "\n",
    "    def _rank(self, value: [int, float, np.ndarray]) -> int:\n",
    "        # specify the rank of a given value, with rank=0 for a scalar and rank=ndim for an ndarray\n",
    "        if isinstance(value, (int, float)):\n",
    "            return 0 \n",
    "        else:\n",
    "            return len(value.shape)\n",
    "\n",
    "    def sample_n(self):\n",
    "        pass\n",
    "        \n",
    "    def prob(self, X: [List, np.ndarray]) -> np.ndarray:\n",
    "        # Check whether input X is valid\n",
    "        X = np.asarray(X) if isinstance(X, List) else X\n",
    "        assert isinstance(X, np.ndarray), \"X must be a List or np.ndarray.\"\n",
    "        # assert type(X[0]) == type(self.loc), \"X samples must be the same type as loc and scale.\"\n",
    "        if isinstance(X[0], np.ndarray):\n",
    "            assert X[0].shape == self.loc.shape, \"X samples must have the same dimensions as loc and scale (check respective .shape()).\"\n",
    "        # Calculate PDF with input X\n",
    "        X_norm = (X-self.loc)**2 / self.scale**2\n",
    "        norm_term = self._normalized_term()\n",
    "        p = (coupled_exponential(X_norm, self.kappa))**-0.5 / norm_term\n",
    "        # normCGvalue =  1/float(norm_CG(scale, kappa))\n",
    "        # coupledNormalDistributionResult = normCGvalue * (coupled_exponential(y, kappa)) ** -0.5\n",
    "        return p\n",
    "    \n",
    "    '''\n",
    "    def _normalized_term(self) -> [int, float, np.ndarray]:\n",
    "        norm_term = np.sqrt(2*np.pi) * self.scale\n",
    "        return self._normalization_function(self.scale)\n",
    "    '''\n",
    "\n",
    "    # Normalization constant of 1-D Coupled Gaussian (NormCG)\n",
    "    def _normalized_term(self, use_beta_func: bool = False, use_scipy_gamma_func: bool = False) -> [int, float, np.ndarray]:\n",
    "        if use_beta_func:\n",
    "            base_term = np.sqrt(2*np.pi) * self.scale\n",
    "            return base_term*self._normalization_function()\n",
    "        elif use_scipy_gamma_func:\n",
    "            if self.kappa == 0:\n",
    "                norm_term = np.sqrt(2*np.pi) * self.scale\n",
    "            elif self.kappa < 0:\n",
    "                gamma_num = gamma(self.kappa-1) / (2*self.kappa)\n",
    "                gamma_dem = gamma(1 - (1 / (2*self.kappa)))\n",
    "                norm_term = (np.sqrt(np.pi)*self.scale*gamma_num) / float(np.sqrt(-1*self.kappa)*gamma_dem)\n",
    "            else:\n",
    "                gamma_num = gamma(1 / (2*self.kappa))\n",
    "                gamma_dem = gamma((1+self.kappa)/(2*self.kappa))\n",
    "                norm_term = (np.sqrt(np.pi)*self.scale*gamma_num) / float(np.sqrt(self.kappa)*gamma_dem)\n",
    "        else:\n",
    "            if self.kappa == 0:\n",
    "                norm_term = np.sqrt(2*np.pi) * self.scale\n",
    "            elif self.kappa < 0:\n",
    "                gamma_num = math.gamma(self.kappa-1) / (2*self.kappa)\n",
    "                gamma_dem = math.gamma(1 - (1 / (2*self.kappa)))\n",
    "                norm_term = (np.sqrt(np.pi)*self.scale*gamma_num) / float(np.sqrt(-1*self.kappa)*gamma_dem)\n",
    "            else:\n",
    "                gamma_num = math.gamma(1 / (2*self.kappa))\n",
    "                gamma_dem = math.gamma((1+self.kappa)/(2*self.kappa))\n",
    "                norm_term = (np.sqrt(np.pi)*self.scale*gamma_num) / float(np.sqrt(self.kappa)*gamma_dem)\n",
    "        return norm_term\n",
    "\n",
    "    def _normalization_function(self):\n",
    "        k, d = self.kappa, self.dim\n",
    "        assert -1/d < k, \"kappa must be greater than -1/dim.\"\n",
    "        if k == 0:\n",
    "            return 1\n",
    "        elif k > 0:\n",
    "            func_term = (1 + d*k) / (2*k)**(d/2)\n",
    "            beta_input_x = 1/(2*k) + 1\n",
    "            beta_input_y = d/2\n",
    "            gamma_input = d/2\n",
    "            return func_term * beta(beta_input_x, beta_input_y)/gamma(gamma_input)\n",
    "        else:  # -1 < self.kappa < 0:\n",
    "            func_term = 1 / (-2*k)**(d/2)\n",
    "            beta_input_x = (1 + d*k)/(-2*k) + 1\n",
    "            beta_input_y = d/2\n",
    "            gamma_input = d/2\n",
    "            return func_term * beta(beta_input_x, beta_input_y)/gamma(gamma_input)\n",
    "    \n",
    "    def __repr__(self) -> str:\n",
    "        return f\"<nsc.distributions.{self.__class__.__name__} batch_shape={str(self._batch_shape())} event_shape={str(self._event_shape())}>\"\n"
   ]
  },
  {
   "cell_type": "code",
   "execution_count": 116,
   "metadata": {},
   "outputs": [],
   "source": [
    "class MultivariateCoupledNormal(CoupledNormal):\n",
    "    \"\"\"Multivariate Coupled Normal Distribution.\n",
    "\n",
    "    This distribution has parameters: location `loc`, 'scale', coupling `kappa`,\n",
    "    and `alpha`.\n",
    "\n",
    "    \"\"\"\n",
    "    def __init__(self,\n",
    "                 loc: [int, float, List, np.ndarray],\n",
    "                 scale: [int, float, List, np.ndarray],\n",
    "                 kappa: [int, float] = 0.,\n",
    "                 alpha: int = 2,\n",
    "                 validate_args: bool = True\n",
    "                 ):\n",
    "        if validate_args:\n",
    "            assert isinstance(loc, (list, np.ndarray)), \"loc must be either a list or ndarray type. Otherwise use CoupledNormal.\"\n",
    "            assert isinstance(scale, (list, np.ndarray)), \"scale must be either a list or ndarray type. Otherwise use CoupledNormal.\"\n",
    "        super(MultivariateCoupledNormal, self).__init__(\n",
    "            loc=loc,\n",
    "            scale=scale,\n",
    "            kappa=kappa,\n",
    "            alpha=alpha,\n",
    "            validate_args=validate_args\n",
    "        )\n",
    "        if self._rank(self.scale) == 1:\n",
    "            self.scale = np.diag(self.scale)\n",
    "        # Ensure that scale is indeed positive definite\n",
    "        assert self.is_positive_definite(self.scale), \"scale must be positive definite, but not necessarily symmetric.\"\n",
    "\n",
    "    # Credit: https://stackoverflow.com/questions/16266720/find-out-if-matrix-is-positive-definite-with-numpy\n",
    "    # This is only for positive definite, not symmetric positive definite\n",
    "    def is_positive_definite(self, A: np.ndarray) -> bool:\n",
    "        try:\n",
    "            np.linalg.cholesky(A)\n",
    "            return True\n",
    "        except np.linalg.LinAlgError:\n",
    "            return False\n",
    "    '''\n",
    "    def is_positive_definite(self, A: np.ndarray) -> bool:\n",
    "        if np.array_equal(A, A.T):\n",
    "            try:\n",
    "                np.linalg.cholesky(A)\n",
    "                return True\n",
    "            except np.linalg.LinAlgError:\n",
    "                return False\n",
    "        else:\n",
    "            return False\n",
    "    '''\n",
    "\n",
    "    def _batch_shape(self) -> List:\n",
    "        if self._rank(self.loc) == 1:\n",
    "            # return [] signifying single batch of a single distribution\n",
    "            return []\n",
    "        else:\n",
    "            # return [batch size]\n",
    "            return list(self.loc.shape[:-1])\n",
    "\n",
    "    def _event_shape(self) -> List:\n",
    "        if self._rank(self.loc) == 1:\n",
    "            # if loc is only a vector\n",
    "            return list(self.loc.shape)\n",
    "        else:\n",
    "            # return [n of random variables] when rank >= 2\n",
    "            return [self.loc.shape[-1]]\n",
    "\n",
    "    def _rank(self, value: [int, float, np.ndarray]) -> int:\n",
    "        # specify the rank of a given value, with rank=0 for a scalar and rank=ndim for an ndarray\n",
    "        if isinstance(value, (int, float)):\n",
    "            return 0 \n",
    "        else:\n",
    "            return len(value.shape)\n",
    "\n",
    "    def prob(self, X: [List, np.ndarray]) -> np.ndarray:\n",
    "        assert X.shape[-1] ==  self.loc.shape[-1], \"input X and loc must have the same dims.\"\n",
    "        sigma = np.matmul(self.scale, self.scale)\n",
    "        sigma_inv = np.linalg.inv(sigma)\n",
    "        _normalized_X = lambda x: np.linalg.multi_dot([x, sigma_inv, x])\n",
    "        X_norm = np.apply_along_axis(_normalized_X, 1, X)\n",
    "        norm_term = self._normalized_term()\n",
    "        p = (coupled_exponential(X_norm, self.kappa))**(-1/self.alpha) / norm_term\n",
    "        return p\n",
    "\n",
    "    # Normalization constant of the multivariate Coupled Gaussian (NormMultiCoupled)\n",
    "    def _normalized_term(self, beta_func: bool = False, scipy_gamma_func: bool = False) -> [int, float, np.ndarray]:\n",
    "        if beta_func:\n",
    "            sigma = np.matmul(self.scale, self.scale.T)\n",
    "            sigma_det = np.linalg.det(sigma)\n",
    "#             k, d = self.kappa, self.dim\n",
    "#             assert -1/d < k, \"kappa must be greater than -1/dim.\"\n",
    "#             base_term = np.sqrt(2 * np.pi * sigma_det)\n",
    "#             base_term = (2*np.pi)**(self.dim/2) * (sigma_det)**(1/2)\n",
    "            base_term = np.sqrt((2 * np.pi)**self.dim * sigma_det)\n",
    "            return base_term*self._normalization_function()\n",
    "            '''\n",
    "            if k == 0:\n",
    "                base_term = (2*np.pi)**(d/2) * (sigma_det)**(1/2)\n",
    "                return base_term\n",
    "            elif k > 0:\n",
    "                base_term = (np.pi)**(d/2) * (sigma_det)**(1/2)\n",
    "                func_term = (1 + d*k) / (k)**(d/2)\n",
    "                beta_input_x = 1/(2*k) + 1\n",
    "                beta_input_y = d/2\n",
    "                gamma_input = d/2\n",
    "                return base_term * func_term * beta(beta_input_x, beta_input_y)/gamma(gamma_input)\n",
    "            else:  # -1 < self.kappa < 0:\n",
    "                base_term = (np.pi)**(d/2) * (sigma_det)**(1/2)\n",
    "                func_term = 1 / (-k)**(-d/2)\n",
    "                beta_input_x = (1 + d*k)/(-2*k) + 1\n",
    "                beta_input_y = d/2\n",
    "                gamma_input = d/2\n",
    "                return base_term * func_term * beta(beta_input_x, beta_input_y)/gamma(gamma_input)\n",
    "            '''\n",
    "        elif scipy_gamma_func:\n",
    "            sigma = np.matmul(self.scale, self.scale.T)\n",
    "            sigma_det = np.linalg.det(sigma)\n",
    "            if self.alpha == 1:\n",
    "                return sigma_det**0.5 / (1 + (-1 + self.dim)*self.kappa)\n",
    "            else:  # self.alpha == 2\n",
    "                gamma_num = gamma((1 + (-1 + self.dim)*self.kappa) / (2*self.kappa))\n",
    "                gamma_dem = gamma((1 + self.dim*self.kappa) / (2*self.kappa))\n",
    "                return (np.sqrt(np.pi) * sigma_det**0.5 * gamma_num) / (np.sqrt(self.kappa) * gamma_dem)\n",
    "        else:\n",
    "            sigma = np.matmul(self.scale, self.scale.T)\n",
    "            sigma_det = np.linalg.det(sigma)\n",
    "            if self.alpha == 1:\n",
    "                return sigma_det**0.5 / (1 + (-1 + self.dim)*self.kappa)\n",
    "            else:  # self.alpha == 2\n",
    "                gamma_num = math.gamma((1 + (-1 + self.dim)*self.kappa) / (2*self.kappa))\n",
    "                gamma_dem = math.gamma((1 + self.dim*self.kappa) / (2*self.kappa))\n",
    "                return (np.sqrt(np.pi) * sigma_det**0.5 * gamma_num) / (np.sqrt(self.kappa) * gamma_dem)\n"
   ]
  },
  {
   "cell_type": "markdown",
   "metadata": {},
   "source": [
    "***Test***"
   ]
  },
  {
   "cell_type": "code",
   "execution_count": 117,
   "metadata": {},
   "outputs": [],
   "source": [
    "loc, scale, kappa, alpha = 0., 1., 0.5, 2\n",
    "# X_input = np.arange(mu-20., mu+20., (20.+mu - -20.+mu)/(2.**16.+1.), dtype=float)\n",
    "six_scale = 6.*scale\n",
    "# X_input = np.arange(mu-6.*sigma, mu+6.*sigma, (20.+mu - -20.+mu)/(2.**16.+1.), dtype=float)\n",
    "X_input = np.linspace(mu-six_scale, mu+six_scale, 1000)"
   ]
  },
  {
   "cell_type": "code",
   "execution_count": 118,
   "metadata": {},
   "outputs": [
    {
     "data": {
      "text/plain": [
       "(1000,)"
      ]
     },
     "execution_count": 118,
     "metadata": {},
     "output_type": "execute_result"
    }
   ],
   "source": [
    "X_input.shape"
   ]
  },
  {
   "cell_type": "markdown",
   "metadata": {},
   "source": [
    "Coupled Normal distribution"
   ]
  },
  {
   "cell_type": "code",
   "execution_count": 119,
   "metadata": {},
   "outputs": [],
   "source": [
    "cn = CoupledNormal(loc=mu, scale=sigma)"
   ]
  },
  {
   "cell_type": "code",
   "execution_count": 120,
   "metadata": {},
   "outputs": [
    {
     "data": {
      "text/plain": [
       "<nsc.distributions.CoupledNormal batch_shape=[] event_shape=[]>"
      ]
     },
     "execution_count": 120,
     "metadata": {},
     "output_type": "execute_result"
    }
   ],
   "source": [
    "cn"
   ]
  },
  {
   "cell_type": "code",
   "execution_count": 121,
   "metadata": {},
   "outputs": [
    {
     "name": "stdout",
     "output_type": "stream",
     "text": [
      "1\n",
      "2.5066282746310002\n",
      "[6.07588285e-09 6.52947950e-09 7.01592715e-09 7.53752759e-09\n",
      " 8.09673816e-09 8.69618183e-09 9.33865787e-09 1.00271533e-08\n",
      " 1.07648549e-08 1.15551621e-08 1.24017005e-08 1.33083365e-08\n",
      " 1.42791924e-08 1.53186627e-08 1.64314314e-08 1.76224902e-08\n",
      " 1.88971579e-08 2.02611012e-08 2.17203558e-08 2.32813500e-08\n",
      " 2.49509291e-08 2.67363809e-08 2.86454635e-08 3.06864341e-08\n",
      " 3.28680797e-08 3.51997497e-08 3.76913900e-08 4.03535801e-08\n",
      " 4.31975705e-08 4.62353246e-08 4.94795608e-08 5.29437985e-08\n",
      " 5.66424063e-08 6.05906524e-08 6.48047589e-08 6.93019581e-08\n",
      " 7.41005529e-08 7.92199799e-08 8.46808763e-08 9.05051506e-08\n",
      " 9.67160572e-08 1.03338275e-07 1.10397991e-07 1.17922986e-07\n",
      " 1.25942729e-07 1.34488475e-07 1.43593366e-07 1.53292539e-07\n",
      " 1.63623243e-07 1.74624957e-07 1.86339516e-07 1.98811248e-07\n",
      " 2.12087111e-07 2.26216843e-07 2.41253117e-07 2.57251708e-07\n",
      " 2.74271661e-07 2.92375476e-07 3.11629300e-07 3.32103125e-07\n",
      " 3.53871003e-07 3.77011266e-07 4.01606762e-07 4.27745097e-07\n",
      " 4.55518899e-07 4.85026086e-07 5.16370151e-07 5.49660462e-07\n",
      " 5.85012578e-07 6.22548578e-07 6.62397407e-07 7.04695241e-07\n",
      " 7.49585866e-07 7.97221085e-07 8.47761129e-07 9.01375106e-07\n",
      " 9.58241456e-07 1.01854844e-06 1.08249465e-06 1.15028952e-06\n",
      " 1.22215392e-06 1.29832070e-06 1.37903534e-06 1.46455655e-06\n",
      " 1.55515697e-06 1.65112387e-06 1.75275984e-06 1.86038364e-06\n",
      " 1.97433090e-06 2.09495506e-06 2.22262818e-06 2.35774187e-06\n",
      " 2.50070829e-06 2.65196109e-06 2.81195650e-06 2.98117441e-06\n",
      " 3.16011951e-06 3.34932249e-06 3.54934129e-06 3.76076237e-06\n",
      " 3.98420211e-06 4.22030818e-06 4.46976105e-06 4.73327550e-06\n",
      " 5.01160226e-06 5.30552965e-06 5.61588534e-06 5.94353815e-06\n",
      " 6.28939996e-06 6.65442766e-06 7.03962524e-06 7.44604587e-06\n",
      " 7.87479417e-06 8.32702851e-06 8.80396340e-06 9.30687201e-06\n",
      " 9.83708877e-06 1.03960121e-05 1.09851072e-05 1.16059089e-05\n",
      " 1.22600249e-05 1.29491387e-05 1.36750130e-05 1.44394933e-05\n",
      " 1.52445108e-05 1.60920869e-05 1.69843363e-05 1.79234715e-05\n",
      " 1.89118065e-05 1.99517612e-05 2.10458657e-05 2.21967653e-05\n",
      " 2.34072245e-05 2.46801325e-05 2.60185081e-05 2.74255048e-05\n",
      " 2.89044165e-05 3.04586828e-05 3.20918953e-05 3.38078032e-05\n",
      " 3.56103197e-05 3.75035285e-05 3.94916905e-05 4.15792503e-05\n",
      " 4.37708440e-05 4.60713060e-05 4.84856769e-05 5.10192111e-05\n",
      " 5.36773851e-05 5.64659057e-05 5.93907190e-05 6.24580188e-05\n",
      " 6.56742560e-05 6.90461480e-05 7.25806887e-05 7.62851581e-05\n",
      " 8.01671332e-05 8.42344980e-05 8.84954552e-05 9.29585367e-05\n",
      " 9.76326161e-05 1.02526920e-04 1.07651040e-04 1.13014948e-04\n",
      " 1.18629003e-04 1.24503973e-04 1.30651042e-04 1.37081825e-04\n",
      " 1.43808388e-04 1.50843254e-04 1.58199426e-04 1.65890399e-04\n",
      " 1.73930175e-04 1.82333284e-04 1.91114796e-04 2.00290340e-04\n",
      " 2.09876123e-04 2.19888946e-04 2.30346225e-04 2.41266008e-04\n",
      " 2.52666993e-04 2.64568554e-04 2.76990753e-04 2.89954367e-04\n",
      " 3.03480907e-04 3.17592640e-04 3.32312610e-04 3.47664663e-04\n",
      " 3.63673466e-04 3.80364535e-04 3.97764257e-04 4.15899912e-04\n",
      " 4.34799704e-04 4.54492777e-04 4.75009252e-04 4.96380244e-04\n",
      " 5.18637893e-04 5.41815389e-04 5.65947003e-04 5.91068111e-04\n",
      " 6.17215225e-04 6.44426020e-04 6.72739365e-04 7.02195353e-04\n",
      " 7.32835328e-04 7.64701919e-04 7.97839069e-04 8.32292066e-04\n",
      " 8.68107576e-04 9.05333674e-04 9.44019877e-04 9.84217175e-04\n",
      " 1.02597807e-03 1.06935659e-03 1.11440835e-03 1.16119058e-03\n",
      " 1.20976214e-03 1.26018355e-03 1.31251707e-03 1.36682670e-03\n",
      " 1.42317819e-03 1.48163915e-03 1.54227900e-03 1.60516906e-03\n",
      " 1.67038259e-03 1.73799476e-03 1.80808277e-03 1.88072584e-03\n",
      " 1.95600522e-03 2.03400428e-03 2.11480853e-03 2.19850563e-03\n",
      " 2.28518542e-03 2.37494002e-03 2.46786376e-03 2.56405333e-03\n",
      " 2.66360771e-03 2.76662825e-03 2.87321873e-03 2.98348533e-03\n",
      " 3.09753671e-03 3.21548399e-03 3.33744086e-03 3.46352353e-03\n",
      " 3.59385079e-03 3.72854404e-03 3.86772733e-03 4.01152736e-03\n",
      " 4.16007349e-03 4.31349784e-03 4.47193520e-03 4.63552317e-03\n",
      " 4.80440208e-03 4.97871507e-03 5.15860809e-03 5.34422992e-03\n",
      " 5.53573217e-03 5.73326930e-03 5.93699865e-03 6.14708041e-03\n",
      " 6.36367769e-03 6.58695645e-03 6.81708558e-03 7.05423682e-03\n",
      " 7.29858486e-03 7.55030724e-03 7.80958441e-03 8.07659969e-03\n",
      " 8.35153931e-03 8.63459232e-03 8.92595065e-03 9.22580906e-03\n",
      " 9.53436511e-03 9.85181917e-03 1.01783744e-02 1.05142366e-02\n",
      " 1.08596145e-02 1.12147193e-02 1.15797649e-02 1.19549679e-02\n",
      " 1.23405473e-02 1.27367248e-02 1.31437244e-02 1.35617727e-02\n",
      " 1.39910985e-02 1.44319330e-02 1.48845095e-02 1.53490638e-02\n",
      " 1.58258333e-02 1.63150580e-02 1.68169794e-02 1.73318412e-02\n",
      " 1.78598885e-02 1.84013685e-02 1.89565299e-02 1.95256226e-02\n",
      " 2.01088984e-02 2.07066101e-02 2.13190116e-02 2.19463583e-02\n",
      " 2.25889060e-02 2.32469118e-02 2.39206334e-02 2.46103289e-02\n",
      " 2.53162571e-02 2.60386769e-02 2.67778476e-02 2.75340283e-02\n",
      " 2.83074780e-02 2.90984556e-02 2.99072194e-02 3.07340271e-02\n",
      " 3.15791358e-02 3.24428013e-02 3.33252786e-02 3.42268214e-02\n",
      " 3.51476816e-02 3.60881098e-02 3.70483545e-02 3.80286622e-02\n",
      " 3.90292772e-02 4.00504412e-02 4.10923935e-02 4.21553702e-02\n",
      " 4.32396046e-02 4.43453264e-02 4.54727621e-02 4.66221341e-02\n",
      " 4.77936612e-02 4.89875577e-02 5.02040337e-02 5.14432944e-02\n",
      " 5.27055402e-02 5.39909665e-02 5.52997632e-02 5.66321144e-02\n",
      " 5.79881987e-02 5.93681884e-02 6.07722494e-02 6.22005410e-02\n",
      " 6.36532158e-02 6.51304191e-02 6.66322890e-02 6.81589559e-02\n",
      " 6.97105424e-02 7.12871628e-02 7.28889234e-02 7.45159216e-02\n",
      " 7.61682461e-02 7.78459762e-02 7.95491823e-02 8.12779248e-02\n",
      " 8.30322545e-02 8.48122118e-02 8.66178272e-02 8.84491202e-02\n",
      " 9.03060997e-02 9.21887636e-02 9.40970984e-02 9.60310791e-02\n",
      " 9.79906691e-02 9.99758196e-02 1.01986470e-01 1.04022547e-01\n",
      " 1.06083965e-01 1.08170625e-01 1.10282415e-01 1.12419212e-01\n",
      " 1.14580877e-01 1.16767258e-01 1.18978190e-01 1.21213495e-01\n",
      " 1.23472978e-01 1.25756432e-01 1.28063637e-01 1.30394355e-01\n",
      " 1.32748336e-01 1.35125314e-01 1.37525010e-01 1.39947127e-01\n",
      " 1.42391357e-01 1.44857373e-01 1.47344836e-01 1.49853389e-01\n",
      " 1.52382661e-01 1.54932267e-01 1.57501805e-01 1.60090857e-01\n",
      " 1.62698991e-01 1.65325760e-01 1.67970699e-01 1.70633332e-01\n",
      " 1.73313163e-01 1.76009683e-01 1.78722368e-01 1.81450678e-01\n",
      " 1.84194058e-01 1.86951939e-01 1.89723736e-01 1.92508850e-01\n",
      " 1.95306666e-01 1.98116556e-01 2.00937877e-01 2.03769972e-01\n",
      " 2.06612169e-01 2.09463785e-01 2.12324119e-01 2.15192461e-01\n",
      " 2.18068085e-01 2.20950253e-01 2.23838215e-01 2.26731207e-01\n",
      " 2.29628455e-01 2.32529171e-01 2.35432557e-01 2.38337802e-01\n",
      " 2.41244088e-01 2.44150582e-01 2.47056443e-01 2.49960821e-01\n",
      " 2.52862854e-01 2.55761674e-01 2.58656402e-01 2.61546152e-01\n",
      " 2.64430029e-01 2.67307133e-01 2.70176555e-01 2.73037380e-01\n",
      " 2.75888687e-01 2.78729549e-01 2.81559036e-01 2.84376211e-01\n",
      " 2.87180133e-01 2.89969860e-01 2.92744443e-01 2.95502935e-01\n",
      " 2.98244384e-01 3.00967836e-01 3.03672338e-01 3.06356936e-01\n",
      " 3.09020675e-01 3.11662603e-01 3.14281767e-01 3.16877217e-01\n",
      " 3.19448006e-01 3.21993187e-01 3.24511821e-01 3.27002969e-01\n",
      " 3.29465699e-01 3.31899084e-01 3.34302202e-01 3.36674138e-01\n",
      " 3.39013984e-01 3.41320840e-01 3.43593812e-01 3.45832018e-01\n",
      " 3.48034583e-01 3.50200643e-01 3.52329342e-01 3.54419839e-01\n",
      " 3.56471300e-01 3.58482908e-01 3.60453854e-01 3.62383344e-01\n",
      " 3.64270600e-01 3.66114854e-01 3.67915355e-01 3.69671368e-01\n",
      " 3.71382173e-01 3.73047064e-01 3.74665355e-01 3.76236376e-01\n",
      " 3.77759474e-01 3.79234016e-01 3.80659384e-01 3.82034982e-01\n",
      " 3.83360233e-01 3.84634578e-01 3.85857481e-01 3.87028425e-01\n",
      " 3.88146912e-01 3.89212469e-01 3.90224642e-01 3.91183001e-01\n",
      " 3.92087135e-01 3.92936658e-01 3.93731208e-01 3.94470442e-01\n",
      " 3.95154044e-01 3.95781720e-01 3.96353199e-01 3.96868236e-01\n",
      " 3.97326608e-01 3.97728119e-01 3.98072593e-01 3.98359883e-01\n",
      " 3.98589864e-01 3.98762437e-01 3.98877528e-01 3.98935085e-01\n",
      " 3.98935085e-01 3.98877528e-01 3.98762437e-01 3.98589864e-01\n",
      " 3.98359883e-01 3.98072593e-01 3.97728119e-01 3.97326608e-01\n",
      " 3.96868236e-01 3.96353199e-01 3.95781720e-01 3.95154044e-01\n",
      " 3.94470442e-01 3.93731208e-01 3.92936658e-01 3.92087135e-01\n",
      " 3.91183001e-01 3.90224642e-01 3.89212469e-01 3.88146912e-01\n",
      " 3.87028425e-01 3.85857481e-01 3.84634578e-01 3.83360233e-01\n",
      " 3.82034982e-01 3.80659384e-01 3.79234016e-01 3.77759474e-01\n",
      " 3.76236376e-01 3.74665355e-01 3.73047064e-01 3.71382173e-01\n",
      " 3.69671368e-01 3.67915355e-01 3.66114854e-01 3.64270600e-01\n",
      " 3.62383344e-01 3.60453854e-01 3.58482908e-01 3.56471300e-01\n",
      " 3.54419839e-01 3.52329342e-01 3.50200643e-01 3.48034583e-01\n",
      " 3.45832018e-01 3.43593812e-01 3.41320840e-01 3.39013984e-01\n",
      " 3.36674138e-01 3.34302202e-01 3.31899084e-01 3.29465699e-01\n",
      " 3.27002969e-01 3.24511821e-01 3.21993187e-01 3.19448006e-01\n",
      " 3.16877217e-01 3.14281767e-01 3.11662603e-01 3.09020675e-01\n",
      " 3.06356936e-01 3.03672338e-01 3.00967836e-01 2.98244384e-01\n",
      " 2.95502935e-01 2.92744443e-01 2.89969860e-01 2.87180133e-01\n",
      " 2.84376211e-01 2.81559036e-01 2.78729549e-01 2.75888687e-01\n",
      " 2.73037380e-01 2.70176555e-01 2.67307133e-01 2.64430029e-01\n",
      " 2.61546152e-01 2.58656402e-01 2.55761674e-01 2.52862854e-01\n",
      " 2.49960821e-01 2.47056443e-01 2.44150582e-01 2.41244088e-01\n",
      " 2.38337802e-01 2.35432557e-01 2.32529171e-01 2.29628455e-01\n",
      " 2.26731207e-01 2.23838215e-01 2.20950253e-01 2.18068085e-01\n",
      " 2.15192461e-01 2.12324119e-01 2.09463785e-01 2.06612169e-01\n",
      " 2.03769972e-01 2.00937877e-01 1.98116556e-01 1.95306666e-01\n",
      " 1.92508850e-01 1.89723736e-01 1.86951939e-01 1.84194058e-01\n",
      " 1.81450678e-01 1.78722368e-01 1.76009683e-01 1.73313163e-01\n",
      " 1.70633332e-01 1.67970699e-01 1.65325760e-01 1.62698991e-01\n",
      " 1.60090857e-01 1.57501805e-01 1.54932267e-01 1.52382661e-01\n",
      " 1.49853389e-01 1.47344836e-01 1.44857373e-01 1.42391357e-01\n",
      " 1.39947127e-01 1.37525010e-01 1.35125314e-01 1.32748336e-01\n",
      " 1.30394355e-01 1.28063637e-01 1.25756432e-01 1.23472978e-01\n",
      " 1.21213495e-01 1.18978190e-01 1.16767258e-01 1.14580877e-01\n",
      " 1.12419212e-01 1.10282415e-01 1.08170625e-01 1.06083965e-01\n",
      " 1.04022547e-01 1.01986470e-01 9.99758196e-02 9.79906691e-02\n",
      " 9.60310791e-02 9.40970984e-02 9.21887636e-02 9.03060997e-02\n",
      " 8.84491202e-02 8.66178272e-02 8.48122118e-02 8.30322545e-02\n",
      " 8.12779248e-02 7.95491823e-02 7.78459762e-02 7.61682461e-02\n",
      " 7.45159216e-02 7.28889234e-02 7.12871628e-02 6.97105424e-02\n",
      " 6.81589559e-02 6.66322890e-02 6.51304191e-02 6.36532158e-02\n",
      " 6.22005410e-02 6.07722494e-02 5.93681884e-02 5.79881987e-02\n",
      " 5.66321144e-02 5.52997632e-02 5.39909665e-02 5.27055402e-02\n",
      " 5.14432944e-02 5.02040337e-02 4.89875577e-02 4.77936612e-02\n",
      " 4.66221341e-02 4.54727621e-02 4.43453264e-02 4.32396046e-02\n",
      " 4.21553702e-02 4.10923935e-02 4.00504412e-02 3.90292772e-02\n",
      " 3.80286622e-02 3.70483545e-02 3.60881098e-02 3.51476816e-02\n",
      " 3.42268214e-02 3.33252786e-02 3.24428013e-02 3.15791358e-02\n",
      " 3.07340271e-02 2.99072194e-02 2.90984556e-02 2.83074780e-02\n",
      " 2.75340283e-02 2.67778476e-02 2.60386769e-02 2.53162571e-02\n",
      " 2.46103289e-02 2.39206334e-02 2.32469118e-02 2.25889060e-02\n",
      " 2.19463583e-02 2.13190116e-02 2.07066101e-02 2.01088984e-02\n",
      " 1.95256226e-02 1.89565299e-02 1.84013685e-02 1.78598885e-02\n",
      " 1.73318412e-02 1.68169794e-02 1.63150580e-02 1.58258333e-02\n",
      " 1.53490638e-02 1.48845095e-02 1.44319330e-02 1.39910985e-02\n",
      " 1.35617727e-02 1.31437244e-02 1.27367248e-02 1.23405473e-02\n",
      " 1.19549679e-02 1.15797649e-02 1.12147193e-02 1.08596145e-02\n",
      " 1.05142366e-02 1.01783744e-02 9.85181917e-03 9.53436511e-03\n",
      " 9.22580906e-03 8.92595065e-03 8.63459232e-03 8.35153931e-03\n",
      " 8.07659969e-03 7.80958441e-03 7.55030724e-03 7.29858486e-03\n",
      " 7.05423682e-03 6.81708558e-03 6.58695645e-03 6.36367769e-03\n",
      " 6.14708041e-03 5.93699865e-03 5.73326930e-03 5.53573217e-03\n",
      " 5.34422992e-03 5.15860809e-03 4.97871507e-03 4.80440208e-03\n",
      " 4.63552317e-03 4.47193520e-03 4.31349784e-03 4.16007349e-03\n",
      " 4.01152736e-03 3.86772733e-03 3.72854404e-03 3.59385079e-03\n",
      " 3.46352353e-03 3.33744086e-03 3.21548399e-03 3.09753671e-03\n",
      " 2.98348533e-03 2.87321873e-03 2.76662825e-03 2.66360771e-03\n",
      " 2.56405333e-03 2.46786376e-03 2.37494002e-03 2.28518542e-03\n",
      " 2.19850563e-03 2.11480853e-03 2.03400428e-03 1.95600522e-03\n",
      " 1.88072584e-03 1.80808277e-03 1.73799476e-03 1.67038259e-03\n",
      " 1.60516906e-03 1.54227900e-03 1.48163915e-03 1.42317819e-03\n",
      " 1.36682670e-03 1.31251707e-03 1.26018355e-03 1.20976214e-03\n",
      " 1.16119058e-03 1.11440835e-03 1.06935659e-03 1.02597807e-03\n",
      " 9.84217175e-04 9.44019877e-04 9.05333674e-04 8.68107576e-04\n",
      " 8.32292066e-04 7.97839069e-04 7.64701919e-04 7.32835328e-04\n",
      " 7.02195353e-04 6.72739365e-04 6.44426020e-04 6.17215225e-04\n",
      " 5.91068111e-04 5.65947003e-04 5.41815389e-04 5.18637893e-04\n",
      " 4.96380244e-04 4.75009252e-04 4.54492777e-04 4.34799704e-04\n",
      " 4.15899912e-04 3.97764257e-04 3.80364535e-04 3.63673466e-04\n",
      " 3.47664663e-04 3.32312610e-04 3.17592640e-04 3.03480907e-04\n",
      " 2.89954367e-04 2.76990753e-04 2.64568554e-04 2.52666993e-04\n",
      " 2.41266008e-04 2.30346225e-04 2.19888946e-04 2.09876123e-04\n",
      " 2.00290340e-04 1.91114796e-04 1.82333284e-04 1.73930175e-04\n",
      " 1.65890399e-04 1.58199426e-04 1.50843254e-04 1.43808388e-04\n",
      " 1.37081825e-04 1.30651042e-04 1.24503973e-04 1.18629003e-04\n",
      " 1.13014948e-04 1.07651040e-04 1.02526920e-04 9.76326161e-05\n",
      " 9.29585367e-05 8.84954552e-05 8.42344980e-05 8.01671332e-05\n",
      " 7.62851581e-05 7.25806887e-05 6.90461480e-05 6.56742560e-05\n",
      " 6.24580188e-05 5.93907190e-05 5.64659057e-05 5.36773851e-05\n",
      " 5.10192111e-05 4.84856769e-05 4.60713060e-05 4.37708440e-05\n",
      " 4.15792503e-05 3.94916905e-05 3.75035285e-05 3.56103197e-05\n",
      " 3.38078032e-05 3.20918953e-05 3.04586828e-05 2.89044165e-05\n",
      " 2.74255048e-05 2.60185081e-05 2.46801325e-05 2.34072245e-05\n",
      " 2.21967653e-05 2.10458657e-05 1.99517612e-05 1.89118065e-05\n",
      " 1.79234715e-05 1.69843363e-05 1.60920869e-05 1.52445108e-05\n",
      " 1.44394933e-05 1.36750130e-05 1.29491387e-05 1.22600249e-05\n",
      " 1.16059089e-05 1.09851072e-05 1.03960121e-05 9.83708877e-06\n",
      " 9.30687201e-06 8.80396340e-06 8.32702851e-06 7.87479417e-06\n",
      " 7.44604587e-06 7.03962524e-06 6.65442766e-06 6.28939996e-06\n",
      " 5.94353815e-06 5.61588534e-06 5.30552965e-06 5.01160226e-06\n",
      " 4.73327550e-06 4.46976105e-06 4.22030818e-06 3.98420211e-06\n",
      " 3.76076237e-06 3.54934129e-06 3.34932249e-06 3.16011951e-06\n",
      " 2.98117441e-06 2.81195650e-06 2.65196109e-06 2.50070829e-06\n",
      " 2.35774187e-06 2.22262818e-06 2.09495506e-06 1.97433090e-06\n",
      " 1.86038364e-06 1.75275984e-06 1.65112387e-06 1.55515697e-06\n",
      " 1.46455655e-06 1.37903534e-06 1.29832070e-06 1.22215392e-06\n",
      " 1.15028952e-06 1.08249465e-06 1.01854844e-06 9.58241456e-07\n",
      " 9.01375106e-07 8.47761129e-07 7.97221085e-07 7.49585866e-07\n",
      " 7.04695241e-07 6.62397407e-07 6.22548578e-07 5.85012578e-07\n",
      " 5.49660462e-07 5.16370151e-07 4.85026086e-07 4.55518899e-07\n",
      " 4.27745097e-07 4.01606762e-07 3.77011266e-07 3.53871003e-07\n",
      " 3.32103125e-07 3.11629300e-07 2.92375476e-07 2.74271661e-07\n",
      " 2.57251708e-07 2.41253117e-07 2.26216843e-07 2.12087111e-07\n",
      " 1.98811248e-07 1.86339516e-07 1.74624957e-07 1.63623243e-07\n",
      " 1.53292539e-07 1.43593366e-07 1.34488475e-07 1.25942729e-07\n",
      " 1.17922986e-07 1.10397991e-07 1.03338275e-07 9.67160572e-08\n",
      " 9.05051506e-08 8.46808763e-08 7.92199799e-08 7.41005529e-08\n",
      " 6.93019581e-08 6.48047589e-08 6.05906524e-08 5.66424063e-08\n",
      " 5.29437985e-08 4.94795608e-08 4.62353246e-08 4.31975705e-08\n",
      " 4.03535801e-08 3.76913900e-08 3.51997497e-08 3.28680797e-08\n",
      " 3.06864341e-08 2.86454635e-08 2.67363809e-08 2.49509291e-08\n",
      " 2.32813500e-08 2.17203558e-08 2.02611012e-08 1.88971579e-08\n",
      " 1.76224902e-08 1.64314314e-08 1.53186627e-08 1.42791924e-08\n",
      " 1.33083365e-08 1.24017005e-08 1.15551621e-08 1.07648549e-08\n",
      " 1.00271533e-08 9.33865787e-09 8.69618183e-09 8.09673816e-09\n",
      " 7.53752759e-09 7.01592715e-09 6.52947950e-09 6.07588285e-09]\n"
     ]
    }
   ],
   "source": [
    "print(cn.dim)\n",
    "print(cn._normalized_term())\n",
    "print(cn.prob(X_input))"
   ]
  },
  {
   "cell_type": "code",
   "execution_count": 122,
   "metadata": {},
   "outputs": [
    {
     "data": {
      "text/plain": [
       "(2.5066282746310002, 2.5066282746310002, 2.5066282746310002)"
      ]
     },
     "execution_count": 122,
     "metadata": {},
     "output_type": "execute_result"
    }
   ],
   "source": [
    "cn._normalized_term(), cn._normalized_term(use_scipy_gamma_func=True), cn._normalized_term(use_beta_func=True)"
   ]
  },
  {
   "cell_type": "markdown",
   "metadata": {},
   "source": [
    "Test for really low kappa value"
   ]
  },
  {
   "cell_type": "code",
   "execution_count": 123,
   "metadata": {},
   "outputs": [],
   "source": [
    "kappa=0.003"
   ]
  },
  {
   "cell_type": "code",
   "execution_count": 124,
   "metadata": {},
   "outputs": [],
   "source": [
    "cn = CoupledNormal(loc=mu, scale=sigma, kappa=kappa)"
   ]
  },
  {
   "cell_type": "code",
   "execution_count": 125,
   "metadata": {},
   "outputs": [
    {
     "name": "stdout",
     "output_type": "stream",
     "text": [
      "166.66666666666666\n"
     ]
    },
    {
     "data": {
      "text/plain": [
       "9.332621544394415e+155"
      ]
     },
     "execution_count": 125,
     "metadata": {},
     "output_type": "execute_result"
    }
   ],
   "source": [
    "print(1 / (2*kappa))\n",
    "math.gamma(100)"
   ]
  },
  {
   "cell_type": "code",
   "execution_count": 126,
   "metadata": {},
   "outputs": [
    {
     "data": {
      "text/plain": [
       "2.508508948180413"
      ]
     },
     "execution_count": 126,
     "metadata": {},
     "output_type": "execute_result"
    }
   ],
   "source": [
    "cn._normalized_term()"
   ]
  },
  {
   "cell_type": "code",
   "execution_count": 127,
   "metadata": {},
   "outputs": [
    {
     "data": {
      "text/plain": [
       "2.5085089481804146"
      ]
     },
     "execution_count": 127,
     "metadata": {},
     "output_type": "execute_result"
    }
   ],
   "source": [
    "cn._normalized_term(use_beta_func=True)"
   ]
  },
  {
   "cell_type": "code",
   "execution_count": 128,
   "metadata": {},
   "outputs": [
    {
     "data": {
      "text/plain": [
       "2.5085089481804146"
      ]
     },
     "execution_count": 128,
     "metadata": {},
     "output_type": "execute_result"
    }
   ],
   "source": [
    "cn._normalized_term(use_beta_func=True)"
   ]
  },
  {
   "cell_type": "code",
   "execution_count": 129,
   "metadata": {},
   "outputs": [
    {
     "name": "stdout",
     "output_type": "stream",
     "text": [
      "1\n",
      "2.508508948180413\n",
      "[1.42896327e-08 1.52522011e-08 1.62778955e-08 1.73707354e-08\n",
      " 1.85349883e-08 1.97751838e-08 2.10961296e-08 2.25029279e-08\n",
      " 2.40009925e-08 2.55960675e-08 2.72942464e-08 2.91019925e-08\n",
      " 3.10261610e-08 3.30740213e-08 3.52532813e-08 3.75721129e-08\n",
      " 4.00391789e-08 4.26636611e-08 4.54552902e-08 4.84243777e-08\n",
      " 5.15818489e-08 5.49392780e-08 5.85089250e-08 6.23037750e-08\n",
      " 6.63375792e-08 7.06248983e-08 7.51811481e-08 8.00226476e-08\n",
      " 8.51666701e-08 9.06314963e-08 9.64364708e-08 1.02602061e-07\n",
      " 1.09149921e-07 1.16102954e-07 1.23485386e-07 1.31322836e-07\n",
      " 1.39642391e-07 1.48472692e-07 1.57844013e-07 1.67788354e-07\n",
      " 1.78339533e-07 1.89533287e-07 2.01407373e-07 2.14001678e-07\n",
      " 2.27358336e-07 2.41521846e-07 2.56539199e-07 2.72460013e-07\n",
      " 2.89336668e-07 3.07224461e-07 3.26181751e-07 3.46270130e-07\n",
      " 3.67554585e-07 3.90103682e-07 4.13989749e-07 4.39289077e-07\n",
      " 4.66082123e-07 4.94453727e-07 5.24493340e-07 5.56295261e-07\n",
      " 5.89958884e-07 6.25588967e-07 6.63295895e-07 7.03195978e-07\n",
      " 7.45411745e-07 7.90072262e-07 8.37313463e-07 8.87278492e-07\n",
      " 9.40118073e-07 9.95990879e-07 1.05506394e-06 1.11751304e-06\n",
      " 1.18352319e-06 1.25328903e-06 1.32701535e-06 1.40491757e-06\n",
      " 1.48722225e-06 1.57416765e-06 1.66600430e-06 1.76299560e-06\n",
      " 1.86541839e-06 1.97356369e-06 2.08773730e-06 2.20826054e-06\n",
      " 2.33547100e-06 2.46972329e-06 2.61138986e-06 2.76086185e-06\n",
      " 2.91854994e-06 3.08488531e-06 3.26032054e-06 3.44533069e-06\n",
      " 3.64041424e-06 3.84609426e-06 4.06291950e-06 4.29146559e-06\n",
      " 4.53233623e-06 4.78616453e-06 5.05361429e-06 5.33538143e-06\n",
      " 5.63219540e-06 5.94482072e-06 6.27405855e-06 6.62074827e-06\n",
      " 6.98576925e-06 7.37004258e-06 7.77453291e-06 8.20025035e-06\n",
      " 8.64825252e-06 9.11964653e-06 9.61559120e-06 1.01372993e-05\n",
      " 1.06860397e-05 1.12631401e-05 1.18699892e-05 1.25080396e-05\n",
      " 1.31788103e-05 1.38838896e-05 1.46249377e-05 1.54036904e-05\n",
      " 1.62219616e-05 1.70816468e-05 1.79847265e-05 1.89332694e-05\n",
      " 1.99294366e-05 2.09754848e-05 2.20737704e-05 2.32267536e-05\n",
      " 2.44370025e-05 2.57071974e-05 2.70401352e-05 2.84387344e-05\n",
      " 2.99060393e-05 3.14452255e-05 3.30596047e-05 3.47526302e-05\n",
      " 3.65279024e-05 3.83891742e-05 4.03403570e-05 4.23855271e-05\n",
      " 4.45289314e-05 4.67749944e-05 4.91283242e-05 5.15937202e-05\n",
      " 5.41761797e-05 5.68809053e-05 5.97133126e-05 6.26790379e-05\n",
      " 6.57839465e-05 6.90341407e-05 7.24359685e-05 7.59960324e-05\n",
      " 7.97211987e-05 8.36186064e-05 8.76956774e-05 9.19601261e-05\n",
      " 9.64199697e-05 1.01083539e-04 1.05959488e-04 1.11056807e-04\n",
      " 1.16384833e-04 1.21953260e-04 1.27772156e-04 1.33851968e-04\n",
      " 1.40203541e-04 1.46838128e-04 1.53767407e-04 1.61003487e-04\n",
      " 1.68558933e-04 1.76446771e-04 1.84680509e-04 1.93274149e-04\n",
      " 2.02242203e-04 2.11599712e-04 2.21362259e-04 2.31545987e-04\n",
      " 2.42167617e-04 2.53244465e-04 2.64794460e-04 2.76836161e-04\n",
      " 2.89388781e-04 3.02472200e-04 3.16106989e-04 3.30314426e-04\n",
      " 3.45116524e-04 3.60536042e-04 3.76596517e-04 3.93322277e-04\n",
      " 4.10738468e-04 4.28871077e-04 4.47746951e-04 4.67393828e-04\n",
      " 4.87840352e-04 5.09116105e-04 5.31251630e-04 5.54278452e-04\n",
      " 5.78229112e-04 6.03137183e-04 6.29037308e-04 6.55965217e-04\n",
      " 6.83957761e-04 7.13052936e-04 7.43289916e-04 7.74709075e-04\n",
      " 8.07352023e-04 8.41261630e-04 8.76482060e-04 9.13058797e-04\n",
      " 9.51038680e-04 9.90469931e-04 1.03140219e-03 1.07388653e-03\n",
      " 1.11797553e-03 1.16372324e-03 1.21118530e-03 1.26041889e-03\n",
      " 1.31148280e-03 1.36443749e-03 1.41934506e-03 1.47626935e-03\n",
      " 1.53527591e-03 1.59643210e-03 1.65980706e-03 1.72547179e-03\n",
      " 1.79349916e-03 1.86396396e-03 1.93694292e-03 2.01251476e-03\n",
      " 2.09076020e-03 2.17176201e-03 2.25560505e-03 2.34237629e-03\n",
      " 2.43216485e-03 2.52506204e-03 2.62116136e-03 2.72055859e-03\n",
      " 2.82335177e-03 2.92964125e-03 3.03952974e-03 3.15312231e-03\n",
      " 3.27052643e-03 3.39185204e-03 3.51721149e-03 3.64671966e-03\n",
      " 3.78049396e-03 3.91865430e-03 4.06132321e-03 4.20862581e-03\n",
      " 4.36068982e-03 4.51764564e-03 4.67962633e-03 4.84676762e-03\n",
      " 5.01920798e-03 5.19708861e-03 5.38055343e-03 5.56974917e-03\n",
      " 5.76482529e-03 5.96593409e-03 6.17323065e-03 6.38687286e-03\n",
      " 6.60702146e-03 6.83384001e-03 7.06749489e-03 7.30815534e-03\n",
      " 7.55599344e-03 7.81118412e-03 8.07390511e-03 8.34433702e-03\n",
      " 8.62266326e-03 8.90907005e-03 9.20374644e-03 9.50688425e-03\n",
      " 9.81867807e-03 1.01393253e-02 1.04690259e-02 1.08079828e-02\n",
      " 1.11564015e-02 1.15144899e-02 1.18824590e-02 1.22605219e-02\n",
      " 1.26488946e-02 1.30477954e-02 1.34574451e-02 1.38780669e-02\n",
      " 1.43098864e-02 1.47531313e-02 1.52080319e-02 1.56748203e-02\n",
      " 1.61537309e-02 1.66450000e-02 1.71488661e-02 1.76655694e-02\n",
      " 1.81953518e-02 1.87384572e-02 1.92951309e-02 1.98656198e-02\n",
      " 2.04501724e-02 2.10490381e-02 2.16624681e-02 2.22907142e-02\n",
      " 2.29340296e-02 2.35926682e-02 2.42668846e-02 2.49569343e-02\n",
      " 2.56630730e-02 2.63855571e-02 2.71246429e-02 2.78805871e-02\n",
      " 2.86536462e-02 2.94440764e-02 3.02521339e-02 3.10780740e-02\n",
      " 3.19221515e-02 3.27846204e-02 3.36657335e-02 3.45657426e-02\n",
      " 3.54848981e-02 3.64234488e-02 3.73816416e-02 3.83597217e-02\n",
      " 3.93579322e-02 4.03765136e-02 4.14157042e-02 4.24757393e-02\n",
      " 4.35568513e-02 4.46592696e-02 4.57832200e-02 4.69289249e-02\n",
      " 4.80966029e-02 4.92864682e-02 5.04987312e-02 5.17335976e-02\n",
      " 5.29912682e-02 5.42719391e-02 5.55758010e-02 5.69030392e-02\n",
      " 5.82538334e-02 5.96283574e-02 6.10267784e-02 6.24492578e-02\n",
      " 6.38959498e-02 6.53670019e-02 6.68625545e-02 6.83827404e-02\n",
      " 6.99276847e-02 7.14975048e-02 7.30923096e-02 7.47121999e-02\n",
      " 7.63572675e-02 7.80275955e-02 7.97232576e-02 8.14443183e-02\n",
      " 8.31908322e-02 8.49628440e-02 8.67603883e-02 8.85834894e-02\n",
      " 9.04321605e-02 9.23064044e-02 9.42062126e-02 9.61315650e-02\n",
      " 9.80824303e-02 1.00058765e-01 1.02060514e-01 1.04087610e-01\n",
      " 1.06139972e-01 1.08217507e-01 1.10320111e-01 1.12447665e-01\n",
      " 1.14600036e-01 1.16777080e-01 1.18978636e-01 1.21204534e-01\n",
      " 1.23454585e-01 1.25728589e-01 1.28026330e-01 1.30347580e-01\n",
      " 1.32692095e-01 1.35059614e-01 1.37449866e-01 1.39862561e-01\n",
      " 1.42297397e-01 1.44754053e-01 1.47232198e-01 1.49731482e-01\n",
      " 1.52251540e-01 1.54791993e-01 1.57352446e-01 1.59932489e-01\n",
      " 1.62531695e-01 1.65149623e-01 1.67785817e-01 1.70439803e-01\n",
      " 1.73111095e-01 1.75799188e-01 1.78503565e-01 1.81223692e-01\n",
      " 1.83959019e-01 1.86708982e-01 1.89473003e-01 1.92250487e-01\n",
      " 1.95040825e-01 1.97843393e-01 2.00657554e-01 2.03482654e-01\n",
      " 2.06318028e-01 2.09162994e-01 2.12016858e-01 2.14878912e-01\n",
      " 2.17748434e-01 2.20624690e-01 2.23506932e-01 2.26394400e-01\n",
      " 2.29286322e-01 2.32181913e-01 2.35080376e-01 2.37980905e-01\n",
      " 2.40882680e-01 2.43784872e-01 2.46686641e-01 2.49587136e-01\n",
      " 2.52485498e-01 2.55380858e-01 2.58272338e-01 2.61159051e-01\n",
      " 2.64040104e-01 2.66914593e-01 2.69781610e-01 2.72640239e-01\n",
      " 2.75489557e-01 2.78328637e-01 2.81156544e-01 2.83972341e-01\n",
      " 2.86775084e-01 2.89563829e-01 2.92337624e-01 2.95095517e-01\n",
      " 2.97836554e-01 3.00559778e-01 3.03264232e-01 3.05948957e-01\n",
      " 3.08612994e-01 3.11255387e-01 3.13875178e-01 3.16471412e-01\n",
      " 3.19043137e-01 3.21589401e-01 3.24109259e-01 3.26601767e-01\n",
      " 3.29065987e-01 3.31500986e-01 3.33905836e-01 3.36279617e-01\n",
      " 3.38621413e-01 3.40930318e-01 3.43205432e-01 3.45445867e-01\n",
      " 3.47650740e-01 3.49819180e-01 3.51950327e-01 3.54043330e-01\n",
      " 3.56097351e-01 3.58111564e-01 3.60085154e-01 3.62017321e-01\n",
      " 3.63907278e-01 3.65754252e-01 3.67557484e-01 3.69316234e-01\n",
      " 3.71029772e-01 3.72697390e-01 3.74318392e-01 3.75892102e-01\n",
      " 3.77417862e-01 3.78895031e-01 3.80322986e-01 3.81701126e-01\n",
      " 3.83028866e-01 3.84305643e-01 3.85530914e-01 3.86704157e-01\n",
      " 3.87824871e-01 3.88892575e-01 3.89906812e-01 3.90867146e-01\n",
      " 3.91773162e-01 3.92624472e-01 3.93420706e-01 3.94161521e-01\n",
      " 3.94846596e-01 3.95475633e-01 3.96048360e-01 3.96564528e-01\n",
      " 3.97023912e-01 3.97426312e-01 3.97771552e-01 3.98059484e-01\n",
      " 3.98289979e-01 3.98462939e-01 3.98578288e-01 3.98635975e-01\n",
      " 3.98635975e-01 3.98578288e-01 3.98462939e-01 3.98289979e-01\n",
      " 3.98059484e-01 3.97771552e-01 3.97426312e-01 3.97023912e-01\n",
      " 3.96564528e-01 3.96048360e-01 3.95475633e-01 3.94846596e-01\n",
      " 3.94161521e-01 3.93420706e-01 3.92624472e-01 3.91773162e-01\n",
      " 3.90867146e-01 3.89906812e-01 3.88892575e-01 3.87824871e-01\n",
      " 3.86704157e-01 3.85530914e-01 3.84305643e-01 3.83028866e-01\n",
      " 3.81701126e-01 3.80322986e-01 3.78895031e-01 3.77417862e-01\n",
      " 3.75892102e-01 3.74318392e-01 3.72697390e-01 3.71029772e-01\n",
      " 3.69316234e-01 3.67557484e-01 3.65754252e-01 3.63907278e-01\n",
      " 3.62017321e-01 3.60085154e-01 3.58111564e-01 3.56097351e-01\n",
      " 3.54043330e-01 3.51950327e-01 3.49819180e-01 3.47650740e-01\n",
      " 3.45445867e-01 3.43205432e-01 3.40930318e-01 3.38621413e-01\n",
      " 3.36279617e-01 3.33905836e-01 3.31500986e-01 3.29065987e-01\n",
      " 3.26601767e-01 3.24109259e-01 3.21589401e-01 3.19043137e-01\n",
      " 3.16471412e-01 3.13875178e-01 3.11255387e-01 3.08612994e-01\n",
      " 3.05948957e-01 3.03264232e-01 3.00559778e-01 2.97836554e-01\n",
      " 2.95095517e-01 2.92337624e-01 2.89563829e-01 2.86775084e-01\n",
      " 2.83972341e-01 2.81156544e-01 2.78328637e-01 2.75489557e-01\n",
      " 2.72640239e-01 2.69781610e-01 2.66914593e-01 2.64040104e-01\n",
      " 2.61159051e-01 2.58272338e-01 2.55380858e-01 2.52485498e-01\n",
      " 2.49587136e-01 2.46686641e-01 2.43784872e-01 2.40882680e-01\n",
      " 2.37980905e-01 2.35080376e-01 2.32181913e-01 2.29286322e-01\n",
      " 2.26394400e-01 2.23506932e-01 2.20624690e-01 2.17748434e-01\n",
      " 2.14878912e-01 2.12016858e-01 2.09162994e-01 2.06318028e-01\n",
      " 2.03482654e-01 2.00657554e-01 1.97843393e-01 1.95040825e-01\n",
      " 1.92250487e-01 1.89473003e-01 1.86708982e-01 1.83959019e-01\n",
      " 1.81223692e-01 1.78503565e-01 1.75799188e-01 1.73111095e-01\n",
      " 1.70439803e-01 1.67785817e-01 1.65149623e-01 1.62531695e-01\n",
      " 1.59932489e-01 1.57352446e-01 1.54791993e-01 1.52251540e-01\n",
      " 1.49731482e-01 1.47232198e-01 1.44754053e-01 1.42297397e-01\n",
      " 1.39862561e-01 1.37449866e-01 1.35059614e-01 1.32692095e-01\n",
      " 1.30347580e-01 1.28026330e-01 1.25728589e-01 1.23454585e-01\n",
      " 1.21204534e-01 1.18978636e-01 1.16777080e-01 1.14600036e-01\n",
      " 1.12447665e-01 1.10320111e-01 1.08217507e-01 1.06139972e-01\n",
      " 1.04087610e-01 1.02060514e-01 1.00058765e-01 9.80824303e-02\n",
      " 9.61315650e-02 9.42062126e-02 9.23064044e-02 9.04321605e-02\n",
      " 8.85834894e-02 8.67603883e-02 8.49628440e-02 8.31908322e-02\n",
      " 8.14443183e-02 7.97232576e-02 7.80275955e-02 7.63572675e-02\n",
      " 7.47121999e-02 7.30923096e-02 7.14975048e-02 6.99276847e-02\n",
      " 6.83827404e-02 6.68625545e-02 6.53670019e-02 6.38959498e-02\n",
      " 6.24492578e-02 6.10267784e-02 5.96283574e-02 5.82538334e-02\n",
      " 5.69030392e-02 5.55758010e-02 5.42719391e-02 5.29912682e-02\n",
      " 5.17335976e-02 5.04987312e-02 4.92864682e-02 4.80966029e-02\n",
      " 4.69289249e-02 4.57832200e-02 4.46592696e-02 4.35568513e-02\n",
      " 4.24757393e-02 4.14157042e-02 4.03765136e-02 3.93579322e-02\n",
      " 3.83597217e-02 3.73816416e-02 3.64234488e-02 3.54848981e-02\n",
      " 3.45657426e-02 3.36657335e-02 3.27846204e-02 3.19221515e-02\n",
      " 3.10780740e-02 3.02521339e-02 2.94440764e-02 2.86536462e-02\n",
      " 2.78805871e-02 2.71246429e-02 2.63855571e-02 2.56630730e-02\n",
      " 2.49569343e-02 2.42668846e-02 2.35926682e-02 2.29340296e-02\n",
      " 2.22907142e-02 2.16624681e-02 2.10490381e-02 2.04501724e-02\n",
      " 1.98656198e-02 1.92951309e-02 1.87384572e-02 1.81953518e-02\n",
      " 1.76655694e-02 1.71488661e-02 1.66450000e-02 1.61537309e-02\n",
      " 1.56748203e-02 1.52080319e-02 1.47531313e-02 1.43098864e-02\n",
      " 1.38780669e-02 1.34574451e-02 1.30477954e-02 1.26488946e-02\n",
      " 1.22605219e-02 1.18824590e-02 1.15144899e-02 1.11564015e-02\n",
      " 1.08079828e-02 1.04690259e-02 1.01393253e-02 9.81867807e-03\n",
      " 9.50688425e-03 9.20374644e-03 8.90907005e-03 8.62266326e-03\n",
      " 8.34433702e-03 8.07390511e-03 7.81118412e-03 7.55599344e-03\n",
      " 7.30815534e-03 7.06749489e-03 6.83384001e-03 6.60702146e-03\n",
      " 6.38687286e-03 6.17323065e-03 5.96593409e-03 5.76482529e-03\n",
      " 5.56974917e-03 5.38055343e-03 5.19708861e-03 5.01920798e-03\n",
      " 4.84676762e-03 4.67962633e-03 4.51764564e-03 4.36068982e-03\n",
      " 4.20862581e-03 4.06132321e-03 3.91865430e-03 3.78049396e-03\n",
      " 3.64671966e-03 3.51721149e-03 3.39185204e-03 3.27052643e-03\n",
      " 3.15312231e-03 3.03952974e-03 2.92964125e-03 2.82335177e-03\n",
      " 2.72055859e-03 2.62116136e-03 2.52506204e-03 2.43216485e-03\n",
      " 2.34237629e-03 2.25560505e-03 2.17176201e-03 2.09076020e-03\n",
      " 2.01251476e-03 1.93694292e-03 1.86396396e-03 1.79349916e-03\n",
      " 1.72547179e-03 1.65980706e-03 1.59643210e-03 1.53527591e-03\n",
      " 1.47626935e-03 1.41934506e-03 1.36443749e-03 1.31148280e-03\n",
      " 1.26041889e-03 1.21118530e-03 1.16372324e-03 1.11797553e-03\n",
      " 1.07388653e-03 1.03140219e-03 9.90469931e-04 9.51038680e-04\n",
      " 9.13058797e-04 8.76482060e-04 8.41261630e-04 8.07352023e-04\n",
      " 7.74709075e-04 7.43289916e-04 7.13052936e-04 6.83957761e-04\n",
      " 6.55965217e-04 6.29037308e-04 6.03137183e-04 5.78229112e-04\n",
      " 5.54278452e-04 5.31251630e-04 5.09116105e-04 4.87840352e-04\n",
      " 4.67393828e-04 4.47746951e-04 4.28871077e-04 4.10738468e-04\n",
      " 3.93322277e-04 3.76596517e-04 3.60536042e-04 3.45116524e-04\n",
      " 3.30314426e-04 3.16106989e-04 3.02472200e-04 2.89388781e-04\n",
      " 2.76836161e-04 2.64794460e-04 2.53244465e-04 2.42167617e-04\n",
      " 2.31545987e-04 2.21362259e-04 2.11599712e-04 2.02242203e-04\n",
      " 1.93274149e-04 1.84680509e-04 1.76446771e-04 1.68558933e-04\n",
      " 1.61003487e-04 1.53767407e-04 1.46838128e-04 1.40203541e-04\n",
      " 1.33851968e-04 1.27772156e-04 1.21953260e-04 1.16384833e-04\n",
      " 1.11056807e-04 1.05959488e-04 1.01083539e-04 9.64199697e-05\n",
      " 9.19601261e-05 8.76956774e-05 8.36186064e-05 7.97211987e-05\n",
      " 7.59960324e-05 7.24359685e-05 6.90341407e-05 6.57839465e-05\n",
      " 6.26790379e-05 5.97133126e-05 5.68809053e-05 5.41761797e-05\n",
      " 5.15937202e-05 4.91283242e-05 4.67749944e-05 4.45289314e-05\n",
      " 4.23855271e-05 4.03403570e-05 3.83891742e-05 3.65279024e-05\n",
      " 3.47526302e-05 3.30596047e-05 3.14452255e-05 2.99060393e-05\n",
      " 2.84387344e-05 2.70401352e-05 2.57071974e-05 2.44370025e-05\n",
      " 2.32267536e-05 2.20737704e-05 2.09754848e-05 1.99294366e-05\n",
      " 1.89332694e-05 1.79847265e-05 1.70816468e-05 1.62219616e-05\n",
      " 1.54036904e-05 1.46249377e-05 1.38838896e-05 1.31788103e-05\n",
      " 1.25080396e-05 1.18699892e-05 1.12631401e-05 1.06860397e-05\n",
      " 1.01372993e-05 9.61559120e-06 9.11964653e-06 8.64825252e-06\n",
      " 8.20025035e-06 7.77453291e-06 7.37004258e-06 6.98576925e-06\n",
      " 6.62074827e-06 6.27405855e-06 5.94482072e-06 5.63219540e-06\n",
      " 5.33538143e-06 5.05361429e-06 4.78616453e-06 4.53233623e-06\n",
      " 4.29146559e-06 4.06291950e-06 3.84609426e-06 3.64041424e-06\n",
      " 3.44533069e-06 3.26032054e-06 3.08488531e-06 2.91854994e-06\n",
      " 2.76086185e-06 2.61138986e-06 2.46972329e-06 2.33547100e-06\n",
      " 2.20826054e-06 2.08773730e-06 1.97356369e-06 1.86541839e-06\n",
      " 1.76299560e-06 1.66600430e-06 1.57416765e-06 1.48722225e-06\n",
      " 1.40491757e-06 1.32701535e-06 1.25328903e-06 1.18352319e-06\n",
      " 1.11751304e-06 1.05506394e-06 9.95990879e-07 9.40118073e-07\n",
      " 8.87278492e-07 8.37313463e-07 7.90072262e-07 7.45411745e-07\n",
      " 7.03195978e-07 6.63295895e-07 6.25588967e-07 5.89958884e-07\n",
      " 5.56295261e-07 5.24493340e-07 4.94453727e-07 4.66082123e-07\n",
      " 4.39289077e-07 4.13989749e-07 3.90103682e-07 3.67554585e-07\n",
      " 3.46270130e-07 3.26181751e-07 3.07224461e-07 2.89336668e-07\n",
      " 2.72460013e-07 2.56539199e-07 2.41521846e-07 2.27358336e-07\n",
      " 2.14001678e-07 2.01407373e-07 1.89533287e-07 1.78339533e-07\n",
      " 1.67788354e-07 1.57844013e-07 1.48472692e-07 1.39642391e-07\n",
      " 1.31322836e-07 1.23485386e-07 1.16102954e-07 1.09149921e-07\n",
      " 1.02602061e-07 9.64364708e-08 9.06314963e-08 8.51666701e-08\n",
      " 8.00226476e-08 7.51811481e-08 7.06248983e-08 6.63375792e-08\n",
      " 6.23037750e-08 5.85089250e-08 5.49392780e-08 5.15818489e-08\n",
      " 4.84243777e-08 4.54552902e-08 4.26636611e-08 4.00391789e-08\n",
      " 3.75721129e-08 3.52532813e-08 3.30740213e-08 3.10261610e-08\n",
      " 2.91019925e-08 2.72942464e-08 2.55960675e-08 2.40009925e-08\n",
      " 2.25029279e-08 2.10961296e-08 1.97751838e-08 1.85349883e-08\n",
      " 1.73707354e-08 1.62778955e-08 1.52522011e-08 1.42896327e-08]\n"
     ]
    }
   ],
   "source": [
    "print(cn.dim)\n",
    "print(cn._normalized_term())\n",
    "print(cn.prob(X_input))"
   ]
  },
  {
   "cell_type": "markdown",
   "metadata": {},
   "source": [
    "Coupled Normal multiple distributions with batch vector size of 2"
   ]
  },
  {
   "cell_type": "code",
   "execution_count": 130,
   "metadata": {},
   "outputs": [
    {
     "data": {
      "text/plain": [
       "<nsc.distributions.CoupledNormal batch_shape=[2] event_shape=[]>"
      ]
     },
     "execution_count": 130,
     "metadata": {},
     "output_type": "execute_result"
    }
   ],
   "source": [
    "cn = CoupledNormal(loc=[0., 1.], scale=[1., 2.])\n",
    "cn"
   ]
  },
  {
   "cell_type": "code",
   "execution_count": 131,
   "metadata": {},
   "outputs": [
    {
     "name": "stdout",
     "output_type": "stream",
     "text": [
      "1\n",
      "[2.50662827 5.01325655]\n"
     ]
    }
   ],
   "source": [
    "print(cn.dim)\n",
    "print(cn._normalized_term())\n",
    "# print(cn.prob(X_input))"
   ]
  },
  {
   "cell_type": "markdown",
   "metadata": {},
   "source": [
    "Coupled Normal multiple distributions with batch matrix size of 3x2"
   ]
  },
  {
   "cell_type": "code",
   "execution_count": 132,
   "metadata": {},
   "outputs": [
    {
     "data": {
      "text/plain": [
       "<nsc.distributions.CoupledNormal batch_shape=[3, 2] event_shape=[]>"
      ]
     },
     "execution_count": 132,
     "metadata": {},
     "output_type": "execute_result"
    }
   ],
   "source": [
    "cn = CoupledNormal(loc=[[0., 1.], [0., 1.], [0., 1.]], scale=[[1., 2.], [1., 2.], [1., 2.]])\n",
    "cn"
   ]
  },
  {
   "cell_type": "markdown",
   "metadata": {},
   "source": [
    "**Multivariate Coupled Normal distribution when d=2**"
   ]
  },
  {
   "cell_type": "code",
   "execution_count": 133,
   "metadata": {},
   "outputs": [
    {
     "data": {
      "text/plain": [
       "<nsc.distributions.MultivariateCoupledNormal batch_shape=[] event_shape=[2]>"
      ]
     },
     "execution_count": 133,
     "metadata": {},
     "output_type": "execute_result"
    }
   ],
   "source": [
    "# batch_shape is [] while event_shape is [2]\n",
    "mcn = MultivariateCoupledNormal(loc=[0., 1.], scale=[1., 2.], kappa=0.1)\n",
    "mcn"
   ]
  },
  {
   "cell_type": "code",
   "execution_count": 134,
   "metadata": {},
   "outputs": [
    {
     "name": "stdout",
     "output_type": "stream",
     "text": [
      "2\n",
      "[0. 1.]\n",
      "[[1. 0.]\n",
      " [0. 2.]]\n",
      "0.1\n",
      "2\n"
     ]
    }
   ],
   "source": [
    "print(mcn.dim)\n",
    "print(mcn.loc)\n",
    "print(mcn.scale)\n",
    "print(mcn.kappa)\n",
    "print(mcn.alpha)"
   ]
  },
  {
   "cell_type": "code",
   "execution_count": 135,
   "metadata": {},
   "outputs": [
    {
     "data": {
      "text/plain": [
       "4.889680162071525"
      ]
     },
     "execution_count": 135,
     "metadata": {},
     "output_type": "execute_result"
    }
   ],
   "source": [
    "mcn._normalized_term()"
   ]
  },
  {
   "cell_type": "markdown",
   "metadata": {},
   "source": [
    "Create 2nd X variable from -12 to 12."
   ]
  },
  {
   "cell_type": "code",
   "execution_count": 136,
   "metadata": {},
   "outputs": [],
   "source": [
    "twelve_scale = 12.*scale\n",
    "# X_input = np.arange(mu-6.*sigma, mu+6.*sigma, (20.+mu - -20.+mu)/(2.**16.+1.), dtype=float)\n",
    "X2_input = np.linspace(mu-twelve_scale, mu+twelve_scale, 1000)"
   ]
  },
  {
   "cell_type": "code",
   "execution_count": 137,
   "metadata": {},
   "outputs": [
    {
     "data": {
      "text/plain": [
       "(1000, 2)"
      ]
     },
     "execution_count": 137,
     "metadata": {},
     "output_type": "execute_result"
    }
   ],
   "source": [
    "X_2D = np.column_stack((X_input, X2_input))\n",
    "X_2D.shape"
   ]
  },
  {
   "cell_type": "code",
   "execution_count": 138,
   "metadata": {},
   "outputs": [
    {
     "data": {
      "text/plain": [
       "array([[ -6.        , -12.        ],\n",
       "       [ -5.98798799, -11.97597598],\n",
       "       [ -5.97597598, -11.95195195],\n",
       "       ...,\n",
       "       [  5.97597598,  11.95195195],\n",
       "       [  5.98798799,  11.97597598],\n",
       "       [  6.        ,  12.        ]])"
      ]
     },
     "execution_count": 138,
     "metadata": {},
     "output_type": "execute_result"
    }
   ],
   "source": [
    "X_2D"
   ]
  },
  {
   "cell_type": "code",
   "execution_count": 139,
   "metadata": {},
   "outputs": [
    {
     "data": {
      "text/plain": [
       "(4.889680162071525, 12.566370614359169)"
      ]
     },
     "execution_count": 139,
     "metadata": {},
     "output_type": "execute_result"
    }
   ],
   "source": [
    "mcn._normalized_term(), mcn._normalized_term(beta_func=True)"
   ]
  },
  {
   "cell_type": "markdown",
   "metadata": {},
   "source": [
    "Here is the dataset of X_2D, we can see that the sample size (m) is 1000 and the dim (d) for each sample is 2."
   ]
  },
  {
   "cell_type": "code",
   "execution_count": 34,
   "metadata": {},
   "outputs": [],
   "source": [
    "# mcn.prob(X_2D), mcn.prob(X_2D, b=True)"
   ]
  },
  {
   "cell_type": "markdown",
   "metadata": {},
   "source": [
    "***Multivariate Coupled Normal distribution when d=8***"
   ]
  },
  {
   "cell_type": "code",
   "execution_count": 35,
   "metadata": {},
   "outputs": [
    {
     "data": {
      "text/plain": [
       "<nsc.distributions.MultivariateCoupledNormal batch_shape=[] event_shape=[8]>"
      ]
     },
     "execution_count": 35,
     "metadata": {},
     "output_type": "execute_result"
    }
   ],
   "source": [
    "# batch_shape is [] while event_shape is [2]\n",
    "mcn = MultivariateCoupledNormal(loc=[0., 1., 2., 3., 4., 5., 6., 7.],\n",
    "                                scale=[1., 2., 3., 4., 5., 6., 7., 8.],\n",
    "                                kappa=0.1\n",
    "                               )\n",
    "mcn"
   ]
  },
  {
   "cell_type": "code",
   "execution_count": 36,
   "metadata": {},
   "outputs": [
    {
     "name": "stdout",
     "output_type": "stream",
     "text": [
      "8\n",
      "[0. 1. 2. 3. 4. 5. 6. 7.]\n",
      "[[1. 0. 0. 0. 0. 0. 0. 0.]\n",
      " [0. 2. 0. 0. 0. 0. 0. 0.]\n",
      " [0. 0. 3. 0. 0. 0. 0. 0.]\n",
      " [0. 0. 0. 4. 0. 0. 0. 0.]\n",
      " [0. 0. 0. 0. 5. 0. 0. 0.]\n",
      " [0. 0. 0. 0. 0. 6. 0. 0.]\n",
      " [0. 0. 0. 0. 0. 0. 7. 0.]\n",
      " [0. 0. 0. 0. 0. 0. 0. 8.]]\n",
      "0.1\n",
      "2\n"
     ]
    }
   ],
   "source": [
    "print(mcn.dim)\n",
    "print(mcn.loc)\n",
    "print(mcn.scale)\n",
    "print(mcn.kappa)\n",
    "print(mcn.alpha)"
   ]
  },
  {
   "cell_type": "markdown",
   "metadata": {},
   "source": [
    "Create 6 more variables"
   ]
  },
  {
   "cell_type": "code",
   "execution_count": 37,
   "metadata": {},
   "outputs": [],
   "source": [
    "two_scale = 2.*scale\n",
    "four_scale = 4.*scale\n",
    "eight_scale = 8.*scale\n",
    "ten_scale = 10.*scale\n",
    "fourteen_scale = 14.*scale\n",
    "sixteen_scale = 16.*scale\n",
    "\n",
    "X3_input = np.linspace(mu-two_scale, mu+two_scale, 1000)\n",
    "X4_input = np.linspace(mu-four_scale, mu+four_scale, 1000)\n",
    "X5_input = np.linspace(mu-eight_scale, mu+eight_scale, 1000)\n",
    "X6_input = np.linspace(mu-ten_scale, mu+ten_scale, 1000)\n",
    "X7_input = np.linspace(mu-fourteen_scale, mu+fourteen_scale, 1000)\n",
    "X8_input = np.linspace(mu-sixteen_scale, mu+sixteen_scale, 1000)"
   ]
  },
  {
   "cell_type": "code",
   "execution_count": 38,
   "metadata": {},
   "outputs": [
    {
     "data": {
      "text/plain": [
       "(1000, 8)"
      ]
     },
     "execution_count": 38,
     "metadata": {},
     "output_type": "execute_result"
    }
   ],
   "source": [
    "X_8D = np.column_stack((X_input, X2_input, X3_input, X4_input, X5_input, X6_input, X7_input, X8_input))\n",
    "X_8D.shape"
   ]
  },
  {
   "cell_type": "markdown",
   "metadata": {},
   "source": [
    "Run prob"
   ]
  },
  {
   "cell_type": "code",
   "execution_count": 39,
   "metadata": {},
   "outputs": [
    {
     "data": {
      "text/plain": [
       "array([4.81232826e-11, 4.90837687e-11, 5.00649993e-11, 5.10674558e-11,\n",
       "       5.20916314e-11, 5.31380316e-11, 5.42071743e-11, 5.52995905e-11,\n",
       "       5.64158242e-11, 5.75564333e-11, 5.87219892e-11, 5.99130781e-11,\n",
       "       6.11303005e-11, 6.23742720e-11, 6.36456240e-11, 6.49450034e-11,\n",
       "       6.62730736e-11, 6.76305149e-11, 6.90180245e-11, 7.04363174e-11,\n",
       "       7.18861267e-11, 7.33682043e-11, 7.48833210e-11, 7.64322673e-11,\n",
       "       7.80158539e-11, 7.96349122e-11, 8.12902950e-11, 8.29828767e-11,\n",
       "       8.47135544e-11, 8.64832482e-11, 8.82929017e-11, 9.01434831e-11,\n",
       "       9.20359854e-11, 9.39714274e-11, 9.59508544e-11, 9.79753385e-11,\n",
       "       1.00045980e-10, 1.02163907e-10, 1.04330279e-10, 1.06546283e-10,\n",
       "       1.08813140e-10, 1.11132100e-10, 1.13504448e-10, 1.15931501e-10,\n",
       "       1.18414613e-10, 1.20955171e-10, 1.23554601e-10, 1.26214364e-10,\n",
       "       1.28935962e-10, 1.31720936e-10, 1.34570868e-10, 1.37487381e-10,\n",
       "       1.40472143e-10, 1.43526866e-10, 1.46653305e-10, 1.49853267e-10,\n",
       "       1.53128603e-10, 1.56481215e-10, 1.59913058e-10, 1.63426136e-10,\n",
       "       1.67022510e-10, 1.70704295e-10, 1.74473664e-10, 1.78332848e-10,\n",
       "       1.82284141e-10, 1.86329894e-10, 1.90472528e-10, 1.94714526e-10,\n",
       "       1.99058440e-10, 2.03506891e-10, 2.08062573e-10, 2.12728253e-10,\n",
       "       2.17506774e-10, 2.22401057e-10, 2.27414104e-10, 2.32548998e-10,\n",
       "       2.37808909e-10, 2.43197095e-10, 2.48716902e-10, 2.54371771e-10,\n",
       "       2.60165237e-10, 2.66100934e-10, 2.72182598e-10, 2.78414068e-10,\n",
       "       2.84799290e-10, 2.91342322e-10, 2.98047335e-10, 3.04918617e-10,\n",
       "       3.11960576e-10, 3.19177746e-10, 3.26574786e-10, 3.34156489e-10,\n",
       "       3.41927783e-10, 3.49893735e-10, 3.58059555e-10, 3.66430604e-10,\n",
       "       3.75012393e-10, 3.83810591e-10, 3.92831028e-10, 4.02079702e-10,\n",
       "       4.11562781e-10, 4.21286612e-10, 4.31257723e-10, 4.41482829e-10,\n",
       "       4.51968839e-10, 4.62722864e-10, 4.73752215e-10, 4.85064420e-10,\n",
       "       4.96667221e-10, 5.08568588e-10, 5.20776719e-10, 5.33300055e-10,\n",
       "       5.46147279e-10, 5.59327330e-10, 5.72849408e-10, 5.86722981e-10,\n",
       "       6.00957796e-10, 6.15563886e-10, 6.30551580e-10, 6.45931510e-10,\n",
       "       6.61714620e-10, 6.77912182e-10, 6.94535798e-10, 7.11597414e-10,\n",
       "       7.29109332e-10, 7.47084218e-10, 7.65535117e-10, 7.84475461e-10,\n",
       "       8.03919083e-10, 8.23880231e-10, 8.44373579e-10, 8.65414240e-10,\n",
       "       8.87017782e-10, 9.09200240e-10, 9.31978134e-10, 9.55368479e-10,\n",
       "       9.79388808e-10, 1.00405718e-09, 1.02939220e-09, 1.05541305e-09,\n",
       "       1.08213948e-09, 1.10959184e-09, 1.13779112e-09, 1.16675892e-09,\n",
       "       1.19651753e-09, 1.22708990e-09, 1.25849969e-09, 1.29077129e-09,\n",
       "       1.32392984e-09, 1.35800125e-09, 1.39301223e-09, 1.42899031e-09,\n",
       "       1.46596387e-09, 1.50396217e-09, 1.54301539e-09, 1.58315463e-09,\n",
       "       1.62441196e-09, 1.66682045e-09, 1.71041420e-09, 1.75522837e-09,\n",
       "       1.80129923e-09, 1.84866417e-09, 1.89736176e-09, 1.94743177e-09,\n",
       "       1.99891525e-09, 2.05185450e-09, 2.10629318e-09, 2.16227631e-09,\n",
       "       2.21985035e-09, 2.27906322e-09, 2.33996435e-09, 2.40260474e-09,\n",
       "       2.46703703e-09, 2.53331551e-09, 2.60149621e-09, 2.67163693e-09,\n",
       "       2.74379733e-09, 2.81803898e-09, 2.89442541e-09, 2.97302219e-09,\n",
       "       3.05389698e-09, 3.13711964e-09, 3.22276225e-09, 3.31089922e-09,\n",
       "       3.40160738e-09, 3.49496600e-09, 3.59105694e-09, 3.68996471e-09,\n",
       "       3.79177653e-09, 3.89658248e-09, 4.00447556e-09, 4.11555177e-09,\n",
       "       4.22991026e-09, 4.34765340e-09, 4.46888691e-09, 4.59371994e-09,\n",
       "       4.72226523e-09, 4.85463921e-09, 4.99096212e-09, 5.13135813e-09,\n",
       "       5.27595553e-09, 5.42488677e-09, 5.57828872e-09, 5.73630272e-09,\n",
       "       5.89907477e-09, 6.06675573e-09, 6.23950141e-09, 6.41747279e-09,\n",
       "       6.60083617e-09, 6.78976338e-09, 6.98443195e-09, 7.18502529e-09,\n",
       "       7.39173295e-09, 7.60475073e-09, 7.82428101e-09, 8.05053288e-09,\n",
       "       8.28372243e-09, 8.52407296e-09, 8.77181524e-09, 9.02718776e-09,\n",
       "       9.29043701e-09, 9.56181773e-09, 9.84159321e-09, 1.01300356e-08,\n",
       "       1.04274261e-08, 1.07340556e-08, 1.10502245e-08, 1.13762435e-08,\n",
       "       1.17124337e-08, 1.20591271e-08, 1.24166667e-08, 1.27854075e-08,\n",
       "       1.31657160e-08, 1.35579716e-08, 1.39625660e-08, 1.43799047e-08,\n",
       "       1.48104065e-08, 1.52545048e-08, 1.57126473e-08, 1.61852972e-08,\n",
       "       1.66729332e-08, 1.71760506e-08, 1.76951611e-08, 1.82307942e-08,\n",
       "       1.87834972e-08, 1.93538360e-08, 1.99423959e-08, 2.05497821e-08,\n",
       "       2.11766203e-08, 2.18235576e-08, 2.24912634e-08, 2.31804295e-08,\n",
       "       2.38917715e-08, 2.46260296e-08, 2.53839689e-08, 2.61663808e-08,\n",
       "       2.69740838e-08, 2.78079241e-08, 2.86687770e-08, 2.95575476e-08,\n",
       "       3.04751717e-08, 3.14226175e-08, 3.24008858e-08, 3.34110117e-08,\n",
       "       3.44540657e-08, 3.55311547e-08, 3.66434236e-08, 3.77920559e-08,\n",
       "       3.89782758e-08, 4.02033491e-08, 4.14685847e-08, 4.27753361e-08,\n",
       "       4.41250030e-08, 4.55190324e-08, 4.69589208e-08, 4.84462153e-08,\n",
       "       4.99825157e-08, 5.15694762e-08, 5.32088067e-08, 5.49022755e-08,\n",
       "       5.66517105e-08, 5.84590016e-08, 6.03261022e-08, 6.22550322e-08,\n",
       "       6.42478793e-08, 6.63068016e-08, 6.84340297e-08, 7.06318696e-08,\n",
       "       7.29027042e-08, 7.52489966e-08, 7.76732924e-08, 8.01782222e-08,\n",
       "       8.27665044e-08, 8.54409481e-08, 8.82044557e-08, 9.10600263e-08,\n",
       "       9.40107583e-08, 9.70598526e-08, 1.00210616e-07, 1.03466464e-07,\n",
       "       1.06830924e-07, 1.10307642e-07, 1.13900379e-07, 1.17613022e-07,\n",
       "       1.21449584e-07, 1.25414209e-07, 1.29511173e-07, 1.33744893e-07,\n",
       "       1.38119928e-07, 1.42640981e-07, 1.47312910e-07, 1.52140724e-07,\n",
       "       1.57129594e-07, 1.62284855e-07, 1.67612010e-07, 1.73116736e-07,\n",
       "       1.78804887e-07, 1.84682501e-07, 1.90755804e-07, 1.97031216e-07,\n",
       "       2.03515353e-07, 2.10215035e-07, 2.17137293e-07, 2.24289369e-07,\n",
       "       2.31678726e-07, 2.39313052e-07, 2.47200264e-07, 2.55348517e-07,\n",
       "       2.63766207e-07, 2.72461975e-07, 2.81444719e-07, 2.90723594e-07,\n",
       "       3.00308019e-07, 3.10207684e-07, 3.20432555e-07, 3.30992880e-07,\n",
       "       3.41899195e-07, 3.53162330e-07, 3.64793412e-07, 3.76803874e-07,\n",
       "       3.89205460e-07, 4.02010230e-07, 4.15230563e-07, 4.28879166e-07,\n",
       "       4.42969078e-07, 4.57513675e-07, 4.72526672e-07, 4.88022132e-07,\n",
       "       5.04014469e-07, 5.20518449e-07, 5.37549200e-07, 5.55122210e-07,\n",
       "       5.73253332e-07, 5.91958790e-07, 6.11255176e-07, 6.31159457e-07,\n",
       "       6.51688975e-07, 6.72861448e-07, 6.94694971e-07, 7.17208015e-07,\n",
       "       7.40419431e-07, 7.64348443e-07, 7.89014651e-07, 8.14438025e-07,\n",
       "       8.40638907e-07, 8.67638003e-07, 8.95456376e-07, 9.24115450e-07,\n",
       "       9.53636991e-07, 9.84043110e-07, 1.01535625e-06, 1.04759917e-06,\n",
       "       1.08079495e-06, 1.11496697e-06, 1.15013889e-06, 1.18633465e-06,\n",
       "       1.22357843e-06, 1.26189466e-06, 1.30130801e-06, 1.34184331e-06,\n",
       "       1.38352560e-06, 1.42638007e-06, 1.47043202e-06, 1.51570688e-06,\n",
       "       1.56223012e-06, 1.61002730e-06, 1.65912396e-06, 1.70954560e-06,\n",
       "       1.76131771e-06, 1.81446564e-06, 1.86901462e-06, 1.92498970e-06,\n",
       "       1.98241568e-06, 2.04131713e-06, 2.10171826e-06, 2.16364292e-06,\n",
       "       2.22711455e-06, 2.29215607e-06, 2.35878990e-06, 2.42703784e-06,\n",
       "       2.49692101e-06, 2.56845984e-06, 2.64167394e-06, 2.71658207e-06,\n",
       "       2.79320203e-06, 2.87155064e-06, 2.95164364e-06, 3.03349558e-06,\n",
       "       3.11711981e-06, 3.20252833e-06, 3.28973176e-06, 3.37873922e-06,\n",
       "       3.46955830e-06, 3.56219488e-06, 3.65665314e-06, 3.75293541e-06,\n",
       "       3.85104213e-06, 3.95097171e-06, 4.05272048e-06, 4.15628258e-06,\n",
       "       4.26164987e-06, 4.36881187e-06, 4.47775565e-06, 4.58846574e-06,\n",
       "       4.70092406e-06, 4.81510981e-06, 4.93099944e-06, 5.04856653e-06,\n",
       "       5.16778170e-06, 5.28861261e-06, 5.41102379e-06, 5.53497668e-06,\n",
       "       5.66042947e-06, 5.78733711e-06, 5.91565125e-06, 6.04532017e-06,\n",
       "       6.17628875e-06, 6.30849843e-06, 6.44188721e-06, 6.57638959e-06,\n",
       "       6.71193659e-06, 6.84845572e-06, 6.98587099e-06, 7.12410292e-06,\n",
       "       7.26306858e-06, 7.40268158e-06, 7.54285213e-06, 7.68348709e-06,\n",
       "       7.82449001e-06, 7.96576122e-06, 8.10719789e-06, 8.24869412e-06,\n",
       "       8.39014104e-06, 8.53142692e-06, 8.67243729e-06, 8.81305506e-06,\n",
       "       8.95316068e-06, 9.09263226e-06, 9.23134578e-06, 9.36917521e-06,\n",
       "       9.50599270e-06, 9.64166882e-06, 9.77607269e-06, 9.90907226e-06,\n",
       "       1.00405345e-05, 1.01703255e-05, 1.02983110e-05, 1.04243564e-05,\n",
       "       1.05483270e-05, 1.06700883e-05, 1.07895065e-05, 1.09064483e-05,\n",
       "       1.10207815e-05, 1.11323753e-05, 1.12411001e-05, 1.13468287e-05,\n",
       "       1.14494354e-05, 1.15487974e-05, 1.16447941e-05, 1.17373083e-05,\n",
       "       1.18262257e-05, 1.19114354e-05, 1.19928305e-05, 1.20703078e-05,\n",
       "       1.21437686e-05, 1.22131183e-05, 1.22782674e-05, 1.23391311e-05,\n",
       "       1.23956296e-05, 1.24476887e-05, 1.24952395e-05, 1.25382188e-05,\n",
       "       1.25765694e-05, 1.26102400e-05, 1.26391852e-05, 1.26633663e-05,\n",
       "       1.26827505e-05, 1.26973117e-05, 1.27070302e-05, 1.27118927e-05,\n",
       "       1.27118927e-05, 1.27070302e-05, 1.26973117e-05, 1.26827505e-05,\n",
       "       1.26633663e-05, 1.26391852e-05, 1.26102400e-05, 1.25765694e-05,\n",
       "       1.25382188e-05, 1.24952395e-05, 1.24476887e-05, 1.23956296e-05,\n",
       "       1.23391311e-05, 1.22782674e-05, 1.22131183e-05, 1.21437686e-05,\n",
       "       1.20703078e-05, 1.19928305e-05, 1.19114354e-05, 1.18262257e-05,\n",
       "       1.17373083e-05, 1.16447941e-05, 1.15487974e-05, 1.14494354e-05,\n",
       "       1.13468287e-05, 1.12411001e-05, 1.11323753e-05, 1.10207815e-05,\n",
       "       1.09064483e-05, 1.07895065e-05, 1.06700883e-05, 1.05483270e-05,\n",
       "       1.04243564e-05, 1.02983110e-05, 1.01703255e-05, 1.00405345e-05,\n",
       "       9.90907226e-06, 9.77607269e-06, 9.64166882e-06, 9.50599270e-06,\n",
       "       9.36917521e-06, 9.23134578e-06, 9.09263226e-06, 8.95316068e-06,\n",
       "       8.81305506e-06, 8.67243729e-06, 8.53142692e-06, 8.39014104e-06,\n",
       "       8.24869412e-06, 8.10719789e-06, 7.96576122e-06, 7.82449001e-06,\n",
       "       7.68348709e-06, 7.54285213e-06, 7.40268158e-06, 7.26306858e-06,\n",
       "       7.12410292e-06, 6.98587099e-06, 6.84845572e-06, 6.71193659e-06,\n",
       "       6.57638959e-06, 6.44188721e-06, 6.30849843e-06, 6.17628875e-06,\n",
       "       6.04532017e-06, 5.91565125e-06, 5.78733711e-06, 5.66042947e-06,\n",
       "       5.53497668e-06, 5.41102379e-06, 5.28861261e-06, 5.16778170e-06,\n",
       "       5.04856653e-06, 4.93099944e-06, 4.81510981e-06, 4.70092406e-06,\n",
       "       4.58846574e-06, 4.47775565e-06, 4.36881187e-06, 4.26164987e-06,\n",
       "       4.15628258e-06, 4.05272048e-06, 3.95097171e-06, 3.85104213e-06,\n",
       "       3.75293541e-06, 3.65665314e-06, 3.56219488e-06, 3.46955830e-06,\n",
       "       3.37873922e-06, 3.28973176e-06, 3.20252833e-06, 3.11711981e-06,\n",
       "       3.03349558e-06, 2.95164364e-06, 2.87155064e-06, 2.79320203e-06,\n",
       "       2.71658207e-06, 2.64167394e-06, 2.56845984e-06, 2.49692101e-06,\n",
       "       2.42703784e-06, 2.35878990e-06, 2.29215607e-06, 2.22711455e-06,\n",
       "       2.16364292e-06, 2.10171826e-06, 2.04131713e-06, 1.98241568e-06,\n",
       "       1.92498970e-06, 1.86901462e-06, 1.81446564e-06, 1.76131771e-06,\n",
       "       1.70954560e-06, 1.65912396e-06, 1.61002730e-06, 1.56223012e-06,\n",
       "       1.51570688e-06, 1.47043202e-06, 1.42638007e-06, 1.38352560e-06,\n",
       "       1.34184331e-06, 1.30130801e-06, 1.26189466e-06, 1.22357843e-06,\n",
       "       1.18633465e-06, 1.15013889e-06, 1.11496697e-06, 1.08079495e-06,\n",
       "       1.04759917e-06, 1.01535625e-06, 9.84043110e-07, 9.53636991e-07,\n",
       "       9.24115450e-07, 8.95456376e-07, 8.67638003e-07, 8.40638907e-07,\n",
       "       8.14438025e-07, 7.89014651e-07, 7.64348443e-07, 7.40419431e-07,\n",
       "       7.17208015e-07, 6.94694971e-07, 6.72861448e-07, 6.51688975e-07,\n",
       "       6.31159457e-07, 6.11255176e-07, 5.91958790e-07, 5.73253332e-07,\n",
       "       5.55122210e-07, 5.37549200e-07, 5.20518449e-07, 5.04014469e-07,\n",
       "       4.88022132e-07, 4.72526672e-07, 4.57513675e-07, 4.42969078e-07,\n",
       "       4.28879166e-07, 4.15230563e-07, 4.02010230e-07, 3.89205460e-07,\n",
       "       3.76803874e-07, 3.64793412e-07, 3.53162330e-07, 3.41899195e-07,\n",
       "       3.30992880e-07, 3.20432555e-07, 3.10207684e-07, 3.00308019e-07,\n",
       "       2.90723594e-07, 2.81444719e-07, 2.72461975e-07, 2.63766207e-07,\n",
       "       2.55348517e-07, 2.47200264e-07, 2.39313052e-07, 2.31678726e-07,\n",
       "       2.24289369e-07, 2.17137293e-07, 2.10215035e-07, 2.03515353e-07,\n",
       "       1.97031216e-07, 1.90755804e-07, 1.84682501e-07, 1.78804887e-07,\n",
       "       1.73116736e-07, 1.67612010e-07, 1.62284855e-07, 1.57129594e-07,\n",
       "       1.52140724e-07, 1.47312910e-07, 1.42640981e-07, 1.38119928e-07,\n",
       "       1.33744893e-07, 1.29511173e-07, 1.25414209e-07, 1.21449584e-07,\n",
       "       1.17613022e-07, 1.13900379e-07, 1.10307642e-07, 1.06830924e-07,\n",
       "       1.03466464e-07, 1.00210616e-07, 9.70598526e-08, 9.40107583e-08,\n",
       "       9.10600263e-08, 8.82044557e-08, 8.54409481e-08, 8.27665044e-08,\n",
       "       8.01782222e-08, 7.76732924e-08, 7.52489966e-08, 7.29027042e-08,\n",
       "       7.06318696e-08, 6.84340297e-08, 6.63068016e-08, 6.42478793e-08,\n",
       "       6.22550322e-08, 6.03261022e-08, 5.84590016e-08, 5.66517105e-08,\n",
       "       5.49022755e-08, 5.32088067e-08, 5.15694762e-08, 4.99825157e-08,\n",
       "       4.84462153e-08, 4.69589208e-08, 4.55190324e-08, 4.41250030e-08,\n",
       "       4.27753361e-08, 4.14685847e-08, 4.02033491e-08, 3.89782758e-08,\n",
       "       3.77920559e-08, 3.66434236e-08, 3.55311547e-08, 3.44540657e-08,\n",
       "       3.34110117e-08, 3.24008858e-08, 3.14226175e-08, 3.04751717e-08,\n",
       "       2.95575476e-08, 2.86687770e-08, 2.78079241e-08, 2.69740838e-08,\n",
       "       2.61663808e-08, 2.53839689e-08, 2.46260296e-08, 2.38917715e-08,\n",
       "       2.31804295e-08, 2.24912634e-08, 2.18235576e-08, 2.11766203e-08,\n",
       "       2.05497821e-08, 1.99423959e-08, 1.93538360e-08, 1.87834972e-08,\n",
       "       1.82307942e-08, 1.76951611e-08, 1.71760506e-08, 1.66729332e-08,\n",
       "       1.61852972e-08, 1.57126473e-08, 1.52545048e-08, 1.48104065e-08,\n",
       "       1.43799047e-08, 1.39625660e-08, 1.35579716e-08, 1.31657160e-08,\n",
       "       1.27854075e-08, 1.24166667e-08, 1.20591271e-08, 1.17124337e-08,\n",
       "       1.13762435e-08, 1.10502245e-08, 1.07340556e-08, 1.04274261e-08,\n",
       "       1.01300356e-08, 9.84159321e-09, 9.56181773e-09, 9.29043701e-09,\n",
       "       9.02718776e-09, 8.77181524e-09, 8.52407296e-09, 8.28372243e-09,\n",
       "       8.05053288e-09, 7.82428101e-09, 7.60475073e-09, 7.39173295e-09,\n",
       "       7.18502529e-09, 6.98443195e-09, 6.78976338e-09, 6.60083617e-09,\n",
       "       6.41747279e-09, 6.23950141e-09, 6.06675573e-09, 5.89907477e-09,\n",
       "       5.73630272e-09, 5.57828872e-09, 5.42488677e-09, 5.27595553e-09,\n",
       "       5.13135813e-09, 4.99096212e-09, 4.85463921e-09, 4.72226523e-09,\n",
       "       4.59371994e-09, 4.46888691e-09, 4.34765340e-09, 4.22991026e-09,\n",
       "       4.11555177e-09, 4.00447556e-09, 3.89658248e-09, 3.79177653e-09,\n",
       "       3.68996471e-09, 3.59105694e-09, 3.49496600e-09, 3.40160738e-09,\n",
       "       3.31089922e-09, 3.22276225e-09, 3.13711964e-09, 3.05389698e-09,\n",
       "       2.97302219e-09, 2.89442541e-09, 2.81803898e-09, 2.74379733e-09,\n",
       "       2.67163693e-09, 2.60149621e-09, 2.53331551e-09, 2.46703703e-09,\n",
       "       2.40260474e-09, 2.33996435e-09, 2.27906322e-09, 2.21985035e-09,\n",
       "       2.16227631e-09, 2.10629318e-09, 2.05185450e-09, 1.99891525e-09,\n",
       "       1.94743177e-09, 1.89736176e-09, 1.84866417e-09, 1.80129923e-09,\n",
       "       1.75522837e-09, 1.71041420e-09, 1.66682045e-09, 1.62441196e-09,\n",
       "       1.58315463e-09, 1.54301539e-09, 1.50396217e-09, 1.46596387e-09,\n",
       "       1.42899031e-09, 1.39301223e-09, 1.35800125e-09, 1.32392984e-09,\n",
       "       1.29077129e-09, 1.25849969e-09, 1.22708990e-09, 1.19651753e-09,\n",
       "       1.16675892e-09, 1.13779112e-09, 1.10959184e-09, 1.08213948e-09,\n",
       "       1.05541305e-09, 1.02939220e-09, 1.00405718e-09, 9.79388808e-10,\n",
       "       9.55368479e-10, 9.31978134e-10, 9.09200240e-10, 8.87017782e-10,\n",
       "       8.65414240e-10, 8.44373579e-10, 8.23880231e-10, 8.03919083e-10,\n",
       "       7.84475461e-10, 7.65535117e-10, 7.47084218e-10, 7.29109332e-10,\n",
       "       7.11597414e-10, 6.94535798e-10, 6.77912182e-10, 6.61714620e-10,\n",
       "       6.45931510e-10, 6.30551580e-10, 6.15563886e-10, 6.00957796e-10,\n",
       "       5.86722981e-10, 5.72849408e-10, 5.59327330e-10, 5.46147279e-10,\n",
       "       5.33300055e-10, 5.20776719e-10, 5.08568588e-10, 4.96667221e-10,\n",
       "       4.85064420e-10, 4.73752215e-10, 4.62722864e-10, 4.51968839e-10,\n",
       "       4.41482829e-10, 4.31257723e-10, 4.21286612e-10, 4.11562781e-10,\n",
       "       4.02079702e-10, 3.92831028e-10, 3.83810591e-10, 3.75012393e-10,\n",
       "       3.66430604e-10, 3.58059555e-10, 3.49893735e-10, 3.41927783e-10,\n",
       "       3.34156489e-10, 3.26574786e-10, 3.19177746e-10, 3.11960576e-10,\n",
       "       3.04918617e-10, 2.98047335e-10, 2.91342322e-10, 2.84799290e-10,\n",
       "       2.78414068e-10, 2.72182598e-10, 2.66100934e-10, 2.60165237e-10,\n",
       "       2.54371771e-10, 2.48716902e-10, 2.43197095e-10, 2.37808909e-10,\n",
       "       2.32548998e-10, 2.27414104e-10, 2.22401057e-10, 2.17506774e-10,\n",
       "       2.12728253e-10, 2.08062573e-10, 2.03506891e-10, 1.99058440e-10,\n",
       "       1.94714526e-10, 1.90472528e-10, 1.86329894e-10, 1.82284141e-10,\n",
       "       1.78332848e-10, 1.74473664e-10, 1.70704295e-10, 1.67022510e-10,\n",
       "       1.63426136e-10, 1.59913058e-10, 1.56481215e-10, 1.53128603e-10,\n",
       "       1.49853267e-10, 1.46653305e-10, 1.43526866e-10, 1.40472143e-10,\n",
       "       1.37487381e-10, 1.34570868e-10, 1.31720936e-10, 1.28935962e-10,\n",
       "       1.26214364e-10, 1.23554601e-10, 1.20955171e-10, 1.18414613e-10,\n",
       "       1.15931501e-10, 1.13504448e-10, 1.11132100e-10, 1.08813140e-10,\n",
       "       1.06546283e-10, 1.04330279e-10, 1.02163907e-10, 1.00045980e-10,\n",
       "       9.79753385e-11, 9.59508544e-11, 9.39714274e-11, 9.20359854e-11,\n",
       "       9.01434831e-11, 8.82929017e-11, 8.64832482e-11, 8.47135544e-11,\n",
       "       8.29828767e-11, 8.12902950e-11, 7.96349122e-11, 7.80158539e-11,\n",
       "       7.64322673e-11, 7.48833210e-11, 7.33682043e-11, 7.18861267e-11,\n",
       "       7.04363174e-11, 6.90180245e-11, 6.76305149e-11, 6.62730736e-11,\n",
       "       6.49450034e-11, 6.36456240e-11, 6.23742720e-11, 6.11303005e-11,\n",
       "       5.99130781e-11, 5.87219892e-11, 5.75564333e-11, 5.64158242e-11,\n",
       "       5.52995905e-11, 5.42071743e-11, 5.31380316e-11, 5.20916314e-11,\n",
       "       5.10674558e-11, 5.00649993e-11, 4.90837687e-11, 4.81232826e-11])"
      ]
     },
     "execution_count": 39,
     "metadata": {},
     "output_type": "execute_result"
    }
   ],
   "source": [
    "mcn.prob(X_8D)"
   ]
  },
  {
   "cell_type": "code",
   "execution_count": 40,
   "metadata": {},
   "outputs": [
    {
     "data": {
      "text/plain": [
       "(1000,)"
      ]
     },
     "execution_count": 40,
     "metadata": {},
     "output_type": "execute_result"
    }
   ],
   "source": [
    "mcn.prob(X_8D).shape"
   ]
  },
  {
   "cell_type": "markdown",
   "metadata": {},
   "source": [
    "***Multivariate Coupled Normal multiple distribution when d=2 and batch_size=3***"
   ]
  },
  {
   "cell_type": "code",
   "execution_count": 41,
   "metadata": {},
   "outputs": [
    {
     "ename": "AssertionError",
     "evalue": "scale must be positive definite, but not necessarily symmetric.",
     "output_type": "error",
     "traceback": [
      "\u001b[0;31m---------------------------------------------------------------------------\u001b[0m",
      "\u001b[0;31mAssertionError\u001b[0m                            Traceback (most recent call last)",
      "\u001b[0;32m<ipython-input-41-dd81d1b14eae>\u001b[0m in \u001b[0;36m<module>\u001b[0;34m\u001b[0m\n\u001b[1;32m      1\u001b[0m cn = MultivariateCoupledNormal(loc=[[0., 1.], [1., 2.], [2., 3.]], \\\n\u001b[1;32m      2\u001b[0m                                \u001b[0mscale\u001b[0m\u001b[0;34m=\u001b[0m\u001b[0;34m[\u001b[0m\u001b[0;34m[\u001b[0m\u001b[0;36m0.\u001b[0m\u001b[0;34m,\u001b[0m \u001b[0;36m1.\u001b[0m\u001b[0;34m]\u001b[0m\u001b[0;34m,\u001b[0m \u001b[0;34m[\u001b[0m\u001b[0;36m2.\u001b[0m\u001b[0;34m,\u001b[0m \u001b[0;36m3.\u001b[0m\u001b[0;34m]\u001b[0m\u001b[0;34m,\u001b[0m \u001b[0;34m[\u001b[0m\u001b[0;36m4.\u001b[0m\u001b[0;34m,\u001b[0m \u001b[0;36m5.\u001b[0m\u001b[0;34m]\u001b[0m\u001b[0;34m]\u001b[0m\u001b[0;34m,\u001b[0m\u001b[0;34m\u001b[0m\u001b[0;34m\u001b[0m\u001b[0m\n\u001b[0;32m----> 3\u001b[0;31m                                \u001b[0mkappa\u001b[0m\u001b[0;34m=\u001b[0m\u001b[0;36m0.1\u001b[0m\u001b[0;34m\u001b[0m\u001b[0;34m\u001b[0m\u001b[0m\n\u001b[0m\u001b[1;32m      4\u001b[0m                                )\n\u001b[1;32m      5\u001b[0m \u001b[0mcn\u001b[0m\u001b[0;34m\u001b[0m\u001b[0;34m\u001b[0m\u001b[0m\n",
      "\u001b[0;32m<ipython-input-10-1e2e9819663e>\u001b[0m in \u001b[0;36m__init__\u001b[0;34m(self, loc, scale, kappa, alpha, validate_args)\u001b[0m\n\u001b[1;32m     26\u001b[0m             \u001b[0mself\u001b[0m\u001b[0;34m.\u001b[0m\u001b[0mscale\u001b[0m \u001b[0;34m=\u001b[0m \u001b[0mnp\u001b[0m\u001b[0;34m.\u001b[0m\u001b[0mdiag\u001b[0m\u001b[0;34m(\u001b[0m\u001b[0mself\u001b[0m\u001b[0;34m.\u001b[0m\u001b[0mscale\u001b[0m\u001b[0;34m)\u001b[0m\u001b[0;34m\u001b[0m\u001b[0;34m\u001b[0m\u001b[0m\n\u001b[1;32m     27\u001b[0m         \u001b[0;31m# Ensure that scale is indeed positive definite\u001b[0m\u001b[0;34m\u001b[0m\u001b[0;34m\u001b[0m\u001b[0;34m\u001b[0m\u001b[0m\n\u001b[0;32m---> 28\u001b[0;31m         \u001b[0;32massert\u001b[0m \u001b[0mself\u001b[0m\u001b[0;34m.\u001b[0m\u001b[0mis_positive_definite\u001b[0m\u001b[0;34m(\u001b[0m\u001b[0mself\u001b[0m\u001b[0;34m.\u001b[0m\u001b[0mscale\u001b[0m\u001b[0;34m)\u001b[0m\u001b[0;34m,\u001b[0m \u001b[0;34m\"scale must be positive definite, but not necessarily symmetric.\"\u001b[0m\u001b[0;34m\u001b[0m\u001b[0;34m\u001b[0m\u001b[0m\n\u001b[0m\u001b[1;32m     29\u001b[0m \u001b[0;34m\u001b[0m\u001b[0m\n\u001b[1;32m     30\u001b[0m     \u001b[0;31m# Credit: https://stackoverflow.com/questions/16266720/find-out-if-matrix-is-positive-definite-with-numpy\u001b[0m\u001b[0;34m\u001b[0m\u001b[0;34m\u001b[0m\u001b[0;34m\u001b[0m\u001b[0m\n",
      "\u001b[0;31mAssertionError\u001b[0m: scale must be positive definite, but not necessarily symmetric."
     ]
    }
   ],
   "source": [
    "cn = MultivariateCoupledNormal(loc=[[0., 1.], [1., 2.], [2., 3.]], \\\n",
    "                               scale=[[0., 1.], [2., 3.], [4., 5.]],\n",
    "                               kappa=0.1\n",
    "                               )\n",
    "cn"
   ]
  },
  {
   "cell_type": "code",
   "execution_count": null,
   "metadata": {},
   "outputs": [],
   "source": [
    "print(cn.dim)\n",
    "print(cn.loc)\n",
    "print(cn.scale)\n",
    "print(cn.kappa)\n",
    "print(cn.alpha)"
   ]
  },
  {
   "cell_type": "code",
   "execution_count": null,
   "metadata": {},
   "outputs": [],
   "source": [
    "cn = CoupledNormal(loc=[[0., 1., 0., 1.], [1., 2., 1., 2.], [2., 3., 2., 3.]], \\\n",
    "                   scale=[[0., 1., 0., 1.], [2., 3., 2., 3.], [4., 5., 4., 5.]]\n",
    "                   )\n",
    "cn.dim"
   ]
  },
  {
   "cell_type": "code",
   "execution_count": null,
   "metadata": {},
   "outputs": [],
   "source": [
    "print(cn.dim)\n",
    "print(cn._normalized_term())"
   ]
  },
  {
   "cell_type": "code",
   "execution_count": null,
   "metadata": {},
   "outputs": [],
   "source": [
    "# print(cn.prob(X_input))"
   ]
  }
 ],
 "metadata": {
  "kernelspec": {
   "display_name": "nsc",
   "language": "python",
   "name": "nsc"
  },
  "language_info": {
   "codemirror_mode": {
    "name": "ipython",
    "version": 3
   },
   "file_extension": ".py",
   "mimetype": "text/x-python",
   "name": "python",
   "nbconvert_exporter": "python",
   "pygments_lexer": "ipython3",
   "version": "3.7.9"
  }
 },
 "nbformat": 4,
 "nbformat_minor": 4
}
