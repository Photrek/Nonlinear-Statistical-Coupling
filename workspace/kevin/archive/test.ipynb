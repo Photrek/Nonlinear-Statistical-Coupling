{
 "cells": [
  {
   "cell_type": "markdown",
   "metadata": {},
   "source": [
    "Testing the coupled distributions."
   ]
  },
  {
   "cell_type": "code",
   "execution_count": 1,
   "metadata": {},
   "outputs": [],
   "source": [
    "import numpy as np\n",
    "import pandas as pd\n",
    "import tensorflow as tf\n",
    "import tensorflow_probability as tfp\n",
    "tfd = tfp.distributions\n",
    "\n",
    "from distribution.multivariate_coupled_normal import MultivariateCoupledNormal"
   ]
  },
  {
   "cell_type": "markdown",
   "metadata": {},
   "source": [
    "**CoupledNormal** distribution"
   ]
  },
  {
   "cell_type": "code",
   "execution_count": null,
   "metadata": {},
   "outputs": [],
   "source": []
  },
  {
   "cell_type": "markdown",
   "metadata": {},
   "source": [
    "**MultivariateCoupledNormal** distribution"
   ]
  },
  {
   "cell_type": "code",
   "execution_count": 2,
   "metadata": {},
   "outputs": [],
   "source": [
    "batch_size = 5000  # batch size of the MNIST dataset\n",
    "z_dim = 2  # dim for our abstract\n",
    "\n",
    "mean_vector = np.random.rand(batch_size, z_dim)\n",
    "std_vector = np.random.rand(batch_size, z_dim)\n",
    "\n",
    "# kappa_values = np.asarray([round(value, 1) for value in np.arange(-1, 1.2, 0.1)])\n",
    "kappa_values = np.asarray([round(value, 1) for value in np.arange(0.1, 1.2, 0.1)])\n",
    "kappa = kappa_values[0]\n",
    "alpha = 2  # Gaussian"
   ]
  },
  {
   "cell_type": "markdown",
   "metadata": {},
   "source": [
    "First, try MultivariateStudentTLinearOperator"
   ]
  },
  {
   "cell_type": "code",
   "execution_count": 3,
   "metadata": {},
   "outputs": [],
   "source": [
    "mvt = tfd.MultivariateStudentTLinearOperator(df=1/kappa,\n",
    "                                             loc=np.zeros(z_dim),\n",
    "                                             scale=tf.linalg.LinearOperatorLowerTriangular(np.identity(z_dim)),\n",
    "                                             )"
   ]
  },
  {
   "cell_type": "code",
   "execution_count": 4,
   "metadata": {},
   "outputs": [],
   "source": [
    "eps = mvt.sample(sample_shape=(batch_size))"
   ]
  },
  {
   "cell_type": "code",
   "execution_count": 5,
   "metadata": {},
   "outputs": [
    {
     "data": {
      "text/plain": [
       "<tf.Tensor: shape=(5000, 2), dtype=float64, numpy=\n",
       "array([[-0.60570113, -1.67938947],\n",
       "       [ 2.04739536, -1.06057385],\n",
       "       [ 1.2643268 ,  0.63543914],\n",
       "       ...,\n",
       "       [ 0.6080332 , -1.10090942],\n",
       "       [ 1.13167985,  1.09631049],\n",
       "       [ 1.29639381,  0.7333985 ]])>"
      ]
     },
     "execution_count": 5,
     "metadata": {},
     "output_type": "execute_result"
    }
   ],
   "source": [
    "eps"
   ]
  },
  {
   "cell_type": "markdown",
   "metadata": {},
   "source": [
    "Next, test with MultivariateCoupledNormal"
   ]
  },
  {
   "cell_type": "code",
   "execution_count": 6,
   "metadata": {},
   "outputs": [],
   "source": [
    "mcn = MultivariateCoupledNormal(kappa=kappa,\n",
    "                                loc=np.zeros(z_dim),\n",
    "                                scale=tf.linalg.LinearOperatorLowerTriangular(np.identity(z_dim))\n",
    "                                )"
   ]
  },
  {
   "cell_type": "code",
   "execution_count": 7,
   "metadata": {},
   "outputs": [],
   "source": [
    "eps = mcn.sample(sample_shape=(batch_size))"
   ]
  },
  {
   "cell_type": "code",
   "execution_count": 8,
   "metadata": {},
   "outputs": [
    {
     "data": {
      "text/plain": [
       "<tf.Tensor: shape=(5000, 2), dtype=float64, numpy=\n",
       "array([[ 0.98325836,  1.87378059],\n",
       "       [ 2.06672705, -0.07359869],\n",
       "       [-0.35453701, -0.46471328],\n",
       "       ...,\n",
       "       [ 0.4604875 ,  0.38396875],\n",
       "       [-1.73474297,  1.35813447],\n",
       "       [ 0.53947731, -0.63212115]])>"
      ]
     },
     "execution_count": 8,
     "metadata": {},
     "output_type": "execute_result"
    }
   ],
   "source": [
    "eps"
   ]
  },
  {
   "cell_type": "code",
   "execution_count": null,
   "metadata": {},
   "outputs": [],
   "source": []
  }
 ],
 "metadata": {
  "kernelspec": {
   "display_name": "Python 3.7",
   "language": "python",
   "name": "py3.7"
  },
  "language_info": {
   "codemirror_mode": {
    "name": "ipython",
    "version": 3
   },
   "file_extension": ".py",
   "mimetype": "text/x-python",
   "name": "python",
   "nbconvert_exporter": "python",
   "pygments_lexer": "ipython3",
   "version": "3.7.6"
  }
 },
 "nbformat": 4,
 "nbformat_minor": 4
}
