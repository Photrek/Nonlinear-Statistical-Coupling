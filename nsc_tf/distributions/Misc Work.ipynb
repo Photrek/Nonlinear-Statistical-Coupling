{
 "cells": [
  {
   "cell_type": "code",
   "execution_count": 23,
   "metadata": {},
   "outputs": [
    {
     "name": "stdout",
     "output_type": "stream",
     "text": [
      "Looking in indexes: https://test.pypi.org/simple/\r\n",
      "Requirement already satisfied: nsc in /home/hongxiang/anaconda3/lib/python3.8/site-packages (0.0.4.15)\r\n",
      "Requirement already satisfied: numpy in /home/hongxiang/anaconda3/lib/python3.8/site-packages (from nsc) (1.19.2)\r\n",
      "Requirement already satisfied: scipy in /home/hongxiang/anaconda3/lib/python3.8/site-packages (from nsc) (1.5.2)\r\n"
     ]
    }
   ],
   "source": [
    "!pip install -i https://test.pypi.org/simple/ nsc\n",
    "    \n",
    "from nsc.distributions import MultivariateCoupledNormal as MVCN\n",
    "from nsc.math.entropy_prob import *\n",
    "from nsc.math.entropy_norm import *\n",
    "import numpy as np\n",
    "from scipy.stats import multivariate_normal"
   ]
  },
  {
   "cell_type": "code",
   "execution_count": 29,
   "metadata": {},
   "outputs": [],
   "source": [
    "mu_1 = np.array([[0, 0]])\n",
    "mu_2 = np.array([[0, 0]])\n",
    "\n",
    "sigma_diag_1 = np.array([[1, 1]])\n",
    "sigma_diag_2 = np.array([[1.5, 1.5]])\n",
    "\n",
    "mvn_1 = MVCN(mu_1, np.sqrt(sigma_diag_1))\n",
    "mvn_2 = MVCN(mu_2, np.sqrt(sigma_diag_2))"
   ]
  },
  {
   "cell_type": "code",
   "execution_count": 30,
   "metadata": {},
   "outputs": [
    {
     "data": {
      "text/plain": [
       "array([0.07213177])"
      ]
     },
     "execution_count": 30,
     "metadata": {},
     "output_type": "execute_result"
    }
   ],
   "source": [
    "true_kl = np.log(np.linalg.det(np.diag(sigma_diag_2[0]))).reshape(-1,) - np.log(np.linalg.det(np.diag(sigma_diag_1[0]))).reshape(-1,)\n",
    "true_kl -= mu_1.shape[1]\n",
    "true_kl += np.trace(np.matmul(np.linalg.inv(np.diag(sigma_diag_2[0])), np.diag(sigma_diag_1[0]))).reshape(-1,)\n",
    "true_kl += np.matmul(np.matmul((mu_2 - mu_1), np.linalg.inv(np.diag(sigma_diag_2[0]))), (mu_2 - mu_1).T).reshape(-1,)\n",
    "true_kl *= 0.5\n",
    "true_kl"
   ]
  },
  {
   "cell_type": "code",
   "execution_count": 31,
   "metadata": {},
   "outputs": [
    {
     "data": {
      "text/plain": [
       "0.07210883242226096"
      ]
     },
     "execution_count": 31,
     "metadata": {},
     "output_type": "execute_result"
    }
   ],
   "source": [
    "coupled_kl_divergence_norm(mvn_1, mvn_2, kappa=0, alpha=2, n=10000, seed=1)"
   ]
  },
  {
   "cell_type": "code",
   "execution_count": 32,
   "metadata": {},
   "outputs": [
    {
     "data": {
      "text/plain": [
       "0.0725112546875283"
      ]
     },
     "execution_count": 32,
     "metadata": {},
     "output_type": "execute_result"
    }
   ],
   "source": [
    "n = 10000\n",
    "\n",
    "samples_1 = mvn_1.sample_n(n)\n",
    "\n",
    "probs_1 = mvn_1.prob(samples_1).reshape(-1,)\n",
    "probs_2 = mvn_2.prob(samples_1).reshape(-1,)\n",
    "    \n",
    "#coupled_kl_divergence_prob(probs_1, probs_2) / n\n",
    "np.mean(np.log(probs_1) - np.log(probs_2))"
   ]
  },
  {
   "cell_type": "code",
   "execution_count": 28,
   "metadata": {},
   "outputs": [
    {
     "data": {
      "text/plain": [
       "True"
      ]
     },
     "execution_count": 28,
     "metadata": {},
     "output_type": "execute_result"
    }
   ],
   "source": [
    "scipy_mvn_1 = multivariate_normal(mu_1[0], sigma_diag_1[0])\n",
    "scipy_mvn_2 = multivariate_normal(mu_2[0], sigma_diag_2[0])\n",
    "\n",
    "np.allclose(scipy_mvn_1.pdf(samples_1), probs_1) & np.allclose(scipy_mvn_2.pdf(samples_1), probs_2)"
   ]
  }
 ],
 "metadata": {
  "kernelspec": {
   "display_name": "Python 3 (ipykernel)",
   "language": "python",
   "name": "python3"
  },
  "language_info": {
   "codemirror_mode": {
    "name": "ipython",
    "version": 3
   },
   "file_extension": ".py",
   "mimetype": "text/x-python",
   "name": "python",
   "nbconvert_exporter": "python",
   "pygments_lexer": "ipython3",
   "version": "3.8.5"
  }
 },
 "nbformat": 4,
 "nbformat_minor": 5
}
