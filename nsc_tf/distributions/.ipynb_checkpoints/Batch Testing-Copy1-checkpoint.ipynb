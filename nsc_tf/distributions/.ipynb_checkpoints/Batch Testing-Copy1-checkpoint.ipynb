{
 "cells": [
  {
   "cell_type": "markdown",
   "metadata": {},
   "source": [
    "# Testing the `MultivariateCoupledNormal` class and entropy functions with $\\kappa = 0$\n",
    "\n",
    "Use `!pip install -i https://test.pypi.org/simple/ nsc-test` to install the latest version of `nsc-test`."
   ]
  },
  {
   "cell_type": "code",
   "execution_count": 7,
   "metadata": {},
   "outputs": [
    {
     "name": "stdout",
     "output_type": "stream",
     "text": [
      "Looking in indexes: https://test.pypi.org/simple/\r\n",
      "Requirement already satisfied: nsc-test in /home/hongxiang/anaconda3/lib/python3.8/site-packages (0.0.0.13)\r\n",
      "Requirement already satisfied: scipy in /home/hongxiang/anaconda3/lib/python3.8/site-packages (from nsc-test) (1.5.2)\r\n",
      "Requirement already satisfied: numpy in /home/hongxiang/anaconda3/lib/python3.8/site-packages (from nsc-test) (1.19.2)\r\n"
     ]
    }
   ],
   "source": [
    "!pip install -i https://test.pypi.org/simple/ nsc-test"
   ]
  },
  {
   "cell_type": "markdown",
   "metadata": {},
   "source": [
    "# Setting up"
   ]
  },
  {
   "cell_type": "code",
   "execution_count": 8,
   "metadata": {},
   "outputs": [],
   "source": [
    "import nsc_test\n",
    "import numpy as np\n",
    "import tensorflow as tf\n",
    "import tensorflow_probability as tfp\n",
    "from scipy.stats import multivariate_normal\n",
    "from scipy.stats import t\n",
    "from nsc_test.distributions import MultivariateCoupledNormal\n",
    "from nsc_test.math.entropy import importance_sampling_integrator\n",
    "from nsc_test.math.entropy_norm import coupled_normal_entropy, biased_coupled_probability_norm, coupled_probability_norm, coupled_cross_entropy_norm, coupled_entropy_norm, coupled_kl_divergence_norm\n",
    "import matplotlib.pyplot as plt\n",
    "\n",
    "import site\n",
    "from importlib import reload\n",
    "reload(site)\n",
    "import sys #Changing the system path\n",
    "sys.path.insert(0, '/home/hongxiang/Documents/repos/Nonlinear-Statistical-Coupling')\n",
    "\n",
    "from nsc.distributions.multivariate_coupled_normal_tf import MultivariateCoupledNormal as mvn_tf"
   ]
  },
  {
   "cell_type": "code",
   "execution_count": 9,
   "metadata": {},
   "outputs": [],
   "source": [
    "# Set the locs.\n",
    "loc = np.array([[0., 0.,],\n",
    "                [100., -100.],\n",
    "                [-10., 5.]])\n",
    "# Set the scales.\n",
    "scale = np.array([[1., 1.],\n",
    "                  [10., 10.],\n",
    "                  [1., 1.]])\n",
    "\n",
    "# Find the number of batches.\n",
    "n_batches = loc.shape[0]\n",
    "\n",
    "# Set the kappa.\n",
    "kappa = 0.0\n",
    "\n",
    "# Initialize a MultivariateCoupledNormal object.\n",
    "mvn = MultivariateCoupledNormal(loc=loc, scale=scale, kappa=kappa)"
   ]
  },
  {
   "cell_type": "code",
   "execution_count": 10,
   "metadata": {},
   "outputs": [],
   "source": [
    "loc_tensor = tf.convert_to_tensor(loc, dtype=tf.float32)\n",
    "scale_tensor = tf.convert_to_tensor(scale, dtype=tf.float32)\n",
    "cov_tensor = tf.convert_to_tensor(mvn._scale, dtype=tf.float32)\n",
    "mvn_tf_dist = mvn_tf(loc=loc_tensor, scale=scale_tensor, kappa=0.01)"
   ]
  },
  {
   "cell_type": "code",
   "execution_count": 11,
   "metadata": {},
   "outputs": [],
   "source": [
    "#mvn_tf = tfp.distributions.MultivariateNormalTriL(loc=loc_tensor, scale_tril=cov_tensor)"
   ]
  },
  {
   "cell_type": "markdown",
   "metadata": {},
   "source": [
    "# Testing `sample_n`"
   ]
  },
  {
   "cell_type": "code",
   "execution_count": 12,
   "metadata": {},
   "outputs": [
    {
     "name": "stdout",
     "output_type": "stream",
     "text": [
      "Expected dimensions of samples: (3, 10000, 2)\n",
      "Actual dimensions of samples: (3, 10000, 2)\n",
      "Actual dimensions of samples_tf: (3, 10000, 2)\n"
     ]
    }
   ],
   "source": [
    "# Set the number of samples per batched distribution.\n",
    "n = 10000\n",
    "# Sample n observations from each batched distribution.\n",
    "samples = mvn.sample_n(n)\n",
    "samples_tf = mvn_tf_dist.sample_n(n)\n",
    "\n",
    "print(f\"Expected dimensions of samples: {loc.shape[0], n, loc.shape[1]}\")\n",
    "print(f\"Actual dimensions of samples: {samples.shape}\")\n",
    "print(f\"Actual dimensions of samples_tf: {samples_tf.shape}\")"
   ]
  },
  {
   "cell_type": "code",
   "execution_count": 13,
   "metadata": {},
   "outputs": [
    {
     "name": "stdout",
     "output_type": "stream",
     "text": [
      "Mean of distribution 1: (0.0, 0.0)\n",
      "Mean of samples from distribution 1: (0.009794719011178721, 0.0068728436007838905)\n",
      "Std. Dev. of distribution 1: (1.0, 1.0)\n",
      "Std. Dev. of samples from distribution 1: (0.9882613730336621, 1.0062190974304928)\n",
      "\n",
      "\n",
      "Mean of distribution 1: (100.0, -100.0)\n",
      "Mean of samples from distribution 1: (100.01965288448204, -100.06958732698507)\n",
      "Std. Dev. of distribution 1: (10.0, 10.0)\n",
      "Std. Dev. of samples from distribution 1: (9.967975938553142, 9.98800846467169)\n",
      "\n",
      "\n",
      "Mean of distribution 1: (-10.0, 5.0)\n",
      "Mean of samples from distribution 1: (-10.008369721378909, 4.996319356639931)\n",
      "Std. Dev. of distribution 1: (1.0, 1.0)\n",
      "Std. Dev. of samples from distribution 1: (1.00016450172571, 1.0021727096028505)\n",
      "\n",
      "\n"
     ]
    }
   ],
   "source": [
    "for i in range(n_batches):\n",
    "    print(f\"Mean of distribution 1: {tuple(loc[i])}\")\n",
    "    print(f\"Mean of samples from distribution 1: {tuple(samples[i].mean(axis=0))}\")\n",
    "    print(f\"Std. Dev. of distribution 1: {tuple(scale[i])}\")\n",
    "    print(f\"Std. Dev. of samples from distribution 1: {tuple(samples[i].std(axis=0))}\")\n",
    "    print(\"\\n\")"
   ]
  },
  {
   "cell_type": "code",
   "execution_count": 14,
   "metadata": {},
   "outputs": [
    {
     "name": "stdout",
     "output_type": "stream",
     "text": [
      "Mean of distribution 1: (0.0, 0.0)\n",
      "Mean of samples from distribution 1: (-0.013858599, -0.0038591416)\n",
      "Std. Dev. of distribution 1: (1.0, 1.0)\n",
      "Std. Dev. of samples from distribution 1: (1.0072206, 1.0023571)\n",
      "\n",
      "\n",
      "Mean of distribution 1: (100.0, -100.0)\n",
      "Mean of samples from distribution 1: (99.945465, -100.013504)\n",
      "Std. Dev. of distribution 1: (10.0, 10.0)\n",
      "Std. Dev. of samples from distribution 1: (10.107692, 10.173534)\n",
      "\n",
      "\n",
      "Mean of distribution 1: (-10.0, 5.0)\n",
      "Mean of samples from distribution 1: (-10.020554, 5.004364)\n",
      "Std. Dev. of distribution 1: (1.0, 1.0)\n",
      "Std. Dev. of samples from distribution 1: (1.0124202, 1.0010364)\n",
      "\n",
      "\n"
     ]
    }
   ],
   "source": [
    "for i, batch in enumerate(samples_tf):\n",
    "    mean_temp = tuple(tf.math.reduce_mean(batch, axis=0).numpy())\n",
    "    std_temp = tuple(tf.math.reduce_std(batch, axis=0).numpy())\n",
    "    \n",
    "    print(f\"Mean of distribution 1: {tuple(loc[i])}\")\n",
    "    print(f\"Mean of samples from distribution 1: {mean_temp}\")\n",
    "    print(f\"Std. Dev. of distribution 1: {tuple(scale[i])}\")\n",
    "    print(f\"Std. Dev. of samples from distribution 1: {std_temp}\")\n",
    "    print(\"\\n\")"
   ]
  },
  {
   "cell_type": "code",
   "execution_count": 1,
   "metadata": {},
   "outputs": [
    {
     "ename": "NameError",
     "evalue": "name 'samples' is not defined",
     "output_type": "error",
     "traceback": [
      "\u001b[0;31m---------------------------------------------------------------------------\u001b[0m",
      "\u001b[0;31mNameError\u001b[0m                                 Traceback (most recent call last)",
      "\u001b[0;32m<ipython-input-1-c6793e9073da>\u001b[0m in \u001b[0;36m<module>\u001b[0;34m\u001b[0m\n\u001b[0;32m----> 1\u001b[0;31m \u001b[0;32mfor\u001b[0m \u001b[0mi\u001b[0m \u001b[0;32min\u001b[0m \u001b[0mrange\u001b[0m\u001b[0;34m(\u001b[0m\u001b[0msamples\u001b[0m\u001b[0;34m.\u001b[0m\u001b[0mshape\u001b[0m\u001b[0;34m[\u001b[0m\u001b[0;36m0\u001b[0m\u001b[0;34m]\u001b[0m\u001b[0;34m)\u001b[0m\u001b[0;34m:\u001b[0m\u001b[0;34m\u001b[0m\u001b[0;34m\u001b[0m\u001b[0m\n\u001b[0m\u001b[1;32m      2\u001b[0m     \u001b[0mx\u001b[0m\u001b[0;34m,\u001b[0m \u001b[0my\u001b[0m \u001b[0;34m=\u001b[0m \u001b[0msamples\u001b[0m\u001b[0;34m[\u001b[0m\u001b[0mi\u001b[0m\u001b[0;34m,\u001b[0m \u001b[0;34m:\u001b[0m\u001b[0;34m,\u001b[0m\u001b[0;36m0\u001b[0m\u001b[0;34m]\u001b[0m\u001b[0;34m,\u001b[0m \u001b[0msamples\u001b[0m\u001b[0;34m[\u001b[0m\u001b[0mi\u001b[0m\u001b[0;34m,\u001b[0m \u001b[0;34m:\u001b[0m\u001b[0;34m,\u001b[0m\u001b[0;36m1\u001b[0m\u001b[0;34m]\u001b[0m\u001b[0;34m\u001b[0m\u001b[0;34m\u001b[0m\u001b[0m\n\u001b[1;32m      3\u001b[0m     plt.scatter(x, y,\n\u001b[1;32m      4\u001b[0m                 color=\"blue\", alpha=0.1)\n\u001b[1;32m      5\u001b[0m     \u001b[0mplt\u001b[0m\u001b[0;34m.\u001b[0m\u001b[0mshow\u001b[0m\u001b[0;34m(\u001b[0m\u001b[0;34m)\u001b[0m\u001b[0;34m\u001b[0m\u001b[0;34m\u001b[0m\u001b[0m\n",
      "\u001b[0;31mNameError\u001b[0m: name 'samples' is not defined"
     ]
    }
   ],
   "source": [
    "for i in range(samples.shape[0]):\n",
    "    x, y = samples[i, :,0], samples[i, :,1]\n",
    "    plt.scatter(x, y,\n",
    "                color=\"blue\", alpha=0.1)\n",
    "    plt.show()"
   ]
  },
  {
   "cell_type": "markdown",
   "metadata": {},
   "source": [
    "# Testing `prob` with batches (multiple distributions)"
   ]
  },
  {
   "cell_type": "code",
   "execution_count": 6,
   "metadata": {},
   "outputs": [
    {
     "name": "stdout",
     "output_type": "stream",
     "text": [
      "The densities from the Coupled MVN and SciPy MVN are close: True\n",
      "\n",
      "\n",
      "The densities from the Coupled MVN and SciPy MVN are close: True\n",
      "\n",
      "\n",
      "The densities from the Coupled MVN and SciPy MVN are close: True\n",
      "\n",
      "\n"
     ]
    }
   ],
   "source": [
    "mvn_probs = mvn.prob(samples)\n",
    "\n",
    "# Loop through the \n",
    "for i in range(n_batches):\n",
    "    # Get the i-th distributions sample densities and reshape them to be 1-D.\n",
    "    dist_1_probs = mvn_probs[i].reshape(-1,)\n",
    "    # Initialize a scipy multivariate_normal object.\n",
    "    mvn_scipy_1 = multivariate_normal(loc[i], scale[i]**2)\n",
    "    # Get the probability densities from scipy object.\n",
    "    scipy_probs_1 = mvn_scipy_1.pdf(samples[i])\n",
    "    \n",
    "    print(f\"The densities from the Coupled MVN and SciPy MVN are close: {np.allclose(dist_1_probs, scipy_probs_1)}\")\n",
    "    print(\"\\n\")"
   ]
  },
  {
   "cell_type": "markdown",
   "metadata": {},
   "source": [
    "# `importance_sampling_integrator`"
   ]
  },
  {
   "cell_type": "code",
   "execution_count": 7,
   "metadata": {},
   "outputs": [
    {
     "data": {
      "text/plain": [
       "array([[[1.]],\n",
       "\n",
       "       [[1.]],\n",
       "\n",
       "       [[1.]]])"
      ]
     },
     "execution_count": 7,
     "metadata": {},
     "output_type": "execute_result"
    }
   ],
   "source": [
    "importance_sampling_integrator(mvn.prob, mvn.prob, mvn.sample_n, n=10000, seed=1)"
   ]
  },
  {
   "cell_type": "markdown",
   "metadata": {},
   "source": [
    "# `coupled_normal_entropy`"
   ]
  },
  {
   "cell_type": "code",
   "execution_count": 8,
   "metadata": {},
   "outputs": [],
   "source": [
    "#coupled_normal_entropy(mvn._sigma, kappa=0.0)"
   ]
  },
  {
   "cell_type": "code",
   "execution_count": 9,
   "metadata": {},
   "outputs": [],
   "source": [
    "#coupled_normal_entropy(mvn._sigma, kappa=0.003)"
   ]
  },
  {
   "cell_type": "code",
   "execution_count": 10,
   "metadata": {},
   "outputs": [],
   "source": [
    "#mvn._sigma"
   ]
  },
  {
   "cell_type": "code",
   "execution_count": 11,
   "metadata": {},
   "outputs": [],
   "source": [
    "#0.5 * np.log((2*np.pi*np.exp(1)) ** mvn.loc[0].shape[0] * np.linalg.det(mvn._sigma[0]))"
   ]
  },
  {
   "cell_type": "markdown",
   "metadata": {},
   "source": [
    "# `biased_coupled_probability_norm`"
   ]
  },
  {
   "cell_type": "code",
   "execution_count": 12,
   "metadata": {},
   "outputs": [
    {
     "name": "stdout",
     "output_type": "stream",
     "text": [
      "[[   0    0]\n",
      " [ 100 -100]\n",
      " [ -10    5]]\n",
      "[[[ 0.85714286  0.        ]\n",
      "  [ 0.          0.85714286]]\n",
      "\n",
      " [[85.71428571  0.        ]\n",
      "  [ 0.         85.71428571]]\n",
      "\n",
      " [[ 0.85714286  0.        ]\n",
      "  [ 0.          0.85714286]]]\n",
      "0.0\n"
     ]
    }
   ],
   "source": [
    "new_mvn = biased_coupled_probability_norm(mvn, kappa=0.1, alpha=2)\n",
    "\n",
    "print(new_mvn.loc)\n",
    "print(new_mvn._sigma)\n",
    "print(new_mvn.kappa)"
   ]
  },
  {
   "cell_type": "code",
   "execution_count": 13,
   "metadata": {},
   "outputs": [],
   "source": [
    "new_mvn_samples = new_mvn.sample_n(100)"
   ]
  },
  {
   "cell_type": "markdown",
   "metadata": {},
   "source": [
    "# `coupled_probability_norm`"
   ]
  },
  {
   "cell_type": "code",
   "execution_count": 14,
   "metadata": {},
   "outputs": [
    {
     "data": {
      "text/plain": [
       "True"
      ]
     },
     "execution_count": 14,
     "metadata": {},
     "output_type": "execute_result"
    }
   ],
   "source": [
    "new_mvn_pdf = coupled_probability_norm(mvn, kappa=0.1, alpha=2.0)\n",
    "\n",
    "np.all(new_mvn_pdf(new_mvn_samples) == new_mvn.prob(new_mvn_samples))"
   ]
  },
  {
   "cell_type": "markdown",
   "metadata": {},
   "source": [
    "# `coupled_cross_entropy_norm`"
   ]
  },
  {
   "cell_type": "code",
   "execution_count": 15,
   "metadata": {},
   "outputs": [
    {
     "data": {
      "text/plain": [
       "array([[[2.85047335]],\n",
       "\n",
       "       [[7.45423506]],\n",
       "\n",
       "       [[2.86138521]]])"
      ]
     },
     "execution_count": 15,
     "metadata": {},
     "output_type": "execute_result"
    }
   ],
   "source": [
    "coupled_cross_entropy_norm(\n",
    "    mvn,\n",
    "    new_mvn,\n",
    "    kappa=0.0, \n",
    "    alpha=2.0, \n",
    "    root=False,\n",
    "    n=10000,\n",
    "    seed=1\n",
    ")"
   ]
  },
  {
   "cell_type": "markdown",
   "metadata": {},
   "source": [
    "# `coupled_entropy_norm`"
   ]
  },
  {
   "cell_type": "code",
   "execution_count": 16,
   "metadata": {},
   "outputs": [
    {
     "data": {
      "text/plain": [
       "array([[[2.83794589]],\n",
       "\n",
       "       [[7.44190881]],\n",
       "\n",
       "       [[2.84729892]]])"
      ]
     },
     "execution_count": 16,
     "metadata": {},
     "output_type": "execute_result"
    }
   ],
   "source": [
    "coupled_entropy_norm(\n",
    "    mvn,\n",
    "    kappa=0.0, \n",
    "    alpha=2.0, \n",
    "    root=False,\n",
    "    n=10000,\n",
    "    seed=1\n",
    ")"
   ]
  },
  {
   "cell_type": "code",
   "execution_count": 17,
   "metadata": {},
   "outputs": [
    {
     "data": {
      "text/plain": [
       "array([[[2.83787707]],\n",
       "\n",
       "       [[7.44304725]],\n",
       "\n",
       "       [[2.83787707]]])"
      ]
     },
     "execution_count": 17,
     "metadata": {},
     "output_type": "execute_result"
    }
   ],
   "source": [
    "true_entropies = [\n",
    "    0.5 * np.log((2*np.pi*np.exp(1)) ** mvn.loc[i].shape[0] * np.linalg.det(mvn._sigma[i])) for i in range(mvn._batch_shape[0])\n",
    "]\n",
    "true_entropies = np.array(true_entropies)\n",
    "true_entropies.reshape(mvn._batch_shape[0], 1, 1)"
   ]
  },
  {
   "cell_type": "markdown",
   "metadata": {},
   "source": [
    "# `coupled_kl_divergence_norm`"
   ]
  },
  {
   "cell_type": "code",
   "execution_count": 18,
   "metadata": {},
   "outputs": [
    {
     "data": {
      "text/plain": [
       "array([[[0.01252746]],\n",
       "\n",
       "       [[0.01232625]],\n",
       "\n",
       "       [[0.0140863 ]]])"
      ]
     },
     "execution_count": 18,
     "metadata": {},
     "output_type": "execute_result"
    }
   ],
   "source": [
    "coupled_kl_divergence_norm(\n",
    "    mvn, \n",
    "    new_mvn, \n",
    "    kappa=0.0, \n",
    "    alpha=2.0, \n",
    "    root=False,\n",
    "    n=10000,\n",
    "    seed=1\n",
    ")"
   ]
  },
  {
   "cell_type": "code",
   "execution_count": 19,
   "metadata": {},
   "outputs": [
    {
     "data": {
      "text/plain": [
       "array([[[0.]],\n",
       "\n",
       "       [[0.]],\n",
       "\n",
       "       [[0.]]])"
      ]
     },
     "execution_count": 19,
     "metadata": {},
     "output_type": "execute_result"
    }
   ],
   "source": [
    "coupled_kl_divergence_norm(\n",
    "    mvn, \n",
    "    mvn, \n",
    "    kappa=0.0, \n",
    "    alpha=2.0, \n",
    "    root=False,\n",
    "    n=10000,\n",
    "    seed=1\n",
    ")"
   ]
  },
  {
   "cell_type": "code",
   "execution_count": 20,
   "metadata": {},
   "outputs": [
    {
     "data": {
      "text/plain": [
       "array([[[0.]],\n",
       "\n",
       "       [[0.]],\n",
       "\n",
       "       [[0.]]])"
      ]
     },
     "execution_count": 20,
     "metadata": {},
     "output_type": "execute_result"
    }
   ],
   "source": [
    "coupled_kl_divergence_norm(\n",
    "    new_mvn, \n",
    "    new_mvn, \n",
    "    kappa=0.0, \n",
    "    alpha=2.0, \n",
    "    root=False,\n",
    "    n=10000,\n",
    "    seed=1\n",
    ")"
   ]
  }
 ],
 "metadata": {
  "kernelspec": {
   "display_name": "Python 3",
   "language": "python",
   "name": "python3"
  },
  "language_info": {
   "codemirror_mode": {
    "name": "ipython",
    "version": 3
   },
   "file_extension": ".py",
   "mimetype": "text/x-python",
   "name": "python",
   "nbconvert_exporter": "python",
   "pygments_lexer": "ipython3",
   "version": "3.8.5"
  }
 },
 "nbformat": 4,
 "nbformat_minor": 4
}
